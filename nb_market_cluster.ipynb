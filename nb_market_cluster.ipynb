{
 "cells": [
  {
   "cell_type": "code",
   "execution_count": null,
   "metadata": {},
   "outputs": [],
   "source": [
    "import ray\n",
    "ray.init()"
   ]
  },
  {
   "cell_type": "code",
   "execution_count": 145,
   "metadata": {
    "execution": {
     "iopub.execute_input": "2020-12-02T02:37:27.284274Z",
     "iopub.status.busy": "2020-12-02T02:37:27.283696Z",
     "iopub.status.idle": "2020-12-02T02:37:27.408982Z",
     "shell.execute_reply": "2020-12-02T02:37:27.407774Z",
     "shell.execute_reply.started": "2020-12-02T02:37:27.284238Z"
    }
   },
   "outputs": [
    {
     "name": "stdout",
     "output_type": "stream",
     "text": [
      "The autoreload extension is already loaded. To reload it, use:\n",
      "  %reload_ext autoreload\n"
     ]
    }
   ],
   "source": [
    "%load_ext autoreload\n",
    "%autoreload 2\n",
    "\n",
    "import numpy as np\n",
    "import pandas as pd\n",
    "pd.set_option('float_format', '{:f}'.format)\n",
    "\n",
    "import pandas_bokeh\n",
    "import matplotlib as mpl\n",
    "from matplotlib import style\n",
    "style.use('fivethirtyeight')\n",
    "mpl.rcParams['figure.figsize'] = [20, 7]\n",
    "\n",
    "import market_preprocess as mp\n",
    "import market_cluster as mc\n",
    "import polygon_ds as pds\n",
    "import polygon_df as pdf\n",
    "import polygon_s3 as ps3\n",
    "import ray_symbol_details as rsd\n",
    "import utils_pickle as up"
   ]
  },
  {
   "cell_type": "code",
   "execution_count": 12,
   "metadata": {
    "execution": {
     "iopub.execute_input": "2020-12-01T20:57:32.208491Z",
     "iopub.status.busy": "2020-12-01T20:57:32.207511Z",
     "iopub.status.idle": "2020-12-01T20:57:32.300281Z",
     "shell.execute_reply": "2020-12-01T20:57:32.298660Z",
     "shell.execute_reply.started": "2020-12-01T20:57:32.208413Z"
    }
   },
   "outputs": [],
   "source": [
    "start_date = '2018-10-24'\n",
    "end_date = '2020-11-24'\n",
    "symbol = 'market'\n",
    "tick_type='daily'"
   ]
  },
  {
   "cell_type": "code",
   "execution_count": 109,
   "metadata": {
    "execution": {
     "iopub.execute_input": "2020-12-02T00:10:49.711581Z",
     "iopub.status.busy": "2020-12-02T00:10:49.709122Z",
     "iopub.status.idle": "2020-12-02T00:11:08.239388Z",
     "shell.execute_reply": "2020-12-02T00:11:08.237891Z",
     "shell.execute_reply.started": "2020-12-02T00:10:49.711510Z"
    }
   },
   "outputs": [
    {
     "name": "stdout",
     "output_type": "stream",
     "text": [
      "4502494 Initial rows\n",
      "-1460110 all dates filter\n",
      "-383980 liquidity filter\n",
      "-125188 volitility filter\n",
      "-24196 min $value filter\n",
      "-959424 symbol details filter\n",
      "1549596 Final rows 34.4 % remaining\n",
      "2946 symbols included\n"
     ]
    }
   ],
   "source": [
    "df, sym_labels, m_close, m_returns, m_log_returns, m_zs_returns, m_g_zs_returns = mp.prepare_data(start_date, end_date)"
   ]
  },
  {
   "cell_type": "code",
   "execution_count": 142,
   "metadata": {
    "execution": {
     "iopub.execute_input": "2020-12-02T02:36:59.794760Z",
     "iopub.status.busy": "2020-12-02T02:36:59.794135Z",
     "iopub.status.idle": "2020-12-02T02:37:01.620521Z",
     "shell.execute_reply": "2020-12-02T02:37:01.619296Z",
     "shell.execute_reply.started": "2020-12-02T02:36:59.794710Z"
    }
   },
   "outputs": [],
   "source": [
    "# sym_stats = df.groupby('symbol').agg({'range_value_pct': ['median', 'mean'], 'dollar_total': ['median', 'mean']})\n",
    "\n",
    "sym_stats = df.groupby('symbol')[['range_value_pct', 'dollar_total']].median()"
   ]
  },
  {
   "cell_type": "code",
   "execution_count": 155,
   "metadata": {
    "execution": {
     "iopub.execute_input": "2020-12-02T02:40:35.216179Z",
     "iopub.status.busy": "2020-12-02T02:40:35.215725Z",
     "iopub.status.idle": "2020-12-02T02:40:36.033092Z",
     "shell.execute_reply": "2020-12-02T02:40:36.032112Z",
     "shell.execute_reply.started": "2020-12-02T02:40:35.216137Z"
    }
   },
   "outputs": [
    {
     "data": {
      "text/plain": [
       "<AxesSubplot:>"
      ]
     },
     "execution_count": 155,
     "metadata": {},
     "output_type": "execute_result"
    },
    {
     "data": {
      "image/png": "[encoded data removed]",
      "text/plain": [
       "<Figure size 1440x504 with 1 Axes>"
      ]
     },
     "metadata": {},
     "output_type": "display_data"
    }
   ],
   "source": [
    "sym_stats.range_value_pct.hist(bins=200)"
   ]
  },
  {
   "cell_type": "code",
   "execution_count": 163,
   "metadata": {
    "execution": {
     "iopub.execute_input": "2020-12-02T02:51:55.279885Z",
     "iopub.status.busy": "2020-12-02T02:51:55.279441Z",
     "iopub.status.idle": "2020-12-02T02:51:55.452557Z",
     "shell.execute_reply": "2020-12-02T02:51:55.450496Z",
     "shell.execute_reply.started": "2020-12-02T02:51:55.279843Z"
    }
   },
   "outputs": [
    {
     "data": {
      "text/html": [
       "<div>\n",
       "<style scoped>\n",
       "    .dataframe tbody tr th:only-of-type {\n",
       "        vertical-align: middle;\n",
       "    }\n",
       "\n",
       "    .dataframe tbody tr th {\n",
       "        vertical-align: top;\n",
       "    }\n",
       "\n",
       "    .dataframe thead th {\n",
       "        text-align: right;\n",
       "    }\n",
       "</style>\n",
       "<table border=\"1\" class=\"dataframe\">\n",
       "  <thead>\n",
       "    <tr style=\"text-align: right;\">\n",
       "      <th></th>\n",
       "      <th>name</th>\n",
       "      <th>sector</th>\n",
       "      <th>industry</th>\n",
       "      <th>tags</th>\n",
       "      <th>similar</th>\n",
       "      <th>type</th>\n",
       "      <th>range_value_pct</th>\n",
       "      <th>dollar_total</th>\n",
       "    </tr>\n",
       "    <tr>\n",
       "      <th>symbol</th>\n",
       "      <th></th>\n",
       "      <th></th>\n",
       "      <th></th>\n",
       "      <th></th>\n",
       "      <th></th>\n",
       "      <th></th>\n",
       "      <th></th>\n",
       "      <th></th>\n",
       "    </tr>\n",
       "  </thead>\n",
       "  <tbody>\n",
       "    <tr>\n",
       "      <th>A</th>\n",
       "      <td>Agilent Technologies Inc.</td>\n",
       "      <td>Healthcare</td>\n",
       "      <td>Medical Diagnostics &amp; Research</td>\n",
       "      <td>[Healthcare, Diagnostics &amp; Research, Medical D...</td>\n",
       "      <td>[NATI, ILMN, BRKR, AME, DHR, GE, TMO, PKI, TER...</td>\n",
       "      <td>cs</td>\n",
       "      <td>0.018306</td>\n",
       "      <td>147754016.000000</td>\n",
       "    </tr>\n",
       "    <tr>\n",
       "      <th>AA</th>\n",
       "      <td>Alcoa Corporation</td>\n",
       "      <td>Basic Materials</td>\n",
       "      <td>Metals &amp; Mining</td>\n",
       "      <td>[Basic Materials, Aluminum, Metals &amp; Mining]</td>\n",
       "      <td>[BBL, CENX, KALU, BHP, ACH]</td>\n",
       "      <td>CS</td>\n",
       "      <td>0.039895</td>\n",
       "      <td>80607904.000000</td>\n",
       "    </tr>\n",
       "    <tr>\n",
       "      <th>AAL</th>\n",
       "      <td>American Airlines Group Inc.</td>\n",
       "      <td>Industrials</td>\n",
       "      <td>Airlines</td>\n",
       "      <td>[Industrials, Airlines]</td>\n",
       "      <td>[SKYW, JBLU, HA, ALGT, ALK, LUV, DAL, LTM, SAV...</td>\n",
       "      <td>CS</td>\n",
       "      <td>0.035749</td>\n",
       "      <td>298574528.000000</td>\n",
       "    </tr>\n",
       "    <tr>\n",
       "      <th>AAN</th>\n",
       "      <td>Aaron's Inc.</td>\n",
       "      <td>Industrials</td>\n",
       "      <td>Consulting &amp; Outsourcing</td>\n",
       "      <td>[Industrials, Rental &amp; Leasing Services, Consu...</td>\n",
       "      <td>[RCII, CONN, BBY, PIR, WSM, GME]</td>\n",
       "      <td>CS</td>\n",
       "      <td>0.030655</td>\n",
       "      <td>31988214.000000</td>\n",
       "    </tr>\n",
       "    <tr>\n",
       "      <th>AAOI</th>\n",
       "      <td>Applied Optoelectronics Inc.</td>\n",
       "      <td>Technology</td>\n",
       "      <td>Semiconductors</td>\n",
       "      <td>[Technology, Semiconductors]</td>\n",
       "      <td>[CSCO, FNSR, OCLR, MXL, NPTN, EMKR, VIAV, XLK]</td>\n",
       "      <td>CS</td>\n",
       "      <td>0.049582</td>\n",
       "      <td>6809254.000000</td>\n",
       "    </tr>\n",
       "    <tr>\n",
       "      <th>...</th>\n",
       "      <td>...</td>\n",
       "      <td>...</td>\n",
       "      <td>...</td>\n",
       "      <td>...</td>\n",
       "      <td>...</td>\n",
       "      <td>...</td>\n",
       "      <td>...</td>\n",
       "      <td>...</td>\n",
       "    </tr>\n",
       "    <tr>\n",
       "      <th>SWN</th>\n",
       "      <td>Southwestern Energy Company</td>\n",
       "      <td>Energy</td>\n",
       "      <td>Oil &amp; Gas - E&amp;P</td>\n",
       "      <td>[Energy, Oil &amp; Gas E&amp;P, Oil &amp; Gas - E&amp;P]</td>\n",
       "      <td>[CHK, NFX, COG, OXY, MRO, NBL, EQT, HES, QEP]</td>\n",
       "      <td>CS</td>\n",
       "      <td>0.059837</td>\n",
       "      <td>50263184.000000</td>\n",
       "    </tr>\n",
       "    <tr>\n",
       "      <th>SWX</th>\n",
       "      <td>Southwest Gas Holdings Inc.</td>\n",
       "      <td>Utilities</td>\n",
       "      <td>Utilities - Regulated</td>\n",
       "      <td>[Utilities, Utilities - Regulated Gas, Utiliti...</td>\n",
       "      <td>[OKE, SRE, ATO, NFG, CNP, SR, XLU]</td>\n",
       "      <td>CS</td>\n",
       "      <td>0.020195</td>\n",
       "      <td>20963344.000000</td>\n",
       "    </tr>\n",
       "    <tr>\n",
       "      <th>SXC</th>\n",
       "      <td>SunCoke Energy Inc.</td>\n",
       "      <td>Basic Materials</td>\n",
       "      <td>Coal</td>\n",
       "      <td>[Basic Materials, Coal]</td>\n",
       "      <td>[CLD, SXCP, MT, SES]</td>\n",
       "      <td>CS</td>\n",
       "      <td>0.044325</td>\n",
       "      <td>3954507.250000</td>\n",
       "    </tr>\n",
       "    <tr>\n",
       "      <th>SXI</th>\n",
       "      <td>Standex International Corporation</td>\n",
       "      <td>Industrials</td>\n",
       "      <td>Industrial Products</td>\n",
       "      <td>[Industrials, Diversified Industrials, Industr...</td>\n",
       "      <td>[AAON, MIDD, AME, LII, LDL, PH, JBT, MTW]</td>\n",
       "      <td>CS</td>\n",
       "      <td>0.027378</td>\n",
       "      <td>4137114.000000</td>\n",
       "    </tr>\n",
       "    <tr>\n",
       "      <th>SXT</th>\n",
       "      <td>Sensient Technologies Corporation</td>\n",
       "      <td>Basic Materials</td>\n",
       "      <td>Chemicals</td>\n",
       "      <td>[Basic Materials, Specialty Chemicals, Chemicals]</td>\n",
       "      <td>[IPHS, EMN, IFF, VHI, KRO, TORM]</td>\n",
       "      <td>CS</td>\n",
       "      <td>0.020213</td>\n",
       "      <td>16900692.000000</td>\n",
       "    </tr>\n",
       "  </tbody>\n",
       "</table>\n",
       "<p>2984 rows × 8 columns</p>\n",
       "</div>"
      ],
      "text/plain": [
       "                                     name           sector  \\\n",
       "symbol                                                       \n",
       "A               Agilent Technologies Inc.       Healthcare   \n",
       "AA                      Alcoa Corporation  Basic Materials   \n",
       "AAL          American Airlines Group Inc.      Industrials   \n",
       "AAN                          Aaron's Inc.      Industrials   \n",
       "AAOI         Applied Optoelectronics Inc.       Technology   \n",
       "...                                   ...              ...   \n",
       "SWN           Southwestern Energy Company           Energy   \n",
       "SWX           Southwest Gas Holdings Inc.        Utilities   \n",
       "SXC                   SunCoke Energy Inc.  Basic Materials   \n",
       "SXI     Standex International Corporation      Industrials   \n",
       "SXT     Sensient Technologies Corporation  Basic Materials   \n",
       "\n",
       "                              industry  \\\n",
       "symbol                                   \n",
       "A       Medical Diagnostics & Research   \n",
       "AA                     Metals & Mining   \n",
       "AAL                           Airlines   \n",
       "AAN           Consulting & Outsourcing   \n",
       "AAOI                    Semiconductors   \n",
       "...                                ...   \n",
       "SWN                    Oil & Gas - E&P   \n",
       "SWX              Utilities - Regulated   \n",
       "SXC                               Coal   \n",
       "SXI                Industrial Products   \n",
       "SXT                          Chemicals   \n",
       "\n",
       "                                                     tags  \\\n",
       "symbol                                                      \n",
       "A       [Healthcare, Diagnostics & Research, Medical D...   \n",
       "AA           [Basic Materials, Aluminum, Metals & Mining]   \n",
       "AAL                               [Industrials, Airlines]   \n",
       "AAN     [Industrials, Rental & Leasing Services, Consu...   \n",
       "AAOI                         [Technology, Semiconductors]   \n",
       "...                                                   ...   \n",
       "SWN              [Energy, Oil & Gas E&P, Oil & Gas - E&P]   \n",
       "SWX     [Utilities, Utilities - Regulated Gas, Utiliti...   \n",
       "SXC                               [Basic Materials, Coal]   \n",
       "SXI     [Industrials, Diversified Industrials, Industr...   \n",
       "SXT     [Basic Materials, Specialty Chemicals, Chemicals]   \n",
       "\n",
       "                                                  similar type  \\\n",
       "symbol                                                           \n",
       "A       [NATI, ILMN, BRKR, AME, DHR, GE, TMO, PKI, TER...   cs   \n",
       "AA                            [BBL, CENX, KALU, BHP, ACH]   CS   \n",
       "AAL     [SKYW, JBLU, HA, ALGT, ALK, LUV, DAL, LTM, SAV...   CS   \n",
       "AAN                      [RCII, CONN, BBY, PIR, WSM, GME]   CS   \n",
       "AAOI       [CSCO, FNSR, OCLR, MXL, NPTN, EMKR, VIAV, XLK]   CS   \n",
       "...                                                   ...  ...   \n",
       "SWN         [CHK, NFX, COG, OXY, MRO, NBL, EQT, HES, QEP]   CS   \n",
       "SWX                    [OKE, SRE, ATO, NFG, CNP, SR, XLU]   CS   \n",
       "SXC                                  [CLD, SXCP, MT, SES]   CS   \n",
       "SXI             [AAON, MIDD, AME, LII, LDL, PH, JBT, MTW]   CS   \n",
       "SXT                      [IPHS, EMN, IFF, VHI, KRO, TORM]   CS   \n",
       "\n",
       "        range_value_pct     dollar_total  \n",
       "symbol                                    \n",
       "A              0.018306 147754016.000000  \n",
       "AA             0.039895  80607904.000000  \n",
       "AAL            0.035749 298574528.000000  \n",
       "AAN            0.030655  31988214.000000  \n",
       "AAOI           0.049582   6809254.000000  \n",
       "...                 ...              ...  \n",
       "SWN            0.059837  50263184.000000  \n",
       "SWX            0.020195  20963344.000000  \n",
       "SXC            0.044325   3954507.250000  \n",
       "SXI            0.027378   4137114.000000  \n",
       "SXT            0.020213  16900692.000000  \n",
       "\n",
       "[2984 rows x 8 columns]"
      ]
     },
     "execution_count": 163,
     "metadata": {},
     "output_type": "execute_result"
    }
   ],
   "source": [
    "sym_labels.join(other=sym_stats)"
   ]
  },
  {
   "cell_type": "code",
   "execution_count": 137,
   "metadata": {
    "execution": {
     "iopub.execute_input": "2020-12-02T02:34:07.309721Z",
     "iopub.status.busy": "2020-12-02T02:34:07.309250Z",
     "iopub.status.idle": "2020-12-02T02:34:07.442530Z",
     "shell.execute_reply": "2020-12-02T02:34:07.440619Z",
     "shell.execute_reply.started": "2020-12-02T02:34:07.309678Z"
    }
   },
   "outputs": [],
   "source": [
    "# sym_details = pdf.get_symbol_details_df(symbols=m_returns.columns.values)\n",
    "\n",
    "sym_details = pd.read_feather('data/sym_details.feather', columns=['symbol', 'name', 'sector', 'industry', 'tags', 'similar', 'type'])\n",
    "\n",
    "sym_labels = sym_details[(sym_details.sector!='') & (sym_details.type.str.upper()=='CS')].set_index('symbol')"
   ]
  },
  {
   "cell_type": "code",
   "execution_count": null,
   "metadata": {},
   "outputs": [],
   "source": [
    "remaining_symbols = set(m_g_zs_returns.columns.values) - set(sym_details.symbol.values)"
   ]
  },
  {
   "cell_type": "code",
   "execution_count": null,
   "metadata": {},
   "outputs": [],
   "source": [
    "# df.reset_index().to_feather('market_daily.feather')\n",
    "\n",
    "# ps3.put_df_to_s3(df.reset_index(), tick_type='market_daily', other='returns')"
   ]
  },
  {
   "cell_type": "code",
   "execution_count": null,
   "metadata": {},
   "outputs": [],
   "source": [
    "corex300 = up.pickle_load('data/corex300.pkl')\n",
    "\n",
    "# X = df.reset_index(drop=True)\n",
    "# corex, full_df = mc.corex_fit(X, n_hidden=200)\n",
    "\n",
    "# up.pickle_dump((corex, full_df), file_name='corex200.pkl')\n",
    "\n",
    "# gsutil copy /Users/bobcolner/QuantClarity/pandas-polygon/corex200.pkl gs://emerald-skill-datascience/"
   ]
  },
  {
   "cell_type": "code",
   "execution_count": null,
   "metadata": {},
   "outputs": [],
   "source": [
    "import corex_gaussianize as g\n",
    "\n",
    "norm = g.Gaussianize(strategy='lambert')\n",
    "\n",
    "gld = df[df.symbol=='GLD']\n",
    "\n",
    "norm.fit(df[df.symbol=='GLD'].close)"
   ]
  },
  {
   "cell_type": "code",
   "execution_count": null,
   "metadata": {},
   "outputs": [],
   "source": [
    "import h2o\n",
    "from h2o.estimators import H2OGeneralizedLowRankEstimator\n",
    "h2o.init()\n",
    "\n",
    "# Import the USArrests dataset into H2O:\n",
    "arrestsH2O = h2o.import_file(\"https://s3.amazonaws.com/h2o-public-test-data/smalldata/pca_test/USArrests.csv\")\n",
    "\n",
    "# Split the dataset into a train and valid set:\n",
    "train, valid = arrestsH2O.split_frame(ratios=[.8], seed=1234)\n",
    "\n",
    "# Build and train the model:\n",
    "glrm_model = H2OGeneralizedLowRankEstimator(k=4,\n",
    "                                            loss=\"Huber\",\n",
    "                                            # loss_by_col={'cat_var': 'Categorical'},\n",
    "                                            regularization_x=\"OneSparse\", # None (default), Quadratic, L2, L1, NonNegative, OneSparse, UnitOneSparse, Simplex.\n",
    "                                            regularization_y=\"OneSparse\",\n",
    "                                            gamma_x=0.5,\n",
    "                                            gamma_y=0.5,\n",
    "                                            max_iterations=1000,\n",
    "                                            recover_svd=True,\n",
    "                                            init=\"PlusPlus\",\n",
    "                                            transform=\"standardize\",\n",
    "                                           )\n",
    "glrm_model.train(training_frame=train)"
   ]
  },
  {
   "cell_type": "code",
   "execution_count": null,
   "metadata": {},
   "outputs": [],
   "source": [
    "### market clustering\n",
    "\n",
    "# %time df = read_market_daily(result_path)\n",
    "mdf = pd.read_parquet('data/old/mdf.parquet')\n",
    "\n",
    "%time npdf, sharpe_ratios = mc.normalize_market_df(mdf)\n",
    "\n",
    "# %time npdf_resid = colwise_linreg(npdf)\n",
    "npdf_resid = pd.read_parquet('data/old/npdf_resid.parquet')\n",
    "\n",
    "# %time par_cor_mat = npdf_resid.corr()\n",
    "resid_par_cor_mat = pd.read_parquet('data/old/partial_cor_mat.parquet')\n",
    "\n",
    "details_df = pd.read_parquet('data/old/details_df.parquet')\n",
    "\n",
    "# cluster_lables = cluster_sim_matrix(similarity=resid_par_cor_mat.abs())\n",
    "cluster_lables = pd.read_parquet('data/old/cluster_lables.parquet')\n",
    "\n",
    "# symbol_meta = join_symbol_data(details_df, cluster_lables, sharpe_ratios, mdf)\n",
    "symbol_meta = pd.read_parquet('data/old/symbol_meta.parquet')\n",
    "\n",
    "# cluster_coheasion = mc.get_cluster_coheasion(sim_df=resid_par_cor_mat.abs(), symbol_meta=symbol_meta, cluster_col='cluster_n200')"
   ]
  },
  {
   "cell_type": "code",
   "execution_count": null,
   "metadata": {},
   "outputs": [],
   "source": [
    "symbol_meta['liquidy_rank'] = symbol_meta.groupby('cluster_n200')['daily_avg_dollar_volume'].rank(method='first')\n",
    "\n",
    "symbol_meta = symbol_meta.sort_values(['cluster_n200', 'liquidy_rank']).reset_index()\n",
    "\n",
    "by_cluster = symbol_meta.groupby('cluster_n200')\n",
    "result = []\n",
    "for cluster, frame in by_cluster:\n",
    "    counts = dict(frame['sector'].value_counts())\n",
    "    counts.pop('', None)  # drop symbols w/o sector/industry info\n",
    "    result.append(counts)"
   ]
  },
  {
   "cell_type": "code",
   "execution_count": null,
   "metadata": {},
   "outputs": [],
   "source": [
    "cluster_sec = pd.DataFrame(result)    \n",
    "cluster_sec = cluster_sec.drop(columns=['Finance'])\n",
    "cluster_sec_pct = cluster_sec.apply(lambda x: 100 * x / float(x.sum()), axis=1)\n",
    "\n",
    "cluster_sec_pct.style.background_gradient(cmap='coolwarm', axis=0)\n",
    "\n",
    "# n += 1\n",
    "n = 61\n",
    "print(n)\n",
    "symbol_meta[symbol_meta.cluster_n200 == n].sector.value_counts()\n",
    "\n",
    "sym_clust = symbol_meta[symbol_meta.cluster_n200 == n]\n",
    "sym_clust"
   ]
  }
 ],
 "metadata": {
  "kernelspec": {
   "display_name": "Python 3",
   "language": "python",
   "name": "python3"
  },
  "language_info": {
   "codemirror_mode": {
    "name": "ipython",
    "version": 3
   },
   "file_extension": ".py",
   "mimetype": "text/x-python",
   "name": "python",
   "nbconvert_exporter": "python",
   "pygments_lexer": "ipython3",
   "version": "3.7.8"
  }
 },
 "nbformat": 4,
 "nbformat_minor": 4
}
