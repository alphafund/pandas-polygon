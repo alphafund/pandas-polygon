{
 "cells": [
  {
   "cell_type": "code",
   "execution_count": null,
   "metadata": {},
   "outputs": [],
   "source": [
    "import ray\n",
    "ray.init()\n",
    "# ray.shutdown()"
   ]
  },
  {
   "cell_type": "code",
   "execution_count": 29,
   "metadata": {
    "execution": {
     "iopub.execute_input": "2020-12-03T23:28:28.864154Z",
     "iopub.status.busy": "2020-12-03T23:28:28.863711Z",
     "iopub.status.idle": "2020-12-03T23:28:28.972660Z",
     "shell.execute_reply": "2020-12-03T23:28:28.970874Z",
     "shell.execute_reply.started": "2020-12-03T23:28:28.864113Z"
    }
   },
   "outputs": [
    {
     "name": "stdout",
     "output_type": "stream",
     "text": [
      "The autoreload extension is already loaded. To reload it, use:\n",
      "  %reload_ext autoreload\n"
     ]
    }
   ],
   "source": [
    "%load_ext autoreload\n",
    "%autoreload 2\n",
    "\n",
    "import numpy as np\n",
    "import pandas as pd\n",
    "pd.set_option('float_format', '{:f}'.format)\n",
    "\n",
    "import pandas_bokeh\n",
    "import matplotlib as mpl\n",
    "import matplotlib.pyplot as plt\n",
    "from matplotlib import style\n",
    "style.use('fivethirtyeight')\n",
    "mpl.rcParams['figure.figsize'] = [20, 7]\n",
    "\n",
    "import market_preprocess as mp\n",
    "import market_cov as mcov\n",
    "import market_cluster as mc\n",
    "import polygon_ds as pds\n",
    "import polygon_df as pdf\n",
    "import polygon_s3 as ps3\n",
    "import ray_symbol_details as rsd\n",
    "import utils_pickle as up\n",
    "# import ipdb\n",
    "# ipdb.set_trace(context=10)\n"
   ]
  },
  {
   "cell_type": "code",
   "execution_count": 2,
   "metadata": {
    "execution": {
     "iopub.execute_input": "2020-12-03T21:59:14.391644Z",
     "iopub.status.busy": "2020-12-03T21:59:14.391066Z",
     "iopub.status.idle": "2020-12-03T21:59:14.514741Z",
     "shell.execute_reply": "2020-12-03T21:59:14.513530Z",
     "shell.execute_reply.started": "2020-12-03T21:59:14.391612Z"
    }
   },
   "outputs": [],
   "source": [
    "start_date = '2018-10-24'\n",
    "end_date = '2020-11-24'\n",
    "symbol = 'market'\n",
    "tick_type='daily'"
   ]
  },
  {
   "cell_type": "code",
   "execution_count": 3,
   "metadata": {
    "execution": {
     "iopub.execute_input": "2020-12-03T21:59:14.518349Z",
     "iopub.status.busy": "2020-12-03T21:59:14.517510Z",
     "iopub.status.idle": "2020-12-03T21:59:14.637636Z",
     "shell.execute_reply": "2020-12-03T21:59:14.636111Z",
     "shell.execute_reply.started": "2020-12-03T21:59:14.518274Z"
    }
   },
   "outputs": [],
   "source": [
    "from market_preprocess import *"
   ]
  },
  {
   "cell_type": "code",
   "execution_count": 4,
   "metadata": {
    "execution": {
     "iopub.execute_input": "2020-12-03T21:59:15.001938Z",
     "iopub.status.busy": "2020-12-03T21:59:15.001327Z",
     "iopub.status.idle": "2020-12-03T21:59:18.689872Z",
     "shell.execute_reply": "2020-12-03T21:59:18.688664Z",
     "shell.execute_reply.started": "2020-12-03T21:59:15.001894Z"
    }
   },
   "outputs": [],
   "source": [
    "df_all = get_dates_df(tick_type='daily', symbol='market', start_date=start_date, end_date=end_date)"
   ]
  },
  {
   "cell_type": "code",
   "execution_count": 38,
   "metadata": {
    "execution": {
     "iopub.execute_input": "2020-12-03T23:34:13.759780Z",
     "iopub.status.busy": "2020-12-03T23:34:13.759445Z",
     "iopub.status.idle": "2020-12-03T23:34:14.353510Z",
     "shell.execute_reply": "2020-12-03T23:34:14.342057Z",
     "shell.execute_reply.started": "2020-12-03T23:34:13.759750Z"
    }
   },
   "outputs": [],
   "source": [
    "pivot_results = transform_prices(df_all[df_all.symbol == 'SPY'])"
   ]
  },
  {
   "cell_type": "code",
   "execution_count": 41,
   "metadata": {
    "execution": {
     "iopub.execute_input": "2020-12-03T23:35:31.501503Z",
     "iopub.status.busy": "2020-12-03T23:35:31.501007Z",
     "iopub.status.idle": "2020-12-03T23:35:31.650650Z",
     "shell.execute_reply": "2020-12-03T23:35:31.648799Z",
     "shell.execute_reply.started": "2020-12-03T23:35:31.501459Z"
    }
   },
   "outputs": [
    {
     "data": {
      "text/plain": [
       "date_time\n",
       "2018-10-25    1.052178\n",
       "2018-10-26   -1.123164\n",
       "2018-10-29   -0.376823\n",
       "2018-10-30    0.864111\n",
       "2018-10-31    0.613939\n",
       "                ...   \n",
       "2020-11-18   -0.778039\n",
       "2020-11-19    0.220606\n",
       "2020-11-20   -0.457381\n",
       "2020-11-23    0.329341\n",
       "2020-11-24    0.942187\n",
       "Name: SPY, Length: 525, dtype: float32"
      ]
     },
     "execution_count": 41,
     "metadata": {},
     "output_type": "execute_result"
    }
   ],
   "source": [
    "pivot_results['g_zs_log_returns']['SPY']"
   ]
  },
  {
   "cell_type": "code",
   "execution_count": 9,
   "metadata": {
    "execution": {
     "iopub.execute_input": "2020-12-03T22:00:02.529018Z",
     "iopub.status.busy": "2020-12-03T22:00:02.528343Z",
     "iopub.status.idle": "2020-12-03T22:00:02.840757Z",
     "shell.execute_reply": "2020-12-03T22:00:02.839214Z",
     "shell.execute_reply.started": "2020-12-03T22:00:02.528971Z"
    }
   },
   "outputs": [
    {
     "data": {
      "text/plain": [
       "<StringArray>\n",
       "['LTRPA',  'CKPT',   'LVS',  'MANT',   'CFR',   'MCD',  'LSTR',  'COKE',\n",
       "   'LPX',   'LYB',\n",
       " ...\n",
       "  'CINF',  'CIEN',   'CIO',  'CIGI',   'CIT',   'CIK',   'CII',   'CIG',\n",
       "   'CIR',  'CJJD']\n",
       "Length: 3426, dtype: string"
      ]
     },
     "execution_count": 9,
     "metadata": {},
     "output_type": "execute_result"
    }
   ],
   "source": [
    "df.symbol.unique()"
   ]
  },
  {
   "cell_type": "code",
   "execution_count": null,
   "metadata": {},
   "outputs": [],
   "source": [
    "df, sym_meta, m_close, m_returns, m_log_returns, m_zs_returns, m_g_zs_returns = mp.prepare_data(start_date, end_date)"
   ]
  },
  {
   "cell_type": "code",
   "execution_count": null,
   "metadata": {},
   "outputs": [],
   "source": [
    "cov_mat, cor_mat = mcov.cov_denoise_detone(m_g_zs_returns, detone=False)"
   ]
  },
  {
   "cell_type": "code",
   "execution_count": null,
   "metadata": {},
   "outputs": [],
   "source": [
    "pd.Series(sym_meta.sector.value_counts()).plot(kind='bar')"
   ]
  },
  {
   "cell_type": "code",
   "execution_count": null,
   "metadata": {},
   "outputs": [],
   "source": [
    "pd.Series(sym_meta.industry.value_counts()).plot(kind='barh', figsize=[10,20])"
   ]
  },
  {
   "cell_type": "code",
   "execution_count": null,
   "metadata": {},
   "outputs": [],
   "source": [
    "# from sklearn.decomposition import PCA\n",
    "from sklearn.decomposition import SparsePCA as PCA\n",
    "pca = PCA(n_components=10)\n",
    "pca.fit(m_g_zs_returns)\n",
    "\n",
    "market_pca_01 = pd.DataFrame({'symbol': m_g_zs_returns.columns, 'pca_0': pca.components_[0, :], 'pca_1': pca.components_[1, :]})"
   ]
  },
  {
   "cell_type": "code",
   "execution_count": null,
   "metadata": {},
   "outputs": [],
   "source": [
    "corex300 = up.pickle_load('data/corex300.pkl')\n",
    "\n",
    "# X = df.reset_index(drop=True)\n",
    "# corex, full_df = mc.corex_fit(X, n_hidden=200)\n",
    "\n",
    "# up.pickle_dump((corex, full_df), file_name='corex200.pkl')\n",
    "\n",
    "# gsutil copy /Users/bobcolner/QuantClarity/pandas-polygon/corex200.pkl gs://emerald-skill-datascience/"
   ]
  },
  {
   "cell_type": "code",
   "execution_count": null,
   "metadata": {},
   "outputs": [],
   "source": [
    "import h2o\n",
    "from h2o.estimators import H2OGeneralizedLowRankEstimator\n",
    "h2o.init()\n",
    "\n",
    "# Import the USArrests dataset into H2O:\n",
    "arrestsH2O = h2o.import_file(\"https://s3.amazonaws.com/h2o-public-test-data/smalldata/pca_test/USArrests.csv\")\n",
    "\n",
    "# Split the dataset into a train and valid set:\n",
    "train, valid = arrestsH2O.split_frame(ratios=[.8], seed=1234)\n",
    "\n",
    "# Build and train the model:\n",
    "glrm_model = H2OGeneralizedLowRankEstimator(\n",
    "    k=4,\n",
    "    loss=\"Huber\",\n",
    "    loss_by_col={'cat_var': 'Categorical'},\n",
    "    regularization_x=\"OneSparse\", # None (default), Quadratic, L2, L1, NonNegative, OneSparse, UnitOneSparse, Simplex.\n",
    "    regularization_y=\"OneSparse\",\n",
    "    gamma_x=0.5,\n",
    "    gamma_y=0.5,\n",
    "    max_iterations=1000,\n",
    "    recover_svd=True,\n",
    "    init=\"PlusPlus\",\n",
    "    transform=\"standardize\",\n",
    "   )\n",
    "glrm_model.train(training_frame=train)"
   ]
  },
  {
   "cell_type": "code",
   "execution_count": null,
   "metadata": {},
   "outputs": [],
   "source": [
    "### market clustering\n",
    "\n",
    "# %time df = read_market_daily(result_path)\n",
    "mdf = pd.read_parquet('data/old/mdf.parquet')\n",
    "\n",
    "%time npdf, sharpe_ratios = mc.normalize_market_df(mdf)\n",
    "\n",
    "# %time npdf_resid = colwise_linreg(npdf)\n",
    "npdf_resid = pd.read_parquet('data/old/npdf_resid.parquet')\n",
    "\n",
    "# %time par_cor_mat = npdf_resid.corr()\n",
    "resid_par_cor_mat = pd.read_parquet('data/old/partial_cor_mat.parquet')\n",
    "\n",
    "details_df = pd.read_parquet('data/old/details_df.parquet')\n",
    "\n",
    "# cluster_lables = cluster_sim_matrix(similarity=resid_par_cor_mat.abs())\n",
    "cluster_lables = pd.read_parquet('data/old/cluster_lables.parquet')\n",
    "\n",
    "# symbol_meta = join_symbol_data(details_df, cluster_lables, sharpe_ratios, mdf)\n",
    "symbol_meta = pd.read_parquet('data/old/symbol_meta.parquet')\n",
    "\n",
    "# cluster_coheasion = mc.get_cluster_coheasion(sim_df=resid_par_cor_mat.abs(), symbol_meta=symbol_meta, cluster_col='cluster_n200')"
   ]
  },
  {
   "cell_type": "code",
   "execution_count": null,
   "metadata": {},
   "outputs": [],
   "source": [
    "symbol_meta['liquidy_rank'] = symbol_meta.groupby('cluster_n200')['daily_avg_dollar_volume'].rank(method='first')\n",
    "\n",
    "symbol_meta = symbol_meta.sort_values(['cluster_n200', 'liquidy_rank']).reset_index()\n",
    "\n",
    "by_cluster = symbol_meta.groupby('cluster_n200')\n",
    "result = []\n",
    "for cluster, frame in by_cluster:\n",
    "    counts = dict(frame['sector'].value_counts())\n",
    "    counts.pop('', None)  # drop symbols w/o sector/industry info\n",
    "    result.append(counts)"
   ]
  },
  {
   "cell_type": "code",
   "execution_count": null,
   "metadata": {},
   "outputs": [],
   "source": [
    "cluster_sec = pd.DataFrame(result)    \n",
    "cluster_sec = cluster_sec.drop(columns=['Finance'])\n",
    "cluster_sec_pct = cluster_sec.apply(lambda x: 100 * x / float(x.sum()), axis=1)\n",
    "\n",
    "cluster_sec_pct.style.background_gradient(cmap='coolwarm', axis=0)\n",
    "\n",
    "# n += 1\n",
    "n = 61\n",
    "print(n)\n",
    "symbol_meta[symbol_meta.cluster_n200 == n].sector.value_counts()\n",
    "\n",
    "sym_clust = symbol_meta[symbol_meta.cluster_n200 == n]\n",
    "sym_clust"
   ]
  }
 ],
 "metadata": {
  "kernelspec": {
   "display_name": "Python 3",
   "language": "python",
   "name": "python3"
  },
  "language_info": {
   "codemirror_mode": {
    "name": "ipython",
    "version": 3
   },
   "file_extension": ".py",
   "mimetype": "text/x-python",
   "name": "python",
   "nbconvert_exporter": "python",
   "pygments_lexer": "ipython3",
   "version": "3.7.8"
  }
 },
 "nbformat": 4,
 "nbformat_minor": 4
}
