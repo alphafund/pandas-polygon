{
 "cells": [
  {
   "cell_type": "code",
   "execution_count": 232,
   "metadata": {
    "execution": {
     "iopub.execute_input": "2020-12-05T08:30:25.503923Z",
     "iopub.status.busy": "2020-12-05T08:30:25.503274Z",
     "iopub.status.idle": "2020-12-05T08:30:25.740664Z",
     "shell.execute_reply": "2020-12-05T08:30:25.737526Z",
     "shell.execute_reply.started": "2020-12-05T08:30:25.503871Z"
    }
   },
   "outputs": [
    {
     "ename": "ImportError",
     "evalue": "cannot import name 'TIINGO_API_KEY' from 'utils_globals' (/Users/bobcolner/QuantClarity/pandas-polygon/utils_globals.py)",
     "output_type": "error",
     "traceback": [
      "\u001b[0;31m---------------------------------------------------------------------------\u001b[0m",
      "\u001b[0;31mImportError\u001b[0m                               Traceback (most recent call last)",
      "\u001b[0;32m<ipython-input-232-27c5e0629598>\u001b[0m in \u001b[0;36m<module>\u001b[0;34m\u001b[0m\n\u001b[0;32m----> 1\u001b[0;31m \u001b[0;32mimport\u001b[0m \u001b[0mtiingo_api\u001b[0m \u001b[0;32mas\u001b[0m \u001b[0mtapi\u001b[0m\u001b[0;34m\u001b[0m\u001b[0;34m\u001b[0m\u001b[0m\n\u001b[0m",
      "\u001b[0;32m~/QuantClarity/pandas-polygon/tiingo_api.py\u001b[0m in \u001b[0;36m<module>\u001b[0;34m\u001b[0m\n\u001b[1;32m      1\u001b[0m \u001b[0;32mfrom\u001b[0m \u001b[0mrequests\u001b[0m \u001b[0;32mimport\u001b[0m \u001b[0mget\u001b[0m\u001b[0;34m\u001b[0m\u001b[0;34m\u001b[0m\u001b[0m\n\u001b[0;32m----> 2\u001b[0;31m \u001b[0;32mfrom\u001b[0m \u001b[0mutils_globals\u001b[0m \u001b[0;32mimport\u001b[0m \u001b[0mTIINGO_API_KEY\u001b[0m\u001b[0;34m\u001b[0m\u001b[0;34m\u001b[0m\u001b[0m\n\u001b[0m\u001b[1;32m      3\u001b[0m \u001b[0;34m\u001b[0m\u001b[0m\n\u001b[1;32m      4\u001b[0m \u001b[0;31m# https://api.tiingo.com/documentation/\u001b[0m\u001b[0;34m\u001b[0m\u001b[0;34m\u001b[0m\u001b[0;34m\u001b[0m\u001b[0m\n\u001b[1;32m      5\u001b[0m \u001b[0mBASE_URL\u001b[0m \u001b[0;34m=\u001b[0m \u001b[0;34m'https://api.tiingo.com'\u001b[0m\u001b[0;34m\u001b[0m\u001b[0;34m\u001b[0m\u001b[0m\n",
      "\u001b[0;31mImportError\u001b[0m: cannot import name 'TIINGO_API_KEY' from 'utils_globals' (/Users/bobcolner/QuantClarity/pandas-polygon/utils_globals.py)"
     ]
    }
   ],
   "source": [
    "import tiingo_api as tapi"
   ]
  },
  {
   "cell_type": "code",
   "execution_count": null,
   "metadata": {},
   "outputs": [],
   "source": []
  },
  {
   "cell_type": "code",
   "execution_count": null,
   "metadata": {},
   "outputs": [],
   "source": [
    "import ray\n",
    "ray.init()\n",
    "# ray.shutdown()"
   ]
  },
  {
   "cell_type": "code",
   "execution_count": 228,
   "metadata": {
    "execution": {
     "iopub.execute_input": "2020-12-05T08:21:34.285583Z",
     "iopub.status.busy": "2020-12-05T08:21:34.285079Z",
     "iopub.status.idle": "2020-12-05T08:21:34.465728Z",
     "shell.execute_reply": "2020-12-05T08:21:34.464134Z",
     "shell.execute_reply.started": "2020-12-05T08:21:34.285536Z"
    }
   },
   "outputs": [
    {
     "name": "stdout",
     "output_type": "stream",
     "text": [
      "The autoreload extension is already loaded. To reload it, use:\n",
      "  %reload_ext autoreload\n"
     ]
    }
   ],
   "source": [
    "%load_ext autoreload\n",
    "%autoreload 2\n",
    "\n",
    "import numpy as np\n",
    "import pandas as pd\n",
    "pd.set_option('float_format', '{:f}'.format)\n",
    "\n",
    "import pandas_bokeh\n",
    "import matplotlib as mpl\n",
    "import matplotlib.pyplot as plt\n",
    "from matplotlib import style\n",
    "style.use('fivethirtyeight')\n",
    "mpl.rcParams['figure.figsize'] = [20, 7]\n",
    "\n",
    "import polygon_ds as pds\n",
    "import polygon_df as pdf\n",
    "import polygon_s3 as ps3\n",
    "import ray_symbol_details as rsd\n",
    "import market_preprocess as mp\n",
    "import market_cov as mcov\n",
    "import market_cluster as mc\n",
    "import utils_pickle as up\n",
    "# import ipdb\n",
    "# ipdb.set_trace(context=10)"
   ]
  },
  {
   "cell_type": "code",
   "execution_count": 229,
   "metadata": {
    "execution": {
     "iopub.execute_input": "2020-12-05T08:21:34.781959Z",
     "iopub.status.busy": "2020-12-05T08:21:34.776167Z",
     "iopub.status.idle": "2020-12-05T08:21:35.031295Z",
     "shell.execute_reply": "2020-12-05T08:21:35.029382Z",
     "shell.execute_reply.started": "2020-12-05T08:21:34.777141Z"
    }
   },
   "outputs": [],
   "source": [
    "start_date = '2018-10-24'\n",
    "end_date = '2020-11-24'\n",
    "symbol = 'market'\n",
    "tick_type='daily'"
   ]
  },
  {
   "cell_type": "code",
   "execution_count": 226,
   "metadata": {
    "execution": {
     "iopub.execute_input": "2020-12-05T08:19:30.964982Z",
     "iopub.status.busy": "2020-12-05T08:19:30.961346Z",
     "iopub.status.idle": "2020-12-05T08:20:25.098925Z",
     "shell.execute_reply": "2020-12-05T08:20:25.097970Z",
     "shell.execute_reply.started": "2020-12-05T08:19:30.964911Z"
    }
   },
   "outputs": [
    {
     "name": "stdout",
     "output_type": "stream",
     "text": [
      "4502494 Initial rows 11509 symbols\n",
      "-1460110 all dates filter 5784 symbols\n",
      "-383980 liquidity filter 5054 symbols\n",
      "-125188 volitility filter 4816 symbols\n",
      "-24196 min $value filter 4770 symbols\n",
      "-706944 symbol details filter 3426 symbols\n",
      "1802076 Final rows 40.0 % remaining\n"
     ]
    },
    {
     "name": "stderr",
     "output_type": "stream",
     "text": [
      "100%|██████████| 3426/3426 [00:30<00:00, 110.93it/s]\n"
     ]
    }
   ],
   "source": [
    "r = mp.prepare_data(start_date, end_date, beta_symbol='VTI')"
   ]
  },
  {
   "cell_type": "code",
   "execution_count": 230,
   "metadata": {
    "execution": {
     "iopub.execute_input": "2020-12-05T08:21:37.203252Z",
     "iopub.status.busy": "2020-12-05T08:21:37.202775Z",
     "iopub.status.idle": "2020-12-05T08:21:37.337570Z",
     "shell.execute_reply": "2020-12-05T08:21:37.335963Z",
     "shell.execute_reply.started": "2020-12-05T08:21:37.203209Z"
    }
   },
   "outputs": [],
   "source": [
    "X = r['g_zs_log_returns'].transpose()\n",
    "gt_industry = r['sym_meta'].industry.values\n",
    "gt_sector = r['sym_meta'].sector.values"
   ]
  },
  {
   "cell_type": "code",
   "execution_count": null,
   "metadata": {
    "execution": {
     "iopub.execute_input": "2020-12-05T08:13:14.300585Z",
     "iopub.status.busy": "2020-12-05T08:13:14.300255Z"
    }
   },
   "outputs": [],
   "source": [
    "# r['g_zs_log_returns_resid'].iloc[:, 1500:]\n",
    "dist_mat, cor_mat = mcov.cov_denoise_detone_dist(r['g_zs_log_returns_resid'], detone=False)"
   ]
  },
  {
   "cell_type": "code",
   "execution_count": 231,
   "metadata": {
    "execution": {
     "iopub.execute_input": "2020-12-05T08:21:43.027002Z",
     "iopub.status.busy": "2020-12-05T08:21:43.026397Z",
     "iopub.status.idle": "2020-12-05T08:21:48.442513Z",
     "shell.execute_reply": "2020-12-05T08:21:48.440727Z",
     "shell.execute_reply.started": "2020-12-05T08:21:43.026944Z"
    }
   },
   "outputs": [
    {
     "data": {
      "text/plain": [
       "{'adj. rand index': 0.22371935535250878,\n",
       " 'adj. multual information': 0.43454382407629194,\n",
       " 'cluster_labels': array([ 3,  7, 12, ..., 61, 13, 11]),\n",
       " 'model': AgglomerativeClustering(compute_full_tree=False, n_clusters=69)}"
      ]
     },
     "execution_count": 231,
     "metadata": {},
     "output_type": "execute_result"
    }
   ],
   "source": [
    "out = mc.get_cluster_evaluation(mc.get_hira_clusters, 69, X, gt_industry)\n",
    "out"
   ]
  },
  {
   "cell_type": "code",
   "execution_count": null,
   "metadata": {},
   "outputs": [],
   "source": [
    "kmean                               hclust\n",
    "-------------------------          ----------------------------\n",
    "X g zs log rets                     X g zs log rets: 435\n",
    "X resids: 45                        X resids: 464\n",
    "X resids dncor dist: 34\n",
    "X resids corr: 33\n",
    "X resids dncor detone: 37           X resids dncor detone: 386"
   ]
  },
  {
   "cell_type": "code",
   "execution_count": null,
   "metadata": {},
   "outputs": [],
   "source": [
    "from mlfinlab.clustering import get_onc_clusters\n",
    "\n",
    "correlation_matrix, optimized_clusters, silh_scores = get_onc_clusters(cor_mat, repeat=1)"
   ]
  },
  {
   "cell_type": "code",
   "execution_count": null,
   "metadata": {},
   "outputs": [],
   "source": [
    "corex300 = up.pickle_load('data/corex300.pkl')\n",
    "\n",
    "# X = df.reset_index(drop=True)\n",
    "# corex, full_df = mc.corex_fit(X, n_hidden=200)\n",
    "\n",
    "# up.pickle_dump((corex, full_df), file_name='corex200.pkl')\n",
    "\n",
    "# gsutil copy /Users/bobcolner/QuantClarity/pandas-polygon/corex200.pkl gs://emerald-skill-datascience/"
   ]
  },
  {
   "cell_type": "code",
   "execution_count": null,
   "metadata": {},
   "outputs": [],
   "source": [
    "import h2o\n",
    "from h2o.estimators import H2OGeneralizedLowRankEstimator\n",
    "h2o.init()\n",
    "\n",
    "# Import the USArrests dataset into H2O:\n",
    "arrestsH2O = h2o.import_file(\"https://s3.amazonaws.com/h2o-public-test-data/smalldata/pca_test/USArrests.csv\")\n",
    "\n",
    "# Split the dataset into a train and valid set:\n",
    "train, valid = arrestsH2O.split_frame(ratios=[.8], seed=1234)\n",
    "\n",
    "# Build and train the model:\n",
    "glrm_model = H2OGeneralizedLowRankEstimator(\n",
    "    k=4,\n",
    "    loss=\"Huber\",\n",
    "    loss_by_col={'cat_var': 'Categorical'},\n",
    "    regularization_x=\"OneSparse\", # None (default), Quadratic, L2, L1, NonNegative, OneSparse, UnitOneSparse, Simplex.\n",
    "    regularization_y=\"OneSparse\",\n",
    "    gamma_x=0.5,\n",
    "    gamma_y=0.5,\n",
    "    max_iterations=1000,\n",
    "    recover_svd=True,\n",
    "    init=\"PlusPlus\",\n",
    "    transform=\"standardize\",\n",
    "   )\n",
    "glrm_model.train(training_frame=train)"
   ]
  }
 ],
 "metadata": {
  "kernelspec": {
   "display_name": "Python 3",
   "language": "python",
   "name": "python3"
  },
  "language_info": {
   "codemirror_mode": {
    "name": "ipython",
    "version": 3
   },
   "file_extension": ".py",
   "mimetype": "text/x-python",
   "name": "python",
   "nbconvert_exporter": "python",
   "pygments_lexer": "ipython3",
   "version": "3.7.8"
  }
 },
 "nbformat": 4,
 "nbformat_minor": 4
}
