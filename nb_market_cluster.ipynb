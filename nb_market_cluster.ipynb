{
 "cells": [
  {
   "cell_type": "code",
   "execution_count": null,
   "metadata": {
    "execution": {
     "iopub.execute_input": "2020-12-06T10:11:29.316409Z",
     "iopub.status.busy": "2020-12-06T10:11:29.315764Z"
    }
   },
   "outputs": [
    {
     "name": "stdout",
     "output_type": "stream",
     "text": [
      "1\n"
     ]
    }
   ],
   "source": [
    "get_my_data('2019-01-01')"
   ]
  },
  {
   "cell_type": "code",
   "execution_count": null,
   "metadata": {},
   "outputs": [],
   "source": [
    "import ray\n",
    "ray.init()\n",
    "# ray.shutdown()"
   ]
  },
  {
   "cell_type": "code",
   "execution_count": null,
   "metadata": {},
   "outputs": [],
   "source": [
    "%load_ext autoreload\n",
    "%autoreload 2\n",
    "\n",
    "import numpy as np\n",
    "import pandas as pd\n",
    "pd.set_option('float_format', '{:f}'.format)\n",
    "\n",
    "import pandas_bokeh\n",
    "import matplotlib as mpl\n",
    "import matplotlib.pyplot as plt\n",
    "from matplotlib import style\n",
    "style.use('fivethirtyeight')\n",
    "mpl.rcParams['figure.figsize'] = [20, 7]\n",
    "\n",
    "import polygon_ds as pds\n",
    "import polygon_df as pdf\n",
    "import polygon_s3 as ps3\n",
    "import ray_symbol_details as rsd\n",
    "import market_preprocess as mp\n",
    "import market_cov as mcov\n",
    "import market_cluster as mc\n",
    "import utils_pickle as up\n",
    "# import ipdb\n",
    "# ipdb.set_trace(context=10)"
   ]
  },
  {
   "cell_type": "code",
   "execution_count": null,
   "metadata": {},
   "outputs": [],
   "source": [
    "start_date = '2018-10-24'\n",
    "end_date = '2020-11-24'\n",
    "symbol = 'market'\n",
    "tick_type='daily'"
   ]
  },
  {
   "cell_type": "code",
   "execution_count": null,
   "metadata": {},
   "outputs": [],
   "source": [
    "r = mp.prepare_data(start_date, end_date, beta_symbol='VTI')"
   ]
  },
  {
   "cell_type": "code",
   "execution_count": null,
   "metadata": {},
   "outputs": [],
   "source": [
    "X = r['g_zs_log_returns_resid'].transpose()\n",
    "gt_industry = r['sym_meta'].industry.values\n",
    "gt_sector = r['sym_meta'].sector.values"
   ]
  },
  {
   "cell_type": "code",
   "execution_count": null,
   "metadata": {},
   "outputs": [],
   "source": [
    "# r['g_zs_log_returns_resid'].iloc[:, 1500:]\n",
    "dist_mat, cor_mat = mcov.cov_denoise_detone_dist(r['g_zs_log_returns'], detone=True)"
   ]
  },
  {
   "cell_type": "code",
   "execution_count": null,
   "metadata": {},
   "outputs": [],
   "source": [
    "X = dist_mat\n",
    "kclust = mc.get_cluster_evaluation(mc.get_kmean_clusters, 200, X, gt_industry)\n",
    "hclust = mc.get_cluster_evaluation(mc.get_hira_clusters, 200, X, gt_industry)"
   ]
  },
  {
   "cell_type": "code",
   "execution_count": null,
   "metadata": {},
   "outputs": [],
   "source": [
    "mc.evaluate_clustering(kclust['cluster_labels'], hclust['cluster_labels'])"
   ]
  },
  {
   "cell_type": "code",
   "execution_count": null,
   "metadata": {},
   "outputs": [],
   "source": [
    "kmeadist_mat                             hclust\n",
    "-------------------------          ----------------------------\n",
    "X g zs log rets                     X g zs log rets: 435\n",
    "X resids: 45                        X resids: 464\n",
    "X resids dncor dist: 34\n",
    "X resids corr: 33\n",
    "X resids dncor detone: 37           X resids dncor detone: 386"
   ]
  },
  {
   "cell_type": "code",
   "execution_count": null,
   "metadata": {},
   "outputs": [],
   "source": [
    "corex300 = up.pickle_load('data/corex300.pkl')\n",
    "\n",
    "# X = df.reset_index(drop=True)\n",
    "# corex, full_df = mc.corex_fit(X, n_hidden=200)\n",
    "\n",
    "# up.pickle_dump((corex, full_df), file_name='corex200.pkl')\n",
    "\n",
    "# gsutil copy /Users/bobcolner/QuantClarity/pandas-polygon/corex200.pkl gs://emerald-skill-datascience/"
   ]
  },
  {
   "cell_type": "code",
   "execution_count": null,
   "metadata": {},
   "outputs": [],
   "source": [
    "import h2o\n",
    "from h2o.estimators import H2OGeneralizedLowRankEstimator\n",
    "h2o.init()\n",
    "\n",
    "# Import the USArrests dataset into H2O:\n",
    "arrestsH2O = h2o.import_file(\"https://s3.amazonaws.com/h2o-public-test-data/smalldata/pca_test/USArrests.csv\")\n",
    "\n",
    "# Split the dataset into a train and valid set:\n",
    "train, valid = arrestsH2O.split_frame(ratios=[.8], seed=1234)\n",
    "\n",
    "# Build and train the model:\n",
    "glrm_model = H2OGeneralizedLowRankEstimator(\n",
    "    k=4,\n",
    "    loss=\"Huber\",\n",
    "    loss_by_col={'cat_var': 'Categorical'},\n",
    "    regularization_x=\"OneSparse\", # None (default), Quadratic, L2, L1, NonNegative, OneSparse, UnitOneSparse, Simplex.\n",
    "    regularization_y=\"OneSparse\",\n",
    "    gamma_x=0.5,\n",
    "    gamma_y=0.5,\n",
    "    max_iterations=1000,\n",
    "    recover_svd=True,\n",
    "    init=\"PlusPlus\",\n",
    "    transform=\"standardize\",\n",
    "   )\n",
    "glrm_model.train(training_frame=train)"
   ]
  }
 ],
 "metadata": {
  "kernelspec": {
   "display_name": "Python 3",
   "language": "python",
   "name": "python3"
  },
  "language_info": {
   "codemirror_mode": {
    "name": "ipython",
    "version": 3
   },
   "file_extension": ".py",
   "mimetype": "text/x-python",
   "name": "python",
   "nbconvert_exporter": "python",
   "pygments_lexer": "ipython3",
   "version": "3.7.8"
  }
 },
 "nbformat": 4,
 "nbformat_minor": 4
}
