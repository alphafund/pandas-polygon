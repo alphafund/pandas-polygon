{
 "cells": [
  {
   "cell_type": "code",
   "execution_count": null,
   "metadata": {},
   "outputs": [],
   "source": [
    "import ray\n",
    "ray.init()\n",
    "# ray.shutdown()"
   ]
  },
  {
   "cell_type": "code",
   "execution_count": 1,
   "metadata": {
    "execution": {
     "iopub.execute_input": "2020-12-04T05:54:37.610498Z",
     "iopub.status.busy": "2020-12-04T05:54:37.609737Z",
     "iopub.status.idle": "2020-12-04T05:54:43.275703Z",
     "shell.execute_reply": "2020-12-04T05:54:43.274634Z",
     "shell.execute_reply.started": "2020-12-04T05:54:37.610361Z"
    }
   },
   "outputs": [],
   "source": [
    "%load_ext autoreload\n",
    "%autoreload 2\n",
    "\n",
    "import numpy as np\n",
    "import pandas as pd\n",
    "pd.set_option('float_format', '{:f}'.format)\n",
    "\n",
    "import pandas_bokeh\n",
    "import matplotlib as mpl\n",
    "import matplotlib.pyplot as plt\n",
    "from matplotlib import style\n",
    "style.use('fivethirtyeight')\n",
    "mpl.rcParams['figure.figsize'] = [20, 7]\n",
    "\n",
    "import polygon_ds as pds\n",
    "import polygon_df as pdf\n",
    "import polygon_s3 as ps3\n",
    "import ray_symbol_details as rsd\n",
    "import market_preprocess as mp\n",
    "import market_cov as mcov\n",
    "import market_cluster as mc\n",
    "import utils_pickle as up\n",
    "# import ipdb\n",
    "# ipdb.set_trace(context=10)\n"
   ]
  },
  {
   "cell_type": "code",
   "execution_count": 33,
   "metadata": {
    "execution": {
     "iopub.execute_input": "2020-12-04T06:13:13.138218Z",
     "iopub.status.busy": "2020-12-04T06:13:13.137762Z",
     "iopub.status.idle": "2020-12-04T06:13:13.318755Z",
     "shell.execute_reply": "2020-12-04T06:13:13.315032Z",
     "shell.execute_reply.started": "2020-12-04T06:13:13.138175Z"
    }
   },
   "outputs": [],
   "source": [
    "from alphavantage_api import *"
   ]
  },
  {
   "cell_type": "code",
   "execution_count": 19,
   "metadata": {
    "execution": {
     "iopub.execute_input": "2020-12-04T06:05:18.162394Z",
     "iopub.status.busy": "2020-12-04T06:05:18.161881Z",
     "iopub.status.idle": "2020-12-04T06:05:18.338181Z",
     "shell.execute_reply": "2020-12-04T06:05:18.336934Z",
     "shell.execute_reply.started": "2020-12-04T06:05:18.162344Z"
    }
   },
   "outputs": [],
   "source": [
    "from_symbol='EUR' \n",
    "to_symbol='USD'\n",
    "interval='1min'"
   ]
  },
  {
   "cell_type": "code",
   "execution_count": 24,
   "metadata": {
    "execution": {
     "iopub.execute_input": "2020-12-04T06:06:43.746398Z",
     "iopub.status.busy": "2020-12-04T06:06:43.745895Z",
     "iopub.status.idle": "2020-12-04T06:06:44.962413Z",
     "shell.execute_reply": "2020-12-04T06:06:44.960982Z",
     "shell.execute_reply.started": "2020-12-04T06:06:43.746352Z"
    }
   },
   "outputs": [],
   "source": [
    "out = get_fx_time_bars(from_symbol, to_symbol, interval)"
   ]
  },
  {
   "cell_type": "code",
   "execution_count": 39,
   "metadata": {
    "execution": {
     "iopub.execute_input": "2020-12-04T06:15:56.644596Z",
     "iopub.status.busy": "2020-12-04T06:15:56.644043Z",
     "iopub.status.idle": "2020-12-04T06:15:58.394872Z",
     "shell.execute_reply": "2020-12-04T06:15:58.391697Z",
     "shell.execute_reply.started": "2020-12-04T06:15:56.644545Z"
    }
   },
   "outputs": [
    {
     "data": {
      "text/html": [
       "<div>\n",
       "<style scoped>\n",
       "    .dataframe tbody tr th:only-of-type {\n",
       "        vertical-align: middle;\n",
       "    }\n",
       "\n",
       "    .dataframe tbody tr th {\n",
       "        vertical-align: top;\n",
       "    }\n",
       "\n",
       "    .dataframe thead th {\n",
       "        text-align: right;\n",
       "    }\n",
       "</style>\n",
       "<table border=\"1\" class=\"dataframe\">\n",
       "  <thead>\n",
       "    <tr style=\"text-align: right;\">\n",
       "      <th></th>\n",
       "      <th>1a. open (USD)</th>\n",
       "      <th>1b. open (USD)</th>\n",
       "      <th>2a. high (USD)</th>\n",
       "      <th>2b. high (USD)</th>\n",
       "      <th>3a. low (USD)</th>\n",
       "      <th>3b. low (USD)</th>\n",
       "      <th>4a. close (USD)</th>\n",
       "      <th>4b. close (USD)</th>\n",
       "      <th>5. volume</th>\n",
       "      <th>6. market cap (USD)</th>\n",
       "    </tr>\n",
       "  </thead>\n",
       "  <tbody>\n",
       "    <tr>\n",
       "      <th>2020-12-04</th>\n",
       "      <td>19422.34000000</td>\n",
       "      <td>19422.34000000</td>\n",
       "      <td>19501.21000000</td>\n",
       "      <td>19501.21000000</td>\n",
       "      <td>19378.92000000</td>\n",
       "      <td>19378.92000000</td>\n",
       "      <td>19497.51000000</td>\n",
       "      <td>19497.51000000</td>\n",
       "      <td>1359.24283900</td>\n",
       "      <td>1359.24283900</td>\n",
       "    </tr>\n",
       "    <tr>\n",
       "      <th>2020-12-03</th>\n",
       "      <td>19204.08000000</td>\n",
       "      <td>19204.08000000</td>\n",
       "      <td>19598.00000000</td>\n",
       "      <td>19598.00000000</td>\n",
       "      <td>18867.20000000</td>\n",
       "      <td>18867.20000000</td>\n",
       "      <td>19421.90000000</td>\n",
       "      <td>19421.90000000</td>\n",
       "      <td>66689.39127900</td>\n",
       "      <td>66689.39127900</td>\n",
       "    </tr>\n",
       "    <tr>\n",
       "      <th>2020-12-02</th>\n",
       "      <td>18764.96000000</td>\n",
       "      <td>18764.96000000</td>\n",
       "      <td>19342.00000000</td>\n",
       "      <td>19342.00000000</td>\n",
       "      <td>18330.00000000</td>\n",
       "      <td>18330.00000000</td>\n",
       "      <td>19204.09000000</td>\n",
       "      <td>19204.09000000</td>\n",
       "      <td>75911.01347800</td>\n",
       "      <td>75911.01347800</td>\n",
       "    </tr>\n",
       "    <tr>\n",
       "      <th>2020-12-01</th>\n",
       "      <td>19695.87000000</td>\n",
       "      <td>19695.87000000</td>\n",
       "      <td>19888.00000000</td>\n",
       "      <td>19888.00000000</td>\n",
       "      <td>18001.12000000</td>\n",
       "      <td>18001.12000000</td>\n",
       "      <td>18764.96000000</td>\n",
       "      <td>18764.96000000</td>\n",
       "      <td>127698.76265200</td>\n",
       "      <td>127698.76265200</td>\n",
       "    </tr>\n",
       "    <tr>\n",
       "      <th>2020-11-30</th>\n",
       "      <td>18185.00000000</td>\n",
       "      <td>18185.00000000</td>\n",
       "      <td>19863.16000000</td>\n",
       "      <td>19863.16000000</td>\n",
       "      <td>18184.99000000</td>\n",
       "      <td>18184.99000000</td>\n",
       "      <td>19695.87000000</td>\n",
       "      <td>19695.87000000</td>\n",
       "      <td>115463.46688800</td>\n",
       "      <td>115463.46688800</td>\n",
       "    </tr>\n",
       "    <tr>\n",
       "      <th>...</th>\n",
       "      <td>...</td>\n",
       "      <td>...</td>\n",
       "      <td>...</td>\n",
       "      <td>...</td>\n",
       "      <td>...</td>\n",
       "      <td>...</td>\n",
       "      <td>...</td>\n",
       "      <td>...</td>\n",
       "      <td>...</td>\n",
       "      <td>...</td>\n",
       "    </tr>\n",
       "    <tr>\n",
       "      <th>2018-03-15</th>\n",
       "      <td>8184.01000000</td>\n",
       "      <td>8184.01000000</td>\n",
       "      <td>8430.00000000</td>\n",
       "      <td>8430.00000000</td>\n",
       "      <td>7650.00000000</td>\n",
       "      <td>7650.00000000</td>\n",
       "      <td>8240.98000000</td>\n",
       "      <td>8240.98000000</td>\n",
       "      <td>52291.02227700</td>\n",
       "      <td>52291.02227700</td>\n",
       "    </tr>\n",
       "    <tr>\n",
       "      <th>2018-03-14</th>\n",
       "      <td>9151.92000000</td>\n",
       "      <td>9151.92000000</td>\n",
       "      <td>9333.78000000</td>\n",
       "      <td>9333.78000000</td>\n",
       "      <td>7900.28000000</td>\n",
       "      <td>7900.28000000</td>\n",
       "      <td>8170.00000000</td>\n",
       "      <td>8170.00000000</td>\n",
       "      <td>49708.09410800</td>\n",
       "      <td>49708.09410800</td>\n",
       "    </tr>\n",
       "    <tr>\n",
       "      <th>2018-03-13</th>\n",
       "      <td>9131.34000000</td>\n",
       "      <td>9131.34000000</td>\n",
       "      <td>9474.00000000</td>\n",
       "      <td>9474.00000000</td>\n",
       "      <td>8823.00000000</td>\n",
       "      <td>8823.00000000</td>\n",
       "      <td>9150.00000000</td>\n",
       "      <td>9150.00000000</td>\n",
       "      <td>40191.40935800</td>\n",
       "      <td>40191.40935800</td>\n",
       "    </tr>\n",
       "    <tr>\n",
       "      <th>2018-03-12</th>\n",
       "      <td>9533.57000000</td>\n",
       "      <td>9533.57000000</td>\n",
       "      <td>9888.88000000</td>\n",
       "      <td>9888.88000000</td>\n",
       "      <td>8780.00000000</td>\n",
       "      <td>8780.00000000</td>\n",
       "      <td>9131.34000000</td>\n",
       "      <td>9131.34000000</td>\n",
       "      <td>42230.77793000</td>\n",
       "      <td>42230.77793000</td>\n",
       "    </tr>\n",
       "    <tr>\n",
       "      <th>2018-03-11</th>\n",
       "      <td>8770.22000000</td>\n",
       "      <td>8770.22000000</td>\n",
       "      <td>9740.00000000</td>\n",
       "      <td>9740.00000000</td>\n",
       "      <td>8450.00000000</td>\n",
       "      <td>8450.00000000</td>\n",
       "      <td>9533.57000000</td>\n",
       "      <td>9533.57000000</td>\n",
       "      <td>44325.97338600</td>\n",
       "      <td>44325.97338600</td>\n",
       "    </tr>\n",
       "  </tbody>\n",
       "</table>\n",
       "<p>1000 rows × 10 columns</p>\n",
       "</div>"
      ],
      "text/plain": [
       "            1a. open (USD)  1b. open (USD)  2a. high (USD)  2b. high (USD)  \\\n",
       "2020-12-04  19422.34000000  19422.34000000  19501.21000000  19501.21000000   \n",
       "2020-12-03  19204.08000000  19204.08000000  19598.00000000  19598.00000000   \n",
       "2020-12-02  18764.96000000  18764.96000000  19342.00000000  19342.00000000   \n",
       "2020-12-01  19695.87000000  19695.87000000  19888.00000000  19888.00000000   \n",
       "2020-11-30  18185.00000000  18185.00000000  19863.16000000  19863.16000000   \n",
       "...                    ...             ...             ...             ...   \n",
       "2018-03-15   8184.01000000   8184.01000000   8430.00000000   8430.00000000   \n",
       "2018-03-14   9151.92000000   9151.92000000   9333.78000000   9333.78000000   \n",
       "2018-03-13   9131.34000000   9131.34000000   9474.00000000   9474.00000000   \n",
       "2018-03-12   9533.57000000   9533.57000000   9888.88000000   9888.88000000   \n",
       "2018-03-11   8770.22000000   8770.22000000   9740.00000000   9740.00000000   \n",
       "\n",
       "             3a. low (USD)   3b. low (USD) 4a. close (USD) 4b. close (USD)  \\\n",
       "2020-12-04  19378.92000000  19378.92000000  19497.51000000  19497.51000000   \n",
       "2020-12-03  18867.20000000  18867.20000000  19421.90000000  19421.90000000   \n",
       "2020-12-02  18330.00000000  18330.00000000  19204.09000000  19204.09000000   \n",
       "2020-12-01  18001.12000000  18001.12000000  18764.96000000  18764.96000000   \n",
       "2020-11-30  18184.99000000  18184.99000000  19695.87000000  19695.87000000   \n",
       "...                    ...             ...             ...             ...   \n",
       "2018-03-15   7650.00000000   7650.00000000   8240.98000000   8240.98000000   \n",
       "2018-03-14   7900.28000000   7900.28000000   8170.00000000   8170.00000000   \n",
       "2018-03-13   8823.00000000   8823.00000000   9150.00000000   9150.00000000   \n",
       "2018-03-12   8780.00000000   8780.00000000   9131.34000000   9131.34000000   \n",
       "2018-03-11   8450.00000000   8450.00000000   9533.57000000   9533.57000000   \n",
       "\n",
       "                  5. volume 6. market cap (USD)  \n",
       "2020-12-04    1359.24283900       1359.24283900  \n",
       "2020-12-03   66689.39127900      66689.39127900  \n",
       "2020-12-02   75911.01347800      75911.01347800  \n",
       "2020-12-01  127698.76265200     127698.76265200  \n",
       "2020-11-30  115463.46688800     115463.46688800  \n",
       "...                     ...                 ...  \n",
       "2018-03-15   52291.02227700      52291.02227700  \n",
       "2018-03-14   49708.09410800      49708.09410800  \n",
       "2018-03-13   40191.40935800      40191.40935800  \n",
       "2018-03-12   42230.77793000      42230.77793000  \n",
       "2018-03-11   44325.97338600      44325.97338600  \n",
       "\n",
       "[1000 rows x 10 columns]"
      ]
     },
     "execution_count": 39,
     "metadata": {},
     "output_type": "execute_result"
    }
   ],
   "source": [
    "data = get_crypto_daily()\n",
    "\n",
    "data"
   ]
  },
  {
   "cell_type": "code",
   "execution_count": 2,
   "metadata": {
    "execution": {
     "iopub.execute_input": "2020-12-04T05:07:44.459888Z",
     "iopub.status.busy": "2020-12-04T05:07:44.457601Z",
     "iopub.status.idle": "2020-12-04T05:07:44.744153Z",
     "shell.execute_reply": "2020-12-04T05:07:44.736785Z",
     "shell.execute_reply.started": "2020-12-04T05:07:44.459811Z"
    }
   },
   "outputs": [],
   "source": [
    "start_date = '2018-10-24'\n",
    "end_date = '2020-11-24'\n",
    "symbol = 'market'\n",
    "tick_type='daily'"
   ]
  },
  {
   "cell_type": "code",
   "execution_count": 3,
   "metadata": {
    "execution": {
     "iopub.execute_input": "2020-12-04T05:07:45.887570Z",
     "iopub.status.busy": "2020-12-04T05:07:45.886977Z",
     "iopub.status.idle": "2020-12-04T05:08:38.648891Z",
     "shell.execute_reply": "2020-12-04T05:08:38.647794Z",
     "shell.execute_reply.started": "2020-12-04T05:07:45.887530Z"
    }
   },
   "outputs": [
    {
     "name": "stdout",
     "output_type": "stream",
     "text": [
      "4502494 Initial rows 11509 symbols\n",
      "-1460110 all dates filter 5784 symbols\n",
      "-383980 liquidity filter 5054 symbols\n",
      "-125188 volitility filter 4816 symbols\n",
      "-24196 min $value filter 4770 symbols\n",
      "-706944 symbol details filter 3426 symbols\n",
      "1802076 Final rows 40.0 % remaining\n"
     ]
    },
    {
     "name": "stderr",
     "output_type": "stream",
     "text": [
      "100%|██████████| 3426/3426 [00:31<00:00, 110.12it/s]\n"
     ]
    }
   ],
   "source": [
    "r = mp.prepare_data(start_date, end_date, beta_symbol='VTI')"
   ]
  },
  {
   "cell_type": "code",
   "execution_count": 4,
   "metadata": {
    "execution": {
     "iopub.execute_input": "2020-12-04T05:08:47.750485Z",
     "iopub.status.busy": "2020-12-04T05:08:47.750053Z",
     "iopub.status.idle": "2020-12-04T05:08:47.906101Z",
     "shell.execute_reply": "2020-12-04T05:08:47.904744Z",
     "shell.execute_reply.started": "2020-12-04T05:08:47.750444Z"
    }
   },
   "outputs": [
    {
     "data": {
      "text/plain": [
       "dict_keys(['df', 'sym_meta', 'close', 'returns', 'log_returns', 'zs_log_returns', 'g_zs_log_returns', 'g_zs_log_returns_resid'])"
      ]
     },
     "execution_count": 4,
     "metadata": {},
     "output_type": "execute_result"
    }
   ],
   "source": [
    "r.keys()"
   ]
  },
  {
   "cell_type": "code",
   "execution_count": 23,
   "metadata": {
    "execution": {
     "iopub.execute_input": "2020-12-04T05:44:29.491107Z",
     "iopub.status.busy": "2020-12-04T05:44:29.490141Z",
     "iopub.status.idle": "2020-12-04T05:44:51.011313Z",
     "shell.execute_reply": "2020-12-04T05:44:51.009653Z",
     "shell.execute_reply.started": "2020-12-04T05:44:29.491049Z"
    }
   },
   "outputs": [],
   "source": [
    "dist_mat = mcov.cov_denoise_detone_dist(r['g_zs_log_returns_resid'], detone=False)"
   ]
  },
  {
   "cell_type": "code",
   "execution_count": 24,
   "metadata": {
    "execution": {
     "iopub.execute_input": "2020-12-04T05:44:59.166466Z",
     "iopub.status.busy": "2020-12-04T05:44:59.165937Z",
     "iopub.status.idle": "2020-12-04T05:45:09.350960Z",
     "shell.execute_reply": "2020-12-04T05:45:09.349598Z",
     "shell.execute_reply.started": "2020-12-04T05:44:59.166408Z"
    }
   },
   "outputs": [
    {
     "data": {
      "text/plain": [
       "{'ari': 0.1504595975132633, 'ami': 0.25454594601518826}"
      ]
     },
     "execution_count": 24,
     "metadata": {},
     "output_type": "execute_result"
    }
   ],
   "source": [
    "kmean_labels = mc.get_kmean_clusters(dist_mat, n_clusters=11)\n",
    "\n",
    "mc.evaluate_clustering(labels_true=r['sym_meta'].sector.values, labels_pred=kmean_labels)"
   ]
  },
  {
   "cell_type": "code",
   "execution_count": 25,
   "metadata": {
    "execution": {
     "iopub.execute_input": "2020-12-04T05:45:32.115021Z",
     "iopub.status.busy": "2020-12-04T05:45:32.113876Z",
     "iopub.status.idle": "2020-12-04T05:46:05.543683Z",
     "shell.execute_reply": "2020-12-04T05:46:05.542158Z",
     "shell.execute_reply.started": "2020-12-04T05:45:32.114957Z"
    }
   },
   "outputs": [
    {
     "data": {
      "text/plain": [
       "{'ari': 0.1566378887498753, 'ami': 0.2724050154916307}"
      ]
     },
     "execution_count": 25,
     "metadata": {},
     "output_type": "execute_result"
    }
   ],
   "source": [
    "kmean_labels = mc.get_hira_clusters(dist_mat, n_clusters=11)\n",
    "\n",
    "mc.evaluate_clustering(labels_true=r['sym_meta'].sector.values, labels_pred=kmean_labels)"
   ]
  },
  {
   "cell_type": "code",
   "execution_count": 8,
   "metadata": {
    "execution": {
     "iopub.execute_input": "2020-12-04T05:10:36.498141Z",
     "iopub.status.busy": "2020-12-04T05:10:36.497697Z",
     "iopub.status.idle": "2020-12-04T05:10:42.972337Z",
     "shell.execute_reply": "2020-12-04T05:10:42.968784Z",
     "shell.execute_reply.started": "2020-12-04T05:10:36.498110Z"
    }
   },
   "outputs": [
    {
     "data": {
      "text/plain": [
       "{'ari': 0.15414956514580322, 'ami': 0.3232448242377991}"
      ]
     },
     "execution_count": 8,
     "metadata": {},
     "output_type": "execute_result"
    }
   ],
   "source": [
    "kmean_labels = mc.get_hira_clusters(r['g_zs_log_returns_resid'].transpose(), n_clusters=11)\n",
    "\n",
    "mc.evaluate_clustering(labels_true=r['sym_meta'].sector.values, labels_pred=kmean_labels)"
   ]
  },
  {
   "cell_type": "code",
   "execution_count": 13,
   "metadata": {
    "execution": {
     "iopub.execute_input": "2020-12-04T05:30:50.750719Z",
     "iopub.status.busy": "2020-12-04T05:30:50.748956Z",
     "iopub.status.idle": "2020-12-04T05:30:53.177335Z",
     "shell.execute_reply": "2020-12-04T05:30:53.175934Z",
     "shell.execute_reply.started": "2020-12-04T05:30:50.750632Z"
    }
   },
   "outputs": [
    {
     "data": {
      "text/plain": [
       "{'ari': 0.19124218050351974, 'ami': 0.3409286306986541}"
      ]
     },
     "execution_count": 13,
     "metadata": {},
     "output_type": "execute_result"
    }
   ],
   "source": [
    "kmean_labels = mc.get_kmean_clusters(r['g_zs_log_returns_resid'].transpose(), n_clusters=11)\n",
    "\n",
    "mc.evaluate_clustering(labels_true=r['sym_meta'].sector.values, labels_pred=kmean_labels)"
   ]
  },
  {
   "cell_type": "code",
   "execution_count": null,
   "metadata": {},
   "outputs": [],
   "source": [
    "kmean_labels = mc.get_optics_clusters(dist_mat)\n",
    "\n",
    "mc.evaluate_clustering(labels_true=r['sym_meta'].sector.values, labels_pred=kmean_labels)"
   ]
  },
  {
   "cell_type": "code",
   "execution_count": null,
   "metadata": {},
   "outputs": [],
   "source": [
    "corex_labels = mc.get_corex_clusters(r['g_zs_log_returns_resid'], n_clusters=11)\n",
    "\n",
    "mc.evaluate_clustering(labels_true=r['sym_meta'].sector.values, labels_pred=corex_labels)"
   ]
  },
  {
   "cell_type": "code",
   "execution_count": null,
   "metadata": {},
   "outputs": [],
   "source": [
    "corex_labels = mc.get_corex_clusters(dist_mat, n_clusters=11)\n",
    "\n",
    "mc.evaluate_clustering(labels_true=r['sym_meta'].sector.values, labels_pred=corex_labels)"
   ]
  },
  {
   "cell_type": "code",
   "execution_count": null,
   "metadata": {},
   "outputs": [],
   "source": [
    "corex300 = up.pickle_load('data/corex300.pkl')\n",
    "\n",
    "# X = df.reset_index(drop=True)\n",
    "# corex, full_df = mc.corex_fit(X, n_hidden=200)\n",
    "\n",
    "# up.pickle_dump((corex, full_df), file_name='corex200.pkl')\n",
    "\n",
    "# gsutil copy /Users/bobcolner/QuantClarity/pandas-polygon/corex200.pkl gs://emerald-skill-datascience/"
   ]
  },
  {
   "cell_type": "code",
   "execution_count": null,
   "metadata": {},
   "outputs": [],
   "source": [
    "import h2o\n",
    "from h2o.estimators import H2OGeneralizedLowRankEstimator\n",
    "h2o.init()\n",
    "\n",
    "# Import the USArrests dataset into H2O:\n",
    "arrestsH2O = h2o.import_file(\"https://s3.amazonaws.com/h2o-public-test-data/smalldata/pca_test/USArrests.csv\")\n",
    "\n",
    "# Split the dataset into a train and valid set:\n",
    "train, valid = arrestsH2O.split_frame(ratios=[.8], seed=1234)\n",
    "\n",
    "# Build and train the model:\n",
    "glrm_model = H2OGeneralizedLowRankEstimator(\n",
    "    k=4,\n",
    "    loss=\"Huber\",\n",
    "    loss_by_col={'cat_var': 'Categorical'},\n",
    "    regularization_x=\"OneSparse\", # None (default), Quadratic, L2, L1, NonNegative, OneSparse, UnitOneSparse, Simplex.\n",
    "    regularization_y=\"OneSparse\",\n",
    "    gamma_x=0.5,\n",
    "    gamma_y=0.5,\n",
    "    max_iterations=1000,\n",
    "    recover_svd=True,\n",
    "    init=\"PlusPlus\",\n",
    "    transform=\"standardize\",\n",
    "   )\n",
    "glrm_model.train(training_frame=train)"
   ]
  },
  {
   "cell_type": "code",
   "execution_count": null,
   "metadata": {},
   "outputs": [],
   "source": [
    "### market clustering\n",
    "\n",
    "# %time df = read_market_daily(result_path)\n",
    "mdf = pd.read_parquet('data/old/mdf.parquet')\n",
    "\n",
    "%time npdf, sharpe_ratios = mc.normalize_market_df(mdf)\n",
    "\n",
    "# %time npdf_resid = colwise_linreg(npdf)\n",
    "npdf_resid = pd.read_parquet('data/old/npdf_resid.parquet')\n",
    "\n",
    "# %time par_cor_mat = npdf_resid.corr()\n",
    "resid_par_cor_mat = pd.read_parquet('data/old/partial_cor_mat.parquet')\n",
    "\n",
    "details_df = pd.read_parquet('data/old/details_df.parquet')\n",
    "\n",
    "# cluster_lables = cluster_sim_matrix(similarity=resid_par_cor_mat.abs())\n",
    "cluster_lables = pd.read_parquet('data/old/cluster_lables.parquet')\n",
    "\n",
    "# symbol_meta = join_symbol_data(details_df, cluster_lables, sharpe_ratios, mdf)\n",
    "symbol_meta = pd.read_parquet('data/old/symbol_meta.parquet')\n",
    "\n",
    "# cluster_coheasion = mc.get_cluster_coheasion(sim_df=resid_par_cor_mat.abs(), symbol_meta=symbol_meta, cluster_col='cluster_n200')"
   ]
  },
  {
   "cell_type": "code",
   "execution_count": null,
   "metadata": {},
   "outputs": [],
   "source": [
    "symbol_meta['liquidy_rank'] = symbol_meta.groupby('cluster_n200')['daily_avg_dollar_volume'].rank(method='first')\n",
    "\n",
    "symbol_meta = symbol_meta.sort_values(['cluster_n200', 'liquidy_rank']).reset_index()\n",
    "\n",
    "by_cluster = symbol_meta.groupby('cluster_n200')\n",
    "result = []\n",
    "for cluster, frame in by_cluster:\n",
    "    counts = dict(frame['sector'].value_counts())\n",
    "    counts.pop('', None)  # drop symbols w/o sector/industry info\n",
    "    result.append(counts)"
   ]
  },
  {
   "cell_type": "code",
   "execution_count": null,
   "metadata": {},
   "outputs": [],
   "source": [
    "cluster_sec = pd.DataFrame(result)    \n",
    "cluster_sec = cluster_sec.drop(columns=['Finance'])\n",
    "cluster_sec_pct = cluster_sec.apply(lambda x: 100 * x / float(x.sum()), axis=1)\n",
    "\n",
    "cluster_sec_pct.style.background_gradient(cmap='coolwarm', axis=0)\n",
    "\n",
    "# n += 1\n",
    "n = 61\n",
    "print(n)\n",
    "symbol_meta[symbol_meta.cluster_n200 == n].sector.value_counts()\n",
    "\n",
    "sym_clust = symbol_meta[symbol_meta.cluster_n200 == n]\n",
    "sym_clust"
   ]
  }
 ],
 "metadata": {
  "kernelspec": {
   "display_name": "Python 3",
   "language": "python",
   "name": "python3"
  },
  "language_info": {
   "codemirror_mode": {
    "name": "ipython",
    "version": 3
   },
   "file_extension": ".py",
   "mimetype": "text/x-python",
   "name": "python",
   "nbconvert_exporter": "python",
   "pygments_lexer": "ipython3",
   "version": "3.7.8"
  }
 },
 "nbformat": 4,
 "nbformat_minor": 4
}
