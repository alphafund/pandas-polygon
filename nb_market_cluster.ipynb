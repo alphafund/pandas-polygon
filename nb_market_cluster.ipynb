{
 "cells": [
  {
   "cell_type": "code",
   "execution_count": null,
   "metadata": {},
   "outputs": [],
   "source": [
    "import ray\n",
    "ray.init()"
   ]
  },
  {
   "cell_type": "code",
   "execution_count": 1,
   "metadata": {
    "execution": {
     "iopub.execute_input": "2020-11-29T09:32:55.594817Z",
     "iopub.status.busy": "2020-11-29T09:32:55.594139Z",
     "iopub.status.idle": "2020-11-29T09:33:01.574986Z",
     "shell.execute_reply": "2020-11-29T09:33:01.573505Z",
     "shell.execute_reply.started": "2020-11-29T09:32:55.594676Z"
    }
   },
   "outputs": [
    {
     "name": "stdout",
     "output_type": "stream",
     "text": [
      "Install CUDA and cudamat (for python) to enable GPU speedups.\n"
     ]
    }
   ],
   "source": [
    "%load_ext autoreload\n",
    "%autoreload 2\n",
    "\n",
    "import numpy as np\n",
    "import pandas as pd\n",
    "pd.set_option('float_format', '{:f}'.format)\n",
    "import pandas_bokeh\n",
    "import market_cluster as mc\n",
    "import polygon_ds as pds\n",
    "import polygon_s3 as ps3\n",
    "import flow_backfill as fbf\n",
    "import ray_symbol_details as rsd\n",
    "\n",
    "import matplotlib as mpl\n",
    "from matplotlib import style\n",
    "style.use('fivethirtyeight')\n",
    "mpl.rcParams['figure.figsize'] = [20, 7]"
   ]
  },
  {
   "cell_type": "code",
   "execution_count": null,
   "metadata": {},
   "outputs": [],
   "source": [
    "# rsd.symbol_details_ray(symbols=['SPY', 'QQQ'])"
   ]
  },
  {
   "cell_type": "code",
   "execution_count": null,
   "metadata": {},
   "outputs": [],
   "source": [
    "# ps3.remove_symbol(symbol='market', tick_type='daily')"
   ]
  },
  {
   "cell_type": "code",
   "execution_count": null,
   "metadata": {
    "scrolled": true
   },
   "outputs": [],
   "source": [
    "# fbf.run_backfill(symbols=['market'], tick_type='daily', start_date='2016-01-01')"
   ]
  },
  {
   "cell_type": "code",
   "execution_count": 2,
   "metadata": {
    "execution": {
     "iopub.execute_input": "2020-11-29T09:33:10.328324Z",
     "iopub.status.busy": "2020-11-29T09:33:10.327955Z",
     "iopub.status.idle": "2020-11-29T09:33:10.467096Z",
     "shell.execute_reply": "2020-11-29T09:33:10.461424Z",
     "shell.execute_reply.started": "2020-11-29T09:33:10.328290Z"
    }
   },
   "outputs": [],
   "source": [
    "start_date = '2018-10-24'\n",
    "end_date = '2020-11-24'\n",
    "symbol = 'market'\n",
    "tick_type='daily'"
   ]
  },
  {
   "cell_type": "code",
   "execution_count": 3,
   "metadata": {
    "execution": {
     "iopub.execute_input": "2020-11-29T09:33:11.647557Z",
     "iopub.status.busy": "2020-11-29T09:33:11.647140Z",
     "iopub.status.idle": "2020-11-29T09:33:25.682581Z",
     "shell.execute_reply": "2020-11-29T09:33:25.681031Z",
     "shell.execute_reply.started": "2020-11-29T09:33:11.647519Z"
    }
   },
   "outputs": [
    {
     "name": "stdout",
     "output_type": "stream",
     "text": [
      "4502494\n",
      "-0.32428916062964214\n",
      "-0.40957078454740864\n",
      "-0.4373749304274475\n"
     ]
    }
   ],
   "source": [
    "df = mc.market_cluster_workflow(start_date, end_date)"
   ]
  },
  {
   "cell_type": "code",
   "execution_count": null,
   "metadata": {},
   "outputs": [],
   "source": [
    "df.reset_index().to_feather('market_daily.feather')"
   ]
  },
  {
   "cell_type": "code",
   "execution_count": null,
   "metadata": {},
   "outputs": [],
   "source": [
    "ps3.put_df_to_s3(df.reset_index(), tick_type='market_daily', other='returns')"
   ]
  },
  {
   "cell_type": "code",
   "execution_count": 11,
   "metadata": {
    "execution": {
     "iopub.execute_input": "2020-11-29T09:34:33.714889Z",
     "iopub.status.busy": "2020-11-29T09:34:33.713983Z",
     "iopub.status.idle": "2020-11-29T10:48:59.170525Z",
     "shell.execute_reply": "2020-11-29T10:48:59.169494Z",
     "shell.execute_reply.started": "2020-11-29T09:34:33.714820Z"
    }
   },
   "outputs": [
    {
     "name": "stdout",
     "output_type": "stream",
     "text": [
      "Linear CorEx with 200 latent factors\n",
      "Warning: step size becoming too small\n",
      "2200 iterations to tol: 0.000010, TC=1237.081039\n",
      "Warning: step size becoming too small\n",
      "2758 iterations to tol: 0.000010, TC=1983.804016\n",
      "Warning: step size becoming too small\n",
      "1535 iterations to tol: 0.000010, TC=2337.475128\n",
      "Warning: step size becoming too small\n",
      "1631 iterations to tol: 0.000010, TC=2488.994537\n",
      "Warning: step size becoming too small\n",
      "316 iterations to tol: 0.000010, TC=2546.276489\n",
      "Warning: step size becoming too small\n",
      "269 iterations to tol: 0.000010, TC=2567.807068\n",
      "Warning: step size becoming too small\n",
      "163 iterations to tol: 0.000010, TC=2580.033051\n"
     ]
    }
   ],
   "source": [
    "X = df.reset_index(drop=True)\n",
    "corex4000, full_df = mc.corex_fit(X, n_hidden=200)"
   ]
  },
  {
   "cell_type": "code",
   "execution_count": 124,
   "metadata": {
    "execution": {
     "iopub.execute_input": "2020-11-30T04:25:24.283257Z",
     "iopub.status.busy": "2020-11-30T04:25:24.282755Z",
     "iopub.status.idle": "2020-11-30T04:25:24.468191Z",
     "shell.execute_reply": "2020-11-30T04:25:24.467170Z",
     "shell.execute_reply.started": "2020-11-30T04:25:24.283217Z"
    }
   },
   "outputs": [],
   "source": [
    "import corex_linearcorex as lc"
   ]
  },
  {
   "cell_type": "code",
   "execution_count": 126,
   "metadata": {
    "execution": {
     "iopub.execute_input": "2020-11-30T04:25:46.978201Z",
     "iopub.status.busy": "2020-11-30T04:25:46.977746Z",
     "iopub.status.idle": "2020-11-30T04:25:47.083134Z",
     "shell.execute_reply": "2020-11-30T04:25:47.080939Z",
     "shell.execute_reply.started": "2020-11-30T04:25:46.978161Z"
    }
   },
   "outputs": [
    {
     "data": {
      "text/plain": [
       "\u001b[0;31mSignature:\u001b[0m \u001b[0mlc\u001b[0m\u001b[0;34m.\u001b[0m\u001b[0mpick_n_hidden\u001b[0m\u001b[0;34m(\u001b[0m\u001b[0mdata\u001b[0m\u001b[0;34m,\u001b[0m \u001b[0mrepeat\u001b[0m\u001b[0;34m=\u001b[0m\u001b[0;36m1\u001b[0m\u001b[0;34m,\u001b[0m \u001b[0mverbose\u001b[0m\u001b[0;34m=\u001b[0m\u001b[0;32mFalse\u001b[0m\u001b[0;34m,\u001b[0m \u001b[0;34m**\u001b[0m\u001b[0mkwargs\u001b[0m\u001b[0;34m)\u001b[0m\u001b[0;34m\u001b[0m\u001b[0;34m\u001b[0m\u001b[0m\n",
       "\u001b[0;31mDocstring:\u001b[0m A helper function to pick the number of hidden factors / clusters to use.\n",
       "\u001b[0;31mFile:\u001b[0m      ~/QuantClarity/pandas-polygon/corex_linearcorex.py\n",
       "\u001b[0;31mType:\u001b[0m      function\n"
      ]
     },
     "metadata": {},
     "output_type": "display_data"
    }
   ],
   "source": [
    "lc.pick_n_hidden(X, verbose=True)"
   ]
  },
  {
   "cell_type": "code",
   "execution_count": 80,
   "metadata": {
    "execution": {
     "iopub.execute_input": "2020-11-29T19:54:42.038481Z",
     "iopub.status.busy": "2020-11-29T19:54:42.037777Z",
     "iopub.status.idle": "2020-11-29T19:54:42.291231Z",
     "shell.execute_reply": "2020-11-29T19:54:42.288848Z",
     "shell.execute_reply.started": "2020-11-29T19:54:42.038428Z"
    }
   },
   "outputs": [
    {
     "data": {
      "text/html": [
       "<div>\n",
       "<style scoped>\n",
       "    .dataframe tbody tr th:only-of-type {\n",
       "        vertical-align: middle;\n",
       "    }\n",
       "\n",
       "    .dataframe tbody tr th {\n",
       "        vertical-align: top;\n",
       "    }\n",
       "\n",
       "    .dataframe thead th {\n",
       "        text-align: right;\n",
       "    }\n",
       "</style>\n",
       "<table border=\"1\" class=\"dataframe\">\n",
       "  <thead>\n",
       "    <tr style=\"text-align: right;\">\n",
       "      <th></th>\n",
       "      <th>symbol</th>\n",
       "      <th>cluster</th>\n",
       "      <th>tcs</th>\n",
       "    </tr>\n",
       "  </thead>\n",
       "  <tbody>\n",
       "    <tr>\n",
       "      <th>4493</th>\n",
       "      <td>VGT</td>\n",
       "      <td>0</td>\n",
       "      <td>948.407593</td>\n",
       "    </tr>\n",
       "    <tr>\n",
       "      <th>4224</th>\n",
       "      <td>TMFC</td>\n",
       "      <td>0</td>\n",
       "      <td>948.407593</td>\n",
       "    </tr>\n",
       "    <tr>\n",
       "      <th>3530</th>\n",
       "      <td>QQQ</td>\n",
       "      <td>0</td>\n",
       "      <td>948.407593</td>\n",
       "    </tr>\n",
       "    <tr>\n",
       "      <th>3188</th>\n",
       "      <td>ONEQ</td>\n",
       "      <td>0</td>\n",
       "      <td>948.407593</td>\n",
       "    </tr>\n",
       "    <tr>\n",
       "      <th>2359</th>\n",
       "      <td>IYW</td>\n",
       "      <td>0</td>\n",
       "      <td>948.407593</td>\n",
       "    </tr>\n",
       "    <tr>\n",
       "      <th>2199</th>\n",
       "      <td>IGM</td>\n",
       "      <td>0</td>\n",
       "      <td>948.407593</td>\n",
       "    </tr>\n",
       "    <tr>\n",
       "      <th>2181</th>\n",
       "      <td>IETC</td>\n",
       "      <td>0</td>\n",
       "      <td>948.407593</td>\n",
       "    </tr>\n",
       "    <tr>\n",
       "      <th>1736</th>\n",
       "      <td>FTEC</td>\n",
       "      <td>0</td>\n",
       "      <td>948.407593</td>\n",
       "    </tr>\n",
       "    <tr>\n",
       "      <th>1643</th>\n",
       "      <td>FLGE</td>\n",
       "      <td>0</td>\n",
       "      <td>948.407593</td>\n",
       "    </tr>\n",
       "    <tr>\n",
       "      <th>1550</th>\n",
       "      <td>FBGX</td>\n",
       "      <td>0</td>\n",
       "      <td>948.407593</td>\n",
       "    </tr>\n",
       "    <tr>\n",
       "      <th>4689</th>\n",
       "      <td>WSBC</td>\n",
       "      <td>2</td>\n",
       "      <td>76.989830</td>\n",
       "    </tr>\n",
       "    <tr>\n",
       "      <th>4615</th>\n",
       "      <td>WBIY</td>\n",
       "      <td>2</td>\n",
       "      <td>76.989830</td>\n",
       "    </tr>\n",
       "    <tr>\n",
       "      <th>4610</th>\n",
       "      <td>WASH</td>\n",
       "      <td>2</td>\n",
       "      <td>76.989830</td>\n",
       "    </tr>\n",
       "    <tr>\n",
       "      <th>4608</th>\n",
       "      <td>WAFD</td>\n",
       "      <td>2</td>\n",
       "      <td>76.989830</td>\n",
       "    </tr>\n",
       "    <tr>\n",
       "      <th>4607</th>\n",
       "      <td>WABC</td>\n",
       "      <td>2</td>\n",
       "      <td>76.989830</td>\n",
       "    </tr>\n",
       "    <tr>\n",
       "      <th>4598</th>\n",
       "      <td>VXF</td>\n",
       "      <td>2</td>\n",
       "      <td>76.989830</td>\n",
       "    </tr>\n",
       "    <tr>\n",
       "      <th>4591</th>\n",
       "      <td>VUSE</td>\n",
       "      <td>2</td>\n",
       "      <td>76.989830</td>\n",
       "    </tr>\n",
       "    <tr>\n",
       "      <th>4589</th>\n",
       "      <td>VTWV</td>\n",
       "      <td>2</td>\n",
       "      <td>76.989830</td>\n",
       "    </tr>\n",
       "    <tr>\n",
       "      <th>4588</th>\n",
       "      <td>VTWO</td>\n",
       "      <td>2</td>\n",
       "      <td>76.989830</td>\n",
       "    </tr>\n",
       "    <tr>\n",
       "      <th>4544</th>\n",
       "      <td>VONV</td>\n",
       "      <td>2</td>\n",
       "      <td>76.989830</td>\n",
       "    </tr>\n",
       "  </tbody>\n",
       "</table>\n",
       "</div>"
      ],
      "text/plain": [
       "     symbol  cluster        tcs\n",
       "4493    VGT        0 948.407593\n",
       "4224   TMFC        0 948.407593\n",
       "3530    QQQ        0 948.407593\n",
       "3188   ONEQ        0 948.407593\n",
       "2359    IYW        0 948.407593\n",
       "2199    IGM        0 948.407593\n",
       "2181   IETC        0 948.407593\n",
       "1736   FTEC        0 948.407593\n",
       "1643   FLGE        0 948.407593\n",
       "1550   FBGX        0 948.407593\n",
       "4689   WSBC        2  76.989830\n",
       "4615   WBIY        2  76.989830\n",
       "4610   WASH        2  76.989830\n",
       "4608   WAFD        2  76.989830\n",
       "4607   WABC        2  76.989830\n",
       "4598    VXF        2  76.989830\n",
       "4591   VUSE        2  76.989830\n",
       "4589   VTWV        2  76.989830\n",
       "4588   VTWO        2  76.989830\n",
       "4544   VONV        2  76.989830"
      ]
     },
     "execution_count": 80,
     "metadata": {},
     "output_type": "execute_result"
    }
   ],
   "source": [
    "full_df.sort_values(['tcs', 'symbol'], ascending=False)[0:20]"
   ]
  },
  {
   "cell_type": "code",
   "execution_count": null,
   "metadata": {},
   "outputs": [],
   "source": [
    "import corex_gaussianize as g\n",
    "\n",
    "norm = g.Gaussianize(strategy='lambert')"
   ]
  },
  {
   "cell_type": "code",
   "execution_count": null,
   "metadata": {},
   "outputs": [],
   "source": [
    "gld = df[df.symbol=='GLD']"
   ]
  },
  {
   "cell_type": "code",
   "execution_count": null,
   "metadata": {},
   "outputs": [],
   "source": [
    "norm.fit(df[df.symbol=='GLD'].close)"
   ]
  },
  {
   "cell_type": "code",
   "execution_count": null,
   "metadata": {},
   "outputs": [],
   "source": [
    "import h2o\n",
    "from h2o.estimators import H2OGeneralizedLowRankEstimator\n",
    "h2o.init()\n",
    "\n",
    "# Import the USArrests dataset into H2O:\n",
    "arrestsH2O = h2o.import_file(\"https://s3.amazonaws.com/h2o-public-test-data/smalldata/pca_test/USArrests.csv\")\n",
    "\n",
    "# Split the dataset into a train and valid set:\n",
    "train, valid = arrestsH2O.split_frame(ratios=[.8], seed=1234)\n",
    "\n",
    "# Build and train the model:\n",
    "glrm_model = H2OGeneralizedLowRankEstimator(k=4,\n",
    "                                            loss=\"Huber\",\n",
    "                                            # loss_by_col={'cat_var': 'Categorical'},\n",
    "                                            regularization_x=\"OneSparse\", # None (default), Quadratic, L2, L1, NonNegative, OneSparse, UnitOneSparse, Simplex.\n",
    "                                            regularization_y=\"OneSparse\",\n",
    "                                            gamma_x=0.5,\n",
    "                                            gamma_y=0.5,\n",
    "                                            max_iterations=1000,\n",
    "                                            recover_svd=True,\n",
    "                                            init=\"PlusPlus\",\n",
    "                                            transform=\"standardize\",\n",
    "                                           )\n",
    "glrm_model.train(training_frame=train)"
   ]
  },
  {
   "cell_type": "code",
   "execution_count": null,
   "metadata": {},
   "outputs": [],
   "source": [
    "### market clustering\n",
    "\n",
    "# %time df = read_market_daily(result_path)\n",
    "mdf = pd.read_parquet('data/mdf.parquet')\n",
    "\n",
    "%time npdf, sharpe_ratios = mc.normalize_market_df(mdf)\n",
    "\n",
    "# %time npdf_resid = colwise_linreg(npdf)\n",
    "npdf_resid = pd.read_parquet('data/npdf_resid.parquet')\n",
    "\n",
    "# %time par_cor_mat = npdf_resid.corr()\n",
    "resid_par_cor_mat = pd.read_parquet('data/partial_cor_mat.parquet')\n",
    "\n",
    "details_df = pd.read_parquet('data/details_df.parquet')\n",
    "\n",
    "# cluster_lables = cluster_sim_matrix(similarity=resid_par_cor_mat.abs())\n",
    "cluster_lables = pd.read_parquet('data/cluster_lables.parquet')\n",
    "\n",
    "# symbol_meta = join_symbol_data(details_df, cluster_lables, sharpe_ratios, mdf)\n",
    "symbol_meta = pd.read_parquet('data/symbol_meta.parquet')\n",
    "\n",
    "# cluster_coheasion = mc.get_cluster_coheasion(sim_df=resid_par_cor_mat.abs(), symbol_meta=symbol_meta, cluster_col='cluster_n200')"
   ]
  },
  {
   "cell_type": "code",
   "execution_count": null,
   "metadata": {},
   "outputs": [],
   "source": [
    "symbol_meta['liquidy_rank'] = symbol_meta.groupby('cluster_n200')['daily_avg_dollar_volume'].rank(method='first')\n",
    "\n",
    "symbol_meta = symbol_meta.sort_values(['cluster_n200', 'liquidy_rank']).reset_index()\n",
    "\n",
    "by_cluster = symbol_meta.groupby('cluster_n200')\n",
    "result = []\n",
    "for cluster, frame in by_cluster:\n",
    "    counts = dict(frame['sector'].value_counts())\n",
    "    counts.pop('', None)  # drop symbols w/o sector/industry info\n",
    "    result.append(counts)"
   ]
  },
  {
   "cell_type": "code",
   "execution_count": null,
   "metadata": {},
   "outputs": [],
   "source": [
    "cluster_sec = pd.DataFrame(result)    \n",
    "cluster_sec = cluster_sec.drop(columns=['Finance'])\n",
    "cluster_sec_pct = cluster_sec.apply(lambda x: 100 * x / float(x.sum()), axis=1)\n",
    "\n",
    "cluster_sec_pct.style.background_gradient(cmap='coolwarm', axis=0)\n",
    "\n",
    "# n += 1\n",
    "n = 61\n",
    "print(n)\n",
    "symbol_meta[symbol_meta.cluster_n200==n].sector.value_counts()\n",
    "\n",
    "sym_clust = symbol_meta[symbol_meta.cluster_n200==n]\n",
    "sym_clust"
   ]
  }
 ],
 "metadata": {
  "kernelspec": {
   "display_name": "Python 3",
   "language": "python",
   "name": "python3"
  },
  "language_info": {
   "codemirror_mode": {
    "name": "ipython",
    "version": 3
   },
   "file_extension": ".py",
   "mimetype": "text/x-python",
   "name": "python",
   "nbconvert_exporter": "python",
   "pygments_lexer": "ipython3",
   "version": "3.7.8"
  }
 },
 "nbformat": 4,
 "nbformat_minor": 4
}
