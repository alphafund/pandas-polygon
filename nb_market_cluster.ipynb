{
 "cells": [
  {
   "cell_type": "code",
   "execution_count": 3,
   "metadata": {
    "execution": {
     "iopub.execute_input": "2020-11-26T06:55:44.188667Z",
     "iopub.status.busy": "2020-11-26T06:55:44.187974Z",
     "iopub.status.idle": "2020-11-26T06:55:46.046425Z",
     "shell.execute_reply": "2020-11-26T06:55:46.041599Z",
     "shell.execute_reply.started": "2020-11-26T06:55:44.188621Z"
    }
   },
   "outputs": [
    {
     "name": "stderr",
     "output_type": "stream",
     "text": [
      "2020-11-25 22:55:44,856\tINFO services.py:1166 -- View the Ray dashboard at \u001b[1m\u001b[32mhttp://127.0.0.1:8265\u001b[39m\u001b[22m\n"
     ]
    },
    {
     "data": {
      "text/plain": [
       "{'node_ip_address': '192.168.1.66',\n",
       " 'raylet_ip_address': '192.168.1.66',\n",
       " 'redis_address': '192.168.1.66:6379',\n",
       " 'object_store_address': '/tmp/ray/session_2020-11-25_22-55-44_273949_55683/sockets/plasma_store',\n",
       " 'raylet_socket_name': '/tmp/ray/session_2020-11-25_22-55-44_273949_55683/sockets/raylet',\n",
       " 'webui_url': '127.0.0.1:8265',\n",
       " 'session_dir': '/tmp/ray/session_2020-11-25_22-55-44_273949_55683',\n",
       " 'metrics_export_port': 56061}"
      ]
     },
     "execution_count": 3,
     "metadata": {},
     "output_type": "execute_result"
    }
   ],
   "source": [
    "import ray\n",
    "ray.init()"
   ]
  },
  {
   "cell_type": "code",
   "execution_count": 4,
   "metadata": {
    "execution": {
     "iopub.execute_input": "2020-11-26T06:55:48.380871Z",
     "iopub.status.busy": "2020-11-26T06:55:48.379923Z",
     "iopub.status.idle": "2020-11-26T06:55:48.485004Z",
     "shell.execute_reply": "2020-11-26T06:55:48.481681Z",
     "shell.execute_reply.started": "2020-11-26T06:55:48.380802Z"
    }
   },
   "outputs": [
    {
     "name": "stdout",
     "output_type": "stream",
     "text": [
      "The autoreload extension is already loaded. To reload it, use:\n",
      "  %reload_ext autoreload\n"
     ]
    }
   ],
   "source": [
    "%load_ext autoreload\n",
    "%autoreload 2\n",
    "\n",
    "import numpy as np\n",
    "import pandas as pd\n",
    "pd.set_option('float_format', '{:f}'.format)\n",
    "import pandas_bokeh\n",
    "import market_cluster as mc\n",
    "import polygon_ds as pds\n",
    "import polygon_s3 as ps3\n",
    "import flow_backfill as fbf\n",
    "import ray_symbol_details as rsd\n",
    "\n",
    "import matplotlib as mpl\n",
    "from matplotlib import style\n",
    "style.use('fivethirtyeight')\n",
    "mpl.rcParams['figure.figsize'] = [20, 7]"
   ]
  },
  {
   "cell_type": "code",
   "execution_count": 7,
   "metadata": {
    "collapsed": true,
    "execution": {
     "iopub.execute_input": "2020-11-26T06:57:24.061729Z",
     "iopub.status.busy": "2020-11-26T06:57:24.061224Z",
     "iopub.status.idle": "2020-11-26T06:57:24.584909Z",
     "shell.execute_reply": "2020-11-26T06:57:24.582802Z",
     "shell.execute_reply.started": "2020-11-26T06:57:24.061668Z"
    },
    "jupyter": {
     "outputs_hidden": true
    }
   },
   "outputs": [
    {
     "data": {
      "text/plain": [
       "[{'logo': 'https://s3.polygon.io/logos/spy/logo.png',\n",
       "  'listdate': '1993-01-29',\n",
       "  'cik': '',\n",
       "  'bloomberg': 'EQ0727683900060000',\n",
       "  'figi': None,\n",
       "  'lei': None,\n",
       "  'country': 'united states',\n",
       "  'industry': '',\n",
       "  'sector': '',\n",
       "  'marketcap': 257835205310,\n",
       "  'employees': None,\n",
       "  'phone': '',\n",
       "  'ceo': '',\n",
       "  'url': 'www.spdrs.com',\n",
       "  'description': 'The investment seeks to provide investment results that, before expenses, correspond generally to the price and yield performance of the S&P 500® Index.\\n The Trust seeks to achieve its investment objective by holding a portfolio of the common stocks that are included in the index (the “Portfolio”), with the weight of each stock in the Portfolio substantially corresponding to the weight of such stock in the index.',\n",
       "  'exchange': 'NYSE Arca',\n",
       "  'name': 'SPDR S&P 500',\n",
       "  'symbol': 'SPY',\n",
       "  'exchangeSymbol': 'ARCA',\n",
       "  'hq_address': 'New York NY, 10006',\n",
       "  'hq_state': 'NY',\n",
       "  'hq_country': 'United States',\n",
       "  'type': 'ET',\n",
       "  'updated': '11/16/2018',\n",
       "  'tags': [],\n",
       "  'similar': [],\n",
       "  'active': True},\n",
       " {'logo': 'https://s3.polygon.io/logos/qqq/logo.png',\n",
       "  'listdate': '1999-03-10',\n",
       "  'cik': '',\n",
       "  'bloomberg': 'EQ0082335400001000',\n",
       "  'figi': None,\n",
       "  'lei': None,\n",
       "  'country': 'united states',\n",
       "  'industry': '',\n",
       "  'sector': '',\n",
       "  'marketcap': 64891144500,\n",
       "  'employees': None,\n",
       "  'phone': '',\n",
       "  'ceo': '',\n",
       "  'url': 'www.invescopowershares.com',\n",
       "  'description': 'The investment seeks investment results that generally correspond to the price and yield performance of the index.\\n To maintain the correspondence between the composition and weights of the securities in the trust (the \"securities\") and the stocks in the NASDAQ-100 Index®, the adviser adjusts the securities from time to time to conform to periodic changes in the identity and/or relative weights of index securities. The composition and weighting of the securities portion of a portfolio deposit are also adjusted to conform to changes in the index.',\n",
       "  'exchange': 'NASDAQ Global Market',\n",
       "  'name': 'PowerShares QQQ Trust Ser 1',\n",
       "  'symbol': 'QQQ',\n",
       "  'exchangeSymbol': 'NSD',\n",
       "  'hq_address': 'Wheaton IL, 60187',\n",
       "  'hq_state': 'IL',\n",
       "  'hq_country': 'United States',\n",
       "  'type': 'ET',\n",
       "  'updated': '11/16/2018',\n",
       "  'tags': [],\n",
       "  'similar': [],\n",
       "  'active': True}]"
      ]
     },
     "execution_count": 7,
     "metadata": {},
     "output_type": "execute_result"
    }
   ],
   "source": [
    "rsd.symbol_details_ray(symbols=['SPY', 'QQQ'])"
   ]
  },
  {
   "cell_type": "code",
   "execution_count": null,
   "metadata": {},
   "outputs": [],
   "source": [
    "# ps3.remove_symbol(symbol='market', tick_type='daily')"
   ]
  },
  {
   "cell_type": "code",
   "execution_count": null,
   "metadata": {
    "scrolled": true
   },
   "outputs": [],
   "source": [
    "# fbf.run_backfill(symbols=['market'], tick_type='daily', start_date='2016-01-01')"
   ]
  },
  {
   "cell_type": "code",
   "execution_count": 10,
   "metadata": {
    "execution": {
     "iopub.execute_input": "2020-11-26T07:04:45.808882Z",
     "iopub.status.busy": "2020-11-26T07:04:45.808107Z",
     "iopub.status.idle": "2020-11-26T07:04:45.917578Z",
     "shell.execute_reply": "2020-11-26T07:04:45.915488Z",
     "shell.execute_reply.started": "2020-11-26T07:04:45.808811Z"
    }
   },
   "outputs": [],
   "source": [
    "start_date = '2018-11-24'\n",
    "end_date = '2020-11-24'\n",
    "symbol = 'market'\n",
    "tick_type='daily'"
   ]
  },
  {
   "cell_type": "code",
   "execution_count": 55,
   "metadata": {
    "collapsed": true,
    "execution": {
     "iopub.execute_input": "2020-11-26T08:01:27.819564Z",
     "iopub.status.busy": "2020-11-26T08:01:27.819213Z",
     "iopub.status.idle": "2020-11-26T08:01:44.676299Z",
     "shell.execute_reply": "2020-11-26T08:01:44.672611Z",
     "shell.execute_reply.started": "2020-11-26T08:01:27.819533Z"
    },
    "jupyter": {
     "outputs_hidden": true
    }
   },
   "outputs": [
    {
     "name": "stdout",
     "output_type": "stream",
     "text": [
      "4321734\n",
      "-0.3111265061662749\n",
      "-0.40523873056509263\n",
      "-0.43381059546931855\n"
     ]
    },
    {
     "ename": "ValueError",
     "evalue": "cannot set using a multi-index selection indexer with a different length than the value",
     "output_type": "error",
     "traceback": [
      "\u001b[0;31m---------------------------------------------------------------------------\u001b[0m",
      "\u001b[0;31mValueError\u001b[0m                                Traceback (most recent call last)",
      "\u001b[0;32m<ipython-input-55-c58c4c0f8ed5>\u001b[0m in \u001b[0;36m<module>\u001b[0;34m\u001b[0m\n\u001b[0;32m----> 1\u001b[0;31m \u001b[0mdf\u001b[0m \u001b[0;34m=\u001b[0m \u001b[0mmc\u001b[0m\u001b[0;34m.\u001b[0m\u001b[0mmarket_cluster_workflow\u001b[0m\u001b[0;34m(\u001b[0m\u001b[0mstart_date\u001b[0m\u001b[0;34m,\u001b[0m \u001b[0mend_date\u001b[0m\u001b[0;34m)\u001b[0m\u001b[0;34m\u001b[0m\u001b[0;34m\u001b[0m\u001b[0m\n\u001b[0m",
      "\u001b[0;32m~/QuantClarity/pandas-polygon/market_cluster.py\u001b[0m in \u001b[0;36mmarket_cluster_workflow\u001b[0;34m(start_date, end_date)\u001b[0m\n\u001b[1;32m     67\u001b[0m     \u001b[0mdf\u001b[0m \u001b[0;34m=\u001b[0m \u001b[0mvolitility_filter\u001b[0m\u001b[0;34m(\u001b[0m\u001b[0mdf\u001b[0m\u001b[0;34m,\u001b[0m \u001b[0mlow_cut\u001b[0m\u001b[0;34m=\u001b[0m\u001b[0;36m0.005\u001b[0m\u001b[0;34m,\u001b[0m \u001b[0mhigh_cut\u001b[0m\u001b[0;34m=\u001b[0m\u001b[0;36m0.5\u001b[0m\u001b[0;34m)\u001b[0m\u001b[0;34m\u001b[0m\u001b[0;34m\u001b[0m\u001b[0m\n\u001b[1;32m     68\u001b[0m     \u001b[0mprint\u001b[0m\u001b[0;34m(\u001b[0m\u001b[0;34m(\u001b[0m\u001b[0mdf\u001b[0m\u001b[0;34m.\u001b[0m\u001b[0mshape\u001b[0m\u001b[0;34m[\u001b[0m\u001b[0;36m0\u001b[0m\u001b[0;34m]\u001b[0m \u001b[0;34m-\u001b[0m \u001b[0mnrows_all\u001b[0m\u001b[0;34m)\u001b[0m \u001b[0;34m/\u001b[0m \u001b[0mnrows_all\u001b[0m\u001b[0;34m)\u001b[0m\u001b[0;34m\u001b[0m\u001b[0;34m\u001b[0m\u001b[0m\n\u001b[0;32m---> 69\u001b[0;31m     \u001b[0mdf\u001b[0m \u001b[0;34m=\u001b[0m \u001b[0madd_returns\u001b[0m\u001b[0;34m(\u001b[0m\u001b[0mdf\u001b[0m\u001b[0;34m)\u001b[0m\u001b[0;34m\u001b[0m\u001b[0;34m\u001b[0m\u001b[0m\n\u001b[0m\u001b[1;32m     70\u001b[0m     \u001b[0;32mreturn\u001b[0m \u001b[0mdf\u001b[0m\u001b[0;34m\u001b[0m\u001b[0;34m\u001b[0m\u001b[0m\n",
      "\u001b[0;32m~/QuantClarity/pandas-polygon/market_cluster.py\u001b[0m in \u001b[0;36madd_returns\u001b[0;34m(df)\u001b[0m\n\u001b[1;32m     47\u001b[0m \u001b[0;32mdef\u001b[0m \u001b[0madd_returns\u001b[0m\u001b[0;34m(\u001b[0m\u001b[0mdf\u001b[0m\u001b[0;34m:\u001b[0m \u001b[0mpd\u001b[0m\u001b[0;34m.\u001b[0m\u001b[0mDataFrame\u001b[0m\u001b[0;34m)\u001b[0m \u001b[0;34m->\u001b[0m \u001b[0mpd\u001b[0m\u001b[0;34m.\u001b[0m\u001b[0mDataFrame\u001b[0m\u001b[0;34m:\u001b[0m\u001b[0;34m\u001b[0m\u001b[0;34m\u001b[0m\u001b[0m\n\u001b[1;32m     48\u001b[0m     \u001b[0mdf\u001b[0m\u001b[0;34m.\u001b[0m\u001b[0mloc\u001b[0m\u001b[0;34m[\u001b[0m\u001b[0;34m:\u001b[0m\u001b[0;34m,\u001b[0m \u001b[0;34m'close_diff'\u001b[0m\u001b[0;34m]\u001b[0m \u001b[0;34m=\u001b[0m \u001b[0mdf\u001b[0m\u001b[0;34m[\u001b[0m\u001b[0;34m'close'\u001b[0m\u001b[0;34m]\u001b[0m\u001b[0;34m.\u001b[0m\u001b[0mdiff\u001b[0m\u001b[0;34m(\u001b[0m\u001b[0;34m)\u001b[0m\u001b[0;34m\u001b[0m\u001b[0;34m\u001b[0m\u001b[0m\n\u001b[0;32m---> 49\u001b[0;31m     \u001b[0mdf\u001b[0m\u001b[0;34m.\u001b[0m\u001b[0mloc\u001b[0m\u001b[0;34m[\u001b[0m\u001b[0;34m:\u001b[0m\u001b[0;34m,\u001b[0m \u001b[0;34m'close_log_return'\u001b[0m\u001b[0;34m]\u001b[0m \u001b[0;34m=\u001b[0m \u001b[0mnp\u001b[0m\u001b[0;34m.\u001b[0m\u001b[0mdiff\u001b[0m\u001b[0;34m(\u001b[0m\u001b[0mnp\u001b[0m\u001b[0;34m.\u001b[0m\u001b[0mlog\u001b[0m\u001b[0;34m(\u001b[0m\u001b[0mdf\u001b[0m\u001b[0;34m[\u001b[0m\u001b[0;34m'close'\u001b[0m\u001b[0;34m]\u001b[0m\u001b[0;34m)\u001b[0m\u001b[0;34m)\u001b[0m\u001b[0;34m\u001b[0m\u001b[0;34m\u001b[0m\u001b[0m\n\u001b[0m\u001b[1;32m     50\u001b[0m     \u001b[0mdf\u001b[0m\u001b[0;34m.\u001b[0m\u001b[0mloc\u001b[0m\u001b[0;34m[\u001b[0m\u001b[0;34m:\u001b[0m\u001b[0;34m,\u001b[0m \u001b[0;34m'vwap_diff'\u001b[0m\u001b[0;34m]\u001b[0m \u001b[0;34m=\u001b[0m \u001b[0mdf\u001b[0m\u001b[0;34m[\u001b[0m\u001b[0;34m'vwap'\u001b[0m\u001b[0;34m]\u001b[0m\u001b[0;34m.\u001b[0m\u001b[0mdiff\u001b[0m\u001b[0;34m(\u001b[0m\u001b[0;34m)\u001b[0m\u001b[0;34m\u001b[0m\u001b[0;34m\u001b[0m\u001b[0m\n\u001b[1;32m     51\u001b[0m     \u001b[0mdf\u001b[0m\u001b[0;34m.\u001b[0m\u001b[0mloc\u001b[0m\u001b[0;34m[\u001b[0m\u001b[0;34m:\u001b[0m\u001b[0;34m,\u001b[0m \u001b[0;34m'vwap_log_return'\u001b[0m\u001b[0;34m]\u001b[0m \u001b[0;34m=\u001b[0m \u001b[0mnp\u001b[0m\u001b[0;34m.\u001b[0m\u001b[0mdiff\u001b[0m\u001b[0;34m(\u001b[0m\u001b[0mnp\u001b[0m\u001b[0;34m.\u001b[0m\u001b[0mlog\u001b[0m\u001b[0;34m(\u001b[0m\u001b[0mdf\u001b[0m\u001b[0;34m[\u001b[0m\u001b[0;34m'vwap'\u001b[0m\u001b[0;34m]\u001b[0m\u001b[0;34m)\u001b[0m\u001b[0;34m)\u001b[0m\u001b[0;34m\u001b[0m\u001b[0;34m\u001b[0m\u001b[0m\n",
      "\u001b[0;32m~/opt/miniconda3/envs/quant2/lib/python3.7/site-packages/pandas/core/indexing.py\u001b[0m in \u001b[0;36m__setitem__\u001b[0;34m(self, key, value)\u001b[0m\n\u001b[1;32m    668\u001b[0m \u001b[0;34m\u001b[0m\u001b[0m\n\u001b[1;32m    669\u001b[0m         \u001b[0miloc\u001b[0m \u001b[0;34m=\u001b[0m \u001b[0mself\u001b[0m \u001b[0;32mif\u001b[0m \u001b[0mself\u001b[0m\u001b[0;34m.\u001b[0m\u001b[0mname\u001b[0m \u001b[0;34m==\u001b[0m \u001b[0;34m\"iloc\"\u001b[0m \u001b[0;32melse\u001b[0m \u001b[0mself\u001b[0m\u001b[0;34m.\u001b[0m\u001b[0mobj\u001b[0m\u001b[0;34m.\u001b[0m\u001b[0miloc\u001b[0m\u001b[0;34m\u001b[0m\u001b[0;34m\u001b[0m\u001b[0m\n\u001b[0;32m--> 670\u001b[0;31m         \u001b[0miloc\u001b[0m\u001b[0;34m.\u001b[0m\u001b[0m_setitem_with_indexer\u001b[0m\u001b[0;34m(\u001b[0m\u001b[0mindexer\u001b[0m\u001b[0;34m,\u001b[0m \u001b[0mvalue\u001b[0m\u001b[0;34m)\u001b[0m\u001b[0;34m\u001b[0m\u001b[0;34m\u001b[0m\u001b[0m\n\u001b[0m\u001b[1;32m    671\u001b[0m \u001b[0;34m\u001b[0m\u001b[0m\n\u001b[1;32m    672\u001b[0m     \u001b[0;32mdef\u001b[0m \u001b[0m_validate_key\u001b[0m\u001b[0;34m(\u001b[0m\u001b[0mself\u001b[0m\u001b[0;34m,\u001b[0m \u001b[0mkey\u001b[0m\u001b[0;34m,\u001b[0m \u001b[0maxis\u001b[0m\u001b[0;34m:\u001b[0m \u001b[0mint\u001b[0m\u001b[0;34m)\u001b[0m\u001b[0;34m:\u001b[0m\u001b[0;34m\u001b[0m\u001b[0;34m\u001b[0m\u001b[0m\n",
      "\u001b[0;32m~/opt/miniconda3/envs/quant2/lib/python3.7/site-packages/pandas/core/indexing.py\u001b[0m in \u001b[0;36m_setitem_with_indexer\u001b[0;34m(self, indexer, value)\u001b[0m\n\u001b[1;32m   1599\u001b[0m                             \u001b[0mindexer\u001b[0m\u001b[0;34m,\u001b[0m \u001b[0mself\u001b[0m\u001b[0;34m.\u001b[0m\u001b[0mobj\u001b[0m\u001b[0;34m.\u001b[0m\u001b[0maxes\u001b[0m\u001b[0;34m\u001b[0m\u001b[0;34m\u001b[0m\u001b[0m\n\u001b[1;32m   1600\u001b[0m                         )\n\u001b[0;32m-> 1601\u001b[0;31m                         \u001b[0mself\u001b[0m\u001b[0;34m.\u001b[0m\u001b[0m_setitem_with_indexer\u001b[0m\u001b[0;34m(\u001b[0m\u001b[0mnew_indexer\u001b[0m\u001b[0;34m,\u001b[0m \u001b[0mvalue\u001b[0m\u001b[0;34m)\u001b[0m\u001b[0;34m\u001b[0m\u001b[0;34m\u001b[0m\u001b[0m\n\u001b[0m\u001b[1;32m   1602\u001b[0m \u001b[0;34m\u001b[0m\u001b[0m\n\u001b[1;32m   1603\u001b[0m                         \u001b[0;32mreturn\u001b[0m\u001b[0;34m\u001b[0m\u001b[0;34m\u001b[0m\u001b[0m\n",
      "\u001b[0;32m~/opt/miniconda3/envs/quant2/lib/python3.7/site-packages/pandas/core/indexing.py\u001b[0m in \u001b[0;36m_setitem_with_indexer\u001b[0;34m(self, indexer, value)\u001b[0m\n\u001b[1;32m   1665\u001b[0m                     \u001b[0;31m# Exclude zero-len for e.g. boolean masking that is all-false\u001b[0m\u001b[0;34m\u001b[0m\u001b[0;34m\u001b[0m\u001b[0;34m\u001b[0m\u001b[0m\n\u001b[1;32m   1666\u001b[0m                     raise ValueError(\n\u001b[0;32m-> 1667\u001b[0;31m                         \u001b[0;34m\"cannot set using a multi-index \"\u001b[0m\u001b[0;34m\u001b[0m\u001b[0;34m\u001b[0m\u001b[0m\n\u001b[0m\u001b[1;32m   1668\u001b[0m                         \u001b[0;34m\"selection indexer with a different \"\u001b[0m\u001b[0;34m\u001b[0m\u001b[0;34m\u001b[0m\u001b[0m\n\u001b[1;32m   1669\u001b[0m                         \u001b[0;34m\"length than the value\"\u001b[0m\u001b[0;34m\u001b[0m\u001b[0;34m\u001b[0m\u001b[0m\n",
      "\u001b[0;31mValueError\u001b[0m: cannot set using a multi-index selection indexer with a different length than the value"
     ]
    }
   ],
   "source": [
    "df = mc.market_cluster_workflow(start_date, end_date)"
   ]
  },
  {
   "cell_type": "code",
   "execution_count": 50,
   "metadata": {
    "execution": {
     "iopub.execute_input": "2020-11-26T07:59:40.688009Z",
     "iopub.status.busy": "2020-11-26T07:59:40.687495Z",
     "iopub.status.idle": "2020-11-26T07:59:42.586602Z",
     "shell.execute_reply": "2020-11-26T07:59:42.584891Z",
     "shell.execute_reply.started": "2020-11-26T07:59:40.687945Z"
    }
   },
   "outputs": [],
   "source": [
    "import corex_gaussianize as g"
   ]
  },
  {
   "cell_type": "code",
   "execution_count": 52,
   "metadata": {
    "execution": {
     "iopub.execute_input": "2020-11-26T08:00:28.059557Z",
     "iopub.status.busy": "2020-11-26T08:00:28.058898Z",
     "iopub.status.idle": "2020-11-26T08:00:28.213252Z",
     "shell.execute_reply": "2020-11-26T08:00:28.212043Z",
     "shell.execute_reply.started": "2020-11-26T08:00:28.059507Z"
    }
   },
   "outputs": [],
   "source": [
    "norm = g.Gaussianize()"
   ]
  },
  {
   "cell_type": "code",
   "execution_count": 54,
   "metadata": {
    "execution": {
     "iopub.execute_input": "2020-11-26T08:01:10.452919Z",
     "iopub.status.busy": "2020-11-26T08:01:10.452142Z",
     "iopub.status.idle": "2020-11-26T08:01:11.052996Z",
     "shell.execute_reply": "2020-11-26T08:01:11.049786Z",
     "shell.execute_reply.started": "2020-11-26T08:01:10.452851Z"
    }
   },
   "outputs": [
    {
     "data": {
      "text/html": [
       "<div>\n",
       "<style scoped>\n",
       "    .dataframe tbody tr th:only-of-type {\n",
       "        vertical-align: middle;\n",
       "    }\n",
       "\n",
       "    .dataframe tbody tr th {\n",
       "        vertical-align: top;\n",
       "    }\n",
       "\n",
       "    .dataframe thead th {\n",
       "        text-align: right;\n",
       "    }\n",
       "</style>\n",
       "<table border=\"1\" class=\"dataframe\">\n",
       "  <thead>\n",
       "    <tr style=\"text-align: right;\">\n",
       "      <th></th>\n",
       "      <th>symbol</th>\n",
       "      <th>volume</th>\n",
       "      <th>open</th>\n",
       "      <th>close</th>\n",
       "      <th>high</th>\n",
       "      <th>low</th>\n",
       "      <th>vwap</th>\n",
       "      <th>date_time</th>\n",
       "      <th>midprice</th>\n",
       "      <th>dollar_total</th>\n",
       "      <th>date</th>\n",
       "      <th>range</th>\n",
       "      <th>range_value_pct</th>\n",
       "    </tr>\n",
       "  </thead>\n",
       "  <tbody>\n",
       "    <tr>\n",
       "      <th>4255</th>\n",
       "      <td>GLD</td>\n",
       "      <td>4064645</td>\n",
       "      <td>115.839996</td>\n",
       "      <td>115.639999</td>\n",
       "      <td>115.870003</td>\n",
       "      <td>115.529999</td>\n",
       "      <td>115.681900</td>\n",
       "      <td>2018-11-26</td>\n",
       "      <td>115.720001</td>\n",
       "      <td>470205856.000000</td>\n",
       "      <td>2018-11-26</td>\n",
       "      <td>0.340004</td>\n",
       "      <td>0.002939</td>\n",
       "    </tr>\n",
       "    <tr>\n",
       "      <th>5548</th>\n",
       "      <td>GLD</td>\n",
       "      <td>9698828</td>\n",
       "      <td>115.550003</td>\n",
       "      <td>114.949997</td>\n",
       "      <td>115.629997</td>\n",
       "      <td>114.599998</td>\n",
       "      <td>114.960098</td>\n",
       "      <td>2018-11-27</td>\n",
       "      <td>115.182503</td>\n",
       "      <td>1114978176.000000</td>\n",
       "      <td>2018-11-27</td>\n",
       "      <td>1.029999</td>\n",
       "      <td>0.008960</td>\n",
       "    </tr>\n",
       "    <tr>\n",
       "      <th>14118</th>\n",
       "      <td>GLD</td>\n",
       "      <td>13828426</td>\n",
       "      <td>114.760002</td>\n",
       "      <td>115.379997</td>\n",
       "      <td>116.070000</td>\n",
       "      <td>114.589996</td>\n",
       "      <td>115.334602</td>\n",
       "      <td>2018-11-28</td>\n",
       "      <td>115.199997</td>\n",
       "      <td>1594896000.000000</td>\n",
       "      <td>2018-11-28</td>\n",
       "      <td>1.480003</td>\n",
       "      <td>0.012832</td>\n",
       "    </tr>\n",
       "    <tr>\n",
       "      <th>15217</th>\n",
       "      <td>GLD</td>\n",
       "      <td>6527924</td>\n",
       "      <td>115.970001</td>\n",
       "      <td>115.739998</td>\n",
       "      <td>116.239998</td>\n",
       "      <td>115.559998</td>\n",
       "      <td>115.903297</td>\n",
       "      <td>2018-11-29</td>\n",
       "      <td>115.877502</td>\n",
       "      <td>756607936.000000</td>\n",
       "      <td>2018-11-29</td>\n",
       "      <td>0.680000</td>\n",
       "      <td>0.005867</td>\n",
       "    </tr>\n",
       "    <tr>\n",
       "      <th>23567</th>\n",
       "      <td>GLD</td>\n",
       "      <td>8191343</td>\n",
       "      <td>115.419998</td>\n",
       "      <td>115.540001</td>\n",
       "      <td>115.660004</td>\n",
       "      <td>115.040001</td>\n",
       "      <td>115.389000</td>\n",
       "      <td>2018-11-30</td>\n",
       "      <td>115.415001</td>\n",
       "      <td>945190848.000000</td>\n",
       "      <td>2018-11-30</td>\n",
       "      <td>0.620003</td>\n",
       "      <td>0.005373</td>\n",
       "    </tr>\n",
       "    <tr>\n",
       "      <th>...</th>\n",
       "      <td>...</td>\n",
       "      <td>...</td>\n",
       "      <td>...</td>\n",
       "      <td>...</td>\n",
       "      <td>...</td>\n",
       "      <td>...</td>\n",
       "      <td>...</td>\n",
       "      <td>...</td>\n",
       "      <td>...</td>\n",
       "      <td>...</td>\n",
       "      <td>...</td>\n",
       "      <td>...</td>\n",
       "      <td>...</td>\n",
       "    </tr>\n",
       "    <tr>\n",
       "      <th>2425823</th>\n",
       "      <td>GLD</td>\n",
       "      <td>7384180</td>\n",
       "      <td>176.259995</td>\n",
       "      <td>175.490005</td>\n",
       "      <td>176.860001</td>\n",
       "      <td>175.350006</td>\n",
       "      <td>175.992798</td>\n",
       "      <td>2020-11-18</td>\n",
       "      <td>175.990005</td>\n",
       "      <td>1299562496.000000</td>\n",
       "      <td>2020-11-18</td>\n",
       "      <td>1.509995</td>\n",
       "      <td>0.008580</td>\n",
       "    </tr>\n",
       "    <tr>\n",
       "      <th>2428460</th>\n",
       "      <td>GLD</td>\n",
       "      <td>7030561</td>\n",
       "      <td>174.300003</td>\n",
       "      <td>175.160004</td>\n",
       "      <td>175.220001</td>\n",
       "      <td>174.169998</td>\n",
       "      <td>174.710495</td>\n",
       "      <td>2020-11-19</td>\n",
       "      <td>174.712494</td>\n",
       "      <td>1228312832.000000</td>\n",
       "      <td>2020-11-19</td>\n",
       "      <td>1.050003</td>\n",
       "      <td>0.006010</td>\n",
       "    </tr>\n",
       "    <tr>\n",
       "      <th>2435717</th>\n",
       "      <td>GLD</td>\n",
       "      <td>6445656</td>\n",
       "      <td>176.139999</td>\n",
       "      <td>175.690002</td>\n",
       "      <td>176.380005</td>\n",
       "      <td>175.580002</td>\n",
       "      <td>175.882401</td>\n",
       "      <td>2020-11-20</td>\n",
       "      <td>175.947495</td>\n",
       "      <td>1133677440.000000</td>\n",
       "      <td>2020-11-20</td>\n",
       "      <td>0.800003</td>\n",
       "      <td>0.004549</td>\n",
       "    </tr>\n",
       "    <tr>\n",
       "      <th>2441974</th>\n",
       "      <td>GLD</td>\n",
       "      <td>15628342</td>\n",
       "      <td>175.100006</td>\n",
       "      <td>172.229996</td>\n",
       "      <td>175.240005</td>\n",
       "      <td>171.779999</td>\n",
       "      <td>172.850693</td>\n",
       "      <td>2020-11-23</td>\n",
       "      <td>173.587494</td>\n",
       "      <td>2701369856.000000</td>\n",
       "      <td>2020-11-23</td>\n",
       "      <td>3.460007</td>\n",
       "      <td>0.020017</td>\n",
       "    </tr>\n",
       "    <tr>\n",
       "      <th>2444774</th>\n",
       "      <td>GLD</td>\n",
       "      <td>19806419</td>\n",
       "      <td>169.300003</td>\n",
       "      <td>169.589996</td>\n",
       "      <td>169.690002</td>\n",
       "      <td>168.860001</td>\n",
       "      <td>169.317307</td>\n",
       "      <td>2020-11-24</td>\n",
       "      <td>169.360001</td>\n",
       "      <td>3353569280.000000</td>\n",
       "      <td>2020-11-24</td>\n",
       "      <td>0.830002</td>\n",
       "      <td>0.004902</td>\n",
       "    </tr>\n",
       "  </tbody>\n",
       "</table>\n",
       "<p>504 rows × 13 columns</p>\n",
       "</div>"
      ],
      "text/plain": [
       "        symbol    volume       open      close       high        low  \\\n",
       "4255       GLD   4064645 115.839996 115.639999 115.870003 115.529999   \n",
       "5548       GLD   9698828 115.550003 114.949997 115.629997 114.599998   \n",
       "14118      GLD  13828426 114.760002 115.379997 116.070000 114.589996   \n",
       "15217      GLD   6527924 115.970001 115.739998 116.239998 115.559998   \n",
       "23567      GLD   8191343 115.419998 115.540001 115.660004 115.040001   \n",
       "...        ...       ...        ...        ...        ...        ...   \n",
       "2425823    GLD   7384180 176.259995 175.490005 176.860001 175.350006   \n",
       "2428460    GLD   7030561 174.300003 175.160004 175.220001 174.169998   \n",
       "2435717    GLD   6445656 176.139999 175.690002 176.380005 175.580002   \n",
       "2441974    GLD  15628342 175.100006 172.229996 175.240005 171.779999   \n",
       "2444774    GLD  19806419 169.300003 169.589996 169.690002 168.860001   \n",
       "\n",
       "              vwap  date_time   midprice      dollar_total        date  \\\n",
       "4255    115.681900 2018-11-26 115.720001  470205856.000000  2018-11-26   \n",
       "5548    114.960098 2018-11-27 115.182503 1114978176.000000  2018-11-27   \n",
       "14118   115.334602 2018-11-28 115.199997 1594896000.000000  2018-11-28   \n",
       "15217   115.903297 2018-11-29 115.877502  756607936.000000  2018-11-29   \n",
       "23567   115.389000 2018-11-30 115.415001  945190848.000000  2018-11-30   \n",
       "...            ...        ...        ...               ...         ...   \n",
       "2425823 175.992798 2020-11-18 175.990005 1299562496.000000  2020-11-18   \n",
       "2428460 174.710495 2020-11-19 174.712494 1228312832.000000  2020-11-19   \n",
       "2435717 175.882401 2020-11-20 175.947495 1133677440.000000  2020-11-20   \n",
       "2441974 172.850693 2020-11-23 173.587494 2701369856.000000  2020-11-23   \n",
       "2444774 169.317307 2020-11-24 169.360001 3353569280.000000  2020-11-24   \n",
       "\n",
       "           range  range_value_pct  \n",
       "4255    0.340004         0.002939  \n",
       "5548    1.029999         0.008960  \n",
       "14118   1.480003         0.012832  \n",
       "15217   0.680000         0.005867  \n",
       "23567   0.620003         0.005373  \n",
       "...          ...              ...  \n",
       "2425823 1.509995         0.008580  \n",
       "2428460 1.050003         0.006010  \n",
       "2435717 0.800003         0.004549  \n",
       "2441974 3.460007         0.020017  \n",
       "2444774 0.830002         0.004902  \n",
       "\n",
       "[504 rows x 13 columns]"
      ]
     },
     "execution_count": 54,
     "metadata": {},
     "output_type": "execute_result"
    }
   ],
   "source": [
    "df[df.symbol=='GLD']"
   ]
  },
  {
   "cell_type": "code",
   "execution_count": null,
   "metadata": {},
   "outputs": [],
   "source": [
    "norm.fit(df[df.symbol=='GLD'].close)"
   ]
  },
  {
   "cell_type": "code",
   "execution_count": 48,
   "metadata": {
    "execution": {
     "iopub.execute_input": "2020-11-26T07:40:25.473760Z",
     "iopub.status.busy": "2020-11-26T07:40:25.472994Z",
     "iopub.status.idle": "2020-11-26T07:40:26.501947Z",
     "shell.execute_reply": "2020-11-26T07:40:26.500244Z",
     "shell.execute_reply.started": "2020-11-26T07:40:25.473713Z"
    }
   },
   "outputs": [
    {
     "data": {
      "text/plain": [
       "count     2446920\n",
       "unique       4855\n",
       "top           CAC\n",
       "freq          504\n",
       "Name: symbol, dtype: object"
      ]
     },
     "execution_count": 48,
     "metadata": {},
     "output_type": "execute_result"
    }
   ],
   "source": [
    "df.symbol.describe()"
   ]
  },
  {
   "cell_type": "code",
   "execution_count": null,
   "metadata": {},
   "outputs": [],
   "source": [
    "import h2o\n",
    "from h2o.estimators import H2OGeneralizedLowRankEstimator\n",
    "h2o.init()\n",
    "\n",
    "# Import the USArrests dataset into H2O:\n",
    "arrestsH2O = h2o.import_file(\"https://s3.amazonaws.com/h2o-public-test-data/smalldata/pca_test/USArrests.csv\")\n",
    "\n",
    "# Split the dataset into a train and valid set:\n",
    "train, valid = arrestsH2O.split_frame(ratios=[.8], seed=1234)\n",
    "\n",
    "# Build and train the model:\n",
    "glrm_model = H2OGeneralizedLowRankEstimator(k=4,\n",
    "                                            loss=\"Huber\",\n",
    "                                            # loss_by_col={'cat_var': 'Categorical'},\n",
    "                                            regularization_x=\"OneSparse\", # None (default), Quadratic, L2, L1, NonNegative, OneSparse, UnitOneSparse, Simplex.\n",
    "                                            regularization_y=\"OneSparse\",\n",
    "                                            gamma_x=0.5,\n",
    "                                            gamma_y=0.5,\n",
    "                                            max_iterations=1000,\n",
    "                                            recover_svd=True,\n",
    "                                            init=\"PlusPlus\",\n",
    "                                            transform=\"standardize\",\n",
    "                                           )\n",
    "glrm_model.train(training_frame=train)"
   ]
  },
  {
   "cell_type": "code",
   "execution_count": null,
   "metadata": {},
   "outputs": [],
   "source": [
    "### market clustering\n",
    "\n",
    "# %time df = read_market_daily(result_path)\n",
    "mdf = pd.read_parquet('data/mdf.parquet')\n",
    "\n",
    "%time npdf, sharpe_ratios = mc.normalize_market_df(mdf)\n",
    "\n",
    "# %time npdf_resid = colwise_linreg(npdf)\n",
    "npdf_resid = pd.read_parquet('data/npdf_resid.parquet')\n",
    "\n",
    "# %time par_cor_mat = npdf_resid.corr()\n",
    "resid_par_cor_mat = pd.read_parquet('data/partial_cor_mat.parquet')\n",
    "\n",
    "details_df = pd.read_parquet('data/details_df.parquet')\n",
    "\n",
    "# cluster_lables = cluster_sim_matrix(similarity=resid_par_cor_mat.abs())\n",
    "cluster_lables = pd.read_parquet('data/cluster_lables.parquet')\n",
    "\n",
    "# symbol_meta = join_symbol_data(details_df, cluster_lables, sharpe_ratios, mdf)\n",
    "symbol_meta = pd.read_parquet('data/symbol_meta.parquet')\n",
    "\n",
    "# cluster_coheasion = mc.get_cluster_coheasion(sim_df=resid_par_cor_mat.abs(), symbol_meta=symbol_meta, cluster_col='cluster_n200')"
   ]
  },
  {
   "cell_type": "code",
   "execution_count": null,
   "metadata": {},
   "outputs": [],
   "source": [
    "symbol_meta['liquidy_rank'] = symbol_meta.groupby('cluster_n200')['daily_avg_dollar_volume'].rank(method='first')\n",
    "\n",
    "symbol_meta = symbol_meta.sort_values(['cluster_n200', 'liquidy_rank']).reset_index()\n",
    "\n",
    "by_cluster = symbol_meta.groupby('cluster_n200')\n",
    "result = []\n",
    "for cluster, frame in by_cluster:\n",
    "    counts = dict(frame['sector'].value_counts())\n",
    "    counts.pop('', None)  # drop symbols w/o sector/industry info\n",
    "    result.append(counts)"
   ]
  },
  {
   "cell_type": "code",
   "execution_count": null,
   "metadata": {},
   "outputs": [],
   "source": [
    "cluster_sec = pd.DataFrame(result)    \n",
    "cluster_sec = cluster_sec.drop(columns=['Finance'])\n",
    "cluster_sec_pct = cluster_sec.apply(lambda x: 100 * x / float(x.sum()), axis=1)\n",
    "\n",
    "cluster_sec_pct.style.background_gradient(cmap='coolwarm', axis=0)\n",
    "\n",
    "# n += 1\n",
    "n = 61\n",
    "print(n)\n",
    "symbol_meta[symbol_meta.cluster_n200==n].sector.value_counts()\n",
    "\n",
    "sym_clust = symbol_meta[symbol_meta.cluster_n200==n]\n",
    "sym_clust"
   ]
  }
 ],
 "metadata": {
  "kernelspec": {
   "display_name": "Python 3",
   "language": "python",
   "name": "python3"
  },
  "language_info": {
   "codemirror_mode": {
    "name": "ipython",
    "version": 3
   },
   "file_extension": ".py",
   "mimetype": "text/x-python",
   "name": "python",
   "nbconvert_exporter": "python",
   "pygments_lexer": "ipython3",
   "version": "3.7.8"
  }
 },
 "nbformat": 4,
 "nbformat_minor": 4
}
