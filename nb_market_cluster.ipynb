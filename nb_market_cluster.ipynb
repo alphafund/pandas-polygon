{
 "cells": [
  {
   "cell_type": "code",
   "execution_count": null,
   "metadata": {},
   "outputs": [],
   "source": [
    "import ray\n",
    "ray.init()"
   ]
  },
  {
   "cell_type": "code",
   "execution_count": 1,
   "metadata": {
    "execution": {
     "iopub.execute_input": "2020-11-27T06:20:09.698723Z",
     "iopub.status.busy": "2020-11-27T06:20:09.698099Z",
     "iopub.status.idle": "2020-11-27T06:20:14.544441Z",
     "shell.execute_reply": "2020-11-27T06:20:14.533478Z",
     "shell.execute_reply.started": "2020-11-27T06:20:09.698526Z"
    }
   },
   "outputs": [],
   "source": [
    "%load_ext autoreload\n",
    "%autoreload 2\n",
    "\n",
    "import numpy as np\n",
    "import pandas as pd\n",
    "pd.set_option('float_format', '{:f}'.format)\n",
    "import pandas_bokeh\n",
    "import market_cluster as mc\n",
    "import polygon_ds as pds\n",
    "import polygon_s3 as ps3\n",
    "import flow_backfill as fbf\n",
    "import ray_symbol_details as rsd\n",
    "\n",
    "import matplotlib as mpl\n",
    "from matplotlib import style\n",
    "style.use('fivethirtyeight')\n",
    "mpl.rcParams['figure.figsize'] = [20, 7]"
   ]
  },
  {
   "cell_type": "code",
   "execution_count": null,
   "metadata": {},
   "outputs": [],
   "source": [
    "rsd.symbol_details_ray(symbols=['SPY', 'QQQ'])"
   ]
  },
  {
   "cell_type": "code",
   "execution_count": null,
   "metadata": {},
   "outputs": [],
   "source": [
    "# ps3.remove_symbol(symbol='market', tick_type='daily')"
   ]
  },
  {
   "cell_type": "code",
   "execution_count": null,
   "metadata": {
    "scrolled": true
   },
   "outputs": [],
   "source": [
    "# fbf.run_backfill(symbols=['market'], tick_type='daily', start_date='2016-01-01')"
   ]
  },
  {
   "cell_type": "code",
   "execution_count": 2,
   "metadata": {
    "execution": {
     "iopub.execute_input": "2020-11-27T06:20:21.357376Z",
     "iopub.status.busy": "2020-11-27T06:20:21.357034Z",
     "iopub.status.idle": "2020-11-27T06:20:21.451280Z",
     "shell.execute_reply": "2020-11-27T06:20:21.447727Z",
     "shell.execute_reply.started": "2020-11-27T06:20:21.357337Z"
    }
   },
   "outputs": [],
   "source": [
    "start_date = '2020-10-24'\n",
    "end_date = '2020-11-24'\n",
    "symbol = 'market'\n",
    "tick_type='daily'"
   ]
  },
  {
   "cell_type": "code",
   "execution_count": 3,
   "metadata": {
    "execution": {
     "iopub.execute_input": "2020-11-27T06:20:22.150613Z",
     "iopub.status.busy": "2020-11-27T06:20:22.150056Z",
     "iopub.status.idle": "2020-11-27T06:20:24.139091Z",
     "shell.execute_reply": "2020-11-27T06:20:24.136991Z",
     "shell.execute_reply.started": "2020-11-27T06:20:22.150557Z"
    }
   },
   "outputs": [
    {
     "name": "stdout",
     "output_type": "stream",
     "text": [
      "198934\n",
      "-0.08509354861411322\n",
      "-0.31489840851739775\n",
      "-0.351171745402998\n"
     ]
    }
   ],
   "source": [
    "df = mc.market_cluster_workflow(start_date, end_date)"
   ]
  },
  {
   "cell_type": "code",
   "execution_count": null,
   "metadata": {},
   "outputs": [],
   "source": [
    "df = mc.add_returns(df)"
   ]
  },
  {
   "cell_type": "code",
   "execution_count": null,
   "metadata": {},
   "outputs": [],
   "source": [
    "import corex_gaussianize as g"
   ]
  },
  {
   "cell_type": "code",
   "execution_count": null,
   "metadata": {},
   "outputs": [],
   "source": [
    "norm = g.Gaussianize()"
   ]
  },
  {
   "cell_type": "code",
   "execution_count": null,
   "metadata": {},
   "outputs": [],
   "source": [
    "gld = df[df.symbol=='GLD']"
   ]
  },
  {
   "cell_type": "code",
   "execution_count": null,
   "metadata": {},
   "outputs": [],
   "source": [
    "norm.fit(df[df.symbol=='GLD'].close)"
   ]
  },
  {
   "cell_type": "code",
   "execution_count": null,
   "metadata": {},
   "outputs": [],
   "source": [
    "df.symbol.describe()"
   ]
  },
  {
   "cell_type": "code",
   "execution_count": null,
   "metadata": {},
   "outputs": [],
   "source": [
    "import h2o\n",
    "from h2o.estimators import H2OGeneralizedLowRankEstimator\n",
    "h2o.init()\n",
    "\n",
    "# Import the USArrests dataset into H2O:\n",
    "arrestsH2O = h2o.import_file(\"https://s3.amazonaws.com/h2o-public-test-data/smalldata/pca_test/USArrests.csv\")\n",
    "\n",
    "# Split the dataset into a train and valid set:\n",
    "train, valid = arrestsH2O.split_frame(ratios=[.8], seed=1234)\n",
    "\n",
    "# Build and train the model:\n",
    "glrm_model = H2OGeneralizedLowRankEstimator(k=4,\n",
    "                                            loss=\"Huber\",\n",
    "                                            # loss_by_col={'cat_var': 'Categorical'},\n",
    "                                            regularization_x=\"OneSparse\", # None (default), Quadratic, L2, L1, NonNegative, OneSparse, UnitOneSparse, Simplex.\n",
    "                                            regularization_y=\"OneSparse\",\n",
    "                                            gamma_x=0.5,\n",
    "                                            gamma_y=0.5,\n",
    "                                            max_iterations=1000,\n",
    "                                            recover_svd=True,\n",
    "                                            init=\"PlusPlus\",\n",
    "                                            transform=\"standardize\",\n",
    "                                           )\n",
    "glrm_model.train(training_frame=train)"
   ]
  },
  {
   "cell_type": "code",
   "execution_count": null,
   "metadata": {},
   "outputs": [],
   "source": [
    "### market clustering\n",
    "\n",
    "# %time df = read_market_daily(result_path)\n",
    "mdf = pd.read_parquet('data/mdf.parquet')\n",
    "\n",
    "%time npdf, sharpe_ratios = mc.normalize_market_df(mdf)\n",
    "\n",
    "# %time npdf_resid = colwise_linreg(npdf)\n",
    "npdf_resid = pd.read_parquet('data/npdf_resid.parquet')\n",
    "\n",
    "# %time par_cor_mat = npdf_resid.corr()\n",
    "resid_par_cor_mat = pd.read_parquet('data/partial_cor_mat.parquet')\n",
    "\n",
    "details_df = pd.read_parquet('data/details_df.parquet')\n",
    "\n",
    "# cluster_lables = cluster_sim_matrix(similarity=resid_par_cor_mat.abs())\n",
    "cluster_lables = pd.read_parquet('data/cluster_lables.parquet')\n",
    "\n",
    "# symbol_meta = join_symbol_data(details_df, cluster_lables, sharpe_ratios, mdf)\n",
    "symbol_meta = pd.read_parquet('data/symbol_meta.parquet')\n",
    "\n",
    "# cluster_coheasion = mc.get_cluster_coheasion(sim_df=resid_par_cor_mat.abs(), symbol_meta=symbol_meta, cluster_col='cluster_n200')"
   ]
  },
  {
   "cell_type": "code",
   "execution_count": null,
   "metadata": {},
   "outputs": [],
   "source": [
    "symbol_meta['liquidy_rank'] = symbol_meta.groupby('cluster_n200')['daily_avg_dollar_volume'].rank(method='first')\n",
    "\n",
    "symbol_meta = symbol_meta.sort_values(['cluster_n200', 'liquidy_rank']).reset_index()\n",
    "\n",
    "by_cluster = symbol_meta.groupby('cluster_n200')\n",
    "result = []\n",
    "for cluster, frame in by_cluster:\n",
    "    counts = dict(frame['sector'].value_counts())\n",
    "    counts.pop('', None)  # drop symbols w/o sector/industry info\n",
    "    result.append(counts)"
   ]
  },
  {
   "cell_type": "code",
   "execution_count": null,
   "metadata": {},
   "outputs": [],
   "source": [
    "cluster_sec = pd.DataFrame(result)    \n",
    "cluster_sec = cluster_sec.drop(columns=['Finance'])\n",
    "cluster_sec_pct = cluster_sec.apply(lambda x: 100 * x / float(x.sum()), axis=1)\n",
    "\n",
    "cluster_sec_pct.style.background_gradient(cmap='coolwarm', axis=0)\n",
    "\n",
    "# n += 1\n",
    "n = 61\n",
    "print(n)\n",
    "symbol_meta[symbol_meta.cluster_n200==n].sector.value_counts()\n",
    "\n",
    "sym_clust = symbol_meta[symbol_meta.cluster_n200==n]\n",
    "sym_clust"
   ]
  }
 ],
 "metadata": {
  "kernelspec": {
   "display_name": "Python 3",
   "language": "python",
   "name": "python3"
  },
  "language_info": {
   "codemirror_mode": {
    "name": "ipython",
    "version": 3
   },
   "file_extension": ".py",
   "mimetype": "text/x-python",
   "name": "python",
   "nbconvert_exporter": "python",
   "pygments_lexer": "ipython3",
   "version": "3.7.8"
  }
 },
 "nbformat": 4,
 "nbformat_minor": 4
}
