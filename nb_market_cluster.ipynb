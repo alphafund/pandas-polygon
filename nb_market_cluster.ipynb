{
 "cells": [
  {
   "cell_type": "code",
   "execution_count": null,
   "metadata": {},
   "outputs": [],
   "source": [
    "import ray\n",
    "ray.init()\n",
    "# ray.shutdown()"
   ]
  },
  {
   "cell_type": "code",
   "execution_count": 58,
   "metadata": {
    "execution": {
     "iopub.execute_input": "2020-12-04T06:54:23.065019Z",
     "iopub.status.busy": "2020-12-04T06:54:23.064336Z",
     "iopub.status.idle": "2020-12-04T06:54:23.227453Z",
     "shell.execute_reply": "2020-12-04T06:54:23.225760Z",
     "shell.execute_reply.started": "2020-12-04T06:54:23.064951Z"
    }
   },
   "outputs": [
    {
     "name": "stdout",
     "output_type": "stream",
     "text": [
      "The autoreload extension is already loaded. To reload it, use:\n",
      "  %reload_ext autoreload\n"
     ]
    }
   ],
   "source": [
    "%load_ext autoreload\n",
    "%autoreload 2\n",
    "\n",
    "import numpy as np\n",
    "import pandas as pd\n",
    "pd.set_option('float_format', '{:f}'.format)\n",
    "\n",
    "import pandas_bokeh\n",
    "import matplotlib as mpl\n",
    "import matplotlib.pyplot as plt\n",
    "from matplotlib import style\n",
    "style.use('fivethirtyeight')\n",
    "mpl.rcParams['figure.figsize'] = [20, 7]\n",
    "\n",
    "import polygon_ds as pds\n",
    "import polygon_df as pdf\n",
    "import polygon_s3 as ps3\n",
    "import ray_symbol_details as rsd\n",
    "import market_preprocess as mp\n",
    "import market_cov as mcov\n",
    "import market_cluster as mc\n",
    "import utils_pickle as up\n",
    "# import ipdb\n",
    "# ipdb.set_trace(context=10)"
   ]
  },
  {
   "cell_type": "code",
   "execution_count": 61,
   "metadata": {
    "execution": {
     "iopub.execute_input": "2020-12-04T06:57:16.342991Z",
     "iopub.status.busy": "2020-12-04T06:57:16.342520Z",
     "iopub.status.idle": "2020-12-04T06:57:16.543557Z",
     "shell.execute_reply": "2020-12-04T06:57:16.535665Z",
     "shell.execute_reply.started": "2020-12-04T06:57:16.342948Z"
    }
   },
   "outputs": [],
   "source": [
    "start_date = '2018-10-24'\n",
    "end_date = '2020-11-24'\n",
    "symbol = 'market'\n",
    "tick_type='daily'"
   ]
  },
  {
   "cell_type": "code",
   "execution_count": 62,
   "metadata": {
    "execution": {
     "iopub.execute_input": "2020-12-04T06:57:16.784250Z",
     "iopub.status.busy": "2020-12-04T06:57:16.781838Z",
     "iopub.status.idle": "2020-12-04T06:58:02.676339Z",
     "shell.execute_reply": "2020-12-04T06:58:02.675215Z",
     "shell.execute_reply.started": "2020-12-04T06:57:16.784199Z"
    }
   },
   "outputs": [
    {
     "name": "stdout",
     "output_type": "stream",
     "text": [
      "4502494 Initial rows 11509 symbols\n",
      "-1460110 all dates filter 5784 symbols\n",
      "-383980 liquidity filter 5054 symbols\n",
      "-125188 volitility filter 4816 symbols\n",
      "-24196 min $value filter 4770 symbols\n",
      "-706944 symbol details filter 3426 symbols\n",
      "1802076 Final rows 40.0 % remaining\n"
     ]
    },
    {
     "name": "stderr",
     "output_type": "stream",
     "text": [
      "100%|██████████| 3426/3426 [00:24<00:00, 138.00it/s]\n"
     ]
    }
   ],
   "source": [
    "r = mp.prepare_data(start_date, end_date, beta_symbol='VTI')"
   ]
  },
  {
   "cell_type": "code",
   "execution_count": 63,
   "metadata": {
    "execution": {
     "iopub.execute_input": "2020-12-04T06:58:02.680946Z",
     "iopub.status.busy": "2020-12-04T06:58:02.680032Z",
     "iopub.status.idle": "2020-12-04T06:58:02.831182Z",
     "shell.execute_reply": "2020-12-04T06:58:02.829556Z",
     "shell.execute_reply.started": "2020-12-04T06:58:02.680805Z"
    }
   },
   "outputs": [
    {
     "data": {
      "text/plain": [
       "dict_keys(['df', 'sym_meta', 'close', 'returns', 'log_returns', 'zs_log_returns', 'g_zs_log_returns', 'g_zs_log_returns_resid'])"
      ]
     },
     "execution_count": 63,
     "metadata": {},
     "output_type": "execute_result"
    }
   ],
   "source": [
    "r.keys()"
   ]
  },
  {
   "cell_type": "code",
   "execution_count": 69,
   "metadata": {
    "execution": {
     "iopub.execute_input": "2020-12-04T07:02:07.409376Z",
     "iopub.status.busy": "2020-12-04T07:02:07.408841Z",
     "iopub.status.idle": "2020-12-04T07:02:30.734867Z",
     "shell.execute_reply": "2020-12-04T07:02:30.733598Z",
     "shell.execute_reply.started": "2020-12-04T07:02:07.409315Z"
    }
   },
   "outputs": [],
   "source": [
    "dist_mat = mcov.cov_denoise_detone_dist(r['g_zs_log_returns_resid'], detone=False)"
   ]
  },
  {
   "cell_type": "code",
   "execution_count": 24,
   "metadata": {
    "execution": {
     "iopub.execute_input": "2020-12-04T05:44:59.166466Z",
     "iopub.status.busy": "2020-12-04T05:44:59.165937Z",
     "iopub.status.idle": "2020-12-04T05:45:09.350960Z",
     "shell.execute_reply": "2020-12-04T05:45:09.349598Z",
     "shell.execute_reply.started": "2020-12-04T05:44:59.166408Z"
    }
   },
   "outputs": [
    {
     "data": {
      "text/plain": [
       "{'ari': 0.1504595975132633, 'ami': 0.25454594601518826}"
      ]
     },
     "execution_count": 24,
     "metadata": {},
     "output_type": "execute_result"
    }
   ],
   "source": [
    "kmean_labels = mc.get_kmean_clusters(dist_mat, n_clusters=11)\n",
    "\n",
    "mc.evaluate_clustering(labels_true=r['sym_meta'].sector.values, labels_pred=kmean_labels)"
   ]
  },
  {
   "cell_type": "code",
   "execution_count": 25,
   "metadata": {
    "execution": {
     "iopub.execute_input": "2020-12-04T05:45:32.115021Z",
     "iopub.status.busy": "2020-12-04T05:45:32.113876Z",
     "iopub.status.idle": "2020-12-04T05:46:05.543683Z",
     "shell.execute_reply": "2020-12-04T05:46:05.542158Z",
     "shell.execute_reply.started": "2020-12-04T05:45:32.114957Z"
    }
   },
   "outputs": [
    {
     "data": {
      "text/plain": [
       "{'ari': 0.1566378887498753, 'ami': 0.2724050154916307}"
      ]
     },
     "execution_count": 25,
     "metadata": {},
     "output_type": "execute_result"
    }
   ],
   "source": [
    "kmean_labels = mc.get_hira_clusters(dist_mat, n_clusters=11)\n",
    "\n",
    "mc.evaluate_clustering(labels_true=r['sym_meta'].sector.values, labels_pred=kmean_labels)"
   ]
  },
  {
   "cell_type": "code",
   "execution_count": 8,
   "metadata": {
    "execution": {
     "iopub.execute_input": "2020-12-04T05:10:36.498141Z",
     "iopub.status.busy": "2020-12-04T05:10:36.497697Z",
     "iopub.status.idle": "2020-12-04T05:10:42.972337Z",
     "shell.execute_reply": "2020-12-04T05:10:42.968784Z",
     "shell.execute_reply.started": "2020-12-04T05:10:36.498110Z"
    }
   },
   "outputs": [
    {
     "data": {
      "text/plain": [
       "{'ari': 0.15414956514580322, 'ami': 0.3232448242377991}"
      ]
     },
     "execution_count": 8,
     "metadata": {},
     "output_type": "execute_result"
    }
   ],
   "source": [
    "kmean_labels = mc.get_hira_clusters(r['g_zs_log_returns_resid'].transpose(), n_clusters=11)\n",
    "\n",
    "mc.evaluate_clustering(labels_true=r['sym_meta'].sector.values, labels_pred=kmean_labels)"
   ]
  },
  {
   "cell_type": "code",
   "execution_count": 13,
   "metadata": {
    "execution": {
     "iopub.execute_input": "2020-12-04T05:30:50.750719Z",
     "iopub.status.busy": "2020-12-04T05:30:50.748956Z",
     "iopub.status.idle": "2020-12-04T05:30:53.177335Z",
     "shell.execute_reply": "2020-12-04T05:30:53.175934Z",
     "shell.execute_reply.started": "2020-12-04T05:30:50.750632Z"
    }
   },
   "outputs": [
    {
     "data": {
      "text/plain": [
       "{'ari': 0.19124218050351974, 'ami': 0.3409286306986541}"
      ]
     },
     "execution_count": 13,
     "metadata": {},
     "output_type": "execute_result"
    }
   ],
   "source": [
    "kmean_labels = mc.get_kmean_clusters(r['g_zs_log_returns_resid'].transpose(), n_clusters=11)\n",
    "\n",
    "mc.evaluate_clustering(labels_true=r['sym_meta'].sector.values, labels_pred=kmean_labels)"
   ]
  },
  {
   "cell_type": "code",
   "execution_count": null,
   "metadata": {
    "execution": {
     "iopub.execute_input": "2020-12-04T07:26:58.196290Z",
     "iopub.status.busy": "2020-12-04T07:26:58.195814Z"
    }
   },
   "outputs": [],
   "source": [
    "kmean_labels = mc.get_spectral_clusters(r['g_zs_log_returns_resid'].transpose(), n_clusters=11)\n",
    "\n",
    "mc.evaluate_clustering(labels_true=r['sym_meta'].sector.values, labels_pred=kmean_labels)"
   ]
  },
  {
   "cell_type": "code",
   "execution_count": null,
   "metadata": {},
   "outputs": [],
   "source": [
    "kmean_labels = mc.get_optics_clusters(dist_mat)\n",
    "\n",
    "mc.evaluate_clustering(labels_true=r['sym_meta'].sector.values, labels_pred=kmean_labels)"
   ]
  },
  {
   "cell_type": "code",
   "execution_count": null,
   "metadata": {},
   "outputs": [],
   "source": [
    "corex_labels = mc.get_corex_clusters(r['g_zs_log_returns_resid'], n_clusters=11)\n",
    "\n",
    "mc.evaluate_clustering(labels_true=r['sym_meta'].sector.values, labels_pred=corex_labels)"
   ]
  },
  {
   "cell_type": "code",
   "execution_count": null,
   "metadata": {},
   "outputs": [],
   "source": [
    "corex_labels = mc.get_corex_clusters(dist_mat, n_clusters=11)\n",
    "\n",
    "mc.evaluate_clustering(labels_true=r['sym_meta'].sector.values, labels_pred=corex_labels)"
   ]
  },
  {
   "cell_type": "code",
   "execution_count": null,
   "metadata": {},
   "outputs": [],
   "source": [
    "corex300 = up.pickle_load('data/corex300.pkl')\n",
    "\n",
    "# X = df.reset_index(drop=True)\n",
    "# corex, full_df = mc.corex_fit(X, n_hidden=200)\n",
    "\n",
    "# up.pickle_dump((corex, full_df), file_name='corex200.pkl')\n",
    "\n",
    "# gsutil copy /Users/bobcolner/QuantClarity/pandas-polygon/corex200.pkl gs://emerald-skill-datascience/"
   ]
  },
  {
   "cell_type": "code",
   "execution_count": null,
   "metadata": {},
   "outputs": [],
   "source": [
    "import h2o\n",
    "from h2o.estimators import H2OGeneralizedLowRankEstimator\n",
    "h2o.init()\n",
    "\n",
    "# Import the USArrests dataset into H2O:\n",
    "arrestsH2O = h2o.import_file(\"https://s3.amazonaws.com/h2o-public-test-data/smalldata/pca_test/USArrests.csv\")\n",
    "\n",
    "# Split the dataset into a train and valid set:\n",
    "train, valid = arrestsH2O.split_frame(ratios=[.8], seed=1234)\n",
    "\n",
    "# Build and train the model:\n",
    "glrm_model = H2OGeneralizedLowRankEstimator(\n",
    "    k=4,\n",
    "    loss=\"Huber\",\n",
    "    loss_by_col={'cat_var': 'Categorical'},\n",
    "    regularization_x=\"OneSparse\", # None (default), Quadratic, L2, L1, NonNegative, OneSparse, UnitOneSparse, Simplex.\n",
    "    regularization_y=\"OneSparse\",\n",
    "    gamma_x=0.5,\n",
    "    gamma_y=0.5,\n",
    "    max_iterations=1000,\n",
    "    recover_svd=True,\n",
    "    init=\"PlusPlus\",\n",
    "    transform=\"standardize\",\n",
    "   )\n",
    "glrm_model.train(training_frame=train)"
   ]
  },
  {
   "cell_type": "code",
   "execution_count": null,
   "metadata": {},
   "outputs": [],
   "source": [
    "### market clustering\n",
    "\n",
    "# %time df = read_market_daily(result_path)\n",
    "mdf = pd.read_parquet('data/old/mdf.parquet')\n",
    "\n",
    "%time npdf, sharpe_ratios = mc.normalize_market_df(mdf)\n",
    "\n",
    "# %time npdf_resid = colwise_linreg(npdf)\n",
    "npdf_resid = pd.read_parquet('data/old/npdf_resid.parquet')\n",
    "\n",
    "# %time par_cor_mat = npdf_resid.corr()\n",
    "resid_par_cor_mat = pd.read_parquet('data/old/partial_cor_mat.parquet')\n",
    "\n",
    "details_df = pd.read_parquet('data/old/details_df.parquet')\n",
    "\n",
    "# cluster_lables = cluster_sim_matrix(similarity=resid_par_cor_mat.abs())\n",
    "cluster_lables = pd.read_parquet('data/old/cluster_lables.parquet')\n",
    "\n",
    "# symbol_meta = join_symbol_data(details_df, cluster_lables, sharpe_ratios, mdf)\n",
    "symbol_meta = pd.read_parquet('data/old/symbol_meta.parquet')\n",
    "\n",
    "# cluster_coheasion = mc.get_cluster_coheasion(sim_df=resid_par_cor_mat.abs(), symbol_meta=symbol_meta, cluster_col='cluster_n200')"
   ]
  },
  {
   "cell_type": "code",
   "execution_count": null,
   "metadata": {},
   "outputs": [],
   "source": [
    "symbol_meta['liquidy_rank'] = symbol_meta.groupby('cluster_n200')['daily_avg_dollar_volume'].rank(method='first')\n",
    "\n",
    "symbol_meta = symbol_meta.sort_values(['cluster_n200', 'liquidy_rank']).reset_index()\n",
    "\n",
    "by_cluster = symbol_meta.groupby('cluster_n200')\n",
    "result = []\n",
    "for cluster, frame in by_cluster:\n",
    "    counts = dict(frame['sector'].value_counts())\n",
    "    counts.pop('', None)  # drop symbols w/o sector/industry info\n",
    "    result.append(counts)"
   ]
  },
  {
   "cell_type": "code",
   "execution_count": null,
   "metadata": {},
   "outputs": [],
   "source": [
    "cluster_sec = pd.DataFrame(result)    \n",
    "cluster_sec = cluster_sec.drop(columns=['Finance'])\n",
    "cluster_sec_pct = cluster_sec.apply(lambda x: 100 * x / float(x.sum()), axis=1)\n",
    "\n",
    "cluster_sec_pct.style.background_gradient(cmap='coolwarm', axis=0)\n",
    "\n",
    "# n += 1\n",
    "n = 61\n",
    "print(n)\n",
    "symbol_meta[symbol_meta.cluster_n200 == n].sector.value_counts()\n",
    "\n",
    "sym_clust = symbol_meta[symbol_meta.cluster_n200 == n]\n",
    "sym_clust"
   ]
  }
 ],
 "metadata": {
  "kernelspec": {
   "display_name": "Python 3",
   "language": "python",
   "name": "python3"
  },
  "language_info": {
   "codemirror_mode": {
    "name": "ipython",
    "version": 3
   },
   "file_extension": ".py",
   "mimetype": "text/x-python",
   "name": "python",
   "nbconvert_exporter": "python",
   "pygments_lexer": "ipython3",
   "version": "3.7.8"
  }
 },
 "nbformat": 4,
 "nbformat_minor": 4
}
