{
 "cells": [
  {
   "cell_type": "code",
   "execution_count": null,
   "metadata": {},
   "outputs": [],
   "source": [
    "import ray\n",
    "ray.init()\n",
    "# ray.shutdown()"
   ]
  },
  {
   "cell_type": "code",
   "execution_count": 58,
   "metadata": {
    "execution": {
     "iopub.execute_input": "2020-12-04T06:54:23.065019Z",
     "iopub.status.busy": "2020-12-04T06:54:23.064336Z",
     "iopub.status.idle": "2020-12-04T06:54:23.227453Z",
     "shell.execute_reply": "2020-12-04T06:54:23.225760Z",
     "shell.execute_reply.started": "2020-12-04T06:54:23.064951Z"
    }
   },
   "outputs": [
    {
     "name": "stdout",
     "output_type": "stream",
     "text": [
      "The autoreload extension is already loaded. To reload it, use:\n",
      "  %reload_ext autoreload\n"
     ]
    }
   ],
   "source": [
    "%load_ext autoreload\n",
    "%autoreload 2\n",
    "\n",
    "import numpy as np\n",
    "import pandas as pd\n",
    "pd.set_option('float_format', '{:f}'.format)\n",
    "\n",
    "import pandas_bokeh\n",
    "import matplotlib as mpl\n",
    "import matplotlib.pyplot as plt\n",
    "from matplotlib import style\n",
    "style.use('fivethirtyeight')\n",
    "mpl.rcParams['figure.figsize'] = [20, 7]\n",
    "\n",
    "import polygon_ds as pds\n",
    "import polygon_df as pdf\n",
    "import polygon_s3 as ps3\n",
    "import ray_symbol_details as rsd\n",
    "import market_preprocess as mp\n",
    "import market_cov as mcov\n",
    "import market_cluster as mc\n",
    "import utils_pickle as up\n",
    "# import ipdb\n",
    "# ipdb.set_trace(context=10)"
   ]
  },
  {
   "cell_type": "code",
   "execution_count": 61,
   "metadata": {
    "execution": {
     "iopub.execute_input": "2020-12-04T06:57:16.342991Z",
     "iopub.status.busy": "2020-12-04T06:57:16.342520Z",
     "iopub.status.idle": "2020-12-04T06:57:16.543557Z",
     "shell.execute_reply": "2020-12-04T06:57:16.535665Z",
     "shell.execute_reply.started": "2020-12-04T06:57:16.342948Z"
    }
   },
   "outputs": [],
   "source": [
    "start_date = '2018-10-24'\n",
    "end_date = '2020-11-24'\n",
    "symbol = 'market'\n",
    "tick_type='daily'"
   ]
  },
  {
   "cell_type": "code",
   "execution_count": 62,
   "metadata": {
    "execution": {
     "iopub.execute_input": "2020-12-04T06:57:16.784250Z",
     "iopub.status.busy": "2020-12-04T06:57:16.781838Z",
     "iopub.status.idle": "2020-12-04T06:58:02.676339Z",
     "shell.execute_reply": "2020-12-04T06:58:02.675215Z",
     "shell.execute_reply.started": "2020-12-04T06:57:16.784199Z"
    }
   },
   "outputs": [
    {
     "name": "stdout",
     "output_type": "stream",
     "text": [
      "4502494 Initial rows 11509 symbols\n",
      "-1460110 all dates filter 5784 symbols\n",
      "-383980 liquidity filter 5054 symbols\n",
      "-125188 volitility filter 4816 symbols\n",
      "-24196 min $value filter 4770 symbols\n",
      "-706944 symbol details filter 3426 symbols\n",
      "1802076 Final rows 40.0 % remaining\n"
     ]
    },
    {
     "name": "stderr",
     "output_type": "stream",
     "text": [
      "100%|██████████| 3426/3426 [00:24<00:00, 138.00it/s]\n"
     ]
    }
   ],
   "source": [
    "r = mp.prepare_data(start_date, end_date, beta_symbol='VTI')"
   ]
  },
  {
   "cell_type": "code",
   "execution_count": 129,
   "metadata": {
    "execution": {
     "iopub.execute_input": "2020-12-04T20:26:51.032685Z",
     "iopub.status.busy": "2020-12-04T20:26:51.032201Z",
     "iopub.status.idle": "2020-12-04T20:26:51.151110Z",
     "shell.execute_reply": "2020-12-04T20:26:51.149553Z",
     "shell.execute_reply.started": "2020-12-04T20:26:51.032649Z"
    }
   },
   "outputs": [],
   "source": [
    "X = r['g_zs_log_returns_resid'].transpose()\n",
    "gt_industry = r['sym_meta'].industry.values\n",
    "gt_sector = r['sym_meta'].sector.values"
   ]
  },
  {
   "cell_type": "code",
   "execution_count": 147,
   "metadata": {
    "execution": {
     "iopub.execute_input": "2020-12-04T20:33:27.221353Z",
     "iopub.status.busy": "2020-12-04T20:33:27.220900Z",
     "iopub.status.idle": "2020-12-04T20:33:46.511529Z",
     "shell.execute_reply": "2020-12-04T20:33:46.510502Z",
     "shell.execute_reply.started": "2020-12-04T20:33:27.221311Z"
    }
   },
   "outputs": [],
   "source": [
    "dist_mat = mcov.cov_denoise_detone_dist(r['g_zs_log_returns_resid'], detone=False)"
   ]
  },
  {
   "cell_type": "code",
   "execution_count": null,
   "metadata": {
    "execution": {
     "iopub.execute_input": "2020-12-04T20:47:29.215750Z",
     "iopub.status.busy": "2020-12-04T20:47:29.215280Z"
    }
   },
   "outputs": [
    {
     "name": "stdout",
     "output_type": "stream",
     "text": [
      "Linear CorEx with 69 latent factors\n"
     ]
    }
   ],
   "source": [
    "out = mc.get_cluster_evaluation(mc.get_corex_clusters, 69, X.transpose(), gt_industry)\n",
    "out"
   ]
  },
  {
   "cell_type": "code",
   "execution_count": null,
   "metadata": {},
   "outputs": [],
   "source": [
    "corex300 = up.pickle_load('data/corex300.pkl')\n",
    "\n",
    "# X = df.reset_index(drop=True)\n",
    "# corex, full_df = mc.corex_fit(X, n_hidden=200)\n",
    "\n",
    "# up.pickle_dump((corex, full_df), file_name='corex200.pkl')\n",
    "\n",
    "# gsutil copy /Users/bobcolner/QuantClarity/pandas-polygon/corex200.pkl gs://emerald-skill-datascience/"
   ]
  },
  {
   "cell_type": "code",
   "execution_count": null,
   "metadata": {},
   "outputs": [],
   "source": [
    "import h2o\n",
    "from h2o.estimators import H2OGeneralizedLowRankEstimator\n",
    "h2o.init()\n",
    "\n",
    "# Import the USArrests dataset into H2O:\n",
    "arrestsH2O = h2o.import_file(\"https://s3.amazonaws.com/h2o-public-test-data/smalldata/pca_test/USArrests.csv\")\n",
    "\n",
    "# Split the dataset into a train and valid set:\n",
    "train, valid = arrestsH2O.split_frame(ratios=[.8], seed=1234)\n",
    "\n",
    "# Build and train the model:\n",
    "glrm_model = H2OGeneralizedLowRankEstimator(\n",
    "    k=4,\n",
    "    loss=\"Huber\",\n",
    "    loss_by_col={'cat_var': 'Categorical'},\n",
    "    regularization_x=\"OneSparse\", # None (default), Quadratic, L2, L1, NonNegative, OneSparse, UnitOneSparse, Simplex.\n",
    "    regularization_y=\"OneSparse\",\n",
    "    gamma_x=0.5,\n",
    "    gamma_y=0.5,\n",
    "    max_iterations=1000,\n",
    "    recover_svd=True,\n",
    "    init=\"PlusPlus\",\n",
    "    transform=\"standardize\",\n",
    "   )\n",
    "glrm_model.train(training_frame=train)"
   ]
  }
 ],
 "metadata": {
  "kernelspec": {
   "display_name": "Python 3",
   "language": "python",
   "name": "python3"
  },
  "language_info": {
   "codemirror_mode": {
    "name": "ipython",
    "version": 3
   },
   "file_extension": ".py",
   "mimetype": "text/x-python",
   "name": "python",
   "nbconvert_exporter": "python",
   "pygments_lexer": "ipython3",
   "version": "3.7.8"
  }
 },
 "nbformat": 4,
 "nbformat_minor": 4
}
