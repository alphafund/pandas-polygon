{
 "cells": [
  {
   "cell_type": "code",
   "execution_count": null,
   "metadata": {},
   "outputs": [],
   "source": [
    "import ray\n",
    "ray.init()"
   ]
  },
  {
   "cell_type": "code",
   "execution_count": 1,
   "metadata": {
    "execution": {
     "iopub.execute_input": "2020-11-28T07:04:30.704526Z",
     "iopub.status.busy": "2020-11-28T07:04:30.703954Z",
     "iopub.status.idle": "2020-11-28T07:04:35.266849Z",
     "shell.execute_reply": "2020-11-28T07:04:35.263911Z",
     "shell.execute_reply.started": "2020-11-28T07:04:30.704443Z"
    }
   },
   "outputs": [
    {
     "name": "stdout",
     "output_type": "stream",
     "text": [
      "Install CUDA and cudamat (for python) to enable GPU speedups.\n"
     ]
    }
   ],
   "source": [
    "%load_ext autoreload\n",
    "%autoreload 2\n",
    "\n",
    "import numpy as np\n",
    "import pandas as pd\n",
    "pd.set_option('float_format', '{:f}'.format)\n",
    "import pandas_bokeh\n",
    "import market_cluster as mc\n",
    "import polygon_ds as pds\n",
    "import polygon_s3 as ps3\n",
    "import flow_backfill as fbf\n",
    "import ray_symbol_details as rsd\n",
    "\n",
    "import matplotlib as mpl\n",
    "from matplotlib import style\n",
    "style.use('fivethirtyeight')\n",
    "mpl.rcParams['figure.figsize'] = [20, 7]"
   ]
  },
  {
   "cell_type": "code",
   "execution_count": null,
   "metadata": {},
   "outputs": [],
   "source": [
    "# rsd.symbol_details_ray(symbols=['SPY', 'QQQ'])"
   ]
  },
  {
   "cell_type": "code",
   "execution_count": null,
   "metadata": {},
   "outputs": [],
   "source": [
    "# ps3.remove_symbol(symbol='market', tick_type='daily')"
   ]
  },
  {
   "cell_type": "code",
   "execution_count": null,
   "metadata": {
    "scrolled": true
   },
   "outputs": [],
   "source": [
    "# fbf.run_backfill(symbols=['market'], tick_type='daily', start_date='2016-01-01')"
   ]
  },
  {
   "cell_type": "code",
   "execution_count": 2,
   "metadata": {
    "execution": {
     "iopub.execute_input": "2020-11-28T07:04:35.271459Z",
     "iopub.status.busy": "2020-11-28T07:04:35.270764Z",
     "iopub.status.idle": "2020-11-28T07:04:35.377254Z",
     "shell.execute_reply": "2020-11-28T07:04:35.375404Z",
     "shell.execute_reply.started": "2020-11-28T07:04:35.271405Z"
    }
   },
   "outputs": [],
   "source": [
    "start_date = '2018-10-24'\n",
    "end_date = '2020-11-24'\n",
    "symbol = 'market'\n",
    "tick_type='daily'"
   ]
  },
  {
   "cell_type": "code",
   "execution_count": 5,
   "metadata": {
    "execution": {
     "iopub.execute_input": "2020-11-28T07:10:57.429736Z",
     "iopub.status.busy": "2020-11-28T07:10:57.429088Z",
     "iopub.status.idle": "2020-11-28T07:11:10.858225Z",
     "shell.execute_reply": "2020-11-28T07:11:10.857229Z",
     "shell.execute_reply.started": "2020-11-28T07:10:57.429687Z"
    }
   },
   "outputs": [
    {
     "name": "stdout",
     "output_type": "stream",
     "text": [
      "4502494\n",
      "-0.32428916062964214\n",
      "-0.40957078454740864\n",
      "-0.4373749304274475\n"
     ]
    }
   ],
   "source": [
    "df = mc.market_cluster_workflow(start_date, end_date)"
   ]
  },
  {
   "cell_type": "code",
   "execution_count": null,
   "metadata": {
    "execution": {
     "iopub.execute_input": "2020-11-28T07:11:15.208608Z",
     "iopub.status.busy": "2020-11-28T07:11:15.208170Z"
    }
   },
   "outputs": [
    {
     "name": "stdout",
     "output_type": "stream",
     "text": [
      "Linear CorEx with 4000 latent factors\n"
     ]
    }
   ],
   "source": [
    "corex4000, full_df = mc.corex_fit(df, n_hidden=4000)"
   ]
  },
  {
   "cell_type": "code",
   "execution_count": 91,
   "metadata": {
    "execution": {
     "iopub.execute_input": "2020-11-27T17:43:58.088677Z",
     "iopub.status.busy": "2020-11-27T17:43:58.088246Z",
     "iopub.status.idle": "2020-11-27T17:43:58.379303Z",
     "shell.execute_reply": "2020-11-27T17:43:58.377681Z",
     "shell.execute_reply.started": "2020-11-27T17:43:58.088637Z"
    }
   },
   "outputs": [
    {
     "data": {
      "text/plain": [
       "0.0012913812326018105"
      ]
     },
     "execution_count": 91,
     "metadata": {},
     "output_type": "execute_result"
    }
   ],
   "source": [
    "pd.DataFrame(corex.transform(X)).corr().median().median()"
   ]
  },
  {
   "cell_type": "code",
   "execution_count": 63,
   "metadata": {
    "execution": {
     "iopub.execute_input": "2020-11-27T08:48:42.940390Z",
     "iopub.status.busy": "2020-11-27T08:48:42.938845Z",
     "iopub.status.idle": "2020-11-27T08:48:43.001531Z",
     "shell.execute_reply": "2020-11-27T08:48:43.000791Z",
     "shell.execute_reply.started": "2020-11-27T08:48:42.940336Z"
    }
   },
   "outputs": [
    {
     "data": {
      "text/plain": [
       "count   100.000000\n",
       "mean      4.116702\n",
       "std      19.546955\n",
       "min       0.187553\n",
       "25%       0.291637\n",
       "50%       0.385027\n",
       "75%       0.867807\n",
       "90%       7.186859\n",
       "99%     110.293967\n",
       "99.9%   157.723368\n",
       "max     162.993301\n",
       "dtype: float64"
      ]
     },
     "execution_count": 63,
     "metadata": {},
     "output_type": "execute_result"
    }
   ],
   "source": [
    "pd.Series(corex.tcs).describe(percentiles=[.25,.75,.9,.99,.999])"
   ]
  },
  {
   "cell_type": "code",
   "execution_count": 96,
   "metadata": {
    "execution": {
     "iopub.execute_input": "2020-11-27T20:14:27.159168Z",
     "iopub.status.busy": "2020-11-27T20:14:27.158730Z",
     "iopub.status.idle": "2020-11-27T20:14:27.333139Z",
     "shell.execute_reply": "2020-11-27T20:14:27.329927Z",
     "shell.execute_reply.started": "2020-11-27T20:14:27.159128Z"
    }
   },
   "outputs": [
    {
     "data": {
      "text/plain": [
       "0    0.351952\n",
       "1    0.284141\n",
       "2    0.025706\n",
       "3    0.023657\n",
       "4    0.023423\n",
       "5    0.020460\n",
       "6    0.019697\n",
       "7    0.016781\n",
       "8    0.016319\n",
       "9    0.011220\n",
       "10   0.009874\n",
       "11   0.008349\n",
       "12   0.008241\n",
       "13   0.006850\n",
       "14   0.006709\n",
       "15   0.006524\n",
       "16   0.005566\n",
       "17   0.004925\n",
       "18   0.004876\n",
       "19   0.004551\n",
       "dtype: float32"
      ]
     },
     "execution_count": 96,
     "metadata": {},
     "output_type": "execute_result"
    }
   ],
   "source": [
    "(pd.Series(corex.tcs)/sum(corex.tcs))[0:20]"
   ]
  },
  {
   "cell_type": "code",
   "execution_count": 137,
   "metadata": {
    "execution": {
     "iopub.execute_input": "2020-11-27T20:38:46.047856Z",
     "iopub.status.busy": "2020-11-27T20:38:46.047315Z",
     "iopub.status.idle": "2020-11-27T20:38:46.200266Z",
     "shell.execute_reply": "2020-11-27T20:38:46.194541Z",
     "shell.execute_reply.started": "2020-11-27T20:38:46.047816Z"
    }
   },
   "outputs": [
    {
     "data": {
      "text/plain": [
       "4816"
      ]
     },
     "execution_count": 137,
     "metadata": {},
     "output_type": "execute_result"
    }
   ],
   "source": [
    "len(X.columns)"
   ]
  },
  {
   "cell_type": "code",
   "execution_count": 165,
   "metadata": {
    "execution": {
     "iopub.execute_input": "2020-11-28T06:17:52.559474Z",
     "iopub.status.busy": "2020-11-28T06:17:52.559008Z",
     "iopub.status.idle": "2020-11-28T06:17:52.748811Z",
     "shell.execute_reply": "2020-11-28T06:17:52.747813Z",
     "shell.execute_reply.started": "2020-11-28T06:17:52.559430Z"
    }
   },
   "outputs": [],
   "source": [
    "sym_clust = pd.DataFrame(list(zip(X.columns, corex.clusters()))).rename(columns={0: 'symbol', 1: 'cluster'})\n",
    "\n",
    "full_df = pd.merge(sym_clust, pd.Series(data=corex.tcs, name='tcs'), left_on='cluster', right_index=True)"
   ]
  },
  {
   "cell_type": "code",
   "execution_count": 210,
   "metadata": {
    "execution": {
     "iopub.execute_input": "2020-11-28T06:37:57.199028Z",
     "iopub.status.busy": "2020-11-28T06:37:57.198179Z",
     "iopub.status.idle": "2020-11-28T06:37:57.356869Z",
     "shell.execute_reply": "2020-11-28T06:37:57.353930Z",
     "shell.execute_reply.started": "2020-11-28T06:37:57.198986Z"
    }
   },
   "outputs": [
    {
     "data": {
      "text/html": [
       "<div>\n",
       "<style scoped>\n",
       "    .dataframe tbody tr th:only-of-type {\n",
       "        vertical-align: middle;\n",
       "    }\n",
       "\n",
       "    .dataframe tbody tr th {\n",
       "        vertical-align: top;\n",
       "    }\n",
       "\n",
       "    .dataframe thead th {\n",
       "        text-align: right;\n",
       "    }\n",
       "</style>\n",
       "<table border=\"1\" class=\"dataframe\">\n",
       "  <thead>\n",
       "    <tr style=\"text-align: right;\">\n",
       "      <th></th>\n",
       "      <th>symbol</th>\n",
       "      <th>cluster</th>\n",
       "      <th>tcs</th>\n",
       "    </tr>\n",
       "  </thead>\n",
       "  <tbody>\n",
       "    <tr>\n",
       "      <th>4016</th>\n",
       "      <td>SPY</td>\n",
       "      <td>6</td>\n",
       "      <td>52.581718</td>\n",
       "    </tr>\n",
       "  </tbody>\n",
       "</table>\n",
       "</div>"
      ],
      "text/plain": [
       "     symbol  cluster       tcs\n",
       "4016    SPY        6 52.581718"
      ]
     },
     "execution_count": 210,
     "metadata": {},
     "output_type": "execute_result"
    }
   ],
   "source": [
    "full_df[full_df.symbol=='SPY']"
   ]
  },
  {
   "cell_type": "code",
   "execution_count": 211,
   "metadata": {
    "execution": {
     "iopub.execute_input": "2020-11-28T06:38:12.175200Z",
     "iopub.status.busy": "2020-11-28T06:38:12.174709Z",
     "iopub.status.idle": "2020-11-28T06:38:12.291118Z",
     "shell.execute_reply": "2020-11-28T06:38:12.289138Z",
     "shell.execute_reply.started": "2020-11-28T06:38:12.175165Z"
    }
   },
   "outputs": [
    {
     "data": {
      "text/html": [
       "<div>\n",
       "<style scoped>\n",
       "    .dataframe tbody tr th:only-of-type {\n",
       "        vertical-align: middle;\n",
       "    }\n",
       "\n",
       "    .dataframe tbody tr th {\n",
       "        vertical-align: top;\n",
       "    }\n",
       "\n",
       "    .dataframe thead th {\n",
       "        text-align: right;\n",
       "    }\n",
       "</style>\n",
       "<table border=\"1\" class=\"dataframe\">\n",
       "  <thead>\n",
       "    <tr style=\"text-align: right;\">\n",
       "      <th></th>\n",
       "      <th>symbol</th>\n",
       "      <th>cluster</th>\n",
       "      <th>tcs</th>\n",
       "    </tr>\n",
       "  </thead>\n",
       "  <tbody>\n",
       "    <tr>\n",
       "      <th>55</th>\n",
       "      <td>ACWF</td>\n",
       "      <td>6</td>\n",
       "      <td>52.581718</td>\n",
       "    </tr>\n",
       "    <tr>\n",
       "      <th>56</th>\n",
       "      <td>ACWI</td>\n",
       "      <td>6</td>\n",
       "      <td>52.581718</td>\n",
       "    </tr>\n",
       "    <tr>\n",
       "      <th>60</th>\n",
       "      <td>ADBE</td>\n",
       "      <td>6</td>\n",
       "      <td>52.581718</td>\n",
       "    </tr>\n",
       "    <tr>\n",
       "      <th>215</th>\n",
       "      <td>AMZN</td>\n",
       "      <td>6</td>\n",
       "      <td>52.581718</td>\n",
       "    </tr>\n",
       "    <tr>\n",
       "      <th>286</th>\n",
       "      <td>ARKK</td>\n",
       "      <td>6</td>\n",
       "      <td>52.581718</td>\n",
       "    </tr>\n",
       "    <tr>\n",
       "      <th>...</th>\n",
       "      <td>...</td>\n",
       "      <td>...</td>\n",
       "      <td>...</td>\n",
       "    </tr>\n",
       "    <tr>\n",
       "      <th>4737</th>\n",
       "      <td>XLK</td>\n",
       "      <td>6</td>\n",
       "      <td>52.581718</td>\n",
       "    </tr>\n",
       "    <tr>\n",
       "      <th>4766</th>\n",
       "      <td>XSW</td>\n",
       "      <td>6</td>\n",
       "      <td>52.581718</td>\n",
       "    </tr>\n",
       "    <tr>\n",
       "      <th>4767</th>\n",
       "      <td>XT</td>\n",
       "      <td>6</td>\n",
       "      <td>52.581718</td>\n",
       "    </tr>\n",
       "    <tr>\n",
       "      <th>4770</th>\n",
       "      <td>XWEB</td>\n",
       "      <td>6</td>\n",
       "      <td>52.581718</td>\n",
       "    </tr>\n",
       "    <tr>\n",
       "      <th>4806</th>\n",
       "      <td>ZS</td>\n",
       "      <td>6</td>\n",
       "      <td>52.581718</td>\n",
       "    </tr>\n",
       "  </tbody>\n",
       "</table>\n",
       "<p>130 rows × 3 columns</p>\n",
       "</div>"
      ],
      "text/plain": [
       "     symbol  cluster       tcs\n",
       "55     ACWF        6 52.581718\n",
       "56     ACWI        6 52.581718\n",
       "60     ADBE        6 52.581718\n",
       "215    AMZN        6 52.581718\n",
       "286    ARKK        6 52.581718\n",
       "...     ...      ...       ...\n",
       "4737    XLK        6 52.581718\n",
       "4766    XSW        6 52.581718\n",
       "4767     XT        6 52.581718\n",
       "4770   XWEB        6 52.581718\n",
       "4806     ZS        6 52.581718\n",
       "\n",
       "[130 rows x 3 columns]"
      ]
     },
     "execution_count": 211,
     "metadata": {},
     "output_type": "execute_result"
    }
   ],
   "source": [
    "full_df[full_df.cluster==6]"
   ]
  },
  {
   "cell_type": "code",
   "execution_count": 170,
   "metadata": {
    "execution": {
     "iopub.execute_input": "2020-11-28T06:23:04.945556Z",
     "iopub.status.busy": "2020-11-28T06:23:04.944745Z",
     "iopub.status.idle": "2020-11-28T06:23:05.136366Z",
     "shell.execute_reply": "2020-11-28T06:23:05.134021Z",
     "shell.execute_reply.started": "2020-11-28T06:23:04.945493Z"
    }
   },
   "outputs": [
    {
     "data": {
      "text/html": [
       "<div>\n",
       "<style scoped>\n",
       "    .dataframe tbody tr th:only-of-type {\n",
       "        vertical-align: middle;\n",
       "    }\n",
       "\n",
       "    .dataframe tbody tr th {\n",
       "        vertical-align: top;\n",
       "    }\n",
       "\n",
       "    .dataframe thead th {\n",
       "        text-align: right;\n",
       "    }\n",
       "</style>\n",
       "<table border=\"1\" class=\"dataframe\">\n",
       "  <thead>\n",
       "    <tr style=\"text-align: right;\">\n",
       "      <th></th>\n",
       "      <th>symbol</th>\n",
       "      <th>cluster</th>\n",
       "      <th>tcs</th>\n",
       "    </tr>\n",
       "  </thead>\n",
       "  <tbody>\n",
       "    <tr>\n",
       "      <th>4493</th>\n",
       "      <td>VGT</td>\n",
       "      <td>0</td>\n",
       "      <td>939.526672</td>\n",
       "    </tr>\n",
       "    <tr>\n",
       "      <th>3530</th>\n",
       "      <td>QQQ</td>\n",
       "      <td>0</td>\n",
       "      <td>939.526672</td>\n",
       "    </tr>\n",
       "    <tr>\n",
       "      <th>2887</th>\n",
       "      <td>MTUM</td>\n",
       "      <td>0</td>\n",
       "      <td>939.526672</td>\n",
       "    </tr>\n",
       "    <tr>\n",
       "      <th>2199</th>\n",
       "      <td>IGM</td>\n",
       "      <td>0</td>\n",
       "      <td>939.526672</td>\n",
       "    </tr>\n",
       "    <tr>\n",
       "      <th>1754</th>\n",
       "      <td>FV</td>\n",
       "      <td>0</td>\n",
       "      <td>939.526672</td>\n",
       "    </tr>\n",
       "    <tr>\n",
       "      <th>1736</th>\n",
       "      <td>FTEC</td>\n",
       "      <td>0</td>\n",
       "      <td>939.526672</td>\n",
       "    </tr>\n",
       "    <tr>\n",
       "      <th>1550</th>\n",
       "      <td>FBGX</td>\n",
       "      <td>0</td>\n",
       "      <td>939.526672</td>\n",
       "    </tr>\n",
       "    <tr>\n",
       "      <th>2450</th>\n",
       "      <td>KBE</td>\n",
       "      <td>1</td>\n",
       "      <td>758.507629</td>\n",
       "    </tr>\n",
       "    <tr>\n",
       "      <th>688</th>\n",
       "      <td>CATY</td>\n",
       "      <td>1</td>\n",
       "      <td>758.507629</td>\n",
       "    </tr>\n",
       "    <tr>\n",
       "      <th>1748</th>\n",
       "      <td>FTXO</td>\n",
       "      <td>1</td>\n",
       "      <td>758.507629</td>\n",
       "    </tr>\n",
       "    <tr>\n",
       "      <th>2403</th>\n",
       "      <td>JKL</td>\n",
       "      <td>1</td>\n",
       "      <td>758.507629</td>\n",
       "    </tr>\n",
       "    <tr>\n",
       "      <th>2133</th>\n",
       "      <td>IAT</td>\n",
       "      <td>1</td>\n",
       "      <td>758.507629</td>\n",
       "    </tr>\n",
       "    <tr>\n",
       "      <th>2512</th>\n",
       "      <td>KRE</td>\n",
       "      <td>1</td>\n",
       "      <td>758.507629</td>\n",
       "    </tr>\n",
       "    <tr>\n",
       "      <th>3510</th>\n",
       "      <td>QABA</td>\n",
       "      <td>1</td>\n",
       "      <td>758.507629</td>\n",
       "    </tr>\n",
       "    <tr>\n",
       "      <th>4458</th>\n",
       "      <td>VBR</td>\n",
       "      <td>1</td>\n",
       "      <td>758.507629</td>\n",
       "    </tr>\n",
       "    <tr>\n",
       "      <th>4589</th>\n",
       "      <td>VTWV</td>\n",
       "      <td>1</td>\n",
       "      <td>758.507629</td>\n",
       "    </tr>\n",
       "    <tr>\n",
       "      <th>2700</th>\n",
       "      <td>MCHI</td>\n",
       "      <td>2</td>\n",
       "      <td>68.621796</td>\n",
       "    </tr>\n",
       "    <tr>\n",
       "      <th>1594</th>\n",
       "      <td>FEMS</td>\n",
       "      <td>2</td>\n",
       "      <td>68.621796</td>\n",
       "    </tr>\n",
       "    <tr>\n",
       "      <th>1675</th>\n",
       "      <td>FNDE</td>\n",
       "      <td>2</td>\n",
       "      <td>68.621796</td>\n",
       "    </tr>\n",
       "    <tr>\n",
       "      <th>1764</th>\n",
       "      <td>FXI</td>\n",
       "      <td>2</td>\n",
       "      <td>68.621796</td>\n",
       "    </tr>\n",
       "  </tbody>\n",
       "</table>\n",
       "</div>"
      ],
      "text/plain": [
       "     symbol  cluster        tcs\n",
       "4493    VGT        0 939.526672\n",
       "3530    QQQ        0 939.526672\n",
       "2887   MTUM        0 939.526672\n",
       "2199    IGM        0 939.526672\n",
       "1754     FV        0 939.526672\n",
       "1736   FTEC        0 939.526672\n",
       "1550   FBGX        0 939.526672\n",
       "2450    KBE        1 758.507629\n",
       "688    CATY        1 758.507629\n",
       "1748   FTXO        1 758.507629\n",
       "2403    JKL        1 758.507629\n",
       "2133    IAT        1 758.507629\n",
       "2512    KRE        1 758.507629\n",
       "3510   QABA        1 758.507629\n",
       "4458    VBR        1 758.507629\n",
       "4589   VTWV        1 758.507629\n",
       "2700   MCHI        2  68.621796\n",
       "1594   FEMS        2  68.621796\n",
       "1675   FNDE        2  68.621796\n",
       "1764    FXI        2  68.621796"
      ]
     },
     "execution_count": 170,
     "metadata": {},
     "output_type": "execute_result"
    }
   ],
   "source": [
    "full_df.sort_values('tcs', ascending=False)[0:20]"
   ]
  },
  {
   "cell_type": "code",
   "execution_count": null,
   "metadata": {},
   "outputs": [],
   "source": [
    "import corex_gaussianize as g\n",
    "\n",
    "norm = g.Gaussianize(strategy='lambert')"
   ]
  },
  {
   "cell_type": "code",
   "execution_count": null,
   "metadata": {},
   "outputs": [],
   "source": [
    "gld = df[df.symbol=='GLD']"
   ]
  },
  {
   "cell_type": "code",
   "execution_count": null,
   "metadata": {},
   "outputs": [],
   "source": [
    "norm.fit(df[df.symbol=='GLD'].close)"
   ]
  },
  {
   "cell_type": "code",
   "execution_count": null,
   "metadata": {},
   "outputs": [],
   "source": [
    "df.symbol.describe()"
   ]
  },
  {
   "cell_type": "code",
   "execution_count": null,
   "metadata": {},
   "outputs": [],
   "source": [
    "import h2o\n",
    "from h2o.estimators import H2OGeneralizedLowRankEstimator\n",
    "h2o.init()\n",
    "\n",
    "# Import the USArrests dataset into H2O:\n",
    "arrestsH2O = h2o.import_file(\"https://s3.amazonaws.com/h2o-public-test-data/smalldata/pca_test/USArrests.csv\")\n",
    "\n",
    "# Split the dataset into a train and valid set:\n",
    "train, valid = arrestsH2O.split_frame(ratios=[.8], seed=1234)\n",
    "\n",
    "# Build and train the model:\n",
    "glrm_model = H2OGeneralizedLowRankEstimator(k=4,\n",
    "                                            loss=\"Huber\",\n",
    "                                            # loss_by_col={'cat_var': 'Categorical'},\n",
    "                                            regularization_x=\"OneSparse\", # None (default), Quadratic, L2, L1, NonNegative, OneSparse, UnitOneSparse, Simplex.\n",
    "                                            regularization_y=\"OneSparse\",\n",
    "                                            gamma_x=0.5,\n",
    "                                            gamma_y=0.5,\n",
    "                                            max_iterations=1000,\n",
    "                                            recover_svd=True,\n",
    "                                            init=\"PlusPlus\",\n",
    "                                            transform=\"standardize\",\n",
    "                                           )\n",
    "glrm_model.train(training_frame=train)"
   ]
  },
  {
   "cell_type": "code",
   "execution_count": null,
   "metadata": {},
   "outputs": [],
   "source": [
    "### market clustering\n",
    "\n",
    "# %time df = read_market_daily(result_path)\n",
    "mdf = pd.read_parquet('data/mdf.parquet')\n",
    "\n",
    "%time npdf, sharpe_ratios = mc.normalize_market_df(mdf)\n",
    "\n",
    "# %time npdf_resid = colwise_linreg(npdf)\n",
    "npdf_resid = pd.read_parquet('data/npdf_resid.parquet')\n",
    "\n",
    "# %time par_cor_mat = npdf_resid.corr()\n",
    "resid_par_cor_mat = pd.read_parquet('data/partial_cor_mat.parquet')\n",
    "\n",
    "details_df = pd.read_parquet('data/details_df.parquet')\n",
    "\n",
    "# cluster_lables = cluster_sim_matrix(similarity=resid_par_cor_mat.abs())\n",
    "cluster_lables = pd.read_parquet('data/cluster_lables.parquet')\n",
    "\n",
    "# symbol_meta = join_symbol_data(details_df, cluster_lables, sharpe_ratios, mdf)\n",
    "symbol_meta = pd.read_parquet('data/symbol_meta.parquet')\n",
    "\n",
    "# cluster_coheasion = mc.get_cluster_coheasion(sim_df=resid_par_cor_mat.abs(), symbol_meta=symbol_meta, cluster_col='cluster_n200')"
   ]
  },
  {
   "cell_type": "code",
   "execution_count": null,
   "metadata": {},
   "outputs": [],
   "source": [
    "symbol_meta['liquidy_rank'] = symbol_meta.groupby('cluster_n200')['daily_avg_dollar_volume'].rank(method='first')\n",
    "\n",
    "symbol_meta = symbol_meta.sort_values(['cluster_n200', 'liquidy_rank']).reset_index()\n",
    "\n",
    "by_cluster = symbol_meta.groupby('cluster_n200')\n",
    "result = []\n",
    "for cluster, frame in by_cluster:\n",
    "    counts = dict(frame['sector'].value_counts())\n",
    "    counts.pop('', None)  # drop symbols w/o sector/industry info\n",
    "    result.append(counts)"
   ]
  },
  {
   "cell_type": "code",
   "execution_count": null,
   "metadata": {},
   "outputs": [],
   "source": [
    "cluster_sec = pd.DataFrame(result)    \n",
    "cluster_sec = cluster_sec.drop(columns=['Finance'])\n",
    "cluster_sec_pct = cluster_sec.apply(lambda x: 100 * x / float(x.sum()), axis=1)\n",
    "\n",
    "cluster_sec_pct.style.background_gradient(cmap='coolwarm', axis=0)\n",
    "\n",
    "# n += 1\n",
    "n = 61\n",
    "print(n)\n",
    "symbol_meta[symbol_meta.cluster_n200==n].sector.value_counts()\n",
    "\n",
    "sym_clust = symbol_meta[symbol_meta.cluster_n200==n]\n",
    "sym_clust"
   ]
  }
 ],
 "metadata": {
  "kernelspec": {
   "display_name": "Python 3",
   "language": "python",
   "name": "python3"
  },
  "language_info": {
   "codemirror_mode": {
    "name": "ipython",
    "version": 3
   },
   "file_extension": ".py",
   "mimetype": "text/x-python",
   "name": "python",
   "nbconvert_exporter": "python",
   "pygments_lexer": "ipython3",
   "version": "3.7.8"
  }
 },
 "nbformat": 4,
 "nbformat_minor": 4
}
