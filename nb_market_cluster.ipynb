{
 "cells": [
  {
   "cell_type": "code",
   "execution_count": null,
   "metadata": {},
   "outputs": [],
   "source": [
    "import ray\n",
    "ray.init()\n",
    "# ray.shutdown()"
   ]
  },
  {
   "cell_type": "code",
   "execution_count": 1,
   "metadata": {
    "execution": {
     "iopub.execute_input": "2020-12-07T23:38:12.877909Z",
     "iopub.status.busy": "2020-12-07T23:38:12.877279Z",
     "iopub.status.idle": "2020-12-07T23:38:21.443719Z",
     "shell.execute_reply": "2020-12-07T23:38:21.442044Z",
     "shell.execute_reply.started": "2020-12-07T23:38:12.877803Z"
    }
   },
   "outputs": [],
   "source": [
    "%load_ext autoreload\n",
    "%autoreload 2\n",
    "\n",
    "import numpy as np\n",
    "import pandas as pd\n",
    "pd.set_option('float_format', '{:f}'.format)\n",
    "pd.set_option('display.max_rows', 100)\n",
    "pd.set_option('display.max_columns', 500)\n",
    "# pd.set_option('display.width', 1000)\n",
    "\n",
    "\n",
    "import pandas_bokeh\n",
    "import matplotlib as mpl\n",
    "import matplotlib.pyplot as plt\n",
    "from matplotlib import style\n",
    "style.use('fivethirtyeight')\n",
    "mpl.rcParams['figure.figsize'] = [20, 7]\n",
    "\n",
    "import polygon_ds as pds\n",
    "import polygon_df as pdf\n",
    "import polygon_s3 as ps3\n",
    "import ray_symbol_details as rsd\n",
    "import market_preprocess as mp\n",
    "import market_cov as mcov\n",
    "import market_cluster as mc\n",
    "import utils_pickle as up\n",
    "# import ipdb\n",
    "# ipdb.set_trace(context=10)"
   ]
  },
  {
   "cell_type": "code",
   "execution_count": 2,
   "metadata": {
    "execution": {
     "iopub.execute_input": "2020-12-07T23:38:21.450072Z",
     "iopub.status.busy": "2020-12-07T23:38:21.449285Z",
     "iopub.status.idle": "2020-12-07T23:38:21.957626Z",
     "shell.execute_reply": "2020-12-07T23:38:21.875555Z",
     "shell.execute_reply.started": "2020-12-07T23:38:21.450015Z"
    }
   },
   "outputs": [],
   "source": [
    "start_date = '2018-10-24'\n",
    "end_date = '2020-11-24'\n",
    "symbol = 'market'\n",
    "tick_type='daily'"
   ]
  },
  {
   "cell_type": "code",
   "execution_count": 3,
   "metadata": {
    "execution": {
     "iopub.execute_input": "2020-12-07T23:38:21.974810Z",
     "iopub.status.busy": "2020-12-07T23:38:21.971720Z",
     "iopub.status.idle": "2020-12-07T23:39:04.237525Z",
     "shell.execute_reply": "2020-12-07T23:39:04.236115Z",
     "shell.execute_reply.started": "2020-12-07T23:38:21.974738Z"
    }
   },
   "outputs": [
    {
     "name": "stdout",
     "output_type": "stream",
     "text": [
      "4502494 Initial rows 11509 symbols\n",
      "-1460110 all dates filter 5784 symbols\n",
      "-383980 liquidity filter 5054 symbols\n",
      "-125188 volitility filter 4816 symbols\n",
      "-24196 min $value filter 4770 symbols\n",
      "-706944 symbol details filter 3426 symbols\n",
      "1802076 Final rows 40.0 % remaining\n"
     ]
    },
    {
     "name": "stderr",
     "output_type": "stream",
     "text": [
      "100%|██████████| 3426/3426 [00:25<00:00, 136.27it/s]\n"
     ]
    }
   ],
   "source": [
    "r = mp.prepare_data(start_date, end_date, beta_symbol='VTI')"
   ]
  },
  {
   "cell_type": "code",
   "execution_count": 5,
   "metadata": {
    "execution": {
     "iopub.execute_input": "2020-12-07T23:39:09.902645Z",
     "iopub.status.busy": "2020-12-07T23:39:09.902236Z",
     "iopub.status.idle": "2020-12-07T23:39:09.988692Z",
     "shell.execute_reply": "2020-12-07T23:39:09.987654Z",
     "shell.execute_reply.started": "2020-12-07T23:39:09.902596Z"
    }
   },
   "outputs": [],
   "source": [
    "X = r['g_zs_log_returns_resid']\n",
    "Xt = X.transpose()\n",
    "gt_industry = r['sym_meta'].industry.values\n",
    "gt_sector = r['sym_meta'].sector.values"
   ]
  },
  {
   "cell_type": "code",
   "execution_count": 6,
   "metadata": {
    "execution": {
     "iopub.execute_input": "2020-12-07T23:39:14.550956Z",
     "iopub.status.busy": "2020-12-07T23:39:14.550460Z",
     "iopub.status.idle": "2020-12-07T23:41:23.929080Z",
     "shell.execute_reply": "2020-12-07T23:41:23.927703Z",
     "shell.execute_reply.started": "2020-12-07T23:39:14.550911Z"
    }
   },
   "outputs": [],
   "source": [
    "# r['g_zs_log_returns_resid'].iloc[:, 1500:]\n",
    "\n",
    "dtdist_mat, dtcor_mat = mcov.cov_denoise_detone_dist(r['g_zs_log_returns'], detone=True)\n",
    "\n",
    "dist_mat, cor_mat = mcov.cov_denoise_detone_dist(r['g_zs_log_returns_resid'], detone=False)"
   ]
  },
  {
   "cell_type": "code",
   "execution_count": null,
   "metadata": {},
   "outputs": [],
   "source": [
    "kclust = mc.cluster_ground_truth_eval(mc.get_kmean_clusters, 200, X, gt_industry)\n",
    "print(kclust['adj. multual information'])"
   ]
  },
  {
   "cell_type": "code",
   "execution_count": 7,
   "metadata": {
    "execution": {
     "iopub.execute_input": "2020-12-07T23:41:23.932038Z",
     "iopub.status.busy": "2020-12-07T23:41:23.931283Z",
     "iopub.status.idle": "2020-12-07T23:41:30.010382Z",
     "shell.execute_reply": "2020-12-07T23:41:30.006719Z",
     "shell.execute_reply.started": "2020-12-07T23:41:23.931976Z"
    }
   },
   "outputs": [
    {
     "name": "stdout",
     "output_type": "stream",
     "text": [
      "0.4304010633801613\n"
     ]
    }
   ],
   "source": [
    "hclust = mc.cluster_ground_truth_eval(mc.get_hira_clusters, 200, Xt, gt_industry)\n",
    "print(hclust['adj. multual information'])"
   ]
  },
  {
   "cell_type": "code",
   "execution_count": 16,
   "metadata": {
    "execution": {
     "iopub.execute_input": "2020-12-07T23:46:37.368220Z",
     "iopub.status.busy": "2020-12-07T23:46:37.367776Z",
     "iopub.status.idle": "2020-12-07T23:46:37.611513Z",
     "shell.execute_reply": "2020-12-07T23:46:37.609992Z",
     "shell.execute_reply.started": "2020-12-07T23:46:37.368179Z"
    }
   },
   "outputs": [],
   "source": [
    "labels = pd.Series(hclust['cluster_labels'], name='lables')"
   ]
  },
  {
   "cell_type": "code",
   "execution_count": 26,
   "metadata": {
    "execution": {
     "iopub.execute_input": "2020-12-07T23:49:12.147105Z",
     "iopub.status.busy": "2020-12-07T23:49:12.146553Z",
     "iopub.status.idle": "2020-12-07T23:49:14.529967Z",
     "shell.execute_reply": "2020-12-07T23:49:14.527951Z",
     "shell.execute_reply.started": "2020-12-07T23:49:12.147056Z"
    }
   },
   "outputs": [],
   "source": [
    "out = mc.cluster_metrics(lables=labels, dist_mat=dist_mat, sym_meta=r['sym_meta'])"
   ]
  },
  {
   "cell_type": "code",
   "execution_count": 32,
   "metadata": {
    "execution": {
     "iopub.execute_input": "2020-12-07T23:49:48.495931Z",
     "iopub.status.busy": "2020-12-07T23:49:48.495456Z",
     "iopub.status.idle": "2020-12-07T23:49:48.923455Z",
     "shell.execute_reply": "2020-12-07T23:49:48.922142Z",
     "shell.execute_reply.started": "2020-12-07T23:49:48.495888Z"
    }
   },
   "outputs": [
    {
     "data": {
      "text/html": [
       "<div>\n",
       "<style scoped>\n",
       "    .dataframe tbody tr th:only-of-type {\n",
       "        vertical-align: middle;\n",
       "    }\n",
       "\n",
       "    .dataframe tbody tr th {\n",
       "        vertical-align: top;\n",
       "    }\n",
       "\n",
       "    .dataframe thead th {\n",
       "        text-align: right;\n",
       "    }\n",
       "</style>\n",
       "<table border=\"1\" class=\"dataframe\">\n",
       "  <thead>\n",
       "    <tr style=\"text-align: right;\">\n",
       "      <th></th>\n",
       "      <th>size</th>\n",
       "      <th>avg_similartiy</th>\n",
       "      <th>sector_purity</th>\n",
       "      <th>industry_purity</th>\n",
       "      <th>avg_range_value_pct</th>\n",
       "      <th>med_daily_dollar_volume</th>\n",
       "      <th>dist_mat</th>\n",
       "      <th>symbol_meta</th>\n",
       "    </tr>\n",
       "    <tr>\n",
       "      <th>label</th>\n",
       "      <th></th>\n",
       "      <th></th>\n",
       "      <th></th>\n",
       "      <th></th>\n",
       "      <th></th>\n",
       "      <th></th>\n",
       "      <th></th>\n",
       "      <th></th>\n",
       "    </tr>\n",
       "  </thead>\n",
       "  <tbody>\n",
       "    <tr>\n",
       "      <th>0</th>\n",
       "      <td>45</td>\n",
       "      <td>0.371480</td>\n",
       "      <td>0.200000</td>\n",
       "      <td>0.062500</td>\n",
       "      <td>0.028590</td>\n",
       "      <td>4532413.000000</td>\n",
       "      <td>symbol     APOG     ASGN      AVD        B    ...</td>\n",
       "      <td>...</td>\n",
       "    </tr>\n",
       "    <tr>\n",
       "      <th>1</th>\n",
       "      <td>7</td>\n",
       "      <td>0.324171</td>\n",
       "      <td>0.333333</td>\n",
       "      <td>0.250000</td>\n",
       "      <td>0.060612</td>\n",
       "      <td>253612.062500</td>\n",
       "      <td>symbol     AUTO     BBGI     CLSN      EVC    ...</td>\n",
       "      <td>name...</td>\n",
       "    </tr>\n",
       "    <tr>\n",
       "      <th>2</th>\n",
       "      <td>20</td>\n",
       "      <td>0.355337</td>\n",
       "      <td>0.500000</td>\n",
       "      <td>0.333333</td>\n",
       "      <td>0.018622</td>\n",
       "      <td>107984336.000000</td>\n",
       "      <td>symbol      AJG      AON      BRO     CBOE    ...</td>\n",
       "      <td>...</td>\n",
       "    </tr>\n",
       "    <tr>\n",
       "      <th>3</th>\n",
       "      <td>12</td>\n",
       "      <td>0.335492</td>\n",
       "      <td>1.000000</td>\n",
       "      <td>0.500000</td>\n",
       "      <td>0.074794</td>\n",
       "      <td>474621.812500</td>\n",
       "      <td>symbol     AVDL     CKPT     FBIO     LIFE    ...</td>\n",
       "      <td>name      sect...</td>\n",
       "    </tr>\n",
       "    <tr>\n",
       "      <th>4</th>\n",
       "      <td>23</td>\n",
       "      <td>0.320709</td>\n",
       "      <td>0.333333</td>\n",
       "      <td>0.142857</td>\n",
       "      <td>0.043901</td>\n",
       "      <td>2546967.000000</td>\n",
       "      <td>symbol     AAOI     ACRS     AUDC     AVID    ...</td>\n",
       "      <td>...</td>\n",
       "    </tr>\n",
       "    <tr>\n",
       "      <th>...</th>\n",
       "      <td>...</td>\n",
       "      <td>...</td>\n",
       "      <td>...</td>\n",
       "      <td>...</td>\n",
       "      <td>...</td>\n",
       "      <td>...</td>\n",
       "      <td>...</td>\n",
       "      <td>...</td>\n",
       "    </tr>\n",
       "    <tr>\n",
       "      <th>195</th>\n",
       "      <td>35</td>\n",
       "      <td>0.382033</td>\n",
       "      <td>0.250000</td>\n",
       "      <td>0.100000</td>\n",
       "      <td>0.029035</td>\n",
       "      <td>27157964.000000</td>\n",
       "      <td>symbol     ACCO      ACM     AIMC      ASH    ...</td>\n",
       "      <td>...</td>\n",
       "    </tr>\n",
       "    <tr>\n",
       "      <th>196</th>\n",
       "      <td>25</td>\n",
       "      <td>0.440634</td>\n",
       "      <td>1.000000</td>\n",
       "      <td>0.500000</td>\n",
       "      <td>0.030825</td>\n",
       "      <td>13579351.000000</td>\n",
       "      <td>symbol     BPMP     CEQP      CQP      DCP    ...</td>\n",
       "      <td>...</td>\n",
       "    </tr>\n",
       "    <tr>\n",
       "      <th>197</th>\n",
       "      <td>6</td>\n",
       "      <td>0.336181</td>\n",
       "      <td>0.333333</td>\n",
       "      <td>0.200000</td>\n",
       "      <td>0.044761</td>\n",
       "      <td>6309849.000000</td>\n",
       "      <td>symbol     CPSI     CUTR     EHTH     HBIO    ...</td>\n",
       "      <td>name    ...</td>\n",
       "    </tr>\n",
       "    <tr>\n",
       "      <th>198</th>\n",
       "      <td>16</td>\n",
       "      <td>0.371782</td>\n",
       "      <td>1.000000</td>\n",
       "      <td>1.000000</td>\n",
       "      <td>0.030932</td>\n",
       "      <td>29640754.000000</td>\n",
       "      <td>symbol     APPF     APPN     EPAM     FICO    ...</td>\n",
       "      <td>name      sec...</td>\n",
       "    </tr>\n",
       "    <tr>\n",
       "      <th>199</th>\n",
       "      <td>9</td>\n",
       "      <td>0.396885</td>\n",
       "      <td>0.166667</td>\n",
       "      <td>0.142857</td>\n",
       "      <td>0.027182</td>\n",
       "      <td>8598619.000000</td>\n",
       "      <td>symbol      AMX      ASR     BSMX       CX    ...</td>\n",
       "      <td>...</td>\n",
       "    </tr>\n",
       "  </tbody>\n",
       "</table>\n",
       "<p>200 rows × 8 columns</p>\n",
       "</div>"
      ],
      "text/plain": [
       "       size  avg_similartiy  sector_purity  industry_purity  \\\n",
       "label                                                         \n",
       "0        45        0.371480       0.200000         0.062500   \n",
       "1         7        0.324171       0.333333         0.250000   \n",
       "2        20        0.355337       0.500000         0.333333   \n",
       "3        12        0.335492       1.000000         0.500000   \n",
       "4        23        0.320709       0.333333         0.142857   \n",
       "...     ...             ...            ...              ...   \n",
       "195      35        0.382033       0.250000         0.100000   \n",
       "196      25        0.440634       1.000000         0.500000   \n",
       "197       6        0.336181       0.333333         0.200000   \n",
       "198      16        0.371782       1.000000         1.000000   \n",
       "199       9        0.396885       0.166667         0.142857   \n",
       "\n",
       "       avg_range_value_pct  med_daily_dollar_volume  \\\n",
       "label                                                 \n",
       "0                 0.028590           4532413.000000   \n",
       "1                 0.060612            253612.062500   \n",
       "2                 0.018622         107984336.000000   \n",
       "3                 0.074794            474621.812500   \n",
       "4                 0.043901           2546967.000000   \n",
       "...                    ...                      ...   \n",
       "195               0.029035          27157964.000000   \n",
       "196               0.030825          13579351.000000   \n",
       "197               0.044761           6309849.000000   \n",
       "198               0.030932          29640754.000000   \n",
       "199               0.027182           8598619.000000   \n",
       "\n",
       "                                                dist_mat  \\\n",
       "label                                                      \n",
       "0      symbol     APOG     ASGN      AVD        B    ...   \n",
       "1      symbol     AUTO     BBGI     CLSN      EVC    ...   \n",
       "2      symbol      AJG      AON      BRO     CBOE    ...   \n",
       "3      symbol     AVDL     CKPT     FBIO     LIFE    ...   \n",
       "4      symbol     AAOI     ACRS     AUDC     AVID    ...   \n",
       "...                                                  ...   \n",
       "195    symbol     ACCO      ACM     AIMC      ASH    ...   \n",
       "196    symbol     BPMP     CEQP      CQP      DCP    ...   \n",
       "197    symbol     CPSI     CUTR     EHTH     HBIO    ...   \n",
       "198    symbol     APPF     APPN     EPAM     FICO    ...   \n",
       "199    symbol      AMX      ASR     BSMX       CX    ...   \n",
       "\n",
       "                                             symbol_meta  \n",
       "label                                                     \n",
       "0                                                    ...  \n",
       "1                                                name...  \n",
       "2                                                    ...  \n",
       "3                                      name      sect...  \n",
       "4                                                    ...  \n",
       "...                                                  ...  \n",
       "195                                                  ...  \n",
       "196                                                  ...  \n",
       "197                                          name    ...  \n",
       "198                                     name      sec...  \n",
       "199                                                  ...  \n",
       "\n",
       "[200 rows x 8 columns]"
      ]
     },
     "execution_count": 32,
     "metadata": {},
     "output_type": "execute_result"
    }
   ],
   "source": [
    "out"
   ]
  },
  {
   "cell_type": "code",
   "execution_count": null,
   "metadata": {},
   "outputs": [],
   "source": [
    "mc.gt_cluster_eval(kclust['cluster_labels'], hclust['cluster_labels'])"
   ]
  },
  {
   "cell_type": "code",
   "execution_count": null,
   "metadata": {},
   "outputs": [],
   "source": [
    "kmeadist_mat                             hclust\n",
    "-------------------------          ----------------------------\n",
    "X norn\n",
    "X nrom resids: 45                   X norm resids: 464\n",
    "X resids dncor dist: 34\n",
    "X resids corr: 33\n",
    "X resids dncor detone: 37           X resids dncor detone: 386"
   ]
  },
  {
   "cell_type": "code",
   "execution_count": null,
   "metadata": {},
   "outputs": [],
   "source": [
    "corex300 = up.pickle_load('data/corex300.pkl')\n",
    "\n",
    "# X = df.reset_index(drop=True)\n",
    "# corex, full_df = mc.corex_fit(X, n_hidden=200)\n",
    "\n",
    "# up.pickle_dump((corex, full_df), file_name='corex200.pkl')\n",
    "\n",
    "# gsutil copy /Users/bobcolner/QuantClarity/pandas-polygon/corex200.pkl gs://emerald-skill-datascience/"
   ]
  },
  {
   "cell_type": "code",
   "execution_count": null,
   "metadata": {},
   "outputs": [],
   "source": [
    "import h2o\n",
    "from h2o.estimators import H2OGeneralizedLowRankEstimator\n",
    "h2o.init()\n",
    "\n",
    "# Import the USArrests dataset into H2O:\n",
    "arrestsH2O = h2o.import_file(\"https://s3.amazonaws.com/h2o-public-test-data/smalldata/pca_test/USArrests.csv\")\n",
    "\n",
    "# Split the dataset into a train and valid set:\n",
    "train, valid = arrestsH2O.split_frame(ratios=[.8], seed=1234)\n",
    "\n",
    "# Build and train the model:\n",
    "glrm_model = H2OGeneralizedLowRankEstimator(\n",
    "    k=4,\n",
    "    loss=\"Huber\",\n",
    "    loss_by_col={'cat_var': 'Categorical'},\n",
    "    regularization_x=\"OneSparse\", # None (default), Quadratic, L2, L1, NonNegative, OneSparse, UnitOneSparse, Simplex.\n",
    "    regularization_y=\"OneSparse\",\n",
    "    gamma_x=0.5,\n",
    "    gamma_y=0.5,\n",
    "    max_iterations=1000,\n",
    "    recover_svd=True,\n",
    "    init=\"PlusPlus\",\n",
    "    transform=\"standardize\",\n",
    "   )\n",
    "glrm_model.train(training_frame=train)"
   ]
  }
 ],
 "metadata": {
  "kernelspec": {
   "display_name": "Python 3",
   "language": "python",
   "name": "python3"
  },
  "language_info": {
   "codemirror_mode": {
    "name": "ipython",
    "version": 3
   },
   "file_extension": ".py",
   "mimetype": "text/x-python",
   "name": "python",
   "nbconvert_exporter": "python",
   "pygments_lexer": "ipython3",
   "version": "3.7.8"
  }
 },
 "nbformat": 4,
 "nbformat_minor": 4
}
