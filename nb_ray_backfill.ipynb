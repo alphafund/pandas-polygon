{
 "cells": [
  {
   "cell_type": "code",
   "execution_count": 19,
   "metadata": {
    "execution": {
     "iopub.execute_input": "2020-10-20T03:29:24.883798Z",
     "iopub.status.busy": "2020-10-20T03:29:24.882958Z",
     "iopub.status.idle": "2020-10-20T03:29:24.907021Z",
     "shell.execute_reply": "2020-10-20T03:29:24.901301Z",
     "shell.execute_reply.started": "2020-10-20T03:29:24.883746Z"
    }
   },
   "outputs": [],
   "source": [
    "import ray\n",
    "from tenacity import retry, stop_after_attempt\n",
    "from polygon_backfill import get_open_market_dates, dates_from_s3, find_remaining_dates, backfill_date\n",
    "\n",
    "symbols = ['GLD', 'GDX', 'SPY', 'GOLD']\n",
    "start_date = '2020-01-01'\n",
    "end_date = '2020-10-20'\n",
    "tick_type = 'trades'\n",
    "result_path = '/Users/bobcolner/QuantClarity/pandas-polygon/data'"
   ]
  },
  {
   "cell_type": "code",
   "execution_count": 21,
   "metadata": {
    "execution": {
     "iopub.execute_input": "2020-10-20T03:29:35.063940Z",
     "iopub.status.busy": "2020-10-20T03:29:35.063156Z",
     "iopub.status.idle": "2020-10-20T03:29:35.077075Z",
     "shell.execute_reply": "2020-10-20T03:29:35.075210Z",
     "shell.execute_reply.started": "2020-10-20T03:29:35.063877Z"
    }
   },
   "outputs": [
    {
     "name": "stderr",
     "output_type": "stream",
     "text": [
      "2020-10-19 23:29:35,067\tERROR worker.py:643 -- Calling ray.init() again after it has already been called.\n"
     ]
    }
   ],
   "source": [
    "\n",
    "ray.init(num_cpus=4, ignore_reinit_error=True)\n",
    "\n",
    "@ray.remote\n",
    "@retry(stop=stop_after_attempt(2))\n",
    "def backfill_date_ray(symbol, date, tick_type, result_path):\n",
    "    result = backfill_date(\n",
    "        symbol=symbol, \n",
    "        date=date, \n",
    "        tick_type=tick_type, \n",
    "        result_path=result_path,\n",
    "        save_local=True,\n",
    "        upload_to_s3=True,\n",
    "    )\n",
    "    return symbol + '|' + date\n"
   ]
  },
  {
   "cell_type": "code",
   "execution_count": null,
   "metadata": {
    "execution": {
     "iopub.execute_input": "2020-10-20T03:29:37.754468Z",
     "iopub.status.busy": "2020-10-20T03:29:37.753880Z"
    }
   },
   "outputs": [
    {
     "name": "stdout",
     "output_type": "stream",
     "text": [
      "\u001b[2m\u001b[36m(pid=59437)\u001b[0m Downloaded: 50000 SPY ticks 2020-01-15\n",
      "\u001b[2m\u001b[36m(pid=59438)\u001b[0m Downloaded: 50000 SPY ticks 2020-01-16\n",
      "\u001b[2m\u001b[36m(pid=59440)\u001b[0m Downloaded: 50000 SPY ticks 2020-01-14\n",
      "\u001b[2m\u001b[36m(pid=59439)\u001b[0m Downloaded: 50000 SPY ticks 2020-01-17\n",
      "\u001b[2m\u001b[36m(pid=60121)\u001b[0m Downloaded: 50000 SPY ticks 2020-01-21\n",
      "\u001b[2m\u001b[36m(pid=59438)\u001b[0m Downloaded: 50000 SPY ticks 2020-01-16\n",
      "\u001b[2m\u001b[36m(pid=59439)\u001b[0m Downloaded: 50000 SPY ticks 2020-01-17\n",
      "\u001b[2m\u001b[36m(pid=59437)\u001b[0m Downloaded: 50000 SPY ticks 2020-01-15\n",
      "\u001b[2m\u001b[36m(pid=59440)\u001b[0m Downloaded: 50000 SPY ticks 2020-01-14\n",
      "\u001b[2m\u001b[36m(pid=60121)\u001b[0m Downloaded: 50000 SPY ticks 2020-01-21\n",
      "\u001b[2m\u001b[36m(pid=59438)\u001b[0m Downloaded: 50000 SPY ticks 2020-01-16\n",
      "\u001b[2m\u001b[36m(pid=59437)\u001b[0m Downloaded: 50000 SPY ticks 2020-01-15\n",
      "\u001b[2m\u001b[36m(pid=59439)\u001b[0m Downloaded: 50000 SPY ticks 2020-01-17\n",
      "\u001b[2m\u001b[36m(pid=60121)\u001b[0m Downloaded: 50000 SPY ticks 2020-01-21\n",
      "\u001b[2m\u001b[36m(pid=59440)\u001b[0m Downloaded: 50000 SPY ticks 2020-01-14\n",
      "\u001b[2m\u001b[36m(pid=59438)\u001b[0m Downloaded: 50000 SPY ticks 2020-01-16\n",
      "\u001b[2m\u001b[36m(pid=59439)\u001b[0m Downloaded: 50000 SPY\n",
      "\u001b[2m\u001b[36m(pid=59439)\u001b[0m  \n",
      "\u001b[2m\u001b[36m(pid=59439)\u001b[0m ticks \n",
      "\u001b[2m\u001b[36m(pid=59439)\u001b[0m 2020-01-17\n",
      "\u001b[2m\u001b[36m(pid=59437)\u001b[0m Downloaded: 50000 SPY ticks 2020-01-15\n",
      "\u001b[2m\u001b[36m(pid=60121)\u001b[0m Downloaded: 50000 SPY ticks 2020-01-21\n",
      "\u001b[2m\u001b[36m(pid=59440)\u001b[0m Downloaded: 50000 SPY ticks 2020-01-14\n",
      "\u001b[2m\u001b[36m(pid=59438)\u001b[0m Downloaded: 30388 SPY ticks 2020-01-16\n",
      "\u001b[2m\u001b[36m(pid=59438)\u001b[0m 8 duplicated trade removed\n",
      "\u001b[2m\u001b[36m(pid=59438)\u001b[0m dropped 1777 ticks ( 0.77 %)\n",
      "\u001b[2m\u001b[36m(pid=59438)\u001b[0m Uploading SPY 2020-01-16 to s3/b2\n",
      "\u001b[2m\u001b[36m(pid=59439)\u001b[0m Downloaded: 50000 SPY ticks 2020-01-17\n",
      "\u001b[2m\u001b[36m(pid=59437)\u001b[0m Downloaded: 50000 SPY ticks 2020-01-15\n",
      "\u001b[2m\u001b[36m(pid=60121)\u001b[0m Downloaded: 50000 SPY ticks 2020-01-21\n",
      "\u001b[2m\u001b[36m(pid=59439)\u001b[0m Downloaded: 9055 SPY ticks 2020-01-17\n",
      "\u001b[2m\u001b[36m(pid=59440)\u001b[0m Downloaded: 50000 SPY ticks 2020-01-14\n",
      "\u001b[2m\u001b[36m(pid=59439)\u001b[0m 29 duplicated trade removed\n",
      "\u001b[2m\u001b[36m(pid=59439)\u001b[0m dropped 1578 ticks ( 0.61 %)\n",
      "\u001b[2m\u001b[36m(pid=59439)\u001b[0m Uploading SPY 2020-01-17 to s3/b2\n",
      "\u001b[2m\u001b[36m(pid=60121)\u001b[0m Downloaded: 30190 SPY ticks 2020-01-21\n",
      "\u001b[2m\u001b[36m(pid=59437)\u001b[0m Downloaded: 43471 SPY ticks 2020-01-15\n",
      "\u001b[2m\u001b[36m(pid=60121)\u001b[0m 107 duplicated trade removed\n",
      "\u001b[2m\u001b[36m(pid=60121)\u001b[0m dropped 1534 ticks ( 0.55 %)\n",
      "\u001b[2m\u001b[36m(pid=59437)\u001b[0m 10 duplicated trade removed\n",
      "\u001b[2m\u001b[36m(pid=60121)\u001b[0m Uploading SPY 2020-01-21 to s3/b2\n"
     ]
    }
   ],
   "source": [
    "request_dates = get_open_market_dates(start_date, end_date)\n",
    "futures = []\n",
    "for symbol in symbols:\n",
    "    existing_dates = dates_from_s3(symbol, tick_type)\n",
    "    remaining_dates = find_remaining_dates(request_dates, existing_dates)\n",
    "    for date in remaining_dates:\n",
    "        result = backfill_date_ray.remote(\n",
    "            symbol=symbol, \n",
    "            date=date, \n",
    "            tick_type=tick_type, \n",
    "            result_path=result_path\n",
    "        )\n",
    "        futures.append(result)\n",
    "        \n",
    "ray.get(futures)"
   ]
  }
 ],
 "metadata": {
  "kernelspec": {
   "display_name": "Python 3",
   "language": "python",
   "name": "python3"
  },
  "language_info": {
   "codemirror_mode": {
    "name": "ipython",
    "version": 3
   },
   "file_extension": ".py",
   "mimetype": "text/x-python",
   "name": "python",
   "nbconvert_exporter": "python",
   "pygments_lexer": "ipython3",
   "version": "3.7.8"
  }
 },
 "nbformat": 4,
 "nbformat_minor": 4
}
