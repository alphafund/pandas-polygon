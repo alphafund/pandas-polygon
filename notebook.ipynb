{
 "cells": [
  {
   "cell_type": "code",
   "execution_count": 1,
   "metadata": {
    "ExecuteTime": {
     "end_time": "2020-09-30T01:17:28.615776Z",
     "start_time": "2020-09-30T01:17:28.454787Z"
    },
    "execution": {
     "iopub.execute_input": "2020-10-16T13:58:08.257140Z",
     "iopub.status.busy": "2020-10-16T13:58:08.256363Z",
     "iopub.status.idle": "2020-10-16T13:58:11.060372Z",
     "shell.execute_reply": "2020-10-16T13:58:11.059081Z",
     "shell.execute_reply.started": "2020-10-16T13:58:08.256979Z"
    }
   },
   "outputs": [],
   "source": [
    "%load_ext autoreload\n",
    "%autoreload 2\n",
    "\n",
    "import numpy as np\n",
    "import pandas as pd\n",
    "import pandas_bokeh\n",
    "import finplot as fplt\n",
    "\n",
    "import polygon_backfill as pb\n",
    "import market_cluster as mc\n",
    "import s3_datasets as s3d\n",
    "import filters as ft\n",
    "import local_backfill as lb\n",
    "# import bar_samples as bs\n",
    "import bar_samples as bs\n",
    "import bar_labels as bl\n",
    "import load_ticks as lt\n",
    "\n",
    "import matplotlib as mpl\n",
    "mpl.rcParams['figure.figsize'] = [20, 7]\n",
    "from matplotlib import style\n",
    "style.use('fivethirtyeight')\n",
    "\n",
    "# import ipdb\n",
    "# ipdb.set_trace(context=10)\n",
    "\n",
    "symbol='GLD'\n",
    "date='2020-08-27'\n",
    "tick_type='trades'\n",
    "result_path='/Users/bobcolner/QuantClarity/pandas-polygon/data/'\n",
    "\n",
    "# .plot_bokeh(sizing_mode=\"scale_height\")\n",
    "# df.style.background_gradient(cmap='coolwarm', axis=None, vmin=-1, vmax=1)  # 'Blues', 'coolwarm', 'RdBu_r' & 'BrBG' are other good diverging colormaps\n",
    "# pd.set_option('precision', 2)\n",
    "# get local market daily data\n",
    "# mdf = pd.read_parquet('data/mdf.parquet')\n",
    "# sdf = mdf[mdf.symbol=='SPY']"
   ]
  },
  {
   "cell_type": "code",
   "execution_count": 2,
   "metadata": {
    "execution": {
     "iopub.execute_input": "2020-10-16T13:58:11.062243Z",
     "iopub.status.busy": "2020-10-16T13:58:11.061993Z",
     "iopub.status.idle": "2020-10-16T13:58:11.655525Z",
     "shell.execute_reply": "2020-10-16T13:58:11.653319Z",
     "shell.execute_reply.started": "2020-10-16T13:58:11.062213Z"
    }
   },
   "outputs": [
    {
     "data": {
      "text/plain": [
       "['polygon-equities/data/trades/symbol=GLD/date=2020-08-27',\n",
       " 'polygon-equities/data/trades/symbol=GLD/date=2020-09-08',\n",
       " 'polygon-equities/data/trades/symbol=GLD/date=2020-09-09',\n",
       " 'polygon-equities/data/trades/symbol=GLD/date=2020-10-01',\n",
       " 'polygon-equities/data/trades/symbol=GLD/date=2020-10-02',\n",
       " 'polygon-equities/data/trades/symbol=GLD/date=2020-10-05',\n",
       " 'polygon-equities/data/trades/symbol=GLD/date=2020-10-06',\n",
       " 'polygon-equities/data/trades/symbol=GLD/date=2020-10-07',\n",
       " 'polygon-equities/data/trades/symbol=GLD/date=2020-10-08',\n",
       " 'polygon-equities/data/trades/symbol=GLD/date=2020-10-09']"
      ]
     },
     "execution_count": 2,
     "metadata": {},
     "output_type": "execute_result"
    }
   ],
   "source": [
    "s3d.list_symbol(symbol)"
   ]
  },
  {
   "cell_type": "code",
   "execution_count": 3,
   "metadata": {
    "ExecuteTime": {
     "end_time": "2020-09-30T01:30:55.786854Z",
     "start_time": "2020-09-30T01:30:48.155554Z"
    },
    "execution": {
     "iopub.execute_input": "2020-10-16T13:58:11.673160Z",
     "iopub.status.busy": "2020-10-16T13:58:11.672729Z",
     "iopub.status.idle": "2020-10-16T13:58:13.536934Z",
     "shell.execute_reply": "2020-10-16T13:58:13.535353Z",
     "shell.execute_reply.started": "2020-10-16T13:58:11.673118Z"
    }
   },
   "outputs": [
    {
     "name": "stdout",
     "output_type": "stream",
     "text": [
      "trying to get ticks from local file...\n",
      "1  duplicated trade removed\n",
      "dropped 272 ticks ( 0.22 %)\n"
     ]
    }
   ],
   "source": [
    "# load ticks (local or api)\n",
    "ticks_df = lt.load_ticks(result_path, symbol, date, tick_type, clean=True)"
   ]
  },
  {
   "cell_type": "code",
   "execution_count": 4,
   "metadata": {
    "ExecuteTime": {
     "end_time": "2020-09-30T01:30:55.786854Z",
     "start_time": "2020-09-30T01:30:48.155554Z"
    },
    "execution": {
     "iopub.execute_input": "2020-10-16T13:58:13.542223Z",
     "iopub.status.busy": "2020-10-16T13:58:13.541774Z",
     "iopub.status.idle": "2020-10-16T13:58:16.017016Z",
     "shell.execute_reply": "2020-10-16T13:58:16.015885Z",
     "shell.execute_reply.started": "2020-10-16T13:58:13.542186Z"
    }
   },
   "outputs": [
    {
     "name": "stderr",
     "output_type": "stream",
     "text": [
      "100%|██████████| 123402/123402 [00:02<00:00, 54277.14it/s]\n"
     ]
    },
    {
     "data": {
      "text/plain": [
       "132"
      ]
     },
     "execution_count": 4,
     "metadata": {},
     "output_type": "execute_result"
    }
   ],
   "source": [
    "# sample ticks -> bars\n",
    "renko_size = 0.2\n",
    "renko_reversal = 2\n",
    "thresh = {\n",
    "    # GT thresholds\n",
    "    'renko_size': renko_size,\n",
    "    'renko_reveral_multiple': renko_reversal,\n",
    "    'duration_sec': 60*30,\n",
    "    'tick_imbalance': 150,\n",
    "    # LT thresholds \n",
    "    'min_duration_sec': 10,\n",
    "    'min_tick_count': 10,\n",
    "}\n",
    "# ticks_df['epoch'] = ticks_df.date_time.astype(int)\n",
    "tdf = ticks_df[(ticks_df.date_time.dt.hour >= 13) & (ticks_df.date_time.dt.hour <= 22)]\n",
    "bars, _ = bs.build_bars(ticks_df=tdf, thresh=thresh)\n",
    "len(bars)"
   ]
  },
  {
   "cell_type": "code",
   "execution_count": 5,
   "metadata": {
    "ExecuteTime": {
     "end_time": "2020-09-30T01:30:55.786854Z",
     "start_time": "2020-09-30T01:30:48.155554Z"
    },
    "execution": {
     "iopub.execute_input": "2020-10-16T13:58:16.020385Z",
     "iopub.status.busy": "2020-10-16T13:58:16.019065Z",
     "iopub.status.idle": "2020-10-16T13:58:16.142065Z",
     "shell.execute_reply": "2020-10-16T13:58:16.140357Z",
     "shell.execute_reply.started": "2020-10-16T13:58:16.020343Z"
    }
   },
   "outputs": [],
   "source": [
    "bars_df = pd.DataFrame(bars).set_index('close_at')\n",
    "# bars_df = pd.DataFrame(bars)"
   ]
  },
  {
   "cell_type": "code",
   "execution_count": 6,
   "metadata": {
    "ExecuteTime": {
     "end_time": "2020-09-30T01:32:03.075156Z",
     "start_time": "2020-09-30T01:30:56.526391Z"
    },
    "execution": {
     "iopub.execute_input": "2020-10-16T13:58:16.323025Z",
     "iopub.status.busy": "2020-10-16T13:58:16.322644Z",
     "iopub.status.idle": "2020-10-16T13:58:35.036482Z",
     "shell.execute_reply": "2020-10-16T13:58:35.035036Z",
     "shell.execute_reply.started": "2020-10-16T13:58:16.322996Z"
    }
   },
   "outputs": [
    {
     "name": "stderr",
     "output_type": "stream",
     "text": [
      "100%|██████████| 132/132 [00:18<00:00,  7.10it/s]\n"
     ]
    }
   ],
   "source": [
    "# label bars\n",
    "label_horizon_mins = 30\n",
    "risk_level = 0.2\n",
    "# reward_base = 1\n",
    "reward_ratios = np.arange(3, 20, .5)\n",
    "\n",
    "# lbars = bl.label_bars_triple_barrier(bars, ticks_df, risk_level, label_horizon_mins, reward_base)\n",
    "\n",
    "lbars = bl.label_bars(bars, ticks_df, risk_level, label_horizon_mins, reward_ratios)\n",
    "\n",
    "lbars_df = pd.DataFrame(lbars)"
   ]
  },
  {
   "cell_type": "code",
   "execution_count": null,
   "metadata": {
    "ExecuteTime": {
     "end_time": "2020-09-30T01:35:33.531161Z",
     "start_time": "2020-09-30T01:35:31.255669Z"
    },
    "code_folding": []
   },
   "outputs": [],
   "source": [
    "lbars_df[['price_wmean', 'label_rrr']].plot(subplots=True, figsize=[17,12])"
   ]
  },
  {
   "cell_type": "code",
   "execution_count": null,
   "metadata": {},
   "outputs": [],
   "source": [
    "samples_info_sets = lbars_df[['open_at', 'close_at']]\n",
    "samples_info_sets = samples_info_sets.set_index('open_at')\n",
    "samples_info_sets.columns = ['t1']\n",
    "samples_info_sets"
   ]
  },
  {
   "cell_type": "code",
   "execution_count": null,
   "metadata": {},
   "outputs": [],
   "source": [
    "price_bars = lbars_df[['close_at', 'open_at', 'price_close']]\n",
    "price_bars = price_bars.set_index('close_at')\n",
    "# price_bars.columns = ['close']\n",
    "price_bars"
   ]
  },
  {
   "cell_type": "code",
   "execution_count": null,
   "metadata": {},
   "outputs": [],
   "source": [
    "import mlfinlab_bootstrapping as mlb\n",
    "import mlfinlab_concurrent as mlc\n",
    "import mlfinlab_mp as mlmp"
   ]
  },
  {
   "cell_type": "code",
   "execution_count": null,
   "metadata": {},
   "outputs": [],
   "source": [
    "bar_index = list(lbars_df.close_at)"
   ]
  },
  {
   "cell_type": "code",
   "execution_count": null,
   "metadata": {},
   "outputs": [],
   "source": [
    "bar_index.extend(lbars_df.label_outcome)"
   ]
  },
  {
   "cell_type": "code",
   "execution_count": null,
   "metadata": {},
   "outputs": [],
   "source": [
    "out = mlc.get_av_uniqueness_from_triple_barrier(samples_info_sets, price_bars, 1)\n",
    "out"
   ]
  },
  {
   "cell_type": "code",
   "execution_count": null,
   "metadata": {},
   "outputs": [],
   "source": [
    "(lbars_df.label_outcome_at - lbars_df.close_at).describe()"
   ]
  },
  {
   "cell_type": "code",
   "execution_count": null,
   "metadata": {},
   "outputs": [],
   "source": [
    "ind_mat = mlb.get_ind_matrix(samples_info_sets, price_bars)\n",
    "\n",
    "mlb.get_ind_mat_average_uniqueness(ind_mat)"
   ]
  }
 ],
 "metadata": {
  "kernelspec": {
   "display_name": "Python 3",
   "language": "python",
   "name": "python3"
  },
  "language_info": {
   "codemirror_mode": {
    "name": "ipython",
    "version": 3
   },
   "file_extension": ".py",
   "mimetype": "text/x-python",
   "name": "python",
   "nbconvert_exporter": "python",
   "pygments_lexer": "ipython3",
   "version": "3.7.8"
  },
  "varInspector": {
   "cols": {
    "lenName": 16,
    "lenType": 16,
    "lenVar": 40
   },
   "kernels_config": {
    "python": {
     "delete_cmd_postfix": "",
     "delete_cmd_prefix": "del ",
     "library": "var_list.py",
     "varRefreshCmd": "print(var_dic_list())"
    },
    "r": {
     "delete_cmd_postfix": ") ",
     "delete_cmd_prefix": "rm(",
     "library": "var_list.r",
     "varRefreshCmd": "cat(var_dic_list()) "
    }
   },
   "types_to_exclude": [
    "module",
    "function",
    "builtin_function_or_method",
    "instance",
    "_Feature"
   ],
   "window_display": false
  }
 },
 "nbformat": 4,
 "nbformat_minor": 4
}
