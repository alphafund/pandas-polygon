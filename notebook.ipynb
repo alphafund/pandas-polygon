{
 "cells": [
  {
   "cell_type": "code",
   "execution_count": null,
   "metadata": {},
   "outputs": [],
   "source": [
    "import ray\n",
    "ray.shutdown()"
   ]
  },
  {
   "cell_type": "code",
   "execution_count": 2,
   "metadata": {
    "ExecuteTime": {
     "end_time": "2020-09-30T01:17:28.615776Z",
     "start_time": "2020-09-30T01:17:28.454787Z"
    },
    "execution": {
     "iopub.execute_input": "2020-11-09T12:00:20.193905Z",
     "iopub.status.busy": "2020-11-09T12:00:20.193568Z",
     "iopub.status.idle": "2020-11-09T12:00:21.167178Z",
     "shell.execute_reply": "2020-11-09T12:00:21.163303Z",
     "shell.execute_reply.started": "2020-11-09T12:00:20.193875Z"
    }
   },
   "outputs": [
    {
     "name": "stdout",
     "output_type": "stream",
     "text": [
      "The autoreload extension is already loaded. To reload it, use:\n",
      "  %reload_ext autoreload\n"
     ]
    },
    {
     "ename": "ModuleNotFoundError",
     "evalue": "No module named 'polygon_backfill'",
     "output_type": "error",
     "traceback": [
      "\u001b[0;31m---------------------------------------------------------------------------\u001b[0m",
      "\u001b[0;31mModuleNotFoundError\u001b[0m                       Traceback (most recent call last)",
      "\u001b[0;32m<ipython-input-2-7dfa26dc7f44>\u001b[0m in \u001b[0;36m<module>\u001b[0;34m\u001b[0m\n\u001b[1;32m     19\u001b[0m \u001b[0;32mimport\u001b[0m \u001b[0mfilters\u001b[0m \u001b[0;32mas\u001b[0m \u001b[0mft\u001b[0m\u001b[0;34m\u001b[0m\u001b[0;34m\u001b[0m\u001b[0m\n\u001b[1;32m     20\u001b[0m \u001b[0;34m\u001b[0m\u001b[0m\n\u001b[0;32m---> 21\u001b[0;31m \u001b[0;32mimport\u001b[0m \u001b[0mflow_backfill\u001b[0m \u001b[0;32mas\u001b[0m \u001b[0mfb\u001b[0m\u001b[0;34m\u001b[0m\u001b[0;34m\u001b[0m\u001b[0m\n\u001b[0m\u001b[1;32m     22\u001b[0m \u001b[0;34m\u001b[0m\u001b[0m\n\u001b[1;32m     23\u001b[0m \u001b[0;31m# import market_cluster as mc\u001b[0m\u001b[0;34m\u001b[0m\u001b[0;34m\u001b[0m\u001b[0;34m\u001b[0m\u001b[0m\n",
      "\u001b[0;32m~/QuantClarity/pandas-polygon/flow_backfill.py\u001b[0m in \u001b[0;36m<module>\u001b[0;34m\u001b[0m\n\u001b[1;32m      3\u001b[0m \u001b[0;32mfrom\u001b[0m \u001b[0mprefect\u001b[0m \u001b[0;32mimport\u001b[0m \u001b[0mFlow\u001b[0m\u001b[0;34m,\u001b[0m \u001b[0mParameter\u001b[0m\u001b[0;34m,\u001b[0m \u001b[0mtask\u001b[0m\u001b[0;34m,\u001b[0m \u001b[0munmapped\u001b[0m\u001b[0;34m\u001b[0m\u001b[0;34m\u001b[0m\u001b[0m\n\u001b[1;32m      4\u001b[0m \u001b[0;32mfrom\u001b[0m \u001b[0mprefect\u001b[0m\u001b[0;34m.\u001b[0m\u001b[0mengine\u001b[0m\u001b[0;34m.\u001b[0m\u001b[0mexecutors\u001b[0m \u001b[0;32mimport\u001b[0m \u001b[0mDaskExecutor\u001b[0m\u001b[0;34m,\u001b[0m \u001b[0mLocalExecutor\u001b[0m\u001b[0;34m\u001b[0m\u001b[0;34m\u001b[0m\u001b[0m\n\u001b[0;32m----> 5\u001b[0;31m \u001b[0;32mfrom\u001b[0m \u001b[0mpolygon_backfill\u001b[0m \u001b[0;32mimport\u001b[0m \u001b[0mget_open_market_dates\u001b[0m\u001b[0;34m,\u001b[0m \u001b[0mfind_remaining_dates\u001b[0m\u001b[0;34m,\u001b[0m \u001b[0mbackfill_date\u001b[0m\u001b[0;34m\u001b[0m\u001b[0;34m\u001b[0m\u001b[0m\n\u001b[0m\u001b[1;32m      6\u001b[0m \u001b[0;32mfrom\u001b[0m \u001b[0mpolygon_s3\u001b[0m \u001b[0;32mimport\u001b[0m \u001b[0mlist_symbol_dates\u001b[0m\u001b[0;34m\u001b[0m\u001b[0;34m\u001b[0m\u001b[0m\n\u001b[1;32m      7\u001b[0m \u001b[0;34m\u001b[0m\u001b[0m\n",
      "\u001b[0;31mModuleNotFoundError\u001b[0m: No module named 'polygon_backfill'"
     ]
    }
   ],
   "source": [
    "%load_ext autoreload\n",
    "%autoreload 2\n",
    "\n",
    "import numpy as np\n",
    "import pandas as pd\n",
    "import pandas_bokeh\n",
    "from qgrid import show_grid\n",
    "# import finplot as fplt\n",
    "\n",
    "import polygon_rest_api as papi\n",
    "import polygon_ws_api as pws\n",
    "import polygon_df as pdf\n",
    "import polygon_ds as pds\n",
    "import polygon_s3 as ps3\n",
    "\n",
    "import bar_samples as bs\n",
    "import bar_labels as bl\n",
    "import bar_meta as bm\n",
    "import filters as ft\n",
    "\n",
    "import flow_backfill as fb\n",
    "\n",
    "# import market_cluster as mc\n",
    "\n",
    "import matplotlib as mpl\n",
    "from matplotlib import style\n",
    "style.use('fivethirtyeight')\n",
    "mpl.rcParams['figure.figsize'] = [20, 7]\n",
    "\n",
    "# import ipdb\n",
    "# ipdb.set_trace(context=10)\n",
    "\n",
    "# df.style.background_gradient(cmap='coolwarm', axis=None, vmin=-1, vmax=1)  # 'Blues', 'coolwarm', 'RdBu_r' & 'BrBG' are other good diverging colormaps\n",
    "# pd.set_option('precision', 2)\n",
    "\n",
    "# .plot_bokeh(sizing_mode=\"scale_height\")"
   ]
  },
  {
   "cell_type": "code",
   "execution_count": null,
   "metadata": {},
   "outputs": [],
   "source": [
    "symbol='GLD'\n",
    "# symbol = 'market'\n",
    "# date = '2020-01-02'\n",
    "# start_date = '2020-01-01'\n",
    "start_date = '2020-10-01'\n",
    "end_date = '2020-10-10'\n",
    "# symbols=['SPY', 'QQQ']\n",
    "tick_type='trades'\n",
    "\n",
    "thresh = {\n",
    "    # max thresholds\n",
    "    'renko_reveral_multiple': 2,\n",
    "    'max_duration_sec': 60*60,\n",
    "    # min thresholds\n",
    "    'min_duration_sec': 15,\n",
    "    'min_tick_count': 30,\n",
    "}\n",
    "\n",
    "horizon_mins=30"
   ]
  },
  {
   "cell_type": "code",
   "execution_count": null,
   "metadata": {},
   "outputs": [],
   "source": [
    "df = ps3.load_ticks(sym, '2020-11-05')"
   ]
  },
  {
   "cell_type": "code",
   "execution_count": null,
   "metadata": {},
   "outputs": [],
   "source": [
    "df = ps3.load_ticks(symbol, '2020-11-05')\n",
    "sdf = df.loc[df.irregular==False]\n",
    "sdf2 = ft.jma_filter_df(sdf, 'price', length=5, power=0.5)"
   ]
  },
  {
   "cell_type": "code",
   "execution_count": null,
   "metadata": {},
   "outputs": [],
   "source": [
    "(abs(sdf2.price - sdf2.price_jma) / sdf2.price_jma).describe(percentiles=[.99,.999,.9995,.9999])"
   ]
  },
  {
   "cell_type": "code",
   "execution_count": null,
   "metadata": {},
   "outputs": [],
   "source": [
    "fb.run_backfill(symbols=['GLD'], tick_type='trades', start_date='2020-10-01')\n",
    "# fb.run_backfill(symbols=['market'], tick_type='daily', start_date='2020-10-01')"
   ]
  },
  {
   "cell_type": "code",
   "execution_count": null,
   "metadata": {},
   "outputs": [],
   "source": [
    "import ray\n",
    "ray.init(ignore_reinit_error=True, num_cpus=4, dashboard_port=8080)\n",
    "\n",
    "daily_bar_stats_df, labeled_bar_dates, stacked_bars_df = bm.bars_workflow_ray( \n",
    "    symbol, \n",
    "    start_date, \n",
    "    end_date, \n",
    "    thresh,\n",
    "    imbalance_thresh=0.9\n",
    ")"
   ]
  },
  {
   "cell_type": "code",
   "execution_count": null,
   "metadata": {},
   "outputs": [],
   "source": [
    "import pickle \n",
    "fio = open('bars_workflow_ray-new.pickle', 'wb') \n",
    "pickle.dump((daily_bar_stats_df, labeled_bar_dates, stacked_bars_df), fio)"
   ]
  },
  {
   "cell_type": "code",
   "execution_count": null,
   "metadata": {},
   "outputs": [],
   "source": [
    "data = (daily_bar_stats_df, labeled_bar_dates, stacked_bars_df)\n",
    "file = open('test.pickle', mode='wb')\n",
    "pickle.dump(data, file, protocol=pickle.HIGHEST_PROTOCOL)"
   ]
  },
  {
   "cell_type": "code",
   "execution_count": null,
   "metadata": {},
   "outputs": [],
   "source": [
    "with open(\"test.pickle\", \"rb\") as input_file:\n",
    "    e = pickle.load(input_file)"
   ]
  },
  {
   "cell_type": "code",
   "execution_count": null,
   "metadata": {},
   "outputs": [],
   "source": [
    "lbars_df[['price_wmean', 'label_rrr']].plot_bokeh(sizing_mode=\"scale_height\")\n",
    "# 17, 31"
   ]
  },
  {
   "cell_type": "code",
   "execution_count": null,
   "metadata": {
    "ExecuteTime": {
     "end_time": "2020-09-30T01:35:33.531161Z",
     "start_time": "2020-09-30T01:35:31.255669Z"
    },
    "code_folding": []
   },
   "outputs": [],
   "source": [
    "lbars_df[['price_wmean', 'label_rrr']].plot(subplots=True, figsize=[17,12])"
   ]
  }
 ],
 "metadata": {
  "kernelspec": {
   "display_name": "Python 3",
   "language": "python",
   "name": "python3"
  },
  "language_info": {
   "codemirror_mode": {
    "name": "ipython",
    "version": 3
   },
   "file_extension": ".py",
   "mimetype": "text/x-python",
   "name": "python",
   "nbconvert_exporter": "python",
   "pygments_lexer": "ipython3",
   "version": "3.7.8"
  },
  "varInspector": {
   "cols": {
    "lenName": 16,
    "lenType": 16,
    "lenVar": 40
   },
   "kernels_config": {
    "python": {
     "delete_cmd_postfix": "",
     "delete_cmd_prefix": "del ",
     "library": "var_list.py",
     "varRefreshCmd": "print(var_dic_list())"
    },
    "r": {
     "delete_cmd_postfix": ") ",
     "delete_cmd_prefix": "rm(",
     "library": "var_list.r",
     "varRefreshCmd": "cat(var_dic_list()) "
    }
   },
   "types_to_exclude": [
    "module",
    "function",
    "builtin_function_or_method",
    "instance",
    "_Feature"
   ],
   "window_display": false
  }
 },
 "nbformat": 4,
 "nbformat_minor": 4
}
