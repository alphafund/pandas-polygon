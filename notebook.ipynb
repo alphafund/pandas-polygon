{
 "cells": [
  {
   "cell_type": "code",
   "execution_count": 7,
   "metadata": {
    "ExecuteTime": {
     "end_time": "2020-09-30T01:17:28.615776Z",
     "start_time": "2020-09-30T01:17:28.454787Z"
    },
    "execution": {
     "iopub.execute_input": "2020-10-27T04:24:12.669323Z",
     "iopub.status.busy": "2020-10-27T04:24:12.668744Z",
     "iopub.status.idle": "2020-10-27T04:24:14.668238Z",
     "shell.execute_reply": "2020-10-27T04:24:14.666320Z",
     "shell.execute_reply.started": "2020-10-27T04:24:12.669254Z"
    }
   },
   "outputs": [],
   "source": [
    "%load_ext autoreload\n",
    "%autoreload 2\n",
    "\n",
    "import numpy as np\n",
    "import pandas as pd\n",
    "import pandas_bokeh\n",
    "from qgrid import show_grid\n",
    "# import finplot as fplt\n",
    "\n",
    "import polygon_rest_api as papi\n",
    "import polygon_backfill as pb\n",
    "import polygon_s3 as ps3\n",
    "import bar_samples as bs\n",
    "import bar_labels as bl\n",
    "import bar_meta as bm\n",
    "import filters as ft\n",
    "# import market_cluster as mc\n",
    "\n",
    "import matplotlib as mpl\n",
    "mpl.rcParams['figure.figsize'] = [20, 7]\n",
    "from matplotlib import style\n",
    "style.use('fivethirtyeight')\n",
    "\n",
    "# from tqdm import tqdm\n",
    "# import ipdb\n",
    "# ipdb.set_trace(context=10)\n",
    "\n",
    "# df.style.background_gradient(cmap='coolwarm', axis=None, vmin=-1, vmax=1)  # 'Blues', 'coolwarm', 'RdBu_r' & 'BrBG' are other good diverging colormaps\n",
    "# pd.set_option('precision', 2)\n",
    "\n",
    "# get local market daily data\n",
    "# mdf = pd.read_parquet('data/mdf.parquet')\n",
    "\n",
    "# .plot_bokeh(sizing_mode=\"scale_height\")"
   ]
  },
  {
   "cell_type": "code",
   "execution_count": 9,
   "metadata": {
    "execution": {
     "iopub.execute_input": "2020-10-27T04:24:20.563977Z",
     "iopub.status.busy": "2020-10-27T04:24:20.563410Z",
     "iopub.status.idle": "2020-10-27T04:24:20.658189Z",
     "shell.execute_reply": "2020-10-27T04:24:20.656144Z",
     "shell.execute_reply.started": "2020-10-27T04:24:20.563925Z"
    }
   },
   "outputs": [],
   "source": [
    "symbol='GLD'\n",
    "# symbol = 'market'\n",
    "# date = '2020-01-02'\n",
    "start_date = '2020-01-01'\n",
    "# start_date = '2020-10-01'\n",
    "# end_date = '2020-01-10'\n",
    "# symbols=['SPY', 'QQQ']\n",
    "tick_type='trades'\n",
    "\n",
    "result_path = '/Users/bobcolner/QuantClarity/pandas-polygon/data'\n",
    "\n",
    "thresh = {\n",
    "    # GT thresholds\n",
    "    'renko_reveral_multiple': 2,\n",
    "    'duration_sec': 60*45,\n",
    "    # LT thresholds \n",
    "    'min_duration_sec': 10,\n",
    "    'min_tick_count': 30,\n",
    "}"
   ]
  },
  {
   "cell_type": "code",
   "execution_count": 10,
   "metadata": {
    "execution": {
     "iopub.execute_input": "2020-10-27T04:24:26.249174Z",
     "iopub.status.busy": "2020-10-27T04:24:26.239927Z",
     "iopub.status.idle": "2020-10-27T04:24:29.202135Z",
     "shell.execute_reply": "2020-10-27T04:24:29.200714Z",
     "shell.execute_reply.started": "2020-10-27T04:24:26.249109Z"
    }
   },
   "outputs": [],
   "source": [
    "daily_vol_df = ps3.get_symbol_vol_filter(result_path, symbol, start_date)\n",
    "daily_vol_df.loc[:, 'range_jma_lag'] = daily_vol_df.range_jma.shift(1)\n",
    "daily_vol_df = daily_vol_df.dropna()\n"
   ]
  },
  {
   "cell_type": "code",
   "execution_count": null,
   "metadata": {
    "scrolled": true
   },
   "outputs": [],
   "source": [
    "bar_dates = bm.build_bars_dates_ray(daily_vol_df, thresh, result_path, symbol)"
   ]
  },
  {
   "cell_type": "code",
   "execution_count": 22,
   "metadata": {
    "execution": {
     "iopub.execute_input": "2020-10-27T04:35:25.307578Z",
     "iopub.status.busy": "2020-10-27T04:35:25.307113Z",
     "iopub.status.idle": "2020-10-27T04:35:25.658394Z",
     "shell.execute_reply": "2020-10-27T04:35:25.657394Z",
     "shell.execute_reply.started": "2020-10-27T04:35:25.307534Z"
    }
   },
   "outputs": [],
   "source": [
    "daily_bar_stats_df = bm.process_bar_dates(bar_dates)"
   ]
  },
  {
   "cell_type": "code",
   "execution_count": 23,
   "metadata": {
    "execution": {
     "iopub.execute_input": "2020-10-27T04:35:27.339332Z",
     "iopub.status.busy": "2020-10-27T04:35:27.338847Z",
     "iopub.status.idle": "2020-10-27T04:35:27.452209Z",
     "shell.execute_reply": "2020-10-27T04:35:27.450842Z",
     "shell.execute_reply.started": "2020-10-27T04:35:27.339286Z"
    }
   },
   "outputs": [],
   "source": [
    "daily_join_df = pd.merge(left=daily_bar_stats_df, right=daily_vol_df, left_on='date', right_on='date')"
   ]
  },
  {
   "cell_type": "code",
   "execution_count": null,
   "metadata": {
    "execution": {
     "iopub.execute_input": "2020-10-27T04:35:41.866529Z",
     "iopub.status.busy": "2020-10-27T04:35:41.866089Z"
    },
    "scrolled": true
   },
   "outputs": [
    {
     "name": "stderr",
     "output_type": "stream",
     "text": [
      "2020-10-27 00:35:42,455\tINFO services.py:1166 -- View the Ray dashboard at \u001b[1m\u001b[32mhttp://127.0.0.1:8265\u001b[39m\u001b[22m\n"
     ]
    },
    {
     "name": "stdout",
     "output_type": "stream",
     "text": [
      "\u001b[2m\u001b[36m(pid=93313)\u001b[0m GLD 2020-01-06 trying to get ticks from local file...\n",
      "\u001b[2m\u001b[36m(pid=93312)\u001b[0m GLD 2020-01-07 trying to get ticks from local file...\n",
      "\u001b[2m\u001b[36m(pid=93311)\u001b[0m GLD 2020-01-08 trying to get ticks from local file...\n",
      "\u001b[2m\u001b[36m(pid=93314)\u001b[0m GLD 2020-01-09 trying to get ticks from local file...\n",
      "\u001b[2m\u001b[36m(pid=93327)\u001b[0m GLD 2020-01-10 trying to get ticks from local file...\n",
      "\u001b[2m\u001b[36m(pid=93312)\u001b[0m GLD 2020-01-13 trying to get ticks from local file...\n",
      "\u001b[2m\u001b[36m(pid=93313)\u001b[0m GLD 2020-01-14 trying to get ticks from local file...\n",
      "\u001b[2m\u001b[36m(pid=93327)\u001b[0m GLD 2020-01-15 trying to get ticks from local file...\n",
      "\u001b[2m\u001b[36m(pid=93312)\u001b[0m GLD 2020-01-16 trying to get ticks from local file...\n",
      "\u001b[2m\u001b[36m(pid=93313)\u001b[0m GLD 2020-01-17 trying to get ticks from local file...\n",
      "\u001b[2m\u001b[36m(pid=93327)\u001b[0m GLD 2020-01-21 trying to get ticks from local file...\n",
      "\u001b[2m\u001b[36m(pid=93311)\u001b[0m GLD 2020-01-22 trying to get ticks from local file...\n",
      "\u001b[2m\u001b[36m(pid=93312)\u001b[0m GLD 2020-01-23 trying to get ticks from local file...\n",
      "\u001b[2m\u001b[36m(pid=93313)\u001b[0m GLD 2020-01-24 trying to get ticks from local file...\n",
      "\u001b[2m\u001b[36m(pid=93311)\u001b[0m GLD 2020-01-27 trying to get ticks from local file...\n",
      "\u001b[2m\u001b[36m(pid=93327)\u001b[0m GLD 2020-01-28 trying to get ticks from local file...\n",
      "\u001b[2m\u001b[36m(pid=93312)\u001b[0m GLD 2020-01-29 trying to get ticks from local file...\n",
      "\u001b[2m\u001b[36m(pid=93327)\u001b[0m GLD 2020-01-30 trying to get ticks from local file...\n",
      "\u001b[2m\u001b[36m(pid=93313)\u001b[0m GLD 2020-01-31 trying to get ticks from local file...\n",
      "\u001b[2m\u001b[36m(pid=93311)\u001b[0m GLD 2020-02-03 trying to get ticks from local file...\n",
      "\u001b[2m\u001b[36m(pid=93312)\u001b[0m GLD 2020-02-04 trying to get ticks from local file...\n",
      "\u001b[2m\u001b[36m(pid=93311)\u001b[0m GLD 2020-02-05 trying to get ticks from local file...\n"
     ]
    }
   ],
   "source": [
    "bar_dates_2 = bm.build_bars_dates_ray(daily_join_df, thresh, result_path, symbol)"
   ]
  },
  {
   "cell_type": "code",
   "execution_count": null,
   "metadata": {},
   "outputs": [],
   "source": [
    "bars_df = pd.DataFrame(bar_dates_2[0]['bars'])\n",
    "bars_df = pd.DataFrame(bar_dates[0]['bars'])"
   ]
  },
  {
   "cell_type": "code",
   "execution_count": null,
   "metadata": {},
   "outputs": [],
   "source": [
    "abs(bars_df.tick_imbalance).describe()"
   ]
  },
  {
   "cell_type": "code",
   "execution_count": null,
   "metadata": {},
   "outputs": [],
   "source": [
    "pd.DataFrame(bar_dates_3[130]['bars']).bar_trigger.value_counts()"
   ]
  },
  {
   "cell_type": "code",
   "execution_count": null,
   "metadata": {},
   "outputs": [],
   "source": [
    "pd.Series([len(date['bars']) for date in bar_dates_3]).describe()"
   ]
  },
  {
   "cell_type": "code",
   "execution_count": null,
   "metadata": {},
   "outputs": [],
   "source": [
    "pd.Series([len(date['bars']) for date in bar_dates_2]).describe()"
   ]
  },
  {
   "cell_type": "code",
   "execution_count": null,
   "metadata": {},
   "outputs": [],
   "source": [
    "pd.Series([len(date['bars']) for date in bar_dates]).describe()"
   ]
  },
  {
   "cell_type": "code",
   "execution_count": null,
   "metadata": {},
   "outputs": [],
   "source": [
    "results = []\n",
    "for date_d in bar_dates:\n",
    "    \n",
    "    imbalances = []    \n",
    "    for bar in date_d['bars']:\n",
    "        imbalances.append(bar['tick_imbalance'])\n",
    "    \n",
    "    imbal_q80 = pd.Series(imbalances).quantile(q=.8)\n",
    "    results.append({'date': date_d['date'], 'bar_count': len(date_d['bars']), 'tick_imbalance_p80': imbal_q80})\n"
   ]
  },
  {
   "cell_type": "code",
   "execution_count": null,
   "metadata": {},
   "outputs": [],
   "source": [
    "show_grid(pd.DataFrame(bar_dates[open_dates[2]])[['bar_trigger','open_at','close_at','duration_min','ticks','price_wmean']])"
   ]
  },
  {
   "cell_type": "code",
   "execution_count": null,
   "metadata": {},
   "outputs": [],
   "source": [
    "# range / price = HFT profit potential\n",
    "(df.price.max() - df.price.min()) / df.price.mean()"
   ]
  },
  {
   "cell_type": "code",
   "execution_count": null,
   "metadata": {
    "ExecuteTime": {
     "end_time": "2020-09-30T01:32:03.075156Z",
     "start_time": "2020-09-30T01:30:56.526391Z"
    }
   },
   "outputs": [],
   "source": [
    "# label bars\n",
    "label_horizon_mins = 30\n",
    "risk_level = 0.2\n",
    "# reward_base = 1\n",
    "reward_ratios = np.arange(3, 20, .5)\n",
    "\n",
    "lbars = bl.label_bars(bars, ticks_df, risk_level, label_horizon_mins, reward_ratios)\n",
    "\n",
    "lbars_df = pd.DataFrame(lbars)\n",
    "\n",
    "lbars_unq = bl.get_concurrent_stats(lbars_df)\n",
    "print(lbars_unq['grand_avg_unq'])"
   ]
  },
  {
   "cell_type": "code",
   "execution_count": null,
   "metadata": {},
   "outputs": [],
   "source": [
    "lbars_df[['price_wmean', 'label_rrr']].plot_bokeh(sizing_mode=\"scale_height\")\n",
    "# 17, 31"
   ]
  },
  {
   "cell_type": "code",
   "execution_count": null,
   "metadata": {
    "ExecuteTime": {
     "end_time": "2020-09-30T01:35:33.531161Z",
     "start_time": "2020-09-30T01:35:31.255669Z"
    },
    "code_folding": []
   },
   "outputs": [],
   "source": [
    "lbars_df[['price_wmean', 'label_rrr']].plot(subplots=True, figsize=[17,12])"
   ]
  },
  {
   "cell_type": "code",
   "execution_count": null,
   "metadata": {},
   "outputs": [],
   "source": [
    "df[['range', 'range_jma']].plot()\n",
    "# df2[['range', 'range_jma']].plot_bokeh(sizing_mode=\"scale_height\")"
   ]
  }
 ],
 "metadata": {
  "kernelspec": {
   "display_name": "Python 3",
   "language": "python",
   "name": "python3"
  },
  "language_info": {
   "codemirror_mode": {
    "name": "ipython",
    "version": 3
   },
   "file_extension": ".py",
   "mimetype": "text/x-python",
   "name": "python",
   "nbconvert_exporter": "python",
   "pygments_lexer": "ipython3",
   "version": "3.7.8"
  },
  "varInspector": {
   "cols": {
    "lenName": 16,
    "lenType": 16,
    "lenVar": 40
   },
   "kernels_config": {
    "python": {
     "delete_cmd_postfix": "",
     "delete_cmd_prefix": "del ",
     "library": "var_list.py",
     "varRefreshCmd": "print(var_dic_list())"
    },
    "r": {
     "delete_cmd_postfix": ") ",
     "delete_cmd_prefix": "rm(",
     "library": "var_list.r",
     "varRefreshCmd": "cat(var_dic_list()) "
    }
   },
   "types_to_exclude": [
    "module",
    "function",
    "builtin_function_or_method",
    "instance",
    "_Feature"
   ],
   "window_display": false
  }
 },
 "nbformat": 4,
 "nbformat_minor": 4
}
