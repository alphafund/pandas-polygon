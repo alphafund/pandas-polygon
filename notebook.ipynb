{
 "cells": [
  {
   "cell_type": "code",
   "execution_count": 1,
   "metadata": {
    "ExecuteTime": {
     "end_time": "2020-09-30T01:17:28.615776Z",
     "start_time": "2020-09-30T01:17:28.454787Z"
    },
    "execution": {
     "iopub.execute_input": "2020-10-20T21:16:09.397414Z",
     "iopub.status.busy": "2020-10-20T21:16:09.397040Z",
     "iopub.status.idle": "2020-10-20T21:16:15.669816Z",
     "shell.execute_reply": "2020-10-20T21:16:15.668592Z",
     "shell.execute_reply.started": "2020-10-20T21:16:09.397319Z"
    }
   },
   "outputs": [],
   "source": [
    "%load_ext autoreload\n",
    "%autoreload 2\n",
    "\n",
    "import numpy as np\n",
    "import pandas as pd\n",
    "import pandas_bokeh\n",
    "# import finplot as fplt\n",
    "\n",
    "import polygon_rest_api as papi\n",
    "import polygon_backfill as pb\n",
    "# import ray_backfill as rb\n",
    "import polygon_s3 as ps3\n",
    "import bar_samples as bs\n",
    "import bar_labels as bl\n",
    "\n",
    "# import filters as ft\n",
    "# import market_cluster as mc\n",
    "\n",
    "import matplotlib as mpl\n",
    "mpl.rcParams['figure.figsize'] = [20, 7]\n",
    "from matplotlib import style\n",
    "style.use('fivethirtyeight')\n",
    "\n",
    "# import ipdb\n",
    "# ipdb.set_trace(context=10)\n",
    "\n",
    "# df.style.background_gradient(cmap='coolwarm', axis=None, vmin=-1, vmax=1)  # 'Blues', 'coolwarm', 'RdBu_r' & 'BrBG' are other good diverging colormaps\n",
    "# pd.set_option('precision', 2)\n",
    "\n",
    "# get local market daily data\n",
    "# mdf = pd.read_parquet('data/mdf.parquet')\n",
    "\n",
    "# .plot_bokeh(sizing_mode=\"scale_height\")"
   ]
  },
  {
   "cell_type": "code",
   "execution_count": 8,
   "metadata": {
    "execution": {
     "iopub.execute_input": "2020-10-20T21:17:15.687823Z",
     "iopub.status.busy": "2020-10-20T21:17:15.687427Z",
     "iopub.status.idle": "2020-10-20T21:17:15.784416Z",
     "shell.execute_reply": "2020-10-20T21:17:15.782996Z",
     "shell.execute_reply.started": "2020-10-20T21:17:15.687776Z"
    }
   },
   "outputs": [],
   "source": [
    "symbol='GLD'\n",
    "# symbol = 'market'\n",
    "date = '2020-01-02'\n",
    "start_date = '2020-01-01' \n",
    "end_date = '2020-01-10'\n",
    "symbols=['SPY', 'QQQ']\n",
    "tick_type='trades'\n",
    "# tick_type = None\n",
    "\n",
    "result_path = '/Users/bobcolner/QuantClarity/pandas-polygon/data'"
   ]
  },
  {
   "cell_type": "code",
   "execution_count": 9,
   "metadata": {
    "execution": {
     "iopub.execute_input": "2020-10-20T21:17:16.844577Z",
     "iopub.status.busy": "2020-10-20T21:17:16.844212Z",
     "iopub.status.idle": "2020-10-20T21:17:17.097013Z",
     "shell.execute_reply": "2020-10-20T21:17:17.095646Z",
     "shell.execute_reply.started": "2020-10-20T21:17:16.844534Z"
    }
   },
   "outputs": [],
   "source": [
    "open_dates = pb.get_open_market_dates(start_date, end_date)"
   ]
  },
  {
   "cell_type": "code",
   "execution_count": null,
   "metadata": {},
   "outputs": [],
   "source": [
    "thresh = {\n",
    "    # GT thresholds\n",
    "    'renko_size': 0.2,\n",
    "    'renko_reveral_multiple': 2,\n",
    "    'duration_sec': 60*30,\n",
    "    'tick_imbalance': 150,\n",
    "    # LT thresholds \n",
    "    'min_duration_sec': 15,\n",
    "    'min_tick_count': 30,\n",
    "}\n",
    "bar_dates = []\n",
    "bar_dates_d = {}\n",
    "for date in open_dates:\n",
    "    \n",
    "    tdf = ps3.load_ticks(result_path, symbol, date)\n",
    "    \n",
    "    bars, state = bs.build_bars(tdf, thresh)\n",
    "    bar_dates.append(bars)\n",
    "    bar_dates_d[date] = bars"
   ]
  },
  {
   "cell_type": "code",
   "execution_count": 48,
   "metadata": {
    "execution": {
     "iopub.execute_input": "2020-10-20T23:39:33.201779Z",
     "iopub.status.busy": "2020-10-20T23:39:33.201493Z",
     "iopub.status.idle": "2020-10-20T23:39:33.295492Z",
     "shell.execute_reply": "2020-10-20T23:39:33.294537Z",
     "shell.execute_reply.started": "2020-10-20T23:39:33.201747Z"
    }
   },
   "outputs": [],
   "source": [
    "end_price = bar_dates[0][-1]['price_wmean']\n",
    "start_price = bar_dates[1][0]['price_wmean']"
   ]
  },
  {
   "cell_type": "code",
   "execution_count": null,
   "metadata": {},
   "outputs": [],
   "source": [
    "def fill_gap_renko(start_price, end_price, renko_size):\n",
    "    "
   ]
  },
  {
   "cell_type": "code",
   "execution_count": 50,
   "metadata": {
    "execution": {
     "iopub.execute_input": "2020-10-20T23:39:45.102861Z",
     "iopub.status.busy": "2020-10-20T23:39:45.102391Z",
     "iopub.status.idle": "2020-10-20T23:39:45.219632Z",
     "shell.execute_reply": "2020-10-20T23:39:45.218628Z",
     "shell.execute_reply.started": "2020-10-20T23:39:45.102807Z"
    }
   },
   "outputs": [
    {
     "data": {
      "text/plain": [
       "145.68966501212864"
      ]
     },
     "execution_count": 50,
     "metadata": {},
     "output_type": "execute_result"
    }
   ],
   "source": [
    "start_price"
   ]
  },
  {
   "cell_type": "code",
   "execution_count": 53,
   "metadata": {
    "execution": {
     "iopub.execute_input": "2020-10-20T23:49:25.709852Z",
     "iopub.status.busy": "2020-10-20T23:49:25.708464Z",
     "iopub.status.idle": "2020-10-20T23:49:25.833355Z",
     "shell.execute_reply": "2020-10-20T23:49:25.817949Z",
     "shell.execute_reply.started": "2020-10-20T23:49:25.709799Z"
    }
   },
   "outputs": [
    {
     "data": {
      "text/plain": [
       "143.99282257581496"
      ]
     },
     "execution_count": 53,
     "metadata": {},
     "output_type": "execute_result"
    }
   ],
   "source": [
    "end_price"
   ]
  },
  {
   "cell_type": "code",
   "execution_count": 52,
   "metadata": {
    "execution": {
     "iopub.execute_input": "2020-10-20T23:47:03.160853Z",
     "iopub.status.busy": "2020-10-20T23:47:03.160459Z",
     "iopub.status.idle": "2020-10-20T23:47:03.283179Z",
     "shell.execute_reply": "2020-10-20T23:47:03.282021Z",
     "shell.execute_reply.started": "2020-10-20T23:47:03.160798Z"
    }
   },
   "outputs": [
    {
     "data": {
      "text/plain": [
       "8.484212181568438"
      ]
     },
     "execution_count": 52,
     "metadata": {},
     "output_type": "execute_result"
    }
   ],
   "source": [
    "(start_price - end_price) / renko_size"
   ]
  },
  {
   "cell_type": "code",
   "execution_count": null,
   "metadata": {},
   "outputs": [],
   "source": [
    "start_price +"
   ]
  },
  {
   "cell_type": "code",
   "execution_count": 41,
   "metadata": {
    "ExecuteTime": {
     "end_time": "2020-09-30T01:30:55.786854Z",
     "start_time": "2020-09-30T01:30:48.155554Z"
    },
    "execution": {
     "iopub.execute_input": "2020-10-20T23:38:29.252183Z",
     "iopub.status.busy": "2020-10-20T23:38:29.251640Z",
     "iopub.status.idle": "2020-10-20T23:38:29.321934Z",
     "shell.execute_reply": "2020-10-20T23:38:29.320405Z",
     "shell.execute_reply.started": "2020-10-20T23:38:29.252033Z"
    }
   },
   "outputs": [
    {
     "ename": "NameError",
     "evalue": "name 'ticks_df' is not defined",
     "output_type": "error",
     "traceback": [
      "\u001b[0;31m---------------------------------------------------------------------------\u001b[0m",
      "\u001b[0;31mNameError\u001b[0m                                 Traceback (most recent call last)",
      "\u001b[0;32m<ipython-input-41-4cb887cca4ac>\u001b[0m in \u001b[0;36m<module>\u001b[0;34m\u001b[0m\n\u001b[1;32m     13\u001b[0m }\n\u001b[1;32m     14\u001b[0m \u001b[0;31m# ticks_df['epoch'] = ticks_df.date_time.astype(int)\u001b[0m\u001b[0;34m\u001b[0m\u001b[0;34m\u001b[0m\u001b[0;34m\u001b[0m\u001b[0m\n\u001b[0;32m---> 15\u001b[0;31m \u001b[0mtdf\u001b[0m \u001b[0;34m=\u001b[0m \u001b[0mticks_df\u001b[0m\u001b[0;34m.\u001b[0m\u001b[0mloc\u001b[0m\u001b[0;34m[\u001b[0m\u001b[0;34m(\u001b[0m\u001b[0mticks_df\u001b[0m\u001b[0;34m.\u001b[0m\u001b[0mdate_time\u001b[0m\u001b[0;34m.\u001b[0m\u001b[0mdt\u001b[0m\u001b[0;34m.\u001b[0m\u001b[0mhour\u001b[0m \u001b[0;34m>=\u001b[0m \u001b[0;36m13\u001b[0m\u001b[0;34m)\u001b[0m \u001b[0;34m&\u001b[0m \u001b[0;34m(\u001b[0m\u001b[0mticks_df\u001b[0m\u001b[0;34m.\u001b[0m\u001b[0mdate_time\u001b[0m\u001b[0;34m.\u001b[0m\u001b[0mdt\u001b[0m\u001b[0;34m.\u001b[0m\u001b[0mhour\u001b[0m \u001b[0;34m<=\u001b[0m \u001b[0;36m22\u001b[0m\u001b[0;34m)\u001b[0m\u001b[0;34m]\u001b[0m\u001b[0;34m\u001b[0m\u001b[0;34m\u001b[0m\u001b[0m\n\u001b[0m\u001b[1;32m     16\u001b[0m \u001b[0mbars\u001b[0m\u001b[0;34m,\u001b[0m \u001b[0m_\u001b[0m \u001b[0;34m=\u001b[0m \u001b[0mbs\u001b[0m\u001b[0;34m.\u001b[0m\u001b[0mbuild_bars\u001b[0m\u001b[0;34m(\u001b[0m\u001b[0mticks_df\u001b[0m\u001b[0;34m=\u001b[0m\u001b[0mtdf\u001b[0m\u001b[0;34m,\u001b[0m \u001b[0mthresh\u001b[0m\u001b[0;34m=\u001b[0m\u001b[0mthresh\u001b[0m\u001b[0;34m)\u001b[0m\u001b[0;34m\u001b[0m\u001b[0;34m\u001b[0m\u001b[0m\n\u001b[1;32m     17\u001b[0m \u001b[0mlen\u001b[0m\u001b[0;34m(\u001b[0m\u001b[0mbars\u001b[0m\u001b[0;34m)\u001b[0m\u001b[0;34m\u001b[0m\u001b[0;34m\u001b[0m\u001b[0m\n",
      "\u001b[0;31mNameError\u001b[0m: name 'ticks_df' is not defined"
     ]
    }
   ],
   "source": [
    "# sample ticks -> bars\n",
    "renko_size = 0.2\n",
    "# renko_reversal = 2\n",
    "thresh = {\n",
    "    # GT thresholds\n",
    "    'renko_size': renko_size,\n",
    "    'renko_reveral_multiple': 2,\n",
    "    'duration_sec': 60*30,\n",
    "    'tick_imbalance': 150,\n",
    "    # LT thresholds \n",
    "    'min_duration_sec': 15,\n",
    "    'min_tick_count': 30,\n",
    "}\n",
    "# ticks_df['epoch'] = ticks_df.date_time.astype(int)\n",
    "tdf = ticks_df.loc[(ticks_df.date_time.dt.hour >= 13) & (ticks_df.date_time.dt.hour <= 22)]\n",
    "bars, _ = bs.build_bars(ticks_df=tdf, thresh=thresh)\n",
    "len(bars)\n",
    "\n",
    "bars_df = pd.DataFrame(bars).set_index('close_at')\n",
    "# bars_df = pd.DataFrame(bars)"
   ]
  },
  {
   "cell_type": "code",
   "execution_count": null,
   "metadata": {},
   "outputs": [],
   "source": [
    "# range / price = HFT profit potential\n",
    "(df.price.max() - df.price.min()) / df.price.mean()"
   ]
  },
  {
   "cell_type": "code",
   "execution_count": null,
   "metadata": {
    "ExecuteTime": {
     "end_time": "2020-09-30T01:32:03.075156Z",
     "start_time": "2020-09-30T01:30:56.526391Z"
    }
   },
   "outputs": [],
   "source": [
    "# label bars\n",
    "label_horizon_mins = 30\n",
    "risk_level = 0.2\n",
    "# reward_base = 1\n",
    "reward_ratios = np.arange(3, 20, .5)\n",
    "\n",
    "lbars = bl.label_bars(bars, ticks_df, risk_level, label_horizon_mins, reward_ratios)\n",
    "\n",
    "lbars_df = pd.DataFrame(lbars)\n",
    "\n",
    "lbars_unq = bl.get_concurrent_stats(lbars_df)\n",
    "print(lbars_unq['grand_avg_unq'])"
   ]
  },
  {
   "cell_type": "code",
   "execution_count": null,
   "metadata": {},
   "outputs": [],
   "source": [
    "lbars_df[['price_wmean', 'label_rrr']].plot_bokeh(sizing_mode=\"scale_height\")\n",
    "# 17, 31"
   ]
  },
  {
   "cell_type": "code",
   "execution_count": null,
   "metadata": {
    "ExecuteTime": {
     "end_time": "2020-09-30T01:35:33.531161Z",
     "start_time": "2020-09-30T01:35:31.255669Z"
    },
    "code_folding": []
   },
   "outputs": [],
   "source": [
    "lbars_df[['price_wmean', 'label_rrr']].plot(subplots=True, figsize=[17,12])"
   ]
  },
  {
   "cell_type": "code",
   "execution_count": null,
   "metadata": {},
   "outputs": [],
   "source": [
    "label_prices, price_end_at = bl.get_label_ticks(tdf, bars[31]['close_at'], 30)"
   ]
  }
 ],
 "metadata": {
  "kernelspec": {
   "display_name": "Python 3",
   "language": "python",
   "name": "python3"
  },
  "language_info": {
   "codemirror_mode": {
    "name": "ipython",
    "version": 3
   },
   "file_extension": ".py",
   "mimetype": "text/x-python",
   "name": "python",
   "nbconvert_exporter": "python",
   "pygments_lexer": "ipython3",
   "version": "3.7.8"
  },
  "varInspector": {
   "cols": {
    "lenName": 16,
    "lenType": 16,
    "lenVar": 40
   },
   "kernels_config": {
    "python": {
     "delete_cmd_postfix": "",
     "delete_cmd_prefix": "del ",
     "library": "var_list.py",
     "varRefreshCmd": "print(var_dic_list())"
    },
    "r": {
     "delete_cmd_postfix": ") ",
     "delete_cmd_prefix": "rm(",
     "library": "var_list.r",
     "varRefreshCmd": "cat(var_dic_list()) "
    }
   },
   "types_to_exclude": [
    "module",
    "function",
    "builtin_function_or_method",
    "instance",
    "_Feature"
   ],
   "window_display": false
  }
 },
 "nbformat": 4,
 "nbformat_minor": 4
}
