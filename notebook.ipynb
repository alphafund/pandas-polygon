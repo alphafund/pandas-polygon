{
 "cells": [
  {
   "cell_type": "code",
   "execution_count": 3,
   "metadata": {
    "ExecuteTime": {
     "end_time": "2020-09-30T01:17:28.615776Z",
     "start_time": "2020-09-30T01:17:28.454787Z"
    },
    "execution": {
     "iopub.execute_input": "2020-10-12T03:56:00.053666Z",
     "iopub.status.busy": "2020-10-12T03:56:00.053293Z",
     "iopub.status.idle": "2020-10-12T03:56:00.216774Z",
     "shell.execute_reply": "2020-10-12T03:56:00.208896Z",
     "shell.execute_reply.started": "2020-10-12T03:56:00.053620Z"
    }
   },
   "outputs": [
    {
     "name": "stdout",
     "output_type": "stream",
     "text": [
      "The autoreload extension is already loaded. To reload it, use:\n",
      "  %reload_ext autoreload\n"
     ]
    }
   ],
   "source": [
    "%load_ext autoreload\n",
    "%autoreload 2\n",
    "\n",
    "import numpy as np\n",
    "import pandas as pd\n",
    "import pandas_bokeh\n",
    "import finplot as fplt\n",
    "\n",
    "import polygon_backfill as pb\n",
    "import market_cluster as mc\n",
    "import s3_datasets as s3d\n",
    "import filters as ft\n",
    "import local_backfill as lb\n",
    "import bar_samples as bs\n",
    "import bar_labels as bl\n",
    "import load_ticks as lt\n",
    "\n",
    "import matplotlib as mpl\n",
    "mpl.rcParams['figure.figsize'] = [20, 7]\n",
    "from matplotlib import style\n",
    "style.use('fivethirtyeight')\n",
    "\n",
    "# import ipdb\n",
    "# ipdb.set_trace(context=10)\n",
    "\n",
    "symbol='GLD'\n",
    "date='2020-08-27'\n",
    "tick_type='trades'\n",
    "result_path='/Users/bobcolner/QuantClarity/pandas-polygon/data/'\n",
    "\n",
    "# .plot_bokeh(kind='hist', bins=50, sizing_mode=\"scale_height\", disable_scientific_axes=True)\n",
    "# df.style.background_gradient(cmap='coolwarm', axis=None, vmin=-1, vmax=1)  # 'Blues', 'coolwarm', 'RdBu_r' & 'BrBG' are other good diverging colormaps\n",
    "# pd.set_option('precision', 2)\n",
    "# get local market daily data\n",
    "# mdf = pd.read_parquet('data/mdf.parquet')\n",
    "# sdf = mdf[mdf.symbol=='SPY']"
   ]
  },
  {
   "cell_type": "code",
   "execution_count": 9,
   "metadata": {
    "collapsed": true,
    "execution": {
     "iopub.execute_input": "2020-10-12T03:56:38.572322Z",
     "iopub.status.busy": "2020-10-12T03:56:38.571973Z",
     "iopub.status.idle": "2020-10-12T03:56:39.136701Z",
     "shell.execute_reply": "2020-10-12T03:56:39.135308Z",
     "shell.execute_reply.started": "2020-10-12T03:56:38.572282Z"
    },
    "jupyter": {
     "outputs_hidden": true
    }
   },
   "outputs": [
    {
     "data": {
      "text/plain": [
       "['polygon-equities/data/trades/symbol=GLD/date=2020-08-27',\n",
       " 'polygon-equities/data/trades/symbol=GLD/date=2020-09-08',\n",
       " 'polygon-equities/data/trades/symbol=GLD/date=2020-09-09',\n",
       " 'polygon-equities/data/trades/symbol=GLD/date=2020-10-01',\n",
       " 'polygon-equities/data/trades/symbol=GLD/date=2020-10-02',\n",
       " 'polygon-equities/data/trades/symbol=GLD/date=2020-10-05',\n",
       " 'polygon-equities/data/trades/symbol=GLD/date=2020-10-06',\n",
       " 'polygon-equities/data/trades/symbol=GLD/date=2020-10-07',\n",
       " 'polygon-equities/data/trades/symbol=GLD/date=2020-10-08',\n",
       " 'polygon-equities/data/trades/symbol=GLD/date=2020-10-09']"
      ]
     },
     "execution_count": 9,
     "metadata": {},
     "output_type": "execute_result"
    }
   ],
   "source": [
    "s3d.list_symbol(symbol)"
   ]
  },
  {
   "cell_type": "code",
   "execution_count": 7,
   "metadata": {
    "ExecuteTime": {
     "end_time": "2020-09-30T01:30:55.786854Z",
     "start_time": "2020-09-30T01:30:48.155554Z"
    },
    "execution": {
     "iopub.execute_input": "2020-10-12T03:56:32.902903Z",
     "iopub.status.busy": "2020-10-12T03:56:32.902371Z",
     "iopub.status.idle": "2020-10-12T03:56:34.038403Z",
     "shell.execute_reply": "2020-10-12T03:56:34.036699Z",
     "shell.execute_reply.started": "2020-10-12T03:56:32.902847Z"
    }
   },
   "outputs": [
    {
     "name": "stdout",
     "output_type": "stream",
     "text": [
      "trying to get ticks from local file...\n",
      "1  duplicated trade removed\n",
      "dropped 272 ticks ( 0.22 %)\n"
     ]
    }
   ],
   "source": [
    "# load ticks (local or api)\n",
    "ticks_df = lt.load_ticks(result_path, symbol, date, tick_type, clean=True)"
   ]
  },
  {
   "cell_type": "code",
   "execution_count": null,
   "metadata": {
    "ExecuteTime": {
     "end_time": "2020-09-30T01:30:55.786854Z",
     "start_time": "2020-09-30T01:30:48.155554Z"
    }
   },
   "outputs": [],
   "source": [
    "# sample ticks -> bars\n",
    "renko_size = 0.2\n",
    "renko_reversal = 2\n",
    "thresh = {\n",
    "    # GT thresholds\n",
    "    'renko_size': renko_size,\n",
    "    'renko_reveral_multiple': renko_reversal,\n",
    "    'duration_sec': 60*30,\n",
    "    'tick_imbalance': 150,\n",
    "    # LT thresholds \n",
    "    'min_duration_sec': 5,\n",
    "    'min_tick_count': 10,\n",
    "}\n",
    "\n",
    "tdf = ticks_df[(ticks_df.date_time.dt.hour >= 13) & (ticks_df.date_time.dt.hour <= 22)]\n",
    "bars, _ = sb.build_bars(ticks_df=tdf, thresh=thresh)\n",
    "len(bars)"
   ]
  },
  {
   "cell_type": "code",
   "execution_count": null,
   "metadata": {},
   "outputs": [],
   "source": [
    "lbars_df.tick_imbalance_run.hist(bins=50)"
   ]
  },
  {
   "cell_type": "code",
   "execution_count": null,
   "metadata": {
    "ExecuteTime": {
     "end_time": "2020-09-30T01:32:03.075156Z",
     "start_time": "2020-09-30T01:30:56.526391Z"
    }
   },
   "outputs": [],
   "source": [
    "# label bars\n",
    "label_horizon_mins = 30\n",
    "risk_level = 0.2\n",
    "# reward_base = 1\n",
    "reward_ratios = np.arange(3, 20, .5)\n",
    "\n",
    "# lbars = bl.label_bars_triple_barrier(bars, ticks_df, risk_level, label_horizon_mins, reward_base)\n",
    "\n",
    "lbars = bl.label_bars(bars, ticks_df, risk_level, label_horizon_mins, reward_ratios)\n",
    "\n",
    "lbars_df = pd.DataFrame(lbars)"
   ]
  },
  {
   "cell_type": "code",
   "execution_count": null,
   "metadata": {},
   "outputs": [],
   "source": [
    "lbars_df.to_feather('lbars_df.feather')"
   ]
  },
  {
   "cell_type": "code",
   "execution_count": null,
   "metadata": {},
   "outputs": [],
   "source": [
    "lbars_df[['price_wmean', 'price_close']].plot(subplots=False)"
   ]
  },
  {
   "cell_type": "code",
   "execution_count": null,
   "metadata": {
    "ExecuteTime": {
     "end_time": "2020-09-30T01:35:33.531161Z",
     "start_time": "2020-09-30T01:35:31.255669Z"
    },
    "code_folding": []
   },
   "outputs": [],
   "source": [
    "lbars_df[['price_wmean', 'label_rrr']].plot(subplots=True, figsize=[17,12])"
   ]
  }
 ],
 "metadata": {
  "kernelspec": {
   "display_name": "Python 3",
   "language": "python",
   "name": "python3"
  },
  "language_info": {
   "codemirror_mode": {
    "name": "ipython",
    "version": 3
   },
   "file_extension": ".py",
   "mimetype": "text/x-python",
   "name": "python",
   "nbconvert_exporter": "python",
   "pygments_lexer": "ipython3",
   "version": "3.7.8"
  },
  "varInspector": {
   "cols": {
    "lenName": 16,
    "lenType": 16,
    "lenVar": 40
   },
   "kernels_config": {
    "python": {
     "delete_cmd_postfix": "",
     "delete_cmd_prefix": "del ",
     "library": "var_list.py",
     "varRefreshCmd": "print(var_dic_list())"
    },
    "r": {
     "delete_cmd_postfix": ") ",
     "delete_cmd_prefix": "rm(",
     "library": "var_list.r",
     "varRefreshCmd": "cat(var_dic_list()) "
    }
   },
   "types_to_exclude": [
    "module",
    "function",
    "builtin_function_or_method",
    "instance",
    "_Feature"
   ],
   "window_display": false
  }
 },
 "nbformat": 4,
 "nbformat_minor": 4
}
