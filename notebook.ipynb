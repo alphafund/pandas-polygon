{
 "cells": [
  {
   "cell_type": "code",
   "execution_count": 249,
   "metadata": {
    "execution": {
     "iopub.execute_input": "2020-10-30T03:15:05.681542Z",
     "iopub.status.busy": "2020-10-30T03:15:05.681120Z",
     "iopub.status.idle": "2020-10-30T03:15:05.872236Z",
     "shell.execute_reply": "2020-10-30T03:15:05.870547Z",
     "shell.execute_reply.started": "2020-10-30T03:15:05.681502Z"
    }
   },
   "outputs": [
    {
     "data": {
      "text/html": [
       "<div>\n",
       "<style scoped>\n",
       "    .dataframe tbody tr th:only-of-type {\n",
       "        vertical-align: middle;\n",
       "    }\n",
       "\n",
       "    .dataframe tbody tr th {\n",
       "        vertical-align: top;\n",
       "    }\n",
       "\n",
       "    .dataframe thead th {\n",
       "        text-align: right;\n",
       "    }\n",
       "</style>\n",
       "<table border=\"1\" class=\"dataframe\">\n",
       "  <thead>\n",
       "    <tr style=\"text-align: right;\">\n",
       "      <th></th>\n",
       "      <th>symbol</th>\n",
       "      <th>trade_id</th>\n",
       "      <th>exchange_id</th>\n",
       "      <th>price</th>\n",
       "      <th>size</th>\n",
       "      <th>trade_condition</th>\n",
       "      <th>trade_dt</th>\n",
       "      <th>arrive_dt</th>\n",
       "      <th>latency</th>\n",
       "    </tr>\n",
       "  </thead>\n",
       "  <tbody>\n",
       "    <tr>\n",
       "      <th>0</th>\n",
       "      <td>SPY</td>\n",
       "      <td>52983527007092</td>\n",
       "      <td>8</td>\n",
       "      <td>327.450012</td>\n",
       "      <td>1</td>\n",
       "      <td>[12, 37, 41]</td>\n",
       "      <td>2020-10-29 21:03:30.728</td>\n",
       "      <td>2020-10-29 21:03:30.853543</td>\n",
       "      <td>0 days 00:00:00.125543</td>\n",
       "    </tr>\n",
       "    <tr>\n",
       "      <th>1</th>\n",
       "      <td>SPY</td>\n",
       "      <td>71692756596565</td>\n",
       "      <td>4</td>\n",
       "      <td>327.399994</td>\n",
       "      <td>10</td>\n",
       "      <td>[12, 37]</td>\n",
       "      <td>2020-10-29 21:03:34.190</td>\n",
       "      <td>2020-10-29 21:03:34.282885</td>\n",
       "      <td>0 days 00:00:00.092885</td>\n",
       "    </tr>\n",
       "    <tr>\n",
       "      <th>2</th>\n",
       "      <td>SPY</td>\n",
       "      <td>71692756596570</td>\n",
       "      <td>4</td>\n",
       "      <td>327.450012</td>\n",
       "      <td>1</td>\n",
       "      <td>[12, 37]</td>\n",
       "      <td>2020-10-29 21:03:35.099</td>\n",
       "      <td>2020-10-29 21:03:35.138150</td>\n",
       "      <td>0 days 00:00:00.039150</td>\n",
       "    </tr>\n",
       "    <tr>\n",
       "      <th>3</th>\n",
       "      <td>SPY</td>\n",
       "      <td>52983575885875</td>\n",
       "      <td>11</td>\n",
       "      <td>327.399994</td>\n",
       "      <td>15</td>\n",
       "      <td>[12, 37]</td>\n",
       "      <td>2020-10-29 21:03:39.846</td>\n",
       "      <td>2020-10-29 21:03:39.879815</td>\n",
       "      <td>0 days 00:00:00.033815</td>\n",
       "    </tr>\n",
       "    <tr>\n",
       "      <th>4</th>\n",
       "      <td>SPY</td>\n",
       "      <td>52983575885876</td>\n",
       "      <td>11</td>\n",
       "      <td>327.420013</td>\n",
       "      <td>99</td>\n",
       "      <td>[14, 12, 37, 41]</td>\n",
       "      <td>2020-10-29 21:03:42.991</td>\n",
       "      <td>2020-10-29 21:03:43.027785</td>\n",
       "      <td>0 days 00:00:00.036785</td>\n",
       "    </tr>\n",
       "    <tr>\n",
       "      <th>...</th>\n",
       "      <td>...</td>\n",
       "      <td>...</td>\n",
       "      <td>...</td>\n",
       "      <td>...</td>\n",
       "      <td>...</td>\n",
       "      <td>...</td>\n",
       "      <td>...</td>\n",
       "      <td>...</td>\n",
       "      <td>...</td>\n",
       "    </tr>\n",
       "    <tr>\n",
       "      <th>5863</th>\n",
       "      <td>GLD</td>\n",
       "      <td>52983543183684</td>\n",
       "      <td>11</td>\n",
       "      <td>175.330002</td>\n",
       "      <td>35</td>\n",
       "      <td>[14, 12, 37, 41]</td>\n",
       "      <td>2020-10-29 23:59:53.470</td>\n",
       "      <td>2020-10-29 23:59:53.588455</td>\n",
       "      <td>0 days 00:00:00.118455</td>\n",
       "    </tr>\n",
       "    <tr>\n",
       "      <th>5864</th>\n",
       "      <td>GLD</td>\n",
       "      <td>52983543185718</td>\n",
       "      <td>11</td>\n",
       "      <td>175.399994</td>\n",
       "      <td>0</td>\n",
       "      <td>[38, 41]</td>\n",
       "      <td>2020-10-30 00:00:00.001</td>\n",
       "      <td>2020-10-30 00:00:00.259854</td>\n",
       "      <td>0 days 00:00:00.258854</td>\n",
       "    </tr>\n",
       "    <tr>\n",
       "      <th>5865</th>\n",
       "      <td>GLD</td>\n",
       "      <td>52983543185719</td>\n",
       "      <td>11</td>\n",
       "      <td>175.399994</td>\n",
       "      <td>837533</td>\n",
       "      <td>[15]</td>\n",
       "      <td>2020-10-30 00:00:00.001</td>\n",
       "      <td>2020-10-30 00:00:00.259854</td>\n",
       "      <td>0 days 00:00:00.258854</td>\n",
       "    </tr>\n",
       "    <tr>\n",
       "      <th>5866</th>\n",
       "      <td>SPY</td>\n",
       "      <td>52983576548146</td>\n",
       "      <td>11</td>\n",
       "      <td>329.980011</td>\n",
       "      <td>0</td>\n",
       "      <td>[38, 41]</td>\n",
       "      <td>2020-10-30 00:00:00.001</td>\n",
       "      <td>2020-10-30 00:00:00.261046</td>\n",
       "      <td>0 days 00:00:00.260046</td>\n",
       "    </tr>\n",
       "    <tr>\n",
       "      <th>5867</th>\n",
       "      <td>SPY</td>\n",
       "      <td>52983576548147</td>\n",
       "      <td>11</td>\n",
       "      <td>329.980011</td>\n",
       "      <td>1478355</td>\n",
       "      <td>[15]</td>\n",
       "      <td>2020-10-30 00:00:00.001</td>\n",
       "      <td>2020-10-30 00:00:00.261046</td>\n",
       "      <td>0 days 00:00:00.260046</td>\n",
       "    </tr>\n",
       "  </tbody>\n",
       "</table>\n",
       "<p>5868 rows × 9 columns</p>\n",
       "</div>"
      ],
      "text/plain": [
       "     symbol        trade_id  exchange_id       price     size  \\\n",
       "0       SPY  52983527007092            8  327.450012        1   \n",
       "1       SPY  71692756596565            4  327.399994       10   \n",
       "2       SPY  71692756596570            4  327.450012        1   \n",
       "3       SPY  52983575885875           11  327.399994       15   \n",
       "4       SPY  52983575885876           11  327.420013       99   \n",
       "...     ...             ...          ...         ...      ...   \n",
       "5863    GLD  52983543183684           11  175.330002       35   \n",
       "5864    GLD  52983543185718           11  175.399994        0   \n",
       "5865    GLD  52983543185719           11  175.399994   837533   \n",
       "5866    SPY  52983576548146           11  329.980011        0   \n",
       "5867    SPY  52983576548147           11  329.980011  1478355   \n",
       "\n",
       "       trade_condition                trade_dt                  arrive_dt  \\\n",
       "0         [12, 37, 41] 2020-10-29 21:03:30.728 2020-10-29 21:03:30.853543   \n",
       "1             [12, 37] 2020-10-29 21:03:34.190 2020-10-29 21:03:34.282885   \n",
       "2             [12, 37] 2020-10-29 21:03:35.099 2020-10-29 21:03:35.138150   \n",
       "3             [12, 37] 2020-10-29 21:03:39.846 2020-10-29 21:03:39.879815   \n",
       "4     [14, 12, 37, 41] 2020-10-29 21:03:42.991 2020-10-29 21:03:43.027785   \n",
       "...                ...                     ...                        ...   \n",
       "5863  [14, 12, 37, 41] 2020-10-29 23:59:53.470 2020-10-29 23:59:53.588455   \n",
       "5864          [38, 41] 2020-10-30 00:00:00.001 2020-10-30 00:00:00.259854   \n",
       "5865              [15] 2020-10-30 00:00:00.001 2020-10-30 00:00:00.259854   \n",
       "5866          [38, 41] 2020-10-30 00:00:00.001 2020-10-30 00:00:00.261046   \n",
       "5867              [15] 2020-10-30 00:00:00.001 2020-10-30 00:00:00.261046   \n",
       "\n",
       "                    latency  \n",
       "0    0 days 00:00:00.125543  \n",
       "1    0 days 00:00:00.092885  \n",
       "2    0 days 00:00:00.039150  \n",
       "3    0 days 00:00:00.033815  \n",
       "4    0 days 00:00:00.036785  \n",
       "...                     ...  \n",
       "5863 0 days 00:00:00.118455  \n",
       "5864 0 days 00:00:00.258854  \n",
       "5865 0 days 00:00:00.258854  \n",
       "5866 0 days 00:00:00.260046  \n",
       "5867 0 days 00:00:00.260046  \n",
       "\n",
       "[5868 rows x 9 columns]"
      ]
     },
     "execution_count": 249,
     "metadata": {},
     "output_type": "execute_result"
    }
   ],
   "source": [
    "trades_df"
   ]
  },
  {
   "cell_type": "code",
   "execution_count": null,
   "metadata": {},
   "outputs": [],
   "source": [
    "import ray\n",
    "ray.shutdown()"
   ]
  },
  {
   "cell_type": "code",
   "execution_count": 208,
   "metadata": {
    "ExecuteTime": {
     "end_time": "2020-09-30T01:17:28.615776Z",
     "start_time": "2020-09-30T01:17:28.454787Z"
    },
    "execution": {
     "iopub.execute_input": "2020-10-30T02:52:00.064392Z",
     "iopub.status.busy": "2020-10-30T02:52:00.063848Z",
     "iopub.status.idle": "2020-10-30T02:52:00.474378Z",
     "shell.execute_reply": "2020-10-30T02:52:00.472692Z",
     "shell.execute_reply.started": "2020-10-30T02:52:00.064339Z"
    }
   },
   "outputs": [
    {
     "name": "stderr",
     "output_type": "stream",
     "text": [
      "2020-10-29 22:52:00,463\tERROR worker.py:643 -- Calling ray.init() again after it has already been called.\n"
     ]
    },
    {
     "name": "stdout",
     "output_type": "stream",
     "text": [
      "The autoreload extension is already loaded. To reload it, use:\n",
      "  %reload_ext autoreload\n"
     ]
    }
   ],
   "source": [
    "%load_ext autoreload\n",
    "%autoreload 2\n",
    "\n",
    "import numpy as np\n",
    "import pandas as pd\n",
    "import pandas_bokeh\n",
    "from qgrid import show_grid\n",
    "# import finplot as fplt\n",
    "\n",
    "import polygon_rest_api as papi\n",
    "import polygon_streaming_api as pws\n",
    "import polygon_backfill as pb\n",
    "import polygon_s3 as ps3\n",
    "import bar_samples as bs\n",
    "import bar_labels as bl\n",
    "import bar_meta as bm\n",
    "import filters as ft\n",
    "# import market_cluster as mc\n",
    "\n",
    "import matplotlib as mpl\n",
    "from matplotlib import style\n",
    "style.use('fivethirtyeight')\n",
    "mpl.rcParams['figure.figsize'] = [20, 7]\n",
    "\n",
    "import ray\n",
    "ray.init(ignore_reinit_error=True, num_cpus=4, dashboard_port=8080)\n",
    "\n",
    "# from tqdm import tqdm\n",
    "# import ipdb\n",
    "# ipdb.set_trace(context=10)\n",
    "\n",
    "# df.style.background_gradient(cmap='coolwarm', axis=None, vmin=-1, vmax=1)  # 'Blues', 'coolwarm', 'RdBu_r' & 'BrBG' are other good diverging colormaps\n",
    "# pd.set_option('precision', 2)\n",
    "\n",
    "# .plot_bokeh(sizing_mode=\"scale_height\")"
   ]
  },
  {
   "cell_type": "code",
   "execution_count": null,
   "metadata": {},
   "outputs": [],
   "source": [
    "symbol='GLD'\n",
    "# symbol = 'market'\n",
    "# date = '2020-01-02'\n",
    "# start_date = '2020-01-01'\n",
    "start_date = '2020-09-01'\n",
    "end_date = '2020-10-01'\n",
    "# symbols=['SPY', 'QQQ']\n",
    "tick_type='trades'\n",
    "\n",
    "result_path = '/Users/bobcolner/QuantClarity/pandas-polygon/data'\n",
    "\n",
    "thresh = {\n",
    "    # GT thresholds\n",
    "    'renko_reveral_multiple': 2,\n",
    "    'duration_sec': 60*60,\n",
    "    # LT thresholds\n",
    "    'min_duration_sec': 15,\n",
    "    'min_tick_count': 30,\n",
    "}\n",
    "\n",
    "horizon_mins=30"
   ]
  },
  {
   "cell_type": "code",
   "execution_count": null,
   "metadata": {
    "scrolled": true
   },
   "outputs": [],
   "source": [
    "daily_bar_stats_df, labeled_bar_dates, stacked_bars_df = bm.bars_workflow_ray(\n",
    "    result_path, \n",
    "    symbol, \n",
    "    start_date, \n",
    "    end_date, \n",
    "    thresh,\n",
    "    imbalance_thresh=0.9\n",
    ")"
   ]
  },
  {
   "cell_type": "code",
   "execution_count": null,
   "metadata": {},
   "outputs": [],
   "source": [
    "daily_bar_stats_df.bar_count.describe()"
   ]
  },
  {
   "cell_type": "code",
   "execution_count": null,
   "metadata": {},
   "outputs": [],
   "source": [
    "stacked_bars_df.bar_trigger.value_counts()"
   ]
  },
  {
   "cell_type": "code",
   "execution_count": null,
   "metadata": {},
   "outputs": [],
   "source": [
    "stacked_bars_df.duration_min.hist(bins=100)"
   ]
  },
  {
   "cell_type": "code",
   "execution_count": null,
   "metadata": {},
   "outputs": [],
   "source": [
    "daily_bar_stats_df.duration_min_mean.describe()"
   ]
  },
  {
   "cell_type": "code",
   "execution_count": null,
   "metadata": {},
   "outputs": [],
   "source": [
    "bar_dates_df.price_wq50.diff().autocorr(1)"
   ]
  },
  {
   "cell_type": "code",
   "execution_count": null,
   "metadata": {},
   "outputs": [],
   "source": [
    "# bar_dates_df.price_wmean.plot_bokeh(sizing_mode=\"scale_height\")\n",
    "bar_dates_df[200:400].price_wmean.plot()"
   ]
  },
  {
   "cell_type": "code",
   "execution_count": null,
   "metadata": {},
   "outputs": [],
   "source": [
    "abs(bar_dates_df.label_rrr).value_counts()"
   ]
  },
  {
   "cell_type": "code",
   "execution_count": null,
   "metadata": {},
   "outputs": [],
   "source": [
    "mh_dates_df = bar_dates_df.loc[bar_dates_df.close_at.dt.hour.between(13, 20)]"
   ]
  },
  {
   "cell_type": "code",
   "execution_count": null,
   "metadata": {},
   "outputs": [],
   "source": [
    "mh_dates_df.label_outcome.value_counts()"
   ]
  },
  {
   "cell_type": "code",
   "execution_count": null,
   "metadata": {},
   "outputs": [],
   "source": [
    "lbars_df[['price_wmean', 'label_rrr']].plot_bokeh(sizing_mode=\"scale_height\")\n",
    "# 17, 31"
   ]
  },
  {
   "cell_type": "code",
   "execution_count": null,
   "metadata": {
    "ExecuteTime": {
     "end_time": "2020-09-30T01:35:33.531161Z",
     "start_time": "2020-09-30T01:35:31.255669Z"
    },
    "code_folding": []
   },
   "outputs": [],
   "source": [
    "lbars_df[['price_wmean', 'label_rrr']].plot(subplots=True, figsize=[17,12])"
   ]
  }
 ],
 "metadata": {
  "kernelspec": {
   "display_name": "Python 3",
   "language": "python",
   "name": "python3"
  },
  "language_info": {
   "codemirror_mode": {
    "name": "ipython",
    "version": 3
   },
   "file_extension": ".py",
   "mimetype": "text/x-python",
   "name": "python",
   "nbconvert_exporter": "python",
   "pygments_lexer": "ipython3",
   "version": "3.7.8"
  },
  "varInspector": {
   "cols": {
    "lenName": 16,
    "lenType": 16,
    "lenVar": 40
   },
   "kernels_config": {
    "python": {
     "delete_cmd_postfix": "",
     "delete_cmd_prefix": "del ",
     "library": "var_list.py",
     "varRefreshCmd": "print(var_dic_list())"
    },
    "r": {
     "delete_cmd_postfix": ") ",
     "delete_cmd_prefix": "rm(",
     "library": "var_list.r",
     "varRefreshCmd": "cat(var_dic_list()) "
    }
   },
   "types_to_exclude": [
    "module",
    "function",
    "builtin_function_or_method",
    "instance",
    "_Feature"
   ],
   "window_display": false
  }
 },
 "nbformat": 4,
 "nbformat_minor": 4
}
