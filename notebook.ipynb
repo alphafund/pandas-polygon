{
 "cells": [
  {
   "cell_type": "code",
   "execution_count": null,
   "metadata": {},
   "outputs": [],
   "source": [
    "ray.shutdown()"
   ]
  },
  {
   "cell_type": "code",
   "execution_count": 3,
   "metadata": {
    "ExecuteTime": {
     "end_time": "2020-09-30T01:17:28.615776Z",
     "start_time": "2020-09-30T01:17:28.454787Z"
    },
    "execution": {
     "iopub.execute_input": "2020-10-29T02:34:19.480711Z",
     "iopub.status.busy": "2020-10-29T02:34:19.480224Z",
     "iopub.status.idle": "2020-10-29T02:34:21.502474Z",
     "shell.execute_reply": "2020-10-29T02:34:21.499358Z",
     "shell.execute_reply.started": "2020-10-29T02:34:19.480667Z"
    }
   },
   "outputs": [
    {
     "name": "stdout",
     "output_type": "stream",
     "text": [
      "The autoreload extension is already loaded. To reload it, use:\n",
      "  %reload_ext autoreload\n"
     ]
    },
    {
     "name": "stderr",
     "output_type": "stream",
     "text": [
      "2020-10-28 22:34:20,309\tINFO services.py:1166 -- View the Ray dashboard at \u001b[1m\u001b[32mhttp://127.0.0.1:8080\u001b[39m\u001b[22m\n"
     ]
    },
    {
     "data": {
      "text/plain": [
       "{'node_ip_address': '192.168.50.218',\n",
       " 'raylet_ip_address': '192.168.50.218',\n",
       " 'redis_address': '192.168.50.218:6379',\n",
       " 'object_store_address': '/tmp/ray/session_2020-10-28_22-34-19_730431_6743/sockets/plasma_store',\n",
       " 'raylet_socket_name': '/tmp/ray/session_2020-10-28_22-34-19_730431_6743/sockets/raylet',\n",
       " 'webui_url': '127.0.0.1:8080',\n",
       " 'session_dir': '/tmp/ray/session_2020-10-28_22-34-19_730431_6743',\n",
       " 'metrics_export_port': 61258}"
      ]
     },
     "execution_count": 3,
     "metadata": {},
     "output_type": "execute_result"
    }
   ],
   "source": [
    "%load_ext autoreload\n",
    "%autoreload 2\n",
    "\n",
    "import numpy as np\n",
    "import pandas as pd\n",
    "import pandas_bokeh\n",
    "from qgrid import show_grid\n",
    "# import finplot as fplt\n",
    "\n",
    "import polygon_rest_api as papi\n",
    "import polygon_backfill as pb\n",
    "import polygon_s3 as ps3\n",
    "import bar_samples as bs\n",
    "import bar_labels as bl\n",
    "import bar_meta as bm\n",
    "import filters as ft\n",
    "# import market_cluster as mc\n",
    "\n",
    "import matplotlib as mpl\n",
    "from matplotlib import style\n",
    "style.use('fivethirtyeight')\n",
    "import matplotlib as mpl\n",
    "mpl.rcParams['figure.figsize'] = [20, 7]\n",
    "\n",
    "\n",
    "import ray\n",
    "ray.init(ignore_reinit_error=True, num_cpus=4, dashboard_port=8080)\n",
    "\n",
    "# from tqdm import tqdm\n",
    "# import ipdb\n",
    "# ipdb.set_trace(context=10)\n",
    "\n",
    "# df.style.background_gradient(cmap='coolwarm', axis=None, vmin=-1, vmax=1)  # 'Blues', 'coolwarm', 'RdBu_r' & 'BrBG' are other good diverging colormaps\n",
    "# pd.set_option('precision', 2)\n",
    "\n",
    "# .plot_bokeh(sizing_mode=\"scale_height\")"
   ]
  },
  {
   "cell_type": "code",
   "execution_count": 4,
   "metadata": {
    "execution": {
     "iopub.execute_input": "2020-10-29T02:34:23.509759Z",
     "iopub.status.busy": "2020-10-29T02:34:23.509115Z",
     "iopub.status.idle": "2020-10-29T02:34:23.647789Z",
     "shell.execute_reply": "2020-10-29T02:34:23.645960Z",
     "shell.execute_reply.started": "2020-10-29T02:34:23.509706Z"
    }
   },
   "outputs": [],
   "source": [
    "symbol='GLD'\n",
    "# symbol = 'market'\n",
    "# date = '2020-01-02'\n",
    "# start_date = '2020-01-01'\n",
    "start_date = '2020-09-01'\n",
    "end_date = '2020-10-01'\n",
    "# symbols=['SPY', 'QQQ']\n",
    "tick_type='trades'\n",
    "\n",
    "result_path = '/Users/bobcolner/QuantClarity/pandas-polygon/data'\n",
    "\n",
    "thresh = {\n",
    "    # GT thresholds\n",
    "    'renko_reveral_multiple': 2,\n",
    "    'duration_sec': 60*60,\n",
    "    # LT thresholds\n",
    "    'min_duration_sec': 15,\n",
    "    'min_tick_count': 30,\n",
    "}\n",
    "\n",
    "horizon_mins=30"
   ]
  },
  {
   "cell_type": "code",
   "execution_count": 6,
   "metadata": {
    "execution": {
     "iopub.execute_input": "2020-10-29T02:36:15.992392Z",
     "iopub.status.busy": "2020-10-29T02:36:15.990257Z",
     "iopub.status.idle": "2020-10-29T02:37:09.037708Z",
     "shell.execute_reply": "2020-10-29T02:37:09.036414Z",
     "shell.execute_reply.started": "2020-10-29T02:36:15.992266Z"
    },
    "scrolled": true
   },
   "outputs": [
    {
     "name": "stdout",
     "output_type": "stream",
     "text": [
      "\u001b[2m\u001b[36m(pid=6771)\u001b[0m GLD 2020-09-02 trying to get ticks from local file...\n",
      "\u001b[2m\u001b[36m(pid=6772)\u001b[0m GLD 2020-09-03 trying to get ticks from local file...\n",
      "\u001b[2m\u001b[36m(pid=6769)\u001b[0m GLD 2020-09-04 trying to get ticks from local file...\n",
      "\u001b[2m\u001b[36m(pid=6770)\u001b[0m GLD 2020-09-08 trying to get ticks from local file...\n",
      "\u001b[2m\u001b[36m(pid=6772)\u001b[0m GLD 2020-09-09 trying to get ticks from local file...\n",
      "\u001b[2m\u001b[36m(pid=6771)\u001b[0m GLD 2020-09-10 trying to get ticks from local file...\n",
      "\u001b[2m\u001b[36m(pid=6769)\u001b[0m GLD 2020-09-14 trying to get ticks from local file...\n",
      "\u001b[2m\u001b[36m(pid=6770)\u001b[0m GLD 2020-09-11 trying to get ticks from local file...\n",
      "\u001b[2m\u001b[36m(pid=6772)\u001b[0m GLD 2020-09-15 trying to get ticks from local file...\n",
      "\u001b[2m\u001b[36m(pid=6769)\u001b[0m GLD 2020-09-17 trying to get ticks from local file...\n",
      "\u001b[2m\u001b[36m(pid=6770)\u001b[0m GLD 2020-09-16 trying to get ticks from local file...\n",
      "\u001b[2m\u001b[36m(pid=6771)\u001b[0m GLD 2020-09-18 trying to get ticks from local file...\n",
      "\u001b[2m\u001b[36m(pid=6772)\u001b[0m GLD 2020-09-21 trying to get ticks from local file...\n",
      "\u001b[2m\u001b[36m(pid=6771)\u001b[0m GLD 2020-09-22 trying to get ticks from local file...\n",
      "\u001b[2m\u001b[36m(pid=6769)\u001b[0m GLD 2020-09-23 trying to get ticks from local file...\n",
      "\u001b[2m\u001b[36m(pid=6770)\u001b[0m GLD 2020-09-24 trying to get ticks from local file...\n",
      "\u001b[2m\u001b[36m(pid=6771)\u001b[0m GLD 2020-09-25 trying to get ticks from local file...\n",
      "\u001b[2m\u001b[36m(pid=6770)\u001b[0m GLD 2020-09-28 trying to get ticks from local file...\n",
      "\u001b[2m\u001b[36m(pid=6771)\u001b[0m GLD 2020-09-29 trying to get ticks from local file...\n",
      "\u001b[2m\u001b[36m(pid=6772)\u001b[0m GLD 2020-09-30 trying to get ticks from local file...\n",
      "\u001b[2m\u001b[36m(pid=6769)\u001b[0m GLD 2020-10-01 trying to get ticks from local file...\n",
      "\u001b[2m\u001b[36m(pid=6771)\u001b[0m GLD 2020-09-04 trying to get ticks from local file...\n",
      "\u001b[2m\u001b[36m(pid=6772)\u001b[0m GLD 2020-09-03 trying to get ticks from local file...\n",
      "\u001b[2m\u001b[36m(pid=6769)\u001b[0m GLD 2020-09-08 trying to get ticks from local file...\n",
      "\u001b[2m\u001b[36m(pid=6770)\u001b[0m GLD 2020-09-09 trying to get ticks from local file...\n",
      "\u001b[2m\u001b[36m(pid=6770)\u001b[0m GLD 2020-09-10 trying to get ticks from local file...\n",
      "\u001b[2m\u001b[36m(pid=6772)\u001b[0m GLD 2020-09-11 trying to get ticks from local file...\n",
      "\u001b[2m\u001b[36m(pid=6769)\u001b[0m GLD 2020-09-14 trying to get ticks from local file...\n",
      "\u001b[2m\u001b[36m(pid=6771)\u001b[0m GLD 2020-09-15 trying to get ticks from local file...\n",
      "\u001b[2m\u001b[36m(pid=6770)\u001b[0m GLD 2020-09-16 trying to get ticks from local file...\n",
      "\u001b[2m\u001b[36m(pid=6772)\u001b[0m GLD 2020-09-17 trying to get ticks from local file...\n",
      "\u001b[2m\u001b[36m(pid=6769)\u001b[0m GLD 2020-09-18 trying to get ticks from local file...\n",
      "\u001b[2m\u001b[36m(pid=6771)\u001b[0m GLD 2020-09-21 trying to get ticks from local file...\n",
      "\u001b[2m\u001b[36m(pid=6769)\u001b[0m GLD 2020-09-22 trying to get ticks from local file...\n",
      "\u001b[2m\u001b[36m(pid=6772)\u001b[0m GLD 2020-09-23 trying to get ticks from local file...\n",
      "\u001b[2m\u001b[36m(pid=6770)\u001b[0m GLD 2020-09-24 trying to get ticks from local file...\n",
      "\u001b[2m\u001b[36m(pid=6769)\u001b[0m GLD 2020-09-25 trying to get ticks from local file...\n",
      "\u001b[2m\u001b[36m(pid=6771)\u001b[0m GLD 2020-09-28 trying to get ticks from local file...\n",
      "\u001b[2m\u001b[36m(pid=6770)\u001b[0m GLD 2020-09-29 trying to get ticks from local file...\n",
      "\u001b[2m\u001b[36m(pid=6769)\u001b[0m GLD 2020-09-30 trying to get ticks from local file...\n",
      "\u001b[2m\u001b[36m(pid=6772)\u001b[0m GLD 2020-10-01 trying to get ticks from local file...\n",
      "\u001b[2m\u001b[36m(pid=6771)\u001b[0m GLD 2020-09-09 trying to get ticks from local file...\n",
      "\u001b[2m\u001b[36m(pid=6771)\u001b[0m ISSUE! 6 start at: 2020-09-09 09:00:01.041933312\n",
      "\u001b[2m\u001b[36m(pid=6770)\u001b[0m GLD 2020-09-04 trying to get ticks from local file...\n",
      "\u001b[2m\u001b[36m(pid=6770)\u001b[0m ISSUE! 9 start at: 2020-09-04 08:49:35.476900608\n",
      "\u001b[2m\u001b[36m(pid=6770)\u001b[0m ISSUE! 5 start at: 2020-09-04 09:03:25.352484096\n",
      "\u001b[2m\u001b[36m(pid=6770)\u001b[0m ISSUE! 4 start at: 2020-09-04 10:15:29.532710144\n",
      "\u001b[2m\u001b[36m(pid=6769)\u001b[0m GLD 2020-09-03 trying to get ticks from local file...\n",
      "\u001b[2m\u001b[36m(pid=6769)\u001b[0m ISSUE! 6 start at: 2020-09-03 09:05:16.378657536\n",
      "\u001b[2m\u001b[36m(pid=6772)\u001b[0m GLD 2020-09-08 trying to get ticks from local file...\n",
      "\u001b[2m\u001b[36m(pid=6771)\u001b[0m ISSUE! 17 start at: 2020-09-09 22:55:06.890113792\n",
      "\u001b[2m\u001b[36m(pid=6771)\u001b[0m GLD 2020-09-09 tW    0.938776\n",
      "\u001b[2m\u001b[36m(pid=6771)\u001b[0m dtype: float64\n",
      "\u001b[2m\u001b[36m(pid=6771)\u001b[0m GLD 2020-09-10 trying to get ticks from local file...\n",
      "\u001b[2m\u001b[36m(pid=6771)\u001b[0m ISSUE! 5 start at: 2020-09-10 09:03:30.933390848\n",
      "\u001b[2m\u001b[36m(pid=6771)\u001b[0m ISSUE! 14 start at: 2020-09-10 10:25:04.262976512\n",
      "\u001b[2m\u001b[36m(pid=6772)\u001b[0m GLD 2020-09-08 tW    0.909375\n",
      "\u001b[2m\u001b[36m(pid=6772)\u001b[0m dtype: float64\n",
      "\u001b[2m\u001b[36m(pid=6772)\u001b[0m GLD 2020-09-11 trying to get ticks from local file...\n",
      "\u001b[2m\u001b[36m(pid=6772)\u001b[0m ISSUE! 5 start at: 2020-09-11 08:17:09.143205120\n",
      "\u001b[2m\u001b[36m(pid=6772)\u001b[0m ISSUE! 2 start at: 2020-09-11 09:18:49.638202368\n",
      "\u001b[2m\u001b[36m(pid=6772)\u001b[0m ISSUE! 16 start at: 2020-09-11 10:50:50.423018752\n",
      "\u001b[2m\u001b[36m(pid=6771)\u001b[0m ISSUE! 19 start at: 2020-09-10 20:58:34.889929472\n",
      "\u001b[2m\u001b[36m(pid=6771)\u001b[0m ISSUE! 0 start at: 2020-09-10 23:59:47.491618048\n",
      "\u001b[2m\u001b[36m(pid=6771)\u001b[0m GLD 2020-09-10 tW    0.905\n",
      "\u001b[2m\u001b[36m(pid=6771)\u001b[0m dtype: float64\n",
      "\u001b[2m\u001b[36m(pid=6771)\u001b[0m GLD 2020-09-14 trying to get ticks from local file...\n",
      "\u001b[2m\u001b[36m(pid=6771)\u001b[0m ISSUE! 5 start at: 2020-09-14 09:00:27.868995072\n",
      "\u001b[2m\u001b[36m(pid=6771)\u001b[0m ISSUE! 13 start at: 2020-09-14 09:30:31.269148928\n",
      "\u001b[2m\u001b[36m(pid=6769)\u001b[0m ISSUE! 18 start at: 2020-09-03 23:56:39.130003712\n",
      "\u001b[2m\u001b[36m(pid=6769)\u001b[0m GLD 2020-09-03 tW    0.920918\n",
      "\u001b[2m\u001b[36m(pid=6769)\u001b[0m dtype: float64\n",
      "\u001b[2m\u001b[36m(pid=6769)\u001b[0m GLD 2020-09-15 trying to get ticks from local file...\n",
      "\u001b[2m\u001b[36m(pid=6769)\u001b[0m ISSUE! 6 start at: 2020-09-15 08:09:53.423938304\n",
      "\u001b[2m\u001b[36m(pid=6769)\u001b[0m ISSUE! 19 start at: 2020-09-15 09:00:59.330220544\n",
      "\u001b[2m\u001b[36m(pid=6769)\u001b[0m ISSUE! 18 start at: 2020-09-15 09:25:24.299163904\n",
      "\u001b[2m\u001b[36m(pid=6770)\u001b[0m ISSUE! 16 start at: 2020-09-04 21:54:32.101948928\n",
      "\u001b[2m\u001b[36m(pid=6770)\u001b[0m ISSUE! 13 start at: 2020-09-04 22:05:52.406993408\n",
      "\u001b[2m\u001b[36m(pid=6770)\u001b[0m ISSUE! 17 start at: 2020-09-04 23:12:37.414873088\n",
      "\u001b[2m\u001b[36m(pid=6770)\u001b[0m GLD 2020-09-04 tW    0.929245\n",
      "\u001b[2m\u001b[36m(pid=6770)\u001b[0m dtype: float64\n",
      "\u001b[2m\u001b[36m(pid=6770)\u001b[0m GLD 2020-09-16 trying to get ticks from local file...\n",
      "\u001b[2m\u001b[36m(pid=6770)\u001b[0m ISSUE! 8 start at: 2020-09-16 08:22:22.375929600\n",
      "\u001b[2m\u001b[36m(pid=6770)\u001b[0m ISSUE! 18 start at: 2020-09-16 09:26:38.536369152\n",
      "\u001b[2m\u001b[36m(pid=6772)\u001b[0m ISSUE! 19 start at: 2020-09-11 20:56:23.232976384\n",
      "\u001b[2m\u001b[36m(pid=6772)\u001b[0m ISSUE! 10 start at: 2020-09-11 23:07:58.785567744\n",
      "\u001b[2m\u001b[36m(pid=6772)\u001b[0m GLD 2020-09-11 tW    0.911765\n",
      "\u001b[2m\u001b[36m(pid=6772)\u001b[0m dtype: float64\n",
      "\u001b[2m\u001b[36m(pid=6772)\u001b[0m GLD 2020-09-17 trying to get ticks from local file...\n",
      "\u001b[2m\u001b[36m(pid=6771)\u001b[0m ISSUE! 12 start at: 2020-09-14 22:52:49.747723264\n",
      "\u001b[2m\u001b[36m(pid=6771)\u001b[0m ISSUE! 4 start at: 2020-09-14 23:57:34.329554432\n",
      "\u001b[2m\u001b[36m(pid=6771)\u001b[0m GLD 2020-09-14 tW    1.0\n",
      "\u001b[2m\u001b[36m(pid=6771)\u001b[0m dtype: float64\n",
      "\u001b[2m\u001b[36m(pid=6771)\u001b[0m GLD 2020-09-18 trying to get ticks from local file...\n",
      "\u001b[2m\u001b[36m(pid=6769)\u001b[0m ISSUE! 17 start at: 2020-09-15 20:59:23.107609856\n",
      "\u001b[2m\u001b[36m(pid=6769)\u001b[0m ISSUE! 19 start at: 2020-09-15 21:59:01.001483520\n",
      "\u001b[2m\u001b[36m(pid=6769)\u001b[0m ISSUE! 15 start at: 2020-09-15 23:01:51.888947200\n",
      "\u001b[2m\u001b[36m(pid=6769)\u001b[0m GLD 2020-09-15 tW    0.930233\n",
      "\u001b[2m\u001b[36m(pid=6769)\u001b[0m dtype: float64\n",
      "\u001b[2m\u001b[36m(pid=6769)\u001b[0m GLD 2020-09-21 trying to get ticks from local file...\n",
      "\u001b[2m\u001b[36m(pid=6769)\u001b[0m ISSUE! 14 start at: 2020-09-21 08:50:54.377185536\n",
      "\u001b[2m\u001b[36m(pid=6769)\u001b[0m ISSUE! 12 start at: 2020-09-21 08:57:41.233256448\n",
      "\u001b[2m\u001b[36m(pid=6771)\u001b[0m ISSUE! 11 start at: 2020-09-18 21:30:19.670807552\n",
      "\u001b[2m\u001b[36m(pid=6771)\u001b[0m ISSUE! 10 start at: 2020-09-18 22:47:19.157528576\n",
      "\u001b[2m\u001b[36m(pid=6772)\u001b[0m ISSUE! 13 start at: 2020-09-17 21:55:08.581169920\n",
      "\u001b[2m\u001b[36m(pid=6771)\u001b[0m GLD 2020-09-18 tW    1.0\n",
      "\u001b[2m\u001b[36m(pid=6771)\u001b[0m dtype: float64\n",
      "\u001b[2m\u001b[36m(pid=6771)\u001b[0m GLD 2020-09-22 trying to get ticks from local file...\n",
      "\u001b[2m\u001b[36m(pid=6771)\u001b[0m ISSUE! 7 start at: 2020-09-22 08:27:44.194718464\n",
      "\u001b[2m\u001b[36m(pid=6771)\u001b[0m ISSUE! 4 start at: 2020-09-22 08:33:53.409505024\n",
      "\u001b[2m\u001b[36m(pid=6771)\u001b[0m ISSUE! 0 start at: 2020-09-22 08:53:25.699094528\n",
      "\u001b[2m\u001b[36m(pid=6771)\u001b[0m ISSUE! 9 start at: 2020-09-22 09:32:45.424856064\n",
      "\u001b[2m\u001b[36m(pid=6772)\u001b[0m GLD 2020-09-17 tW    0.930556\n",
      "\u001b[2m\u001b[36m(pid=6772)\u001b[0m dtype: float64\n",
      "\u001b[2m\u001b[36m(pid=6772)\u001b[0m GLD 2020-09-23 trying to get ticks from local file...\n",
      "\u001b[2m\u001b[36m(pid=6770)\u001b[0m ISSUE! 17 start at: 2020-09-16 23:30:21.271757824\n",
      "\u001b[2m\u001b[36m(pid=6770)\u001b[0m GLD 2020-09-16 tW    0.923077\n",
      "\u001b[2m\u001b[36m(pid=6770)\u001b[0m dtype: float64\n",
      "\u001b[2m\u001b[36m(pid=6770)\u001b[0m GLD 2020-09-24 trying to get ticks from local file...\n",
      "\u001b[2m\u001b[36m(pid=6771)\u001b[0m GLD 2020-09-22 tW    0.955645\n",
      "\u001b[2m\u001b[36m(pid=6771)\u001b[0m dtype: float64\n",
      "\u001b[2m\u001b[36m(pid=6771)\u001b[0m GLD 2020-09-25 trying to get ticks from local file...\n",
      "\u001b[2m\u001b[36m(pid=6771)\u001b[0m ISSUE! 9 start at: 2020-09-25 09:01:01.403989248\n",
      "\u001b[2m\u001b[36m(pid=6771)\u001b[0m ISSUE! 19 start at: 2020-09-25 10:27:44.891168256\n",
      "\u001b[2m\u001b[36m(pid=6770)\u001b[0m ISSUE! 16 start at: 2020-09-24 20:58:01.027530240\n",
      "\u001b[2m\u001b[36m(pid=6770)\u001b[0m ISSUE! 17 start at: 2020-09-24 23:19:50.532024064\n",
      "\u001b[2m\u001b[36m(pid=6770)\u001b[0m GLD 2020-09-24 tW    0.958333\n",
      "\u001b[2m\u001b[36m(pid=6770)\u001b[0m dtype: float64\n",
      "\u001b[2m\u001b[36m(pid=6770)\u001b[0m GLD 2020-09-28 trying to get ticks from local file...\n",
      "\u001b[2m\u001b[36m(pid=6770)\u001b[0m ISSUE! 16 start at: 2020-09-28 08:46:39.732406528\n",
      "\u001b[2m\u001b[36m(pid=6770)\u001b[0m ISSUE! 18 start at: 2020-09-28 09:58:23.935945472\n",
      "\u001b[2m\u001b[36m(pid=6770)\u001b[0m ISSUE! 19 start at: 2020-09-28 10:18:18.011183616\n",
      "\u001b[2m\u001b[36m(pid=6770)\u001b[0m ISSUE! 13 start at: 2020-09-28 10:28:26.627556864\n",
      "\u001b[2m\u001b[36m(pid=6772)\u001b[0m GLD 2020-09-23 tW    0.905882\n",
      "\u001b[2m\u001b[36m(pid=6772)\u001b[0m dtype: float64\n",
      "\u001b[2m\u001b[36m(pid=6772)\u001b[0m GLD 2020-09-29 trying to get ticks from local file...\n",
      "\u001b[2m\u001b[36m(pid=6771)\u001b[0m GLD 2020-09-25 tW    0.932927\n",
      "\u001b[2m\u001b[36m(pid=6771)\u001b[0m dtype: float64\n",
      "\u001b[2m\u001b[36m(pid=6771)\u001b[0m GLD 2020-09-30 trying to get ticks from local file...\n",
      "\u001b[2m\u001b[36m(pid=6770)\u001b[0m GLD 2020-09-28 tW    0.964286\n",
      "\u001b[2m\u001b[36m(pid=6770)\u001b[0m dtype: float64\n",
      "\u001b[2m\u001b[36m(pid=6770)\u001b[0m GLD 2020-10-01 trying to get ticks from local file...\n",
      "\u001b[2m\u001b[36m(pid=6770)\u001b[0m ISSUE! 6 start at: 2020-10-01 08:02:38.712710400\n",
      "\u001b[2m\u001b[36m(pid=6770)\u001b[0m ISSUE! 17 start at: 2020-10-01 09:04:51.977894400\n",
      "\u001b[2m\u001b[36m(pid=6770)\u001b[0m ISSUE! 7 start at: 2020-10-01 09:28:15.825573376\n",
      "\u001b[2m\u001b[36m(pid=6770)\u001b[0m ISSUE! 5 start at: 2020-10-01 10:12:37.018530304\n",
      "\u001b[2m\u001b[36m(pid=6769)\u001b[0m GLD 2020-09-21 tW    0.942913\n",
      "\u001b[2m\u001b[36m(pid=6769)\u001b[0m dtype: float64\n",
      "\u001b[2m\u001b[36m(pid=6772)\u001b[0m ISSUE! 15 start at: 2020-09-29 23:52:33.177703424\n",
      "\u001b[2m\u001b[36m(pid=6772)\u001b[0m GLD 2020-09-29 tW    0.914634\n",
      "\u001b[2m\u001b[36m(pid=6772)\u001b[0m dtype: float64\n",
      "\u001b[2m\u001b[36m(pid=6771)\u001b[0m ISSUE! 14 start at: 2020-09-30 23:36:26.006721536\n",
      "\u001b[2m\u001b[36m(pid=6770)\u001b[0m ISSUE! 16 start at: 2020-10-01 23:54:03.641897216\n",
      "\u001b[2m\u001b[36m(pid=6771)\u001b[0m GLD 2020-09-30 tW    0.955\n",
      "\u001b[2m\u001b[36m(pid=6771)\u001b[0m dtype: float64\n",
      "\u001b[2m\u001b[36m(pid=6770)\u001b[0m GLD 2020-10-01 tW    0.940789\n",
      "\u001b[2m\u001b[36m(pid=6770)\u001b[0m dtype: float64\n"
     ]
    }
   ],
   "source": [
    "labeled_bar_dates, daily_bar_stats_df = bm.bars_workflow_ray(result_path, symbol, start_date, end_date, thresh)"
   ]
  },
  {
   "cell_type": "code",
   "execution_count": null,
   "metadata": {},
   "outputs": [],
   "source": [
    "# range / price = HFT profit potential\n",
    "(df.price.max() - df.price.min()) / df.price.mean()"
   ]
  },
  {
   "cell_type": "code",
   "execution_count": null,
   "metadata": {},
   "outputs": [],
   "source": [
    "lbars_df[['price_wmean', 'label_rrr']].plot_bokeh(sizing_mode=\"scale_height\")\n",
    "# 17, 31"
   ]
  },
  {
   "cell_type": "code",
   "execution_count": null,
   "metadata": {
    "ExecuteTime": {
     "end_time": "2020-09-30T01:35:33.531161Z",
     "start_time": "2020-09-30T01:35:31.255669Z"
    },
    "code_folding": []
   },
   "outputs": [],
   "source": [
    "lbars_df[['price_wmean', 'label_rrr']].plot(subplots=True, figsize=[17,12])"
   ]
  }
 ],
 "metadata": {
  "kernelspec": {
   "display_name": "Python 3",
   "language": "python",
   "name": "python3"
  },
  "language_info": {
   "codemirror_mode": {
    "name": "ipython",
    "version": 3
   },
   "file_extension": ".py",
   "mimetype": "text/x-python",
   "name": "python",
   "nbconvert_exporter": "python",
   "pygments_lexer": "ipython3",
   "version": "3.7.8"
  },
  "varInspector": {
   "cols": {
    "lenName": 16,
    "lenType": 16,
    "lenVar": 40
   },
   "kernels_config": {
    "python": {
     "delete_cmd_postfix": "",
     "delete_cmd_prefix": "del ",
     "library": "var_list.py",
     "varRefreshCmd": "print(var_dic_list())"
    },
    "r": {
     "delete_cmd_postfix": ") ",
     "delete_cmd_prefix": "rm(",
     "library": "var_list.r",
     "varRefreshCmd": "cat(var_dic_list()) "
    }
   },
   "types_to_exclude": [
    "module",
    "function",
    "builtin_function_or_method",
    "instance",
    "_Feature"
   ],
   "window_display": false
  }
 },
 "nbformat": 4,
 "nbformat_minor": 4
}
