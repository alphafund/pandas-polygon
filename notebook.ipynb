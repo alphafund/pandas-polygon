{
 "cells": [
  {
   "cell_type": "code",
   "execution_count": null,
   "metadata": {},
   "outputs": [],
   "source": [
    "import ray\n",
    "ray.shutdown()"
   ]
  },
  {
   "cell_type": "code",
   "execution_count": 5,
   "metadata": {
    "ExecuteTime": {
     "end_time": "2020-09-30T01:17:28.615776Z",
     "start_time": "2020-09-30T01:17:28.454787Z"
    },
    "execution": {
     "iopub.execute_input": "2020-11-09T12:01:48.319295Z",
     "iopub.status.busy": "2020-11-09T12:01:48.316948Z",
     "iopub.status.idle": "2020-11-09T12:01:48.847081Z",
     "shell.execute_reply": "2020-11-09T12:01:48.845812Z",
     "shell.execute_reply.started": "2020-11-09T12:01:48.319229Z"
    }
   },
   "outputs": [
    {
     "name": "stdout",
     "output_type": "stream",
     "text": [
      "The autoreload extension is already loaded. To reload it, use:\n",
      "  %reload_ext autoreload\n"
     ]
    }
   ],
   "source": [
    "%load_ext autoreload\n",
    "%autoreload 2\n",
    "\n",
    "import numpy as np\n",
    "import pandas as pd\n",
    "import pandas_bokeh\n",
    "from qgrid import show_grid\n",
    "# import finplot as fplt\n",
    "\n",
    "import polygon_rest_api as papi\n",
    "import polygon_ws_api as pws\n",
    "import polygon_df as pdf\n",
    "import polygon_ds as pds\n",
    "import polygon_s3 as ps3\n",
    "\n",
    "import bar_samples as bs\n",
    "import bar_labels as bl\n",
    "import bar_meta as bm\n",
    "import filters as ft\n",
    "\n",
    "import flow_backfill as fb\n",
    "\n",
    "# import market_cluster as mc\n",
    "\n",
    "import matplotlib as mpl\n",
    "from matplotlib import style\n",
    "style.use('fivethirtyeight')\n",
    "mpl.rcParams['figure.figsize'] = [20, 7]\n",
    "\n",
    "# import ipdb\n",
    "# ipdb.set_trace(context=10)\n",
    "\n",
    "# df.style.background_gradient(cmap='coolwarm', axis=None, vmin=-1, vmax=1)  # 'Blues', 'coolwarm', 'RdBu_r' & 'BrBG' are other good diverging colormaps\n",
    "# pd.set_option('precision', 2)\n",
    "\n",
    "# .plot_bokeh(sizing_mode=\"scale_height\")"
   ]
  },
  {
   "cell_type": "code",
   "execution_count": 13,
   "metadata": {
    "execution": {
     "iopub.execute_input": "2020-11-09T12:07:27.368933Z",
     "iopub.status.busy": "2020-11-09T12:07:27.368091Z",
     "iopub.status.idle": "2020-11-09T12:07:27.608544Z",
     "shell.execute_reply": "2020-11-09T12:07:27.607471Z",
     "shell.execute_reply.started": "2020-11-09T12:07:27.368885Z"
    }
   },
   "outputs": [],
   "source": [
    "# symbol='GLD'\n",
    "symbol = 'market'\n",
    "date = '2020-01-02'\n",
    "start_date = '2020-10-01'\n",
    "end_date = '2020-10-10'\n",
    "# tick_type='trades'\n",
    "tick_type='daily'\n",
    "\n",
    "thresh = {\n",
    "    # max thresholds\n",
    "    'renko_reveral_multiple': 2,\n",
    "    'max_duration_sec': 60*60,\n",
    "    # min thresholds\n",
    "    'min_duration_sec': 15,\n",
    "    'min_tick_count': 30,\n",
    "}\n",
    "\n",
    "horizon_mins=30"
   ]
  },
  {
   "cell_type": "code",
   "execution_count": 19,
   "metadata": {
    "execution": {
     "iopub.execute_input": "2020-11-09T12:13:34.568162Z",
     "iopub.status.busy": "2020-11-09T12:13:34.567714Z",
     "iopub.status.idle": "2020-11-09T12:13:34.711849Z",
     "shell.execute_reply": "2020-11-09T12:13:34.710015Z",
     "shell.execute_reply.started": "2020-11-09T12:13:34.568120Z"
    }
   },
   "outputs": [
    {
     "name": "stdout",
     "output_type": "stream",
     "text": [
      "market 2020-01-02 trying to get ticks from local file...\n"
     ]
    }
   ],
   "source": [
    "mdf = ps3.load_date_df(symbol, date, tick_type)"
   ]
  },
  {
   "cell_type": "code",
   "execution_count": 21,
   "metadata": {
    "execution": {
     "iopub.execute_input": "2020-11-09T12:30:33.566362Z",
     "iopub.status.busy": "2020-11-09T12:30:33.565919Z",
     "iopub.status.idle": "2020-11-09T12:30:33.799378Z",
     "shell.execute_reply": "2020-11-09T12:30:33.795677Z",
     "shell.execute_reply.started": "2020-11-09T12:30:33.566319Z"
    }
   },
   "outputs": [
    {
     "data": {
      "text/html": [
       "<div>\n",
       "<style scoped>\n",
       "    .dataframe tbody tr th:only-of-type {\n",
       "        vertical-align: middle;\n",
       "    }\n",
       "\n",
       "    .dataframe tbody tr th {\n",
       "        vertical-align: top;\n",
       "    }\n",
       "\n",
       "    .dataframe thead th {\n",
       "        text-align: right;\n",
       "    }\n",
       "</style>\n",
       "<table border=\"1\" class=\"dataframe\">\n",
       "  <thead>\n",
       "    <tr style=\"text-align: right;\">\n",
       "      <th></th>\n",
       "      <th>sequence</th>\n",
       "      <th>trade_id</th>\n",
       "      <th>exchange_id</th>\n",
       "      <th>price</th>\n",
       "      <th>size</th>\n",
       "      <th>conditions</th>\n",
       "      <th>irregular</th>\n",
       "      <th>sip_dt</th>\n",
       "      <th>exchange_dt</th>\n",
       "    </tr>\n",
       "  </thead>\n",
       "  <tbody>\n",
       "    <tr>\n",
       "      <th>0</th>\n",
       "      <td>28701</td>\n",
       "      <td>52983525027910</td>\n",
       "      <td>11</td>\n",
       "      <td>142.940002</td>\n",
       "      <td>6</td>\n",
       "      <td>[12, 37]</td>\n",
       "      <td>False</td>\n",
       "      <td>2020-01-02 09:00:40.834409467</td>\n",
       "      <td>2020-01-02 09:00:40.833902336</td>\n",
       "    </tr>\n",
       "    <tr>\n",
       "      <th>1</th>\n",
       "      <td>29001</td>\n",
       "      <td>3472338191832601422</td>\n",
       "      <td>12</td>\n",
       "      <td>143.130005</td>\n",
       "      <td>10</td>\n",
       "      <td>[12, 37]</td>\n",
       "      <td>False</td>\n",
       "      <td>2020-01-02 09:15:34.068353536</td>\n",
       "      <td>2020-01-02 09:15:34.067539269</td>\n",
       "    </tr>\n",
       "    <tr>\n",
       "      <th>2</th>\n",
       "      <td>29801</td>\n",
       "      <td>3472338191832602726</td>\n",
       "      <td>12</td>\n",
       "      <td>143.169998</td>\n",
       "      <td>754</td>\n",
       "      <td>[14, 12, 41]</td>\n",
       "      <td>False</td>\n",
       "      <td>2020-01-02 09:27:21.328832780</td>\n",
       "      <td>2020-01-02 09:27:21.328049503</td>\n",
       "    </tr>\n",
       "    <tr>\n",
       "      <th>3</th>\n",
       "      <td>30001</td>\n",
       "      <td>52983525028144</td>\n",
       "      <td>11</td>\n",
       "      <td>143.179993</td>\n",
       "      <td>100</td>\n",
       "      <td>[14, 12, 41]</td>\n",
       "      <td>False</td>\n",
       "      <td>2020-01-02 09:27:34.171401700</td>\n",
       "      <td>2020-01-02 09:27:34.171080704</td>\n",
       "    </tr>\n",
       "    <tr>\n",
       "      <th>4</th>\n",
       "      <td>30101</td>\n",
       "      <td>3472338191832602988</td>\n",
       "      <td>12</td>\n",
       "      <td>143.179993</td>\n",
       "      <td>100</td>\n",
       "      <td>[14, 12, 41]</td>\n",
       "      <td>False</td>\n",
       "      <td>2020-01-02 09:29:19.062858164</td>\n",
       "      <td>2020-01-02 09:29:19.062070226</td>\n",
       "    </tr>\n",
       "    <tr>\n",
       "      <th>...</th>\n",
       "      <td>...</td>\n",
       "      <td>...</td>\n",
       "      <td>...</td>\n",
       "      <td>...</td>\n",
       "      <td>...</td>\n",
       "      <td>...</td>\n",
       "      <td>...</td>\n",
       "      <td>...</td>\n",
       "      <td>...</td>\n",
       "    </tr>\n",
       "    <tr>\n",
       "      <th>31046</th>\n",
       "      <td>40196001</td>\n",
       "      <td>52983525624633</td>\n",
       "      <td>8</td>\n",
       "      <td>144.250000</td>\n",
       "      <td>67</td>\n",
       "      <td>[14, 12, 37, 41]</td>\n",
       "      <td>False</td>\n",
       "      <td>2020-01-03 00:58:04.441735786</td>\n",
       "      <td>2020-01-03 00:58:04.441173000</td>\n",
       "    </tr>\n",
       "    <tr>\n",
       "      <th>31047</th>\n",
       "      <td>40196401</td>\n",
       "      <td>71684468919122</td>\n",
       "      <td>4</td>\n",
       "      <td>144.000000</td>\n",
       "      <td>10</td>\n",
       "      <td>[12, 37]</td>\n",
       "      <td>False</td>\n",
       "      <td>2020-01-03 00:58:35.385387039</td>\n",
       "      <td>2020-01-03 00:58:35.381000000</td>\n",
       "    </tr>\n",
       "    <tr>\n",
       "      <th>31048</th>\n",
       "      <td>40196601</td>\n",
       "      <td>52983525624638</td>\n",
       "      <td>8</td>\n",
       "      <td>144.009995</td>\n",
       "      <td>10</td>\n",
       "      <td>[12, 37, 41]</td>\n",
       "      <td>False</td>\n",
       "      <td>2020-01-03 00:59:34.154720166</td>\n",
       "      <td>2020-01-03 00:59:34.154056000</td>\n",
       "    </tr>\n",
       "    <tr>\n",
       "      <th>31049</th>\n",
       "      <td>40199001</td>\n",
       "      <td>52983559834699</td>\n",
       "      <td>11</td>\n",
       "      <td>143.949997</td>\n",
       "      <td>0</td>\n",
       "      <td>[38, 41]</td>\n",
       "      <td>True</td>\n",
       "      <td>2020-01-03 01:00:00.002102500</td>\n",
       "      <td>2020-01-03 01:00:00.001874688</td>\n",
       "    </tr>\n",
       "    <tr>\n",
       "      <th>31050</th>\n",
       "      <td>40199201</td>\n",
       "      <td>52983559834700</td>\n",
       "      <td>11</td>\n",
       "      <td>143.949997</td>\n",
       "      <td>321834</td>\n",
       "      <td>[15]</td>\n",
       "      <td>True</td>\n",
       "      <td>2020-01-03 01:00:00.002124026</td>\n",
       "      <td>2020-01-03 01:00:00.001874688</td>\n",
       "    </tr>\n",
       "  </tbody>\n",
       "</table>\n",
       "<p>31051 rows × 9 columns</p>\n",
       "</div>"
      ],
      "text/plain": [
       "       sequence             trade_id  exchange_id       price    size  \\\n",
       "0         28701       52983525027910           11  142.940002       6   \n",
       "1         29001  3472338191832601422           12  143.130005      10   \n",
       "2         29801  3472338191832602726           12  143.169998     754   \n",
       "3         30001       52983525028144           11  143.179993     100   \n",
       "4         30101  3472338191832602988           12  143.179993     100   \n",
       "...         ...                  ...          ...         ...     ...   \n",
       "31046  40196001       52983525624633            8  144.250000      67   \n",
       "31047  40196401       71684468919122            4  144.000000      10   \n",
       "31048  40196601       52983525624638            8  144.009995      10   \n",
       "31049  40199001       52983559834699           11  143.949997       0   \n",
       "31050  40199201       52983559834700           11  143.949997  321834   \n",
       "\n",
       "             conditions  irregular                        sip_dt  \\\n",
       "0              [12, 37]      False 2020-01-02 09:00:40.834409467   \n",
       "1              [12, 37]      False 2020-01-02 09:15:34.068353536   \n",
       "2          [14, 12, 41]      False 2020-01-02 09:27:21.328832780   \n",
       "3          [14, 12, 41]      False 2020-01-02 09:27:34.171401700   \n",
       "4          [14, 12, 41]      False 2020-01-02 09:29:19.062858164   \n",
       "...                 ...        ...                           ...   \n",
       "31046  [14, 12, 37, 41]      False 2020-01-03 00:58:04.441735786   \n",
       "31047          [12, 37]      False 2020-01-03 00:58:35.385387039   \n",
       "31048      [12, 37, 41]      False 2020-01-03 00:59:34.154720166   \n",
       "31049          [38, 41]       True 2020-01-03 01:00:00.002102500   \n",
       "31050              [15]       True 2020-01-03 01:00:00.002124026   \n",
       "\n",
       "                        exchange_dt  \n",
       "0     2020-01-02 09:00:40.833902336  \n",
       "1     2020-01-02 09:15:34.067539269  \n",
       "2     2020-01-02 09:27:21.328049503  \n",
       "3     2020-01-02 09:27:34.171080704  \n",
       "4     2020-01-02 09:29:19.062070226  \n",
       "...                             ...  \n",
       "31046 2020-01-03 00:58:04.441173000  \n",
       "31047 2020-01-03 00:58:35.381000000  \n",
       "31048 2020-01-03 00:59:34.154056000  \n",
       "31049 2020-01-03 01:00:00.001874688  \n",
       "31050 2020-01-03 01:00:00.001874688  \n",
       "\n",
       "[31051 rows x 9 columns]"
      ]
     },
     "execution_count": 21,
     "metadata": {},
     "output_type": "execute_result"
    }
   ],
   "source": [
    "df"
   ]
  },
  {
   "cell_type": "code",
   "execution_count": 11,
   "metadata": {
    "execution": {
     "iopub.execute_input": "2020-11-09T12:06:11.663264Z",
     "iopub.status.busy": "2020-11-09T12:06:11.661737Z",
     "iopub.status.idle": "2020-11-09T12:06:11.999296Z",
     "shell.execute_reply": "2020-11-09T12:06:11.994377Z",
     "shell.execute_reply.started": "2020-11-09T12:06:11.663180Z"
    }
   },
   "outputs": [
    {
     "data": {
      "text/plain": [
       "['2020-01-02']"
      ]
     },
     "execution_count": 11,
     "metadata": {},
     "output_type": "execute_result"
    }
   ],
   "source": [
    "ps3.list_symbol_dates(symbol)"
   ]
  },
  {
   "cell_type": "code",
   "execution_count": null,
   "metadata": {},
   "outputs": [],
   "source": [
    "df = ps3.load_ticks(symbol, '2020-11-05')\n",
    "sdf = df.loc[df.irregular==False]\n",
    "sdf2 = ft.jma_filter_df(sdf, 'price', length=5, power=0.5)"
   ]
  },
  {
   "cell_type": "code",
   "execution_count": null,
   "metadata": {},
   "outputs": [],
   "source": [
    "(abs(sdf2.price - sdf2.price_jma) / sdf2.price_jma).describe(percentiles=[.99,.999,.9995,.9999])"
   ]
  },
  {
   "cell_type": "code",
   "execution_count": null,
   "metadata": {},
   "outputs": [],
   "source": [
    "fb.run_backfill(symbols=['GLD'], tick_type='trades', start_date='2020-10-01')\n",
    "# fb.run_backfill(symbols=['market'], tick_type='daily', start_date='2020-10-01')"
   ]
  },
  {
   "cell_type": "code",
   "execution_count": null,
   "metadata": {},
   "outputs": [],
   "source": [
    "import ray\n",
    "ray.init(ignore_reinit_error=True, num_cpus=4, dashboard_port=8080)\n",
    "\n",
    "daily_bar_stats_df, labeled_bar_dates, stacked_bars_df = bm.bars_workflow_ray( \n",
    "    symbol, \n",
    "    start_date, \n",
    "    end_date, \n",
    "    thresh,\n",
    "    imbalance_thresh=0.9\n",
    ")"
   ]
  },
  {
   "cell_type": "code",
   "execution_count": null,
   "metadata": {},
   "outputs": [],
   "source": [
    "import pickle \n",
    "fio = open('bars_workflow_ray-new.pickle', 'wb') \n",
    "pickle.dump((daily_bar_stats_df, labeled_bar_dates, stacked_bars_df), fio)"
   ]
  },
  {
   "cell_type": "code",
   "execution_count": null,
   "metadata": {},
   "outputs": [],
   "source": [
    "data = (daily_bar_stats_df, labeled_bar_dates, stacked_bars_df)\n",
    "file = open('test.pickle', mode='wb')\n",
    "pickle.dump(data, file, protocol=pickle.HIGHEST_PROTOCOL)"
   ]
  },
  {
   "cell_type": "code",
   "execution_count": null,
   "metadata": {},
   "outputs": [],
   "source": [
    "with open(\"test.pickle\", \"rb\") as input_file:\n",
    "    e = pickle.load(input_file)"
   ]
  },
  {
   "cell_type": "code",
   "execution_count": null,
   "metadata": {},
   "outputs": [],
   "source": [
    "lbars_df[['price_wmean', 'label_rrr']].plot_bokeh(sizing_mode=\"scale_height\")\n",
    "# 17, 31"
   ]
  },
  {
   "cell_type": "code",
   "execution_count": null,
   "metadata": {
    "ExecuteTime": {
     "end_time": "2020-09-30T01:35:33.531161Z",
     "start_time": "2020-09-30T01:35:31.255669Z"
    },
    "code_folding": []
   },
   "outputs": [],
   "source": [
    "lbars_df[['price_wmean', 'label_rrr']].plot(subplots=True, figsize=[17,12])"
   ]
  }
 ],
 "metadata": {
  "kernelspec": {
   "display_name": "Python 3",
   "language": "python",
   "name": "python3"
  },
  "language_info": {
   "codemirror_mode": {
    "name": "ipython",
    "version": 3
   },
   "file_extension": ".py",
   "mimetype": "text/x-python",
   "name": "python",
   "nbconvert_exporter": "python",
   "pygments_lexer": "ipython3",
   "version": "3.7.8"
  },
  "varInspector": {
   "cols": {
    "lenName": 16,
    "lenType": 16,
    "lenVar": 40
   },
   "kernels_config": {
    "python": {
     "delete_cmd_postfix": "",
     "delete_cmd_prefix": "del ",
     "library": "var_list.py",
     "varRefreshCmd": "print(var_dic_list())"
    },
    "r": {
     "delete_cmd_postfix": ") ",
     "delete_cmd_prefix": "rm(",
     "library": "var_list.r",
     "varRefreshCmd": "cat(var_dic_list()) "
    }
   },
   "types_to_exclude": [
    "module",
    "function",
    "builtin_function_or_method",
    "instance",
    "_Feature"
   ],
   "window_display": false
  }
 },
 "nbformat": 4,
 "nbformat_minor": 4
}
