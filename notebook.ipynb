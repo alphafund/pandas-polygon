{
 "cells": [
  {
   "cell_type": "code",
   "execution_count": 35,
   "metadata": {
    "ExecuteTime": {
     "end_time": "2020-09-30T01:17:28.615776Z",
     "start_time": "2020-09-30T01:17:28.454787Z"
    },
    "execution": {
     "iopub.execute_input": "2020-10-27T02:01:24.459011Z",
     "iopub.status.busy": "2020-10-27T02:01:24.458487Z",
     "iopub.status.idle": "2020-10-27T02:01:24.544484Z",
     "shell.execute_reply": "2020-10-27T02:01:24.543020Z",
     "shell.execute_reply.started": "2020-10-27T02:01:24.458974Z"
    }
   },
   "outputs": [
    {
     "name": "stdout",
     "output_type": "stream",
     "text": [
      "The autoreload extension is already loaded. To reload it, use:\n",
      "  %reload_ext autoreload\n"
     ]
    }
   ],
   "source": [
    "%load_ext autoreload\n",
    "%autoreload 2\n",
    "\n",
    "import numpy as np\n",
    "import pandas as pd\n",
    "import pandas_bokeh\n",
    "from qgrid import show_grid\n",
    "# import finplot as fplt\n",
    "\n",
    "import polygon_rest_api as papi\n",
    "import polygon_backfill as pb\n",
    "import polygon_s3 as ps3\n",
    "import bar_samples as bs\n",
    "import bar_labels as bl\n",
    "\n",
    "import filters as ft\n",
    "# import market_cluster as mc\n",
    "\n",
    "import matplotlib as mpl\n",
    "mpl.rcParams['figure.figsize'] = [20, 7]\n",
    "from matplotlib import style\n",
    "style.use('fivethirtyeight')\n",
    "\n",
    "# from tqdm import tqdm\n",
    "# import ipdb\n",
    "# ipdb.set_trace(context=10)\n",
    "\n",
    "# df.style.background_gradient(cmap='coolwarm', axis=None, vmin=-1, vmax=1)  # 'Blues', 'coolwarm', 'RdBu_r' & 'BrBG' are other good diverging colormaps\n",
    "# pd.set_option('precision', 2)\n",
    "\n",
    "# get local market daily data\n",
    "# mdf = pd.read_parquet('data/mdf.parquet')\n",
    "\n",
    "# .plot_bokeh(sizing_mode=\"scale_height\")"
   ]
  },
  {
   "cell_type": "code",
   "execution_count": 2,
   "metadata": {
    "execution": {
     "iopub.execute_input": "2020-10-27T01:06:24.600630Z",
     "iopub.status.busy": "2020-10-27T01:06:24.600033Z",
     "iopub.status.idle": "2020-10-27T01:06:24.703452Z",
     "shell.execute_reply": "2020-10-27T01:06:24.701673Z",
     "shell.execute_reply.started": "2020-10-27T01:06:24.600572Z"
    }
   },
   "outputs": [],
   "source": [
    "symbol='GLD'\n",
    "# symbol = 'market'\n",
    "# date = '2020-01-02'\n",
    "start_date = '2020-01-01'\n",
    "# start_date = '2020-10-01'\n",
    "# end_date = '2020-01-10'\n",
    "# symbols=['SPY', 'QQQ']\n",
    "tick_type='trades'\n",
    "\n",
    "result_path = '/Users/bobcolner/QuantClarity/pandas-polygon/data'\n",
    "\n",
    "thresh = {\n",
    "    # GT thresholds\n",
    "    'renko_reveral_multiple': 2,\n",
    "    'duration_sec': 60*45,\n",
    "    # LT thresholds \n",
    "    'min_duration_sec': 10,\n",
    "    'min_tick_count': 30,\n",
    "}"
   ]
  },
  {
   "cell_type": "code",
   "execution_count": 3,
   "metadata": {
    "execution": {
     "iopub.execute_input": "2020-10-27T01:06:26.988333Z",
     "iopub.status.busy": "2020-10-27T01:06:26.984780Z",
     "iopub.status.idle": "2020-10-27T01:06:28.518532Z",
     "shell.execute_reply": "2020-10-27T01:06:28.517033Z",
     "shell.execute_reply.started": "2020-10-27T01:06:26.988197Z"
    }
   },
   "outputs": [],
   "source": [
    "import ray\n",
    "\n",
    "@ray.remote\n",
    "def build_bars_ray(result_path, symbol, date, thresh) -> dict:\n",
    "    # get ticks for current date\n",
    "    ticks_df = ps3.load_ticks(result_path, symbol, date, 'trades')\n",
    "    # sample bars\n",
    "    bars, state = bs.build_bars(ticks_df, thresh)\n",
    "    return {'date': date, 'bars': bars}\n"
   ]
  },
  {
   "cell_type": "code",
   "execution_count": null,
   "metadata": {},
   "outputs": [],
   "source": [
    "ray.init(ignore_reinit_error=True)\n",
    "\n",
    "daily_vol_df = ps3.get_symbol_vol_filter(result_path, symbol, start_date)\n",
    "daily_vol_df.loc[:, 'range_jma_lag'] = daily_vol_df.range_jma.shift(1)\n",
    "daily_vol_df = daily_vol_df.dropna()\n",
    "\n",
    "futures = []\n",
    "\n",
    "for row in daily_vol_df.itertuples():\n",
    "    \n",
    "    thresh.update({'renko_size': row.range_jma_lag / 15})\n",
    "\n",
    "    bars = build_bars_ray.remote(\n",
    "        result_path=result_path,\n",
    "        symbol=symbol, \n",
    "        date=row.date,\n",
    "        thresh=thresh\n",
    "    )\n",
    "    futures.append(bars)\n",
    "    \n",
    "bar_dates = ray.get(futures)\n",
    "\n",
    "ray.shutdown()"
   ]
  },
  {
   "cell_type": "code",
   "execution_count": null,
   "metadata": {},
   "outputs": [],
   "source": [
    "results = []\n",
    "for date_d in bar_dates:\n",
    "    \n",
    "    imbalances = []    \n",
    "    for bar in date_d['bars']:\n",
    "        imbalances.append(bar['tick_imbalance'])\n",
    "    \n",
    "    imbal_thresh = pd.Series(imbalances).quantile(q=.95)\n",
    "    results.append({'date': date_d['date'], 'bar_count': len(date_d['bars']), 'tick_imbalance_thresh': imbal_thresh})\n",
    "\n",
    "daily_bar_stats_df = ft.jma_filter_df(pd.DataFrame(results), 'tick_imbalance_thresh', length=5, power=1)\n",
    "daily_bar_stats_df.loc[:,'tick_imbalance_thresh_jma_lag'] = daily_bar_stats_df['tick_imbalance_thresh_jma'].shift(1)\n",
    "daily_bar_stats_df = daily_bar_stats_df.dropna()\n",
    "daily_join_df = pd.merge(left=daily_bar_stats_df, right=daily_vol_df, left_on='date', right_on='date')\n",
    "\n",
    "# daily_join_df[['tick_imbalance_thresh','tick_imbalance_thresh_jma']].plot()"
   ]
  },
  {
   "cell_type": "code",
   "execution_count": null,
   "metadata": {},
   "outputs": [],
   "source": [
    "ray.init(ignore_reinit_error=True)\n",
    "\n",
    "futures = []\n",
    "\n",
    "for row in daily_join_df.itertuples():\n",
    "    \n",
    "    thresh.update({\n",
    "        'renko_size': row.range_jma_lag / 15,\n",
    "        'tick_imbalance': row.tick_imbalance_thresh_jma_lag\n",
    "        })\n",
    "\n",
    "    bars = build_bars_ray.remote(\n",
    "        result_path=result_path,\n",
    "        symbol=symbol, \n",
    "        date=row.date,\n",
    "        thresh=thresh\n",
    "    )\n",
    "    futures.append(bars)\n",
    "    \n",
    "bar_dates_3 = ray.get(futures)\n",
    "\n",
    "ray.shutdown()"
   ]
  },
  {
   "cell_type": "code",
   "execution_count": 49,
   "metadata": {
    "execution": {
     "iopub.execute_input": "2020-10-27T02:14:27.332650Z",
     "iopub.status.busy": "2020-10-27T02:14:27.332174Z",
     "iopub.status.idle": "2020-10-27T02:14:27.461678Z",
     "shell.execute_reply": "2020-10-27T02:14:27.459097Z",
     "shell.execute_reply.started": "2020-10-27T02:14:27.332606Z"
    }
   },
   "outputs": [],
   "source": [
    "bars_df = pd.DataFrame(bar_dates_2[0]['bars'])\n",
    "# bars_df = pd.DataFrame(bar_dates[0]['bars'])"
   ]
  },
  {
   "cell_type": "code",
   "execution_count": 50,
   "metadata": {
    "collapsed": true,
    "execution": {
     "iopub.execute_input": "2020-10-27T02:14:27.908523Z",
     "iopub.status.busy": "2020-10-27T02:14:27.908173Z",
     "iopub.status.idle": "2020-10-27T02:14:27.988953Z",
     "shell.execute_reply": "2020-10-27T02:14:27.987652Z",
     "shell.execute_reply.started": "2020-10-27T02:14:27.908490Z"
    },
    "jupyter": {
     "outputs_hidden": true
    }
   },
   "outputs": [
    {
     "data": {
      "text/plain": [
       "count    210.000000\n",
       "mean      40.428571\n",
       "std       32.799334\n",
       "min        0.000000\n",
       "25%        7.000000\n",
       "50%       40.500000\n",
       "75%       74.000000\n",
       "max      170.000000\n",
       "Name: tick_imbalance, dtype: float64"
      ]
     },
     "execution_count": 50,
     "metadata": {},
     "output_type": "execute_result"
    }
   ],
   "source": [
    "abs(bars_df.tick_imbalance).describe()"
   ]
  },
  {
   "cell_type": "code",
   "execution_count": 67,
   "metadata": {
    "execution": {
     "iopub.execute_input": "2020-10-27T02:34:51.669164Z",
     "iopub.status.busy": "2020-10-27T02:34:51.668214Z",
     "iopub.status.idle": "2020-10-27T02:34:51.815257Z",
     "shell.execute_reply": "2020-10-27T02:34:51.813312Z",
     "shell.execute_reply.started": "2020-10-27T02:34:51.669096Z"
    }
   },
   "outputs": [
    {
     "data": {
      "text/plain": [
       "tick_imbalance    37\n",
       "renko_down        30\n",
       "renko_up          26\n",
       "duration           6\n",
       "Name: bar_trigger, dtype: int64"
      ]
     },
     "execution_count": 67,
     "metadata": {},
     "output_type": "execute_result"
    }
   ],
   "source": [
    "pd.DataFrame(bar_dates_3[130]['bars']).bar_trigger.value_counts()"
   ]
  },
  {
   "cell_type": "code",
   "execution_count": 55,
   "metadata": {
    "execution": {
     "iopub.execute_input": "2020-10-27T02:30:00.663473Z",
     "iopub.status.busy": "2020-10-27T02:30:00.662774Z",
     "iopub.status.idle": "2020-10-27T02:30:00.876405Z",
     "shell.execute_reply": "2020-10-27T02:30:00.872969Z",
     "shell.execute_reply.started": "2020-10-27T02:30:00.663412Z"
    }
   },
   "outputs": [
    {
     "data": {
      "text/plain": [
       "count    204.000000\n",
       "mean     113.049020\n",
       "std       58.059317\n",
       "min       37.000000\n",
       "25%       72.750000\n",
       "50%       96.000000\n",
       "75%      134.000000\n",
       "max      426.000000\n",
       "dtype: float64"
      ]
     },
     "execution_count": 55,
     "metadata": {},
     "output_type": "execute_result"
    }
   ],
   "source": [
    "pd.Series([len(date['bars']) for date in bar_dates_3]).describe()"
   ]
  },
  {
   "cell_type": "code",
   "execution_count": 52,
   "metadata": {
    "execution": {
     "iopub.execute_input": "2020-10-27T02:19:29.043082Z",
     "iopub.status.busy": "2020-10-27T02:19:29.042251Z",
     "iopub.status.idle": "2020-10-27T02:19:29.175868Z",
     "shell.execute_reply": "2020-10-27T02:19:29.173824Z",
     "shell.execute_reply.started": "2020-10-27T02:19:29.043016Z"
    }
   },
   "outputs": [
    {
     "data": {
      "text/plain": [
       "count    204.000000\n",
       "mean     156.357843\n",
       "std       79.291036\n",
       "min       40.000000\n",
       "25%      100.000000\n",
       "50%      132.500000\n",
       "75%      190.250000\n",
       "max      477.000000\n",
       "dtype: float64"
      ]
     },
     "execution_count": 52,
     "metadata": {},
     "output_type": "execute_result"
    }
   ],
   "source": [
    "pd.Series([len(date['bars']) for date in bar_dates_2]).describe()"
   ]
  },
  {
   "cell_type": "code",
   "execution_count": 51,
   "metadata": {
    "execution": {
     "iopub.execute_input": "2020-10-27T02:19:18.800889Z",
     "iopub.status.busy": "2020-10-27T02:19:18.799984Z",
     "iopub.status.idle": "2020-10-27T02:19:19.047162Z",
     "shell.execute_reply": "2020-10-27T02:19:19.044719Z",
     "shell.execute_reply.started": "2020-10-27T02:19:18.800819Z"
    }
   },
   "outputs": [
    {
     "data": {
      "text/plain": [
       "count    205.000000\n",
       "mean      88.897561\n",
       "std       52.049413\n",
       "min       33.000000\n",
       "25%       56.000000\n",
       "50%       75.000000\n",
       "75%      106.000000\n",
       "max      383.000000\n",
       "dtype: float64"
      ]
     },
     "execution_count": 51,
     "metadata": {},
     "output_type": "execute_result"
    }
   ],
   "source": [
    "pd.Series([len(date['bars']) for date in bar_dates]).describe()"
   ]
  },
  {
   "cell_type": "code",
   "execution_count": null,
   "metadata": {},
   "outputs": [],
   "source": [
    "results = []\n",
    "for date_d in bar_dates:\n",
    "    \n",
    "    imbalances = []    \n",
    "    for bar in date_d['bars']:\n",
    "        imbalances.append(bar['tick_imbalance'])\n",
    "    \n",
    "    imbal_q80 = pd.Series(imbalances).quantile(q=.8)\n",
    "    results.append({'date': date_d['date'], 'bar_count': len(date_d['bars']), 'tick_imbalance_p80': imbal_q80})\n"
   ]
  },
  {
   "cell_type": "code",
   "execution_count": null,
   "metadata": {},
   "outputs": [],
   "source": [
    "show_grid(pd.DataFrame(bar_dates[open_dates[2]])[['bar_trigger','open_at','close_at','duration_min','ticks','price_wmean']])"
   ]
  },
  {
   "cell_type": "code",
   "execution_count": null,
   "metadata": {},
   "outputs": [],
   "source": [
    "# range / price = HFT profit potential\n",
    "(df.price.max() - df.price.min()) / df.price.mean()"
   ]
  },
  {
   "cell_type": "code",
   "execution_count": null,
   "metadata": {
    "ExecuteTime": {
     "end_time": "2020-09-30T01:32:03.075156Z",
     "start_time": "2020-09-30T01:30:56.526391Z"
    }
   },
   "outputs": [],
   "source": [
    "# label bars\n",
    "label_horizon_mins = 30\n",
    "risk_level = 0.2\n",
    "# reward_base = 1\n",
    "reward_ratios = np.arange(3, 20, .5)\n",
    "\n",
    "lbars = bl.label_bars(bars, ticks_df, risk_level, label_horizon_mins, reward_ratios)\n",
    "\n",
    "lbars_df = pd.DataFrame(lbars)\n",
    "\n",
    "lbars_unq = bl.get_concurrent_stats(lbars_df)\n",
    "print(lbars_unq['grand_avg_unq'])"
   ]
  },
  {
   "cell_type": "code",
   "execution_count": null,
   "metadata": {},
   "outputs": [],
   "source": [
    "lbars_df[['price_wmean', 'label_rrr']].plot_bokeh(sizing_mode=\"scale_height\")\n",
    "# 17, 31"
   ]
  },
  {
   "cell_type": "code",
   "execution_count": null,
   "metadata": {
    "ExecuteTime": {
     "end_time": "2020-09-30T01:35:33.531161Z",
     "start_time": "2020-09-30T01:35:31.255669Z"
    },
    "code_folding": []
   },
   "outputs": [],
   "source": [
    "lbars_df[['price_wmean', 'label_rrr']].plot(subplots=True, figsize=[17,12])"
   ]
  },
  {
   "cell_type": "code",
   "execution_count": null,
   "metadata": {},
   "outputs": [],
   "source": [
    "df[['range', 'range_jma']].plot()\n",
    "# df2[['range', 'range_jma']].plot_bokeh(sizing_mode=\"scale_height\")"
   ]
  }
 ],
 "metadata": {
  "kernelspec": {
   "display_name": "Python 3",
   "language": "python",
   "name": "python3"
  },
  "language_info": {
   "codemirror_mode": {
    "name": "ipython",
    "version": 3
   },
   "file_extension": ".py",
   "mimetype": "text/x-python",
   "name": "python",
   "nbconvert_exporter": "python",
   "pygments_lexer": "ipython3",
   "version": "3.7.8"
  },
  "varInspector": {
   "cols": {
    "lenName": 16,
    "lenType": 16,
    "lenVar": 40
   },
   "kernels_config": {
    "python": {
     "delete_cmd_postfix": "",
     "delete_cmd_prefix": "del ",
     "library": "var_list.py",
     "varRefreshCmd": "print(var_dic_list())"
    },
    "r": {
     "delete_cmd_postfix": ") ",
     "delete_cmd_prefix": "rm(",
     "library": "var_list.r",
     "varRefreshCmd": "cat(var_dic_list()) "
    }
   },
   "types_to_exclude": [
    "module",
    "function",
    "builtin_function_or_method",
    "instance",
    "_Feature"
   ],
   "window_display": false
  }
 },
 "nbformat": 4,
 "nbformat_minor": 4
}
