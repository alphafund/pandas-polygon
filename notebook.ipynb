{
 "cells": [
  {
   "cell_type": "code",
   "execution_count": 3,
   "metadata": {
    "execution": {
     "iopub.execute_input": "2020-10-29T19:00:14.156950Z",
     "iopub.status.busy": "2020-10-29T19:00:14.156396Z",
     "iopub.status.idle": "2020-10-29T19:00:14.994965Z",
     "shell.execute_reply": "2020-10-29T19:00:14.993539Z",
     "shell.execute_reply.started": "2020-10-29T19:00:14.156902Z"
    }
   },
   "outputs": [],
   "source": [
    "import ray\n",
    "ray.shutdown()"
   ]
  },
  {
   "cell_type": "code",
   "execution_count": 4,
   "metadata": {
    "ExecuteTime": {
     "end_time": "2020-09-30T01:17:28.615776Z",
     "start_time": "2020-09-30T01:17:28.454787Z"
    },
    "execution": {
     "iopub.execute_input": "2020-10-29T19:00:20.245940Z",
     "iopub.status.busy": "2020-10-29T19:00:20.245321Z",
     "iopub.status.idle": "2020-10-29T19:00:24.219056Z",
     "shell.execute_reply": "2020-10-29T19:00:24.216338Z",
     "shell.execute_reply.started": "2020-10-29T19:00:20.245889Z"
    }
   },
   "outputs": [
    {
     "name": "stderr",
     "output_type": "stream",
     "text": [
      "2020-10-29 15:00:22,955\tINFO services.py:1166 -- View the Ray dashboard at \u001b[1m\u001b[32mhttp://127.0.0.1:8080\u001b[39m\u001b[22m\n"
     ]
    },
    {
     "data": {
      "text/plain": [
       "{'node_ip_address': '192.168.50.218',\n",
       " 'raylet_ip_address': '192.168.50.218',\n",
       " 'redis_address': '192.168.50.218:6379',\n",
       " 'object_store_address': '/tmp/ray/session_2020-10-29_15-00-22_415111_9268/sockets/plasma_store',\n",
       " 'raylet_socket_name': '/tmp/ray/session_2020-10-29_15-00-22_415111_9268/sockets/raylet',\n",
       " 'webui_url': '127.0.0.1:8080',\n",
       " 'session_dir': '/tmp/ray/session_2020-10-29_15-00-22_415111_9268',\n",
       " 'metrics_export_port': 64369}"
      ]
     },
     "execution_count": 4,
     "metadata": {},
     "output_type": "execute_result"
    }
   ],
   "source": [
    "%load_ext autoreload\n",
    "%autoreload 2\n",
    "\n",
    "import numpy as np\n",
    "import pandas as pd\n",
    "import pandas_bokeh\n",
    "from qgrid import show_grid\n",
    "# import finplot as fplt\n",
    "\n",
    "import polygon_rest_api as papi\n",
    "import polygon_backfill as pb\n",
    "import polygon_s3 as ps3\n",
    "import bar_samples as bs\n",
    "import bar_labels as bl\n",
    "import bar_meta as bm\n",
    "import filters as ft\n",
    "# import market_cluster as mc\n",
    "\n",
    "import matplotlib as mpl\n",
    "from matplotlib import style\n",
    "style.use('fivethirtyeight')\n",
    "import matplotlib as mpl\n",
    "mpl.rcParams['figure.figsize'] = [20, 7]\n",
    "\n",
    "\n",
    "import ray\n",
    "ray.init(ignore_reinit_error=True, num_cpus=4, dashboard_port=8080)\n",
    "\n",
    "# from tqdm import tqdm\n",
    "# import ipdb\n",
    "# ipdb.set_trace(context=10)\n",
    "\n",
    "# df.style.background_gradient(cmap='coolwarm', axis=None, vmin=-1, vmax=1)  # 'Blues', 'coolwarm', 'RdBu_r' & 'BrBG' are other good diverging colormaps\n",
    "# pd.set_option('precision', 2)\n",
    "\n",
    "# .plot_bokeh(sizing_mode=\"scale_height\")"
   ]
  },
  {
   "cell_type": "code",
   "execution_count": 5,
   "metadata": {
    "execution": {
     "iopub.execute_input": "2020-10-29T19:00:25.417881Z",
     "iopub.status.busy": "2020-10-29T19:00:25.417357Z",
     "iopub.status.idle": "2020-10-29T19:00:25.508145Z",
     "shell.execute_reply": "2020-10-29T19:00:25.506392Z",
     "shell.execute_reply.started": "2020-10-29T19:00:25.417831Z"
    }
   },
   "outputs": [],
   "source": [
    "symbol='GLD'\n",
    "# symbol = 'market'\n",
    "# date = '2020-01-02'\n",
    "# start_date = '2020-01-01'\n",
    "start_date = '2020-09-01'\n",
    "end_date = '2020-10-01'\n",
    "# symbols=['SPY', 'QQQ']\n",
    "tick_type='trades'\n",
    "\n",
    "result_path = '/Users/bobcolner/QuantClarity/pandas-polygon/data'\n",
    "\n",
    "thresh = {\n",
    "    # GT thresholds\n",
    "    'renko_reveral_multiple': 2,\n",
    "    'duration_sec': 60*60,\n",
    "    # LT thresholds\n",
    "    'min_duration_sec': 15,\n",
    "    'min_tick_count': 30,\n",
    "}\n",
    "\n",
    "horizon_mins=30"
   ]
  },
  {
   "cell_type": "code",
   "execution_count": 30,
   "metadata": {
    "execution": {
     "iopub.execute_input": "2020-10-29T20:03:42.243019Z",
     "iopub.status.busy": "2020-10-29T20:03:42.242559Z",
     "iopub.status.idle": "2020-10-29T20:04:49.247561Z",
     "shell.execute_reply": "2020-10-29T20:04:49.246190Z",
     "shell.execute_reply.started": "2020-10-29T20:03:42.242976Z"
    },
    "scrolled": true
   },
   "outputs": [
    {
     "name": "stdout",
     "output_type": "stream",
     "text": [
      "\u001b[2m\u001b[36m(pid=9302)\u001b[0m GLD 2020-09-02 trying to get ticks from local file...\n",
      "\u001b[2m\u001b[36m(pid=9304)\u001b[0m GLD 2020-09-08 trying to get ticks from local file...\n",
      "\u001b[2m\u001b[36m(pid=9303)\u001b[0m GLD 2020-09-03 trying to get ticks from local file...\n",
      "\u001b[2m\u001b[36m(pid=9305)\u001b[0m GLD 2020-09-04 trying to get ticks from local file...\n",
      "\u001b[2m\u001b[36m(pid=9303)\u001b[0m GLD 2020-09-09 trying to get ticks from local file...\n",
      "\u001b[2m\u001b[36m(pid=9302)\u001b[0m GLD 2020-09-10 trying to get ticks from local file...\n",
      "\u001b[2m\u001b[36m(pid=9305)\u001b[0m GLD 2020-09-11 trying to get ticks from local file...\n",
      "\u001b[2m\u001b[36m(pid=9304)\u001b[0m GLD 2020-09-14 trying to get ticks from local file...\n",
      "\u001b[2m\u001b[36m(pid=9303)\u001b[0m GLD 2020-09-15 trying to get ticks from local file...\n",
      "\u001b[2m\u001b[36m(pid=9305)\u001b[0m GLD 2020-09-16 trying to get ticks from local file...\n",
      "\u001b[2m\u001b[36m(pid=9304)\u001b[0m GLD 2020-09-17 trying to get ticks from local file...\n",
      "\u001b[2m\u001b[36m(pid=9302)\u001b[0m GLD 2020-09-18 trying to get ticks from local file...\n",
      "\u001b[2m\u001b[36m(pid=9303)\u001b[0m GLD 2020-09-21 trying to get ticks from local file...\n",
      "\u001b[2m\u001b[36m(pid=9302)\u001b[0m GLD 2020-09-22 trying to get ticks from local file...\n",
      "\u001b[2m\u001b[36m(pid=9304)\u001b[0m GLD 2020-09-23 trying to get ticks from local file...\n",
      "\u001b[2m\u001b[36m(pid=9305)\u001b[0m GLD 2020-09-24 trying to get ticks from local file...\n",
      "\u001b[2m\u001b[36m(pid=9302)\u001b[0m GLD 2020-09-25 trying to get ticks from local file...\n",
      "\u001b[2m\u001b[36m(pid=9305)\u001b[0m GLD 2020-09-28 trying to get ticks from local file...\n",
      "\u001b[2m\u001b[36m(pid=9302)\u001b[0m GLD 2020-09-29 trying to get ticks from local file...\n",
      "\u001b[2m\u001b[36m(pid=9303)\u001b[0m GLD 2020-09-30 trying to get ticks from local file...\n",
      "\u001b[2m\u001b[36m(pid=9304)\u001b[0m GLD 2020-10-01 trying to get ticks from local file...\n",
      "\u001b[2m\u001b[36m(pid=9302)\u001b[0m GLD 2020-09-03 trying to get ticks from local file...\n",
      "\u001b[2m\u001b[36m(pid=9304)\u001b[0m GLD 2020-09-08 trying to get ticks from local file...\n",
      "\u001b[2m\u001b[36m(pid=9303)\u001b[0m GLD 2020-09-04 trying to get ticks from local file...\n",
      "\u001b[2m\u001b[36m(pid=9305)\u001b[0m GLD 2020-09-09 trying to get ticks from local file...\n",
      "\u001b[2m\u001b[36m(pid=9305)\u001b[0m GLD 2020-09-10 trying to get ticks from local file...\n",
      "\u001b[2m\u001b[36m(pid=9302)\u001b[0m GLD 2020-09-11 trying to get ticks from local file...\n",
      "\u001b[2m\u001b[36m(pid=9303)\u001b[0m GLD 2020-09-14 trying to get ticks from local file...\n",
      "\u001b[2m\u001b[36m(pid=9304)\u001b[0m GLD 2020-09-15 trying to get ticks from local file...\n",
      "\u001b[2m\u001b[36m(pid=9305)\u001b[0m GLD 2020-09-16 trying to get ticks from local file...\n",
      "\u001b[2m\u001b[36m(pid=9302)\u001b[0m GLD 2020-09-17 trying to get ticks from local file...\n",
      "\u001b[2m\u001b[36m(pid=9303)\u001b[0m GLD 2020-09-18 trying to get ticks from local file...\n",
      "\u001b[2m\u001b[36m(pid=9304)\u001b[0m GLD 2020-09-21 trying to get ticks from local file...\n",
      "\u001b[2m\u001b[36m(pid=9303)\u001b[0m GLD 2020-09-22 trying to get ticks from local file...\n",
      "\u001b[2m\u001b[36m(pid=9302)\u001b[0m GLD 2020-09-23 trying to get ticks from local file...\n",
      "\u001b[2m\u001b[36m(pid=9305)\u001b[0m GLD 2020-09-24 trying to get ticks from local file...\n",
      "\u001b[2m\u001b[36m(pid=9303)\u001b[0m GLD 2020-09-25 trying to get ticks from local file...\n",
      "\u001b[2m\u001b[36m(pid=9304)\u001b[0m GLD 2020-09-28 trying to get ticks from local file...\n",
      "\u001b[2m\u001b[36m(pid=9305)\u001b[0m GLD 2020-09-29 trying to get ticks from local file...\n",
      "\u001b[2m\u001b[36m(pid=9303)\u001b[0m GLD 2020-09-30 trying to get ticks from local file...\n",
      "\u001b[2m\u001b[36m(pid=9302)\u001b[0m GLD 2020-10-01 trying to get ticks from local file...\n",
      "\u001b[2m\u001b[36m(pid=9302)\u001b[0m GLD 2020-09-03 trying to get ticks from local file...\n",
      "\u001b[2m\u001b[36m(pid=9304)\u001b[0m GLD 2020-09-09 trying to get ticks from local file...\n",
      "\u001b[2m\u001b[36m(pid=9303)\u001b[0m GLD 2020-09-04 trying to get ticks from local file...\n",
      "\u001b[2m\u001b[36m(pid=9303)\u001b[0m Dropping label, only 9 trades;start at: 2020-09-04 08:49:35.476900608\n",
      "\u001b[2m\u001b[36m(pid=9303)\u001b[0m Dropping label, only 8 trades;start at: 2020-09-04 08:58:27.496255488\n",
      "\u001b[2m\u001b[36m(pid=9303)\u001b[0m Dropping label, only 4 trades;start at: 2020-09-04 09:12:23.194199808\n",
      "\u001b[2m\u001b[36m(pid=9305)\u001b[0m GLD 2020-09-08 trying to get ticks from local file...\n",
      "\u001b[2m\u001b[36m(pid=9304)\u001b[0m Dropping label, only 18 trades;start at: 2020-09-09 09:40:40.057247744\n",
      "\u001b[2m\u001b[36m(pid=9305)\u001b[0m Dropping label, only 18 trades;start at: 2020-09-08 08:58:18.903937536\n",
      "\u001b[2m\u001b[36m(pid=9302)\u001b[0m Dropping label, only 8 trades;start at: 2020-09-03 09:22:49.603467008\n",
      "\u001b[2m\u001b[36m(pid=9304)\u001b[0m GLD 2020-09-09 label % unq. 0.9486301369863014\n",
      "\u001b[2m\u001b[36m(pid=9304)\u001b[0m GLD 2020-09-10 trying to get ticks from local file...\n",
      "\u001b[2m\u001b[36m(pid=9304)\u001b[0m Dropping label, only 6 trades;start at: 2020-09-10 08:39:57.968316160\n",
      "\u001b[2m\u001b[36m(pid=9304)\u001b[0m Dropping label, only 12 trades;start at: 2020-09-10 09:56:55.896598016\n",
      "\u001b[2m\u001b[36m(pid=9302)\u001b[0m Dropping label, only 18 trades;start at: 2020-09-03 23:56:39.130003712\n",
      "\u001b[2m\u001b[36m(pid=9302)\u001b[0m GLD 2020-09-03 label % unq. 0.9504950495049505\n",
      "\u001b[2m\u001b[36m(pid=9302)\u001b[0m GLD 2020-09-21 trying to get ticks from local file...\n",
      "\u001b[2m\u001b[36m(pid=9302)\u001b[0m Dropping label, only 18 trades;start at: 2020-09-21 08:50:29.224287744\n",
      "\u001b[2m\u001b[36m(pid=9302)\u001b[0m Dropping label, only 14 trades;start at: 2020-09-21 08:56:51.873051904\n",
      "\u001b[2m\u001b[36m(pid=9303)\u001b[0m Dropping label, only 18 trades;start at: 2020-09-04 21:38:11.404307200\n",
      "\u001b[2m\u001b[36m(pid=9303)\u001b[0m Dropping label, only 13 trades;start at: 2020-09-04 22:05:52.406993408\n",
      "\u001b[2m\u001b[36m(pid=9303)\u001b[0m Dropping label, only 17 trades;start at: 2020-09-04 23:12:37.414873088\n",
      "\u001b[2m\u001b[36m(pid=9303)\u001b[0m GLD 2020-09-04 label % unq. 0.9213709677419355\n",
      "\u001b[2m\u001b[36m(pid=9303)\u001b[0m GLD 2020-09-23 trying to get ticks from local file...\n",
      "\u001b[2m\u001b[36m(pid=9305)\u001b[0m Dropping label, only 17 trades;start at: 2020-09-08 22:49:33.144986880\n",
      "\u001b[2m\u001b[36m(pid=9305)\u001b[0m Dropping label, only 14 trades;start at: 2020-09-08 23:52:53.257835264\n",
      "\u001b[2m\u001b[36m(pid=9305)\u001b[0m Dropping label, only 8 trades;start at: 2020-09-08 23:56:05.054869248\n",
      "\u001b[2m\u001b[36m(pid=9304)\u001b[0m Dropping label, only 17 trades;start at: 2020-09-10 21:05:02.806857728\n",
      "\u001b[2m\u001b[36m(pid=9305)\u001b[0m GLD 2020-09-08 label % unq. 0.935374149659864\n",
      "\u001b[2m\u001b[36m(pid=9305)\u001b[0m GLD 2020-09-11 trying to get ticks from local file...\n",
      "\u001b[2m\u001b[36m(pid=9305)\u001b[0m Dropping label, only 5 trades;start at: 2020-09-11 08:17:09.143205120\n",
      "\u001b[2m\u001b[36m(pid=9305)\u001b[0m Dropping label, only 2 trades;start at: 2020-09-11 09:18:49.638202368\n",
      "\u001b[2m\u001b[36m(pid=9305)\u001b[0m Dropping label, only 16 trades;start at: 2020-09-11 10:50:50.423018752\n",
      "\u001b[2m\u001b[36m(pid=9304)\u001b[0m GLD 2020-09-10 label % unq. 0.9597701149425287\n",
      "\u001b[2m\u001b[36m(pid=9304)\u001b[0m GLD 2020-09-14 trying to get ticks from local file...\n",
      "\u001b[2m\u001b[36m(pid=9304)\u001b[0m Dropping label, only 5 trades;start at: 2020-09-14 09:00:27.868995072\n",
      "\u001b[2m\u001b[36m(pid=9304)\u001b[0m Dropping label, only 19 trades;start at: 2020-09-14 09:30:03.613358080\n",
      "\u001b[2m\u001b[36m(pid=9304)\u001b[0m Dropping label, only 4 trades;start at: 2020-09-14 09:43:36.288800768\n",
      "\u001b[2m\u001b[36m(pid=9304)\u001b[0m Dropping label, only 19 trades;start at: 2020-09-14 22:09:44.417211648\n",
      "\u001b[2m\u001b[36m(pid=9305)\u001b[0m Dropping label, only 9 trades;start at: 2020-09-11 23:10:08.282773760\n",
      "\u001b[2m\u001b[36m(pid=9304)\u001b[0m GLD 2020-09-14 label % unq. 0.9491525423728814\n",
      "\u001b[2m\u001b[36m(pid=9305)\u001b[0m GLD 2020-09-11 label % unq. 0.9180327868852459\n",
      "\u001b[2m\u001b[36m(pid=9305)\u001b[0m GLD 2020-09-15 trying to get ticks from local file...\n",
      "\u001b[2m\u001b[36m(pid=9305)\u001b[0m Dropping label, only 5 trades;start at: 2020-09-15 08:00:39.195645696\n",
      "\u001b[2m\u001b[36m(pid=9305)\u001b[0m Dropping label, only 19 trades;start at: 2020-09-15 09:00:59.330220544\n",
      "\u001b[2m\u001b[36m(pid=9305)\u001b[0m Dropping label, only 18 trades;start at: 2020-09-15 09:25:24.299163904\n",
      "\u001b[2m\u001b[36m(pid=9304)\u001b[0m GLD 2020-09-16 trying to get ticks from local file...\n",
      "\u001b[2m\u001b[36m(pid=9305)\u001b[0m Dropping label, only 14 trades;start at: 2020-09-15 21:36:00.933043712\n",
      "\u001b[2m\u001b[36m(pid=9305)\u001b[0m Dropping label, only 19 trades;start at: 2020-09-15 21:59:01.001483520\n",
      "\u001b[2m\u001b[36m(pid=9305)\u001b[0m Dropping label, only 19 trades;start at: 2020-09-15 22:01:57.526112256\n",
      "\u001b[2m\u001b[36m(pid=9305)\u001b[0m GLD 2020-09-15 label % unq. 0.928082191780822\n",
      "\u001b[2m\u001b[36m(pid=9305)\u001b[0m GLD 2020-09-17 trying to get ticks from local file...\n",
      "\u001b[2m\u001b[36m(pid=9303)\u001b[0m GLD 2020-09-23 label % unq. 0.9281914893617021\n",
      "\u001b[2m\u001b[36m(pid=9303)\u001b[0m GLD 2020-09-18 trying to get ticks from local file...\n",
      "\u001b[2m\u001b[36m(pid=9303)\u001b[0m Dropping label, only 12 trades;start at: 2020-09-18 08:15:37.007756800\n",
      "\u001b[2m\u001b[36m(pid=9303)\u001b[0m Dropping label, only 17 trades;start at: 2020-09-18 11:16:48.941556224\n",
      "\u001b[2m\u001b[36m(pid=9302)\u001b[0m Dropping label, only 18 trades;start at: 2020-09-21 22:21:00.867347968\n",
      "\u001b[2m\u001b[36m(pid=9302)\u001b[0m Dropping label, only 14 trades;start at: 2020-09-21 22:23:36.902556672\n",
      "\u001b[2m\u001b[36m(pid=9304)\u001b[0m Dropping label, only 11 trades;start at: 2020-09-16 23:10:42.203512064\n",
      "\u001b[2m\u001b[36m(pid=9302)\u001b[0m Dropping label, only 2 trades;start at: 2020-09-21 23:59:01.380780544\n",
      "\u001b[2m\u001b[36m(pid=9304)\u001b[0m GLD 2020-09-16 label % unq. 0.9562043795620438\n",
      "\u001b[2m\u001b[36m(pid=9304)\u001b[0m GLD 2020-09-22 trying to get ticks from local file...\n",
      "\u001b[2m\u001b[36m(pid=9304)\u001b[0m Dropping label, only 19 trades;start at: 2020-09-22 08:18:31.131334400\n",
      "\u001b[2m\u001b[36m(pid=9304)\u001b[0m Dropping label, only 4 trades;start at: 2020-09-22 08:33:53.409505024\n",
      "\u001b[2m\u001b[36m(pid=9304)\u001b[0m Dropping label, only 0 trades;start at: 2020-09-22 08:53:25.699094528\n",
      "\u001b[2m\u001b[36m(pid=9304)\u001b[0m Dropping label, only 11 trades;start at: 2020-09-22 09:28:57.534771712\n",
      "\u001b[2m\u001b[36m(pid=9302)\u001b[0m GLD 2020-09-21 label % unq. 0.9456521739130435\n",
      "\u001b[2m\u001b[36m(pid=9302)\u001b[0m GLD 2020-09-24 trying to get ticks from local file...\n",
      "\u001b[2m\u001b[36m(pid=9302)\u001b[0m Dropping label, only 14 trades;start at: 2020-09-24 10:13:21.562287360\n",
      "\u001b[2m\u001b[36m(pid=9305)\u001b[0m Dropping label, only 13 trades;start at: 2020-09-17 21:55:08.581169920\n",
      "\u001b[2m\u001b[36m(pid=9305)\u001b[0m GLD 2020-09-17 label % unq. 0.9568181818181818\n",
      "\u001b[2m\u001b[36m(pid=9303)\u001b[0m Dropping label, only 11 trades;start at: 2020-09-18 21:30:19.670807552\n",
      "\u001b[2m\u001b[36m(pid=9303)\u001b[0m Dropping label, only 13 trades;start at: 2020-09-18 21:36:56.309115392\n",
      "\u001b[2m\u001b[36m(pid=9303)\u001b[0m Dropping label, only 7 trades;start at: 2020-09-18 22:05:59.572508672\n",
      "\u001b[2m\u001b[36m(pid=9305)\u001b[0m GLD 2020-09-25 trying to get ticks from local file...\n",
      "\u001b[2m\u001b[36m(pid=9305)\u001b[0m Dropping label, only 2 trades;start at: 2020-09-25 08:13:54.249743360\n",
      "\u001b[2m\u001b[36m(pid=9305)\u001b[0m Dropping label, only 10 trades;start at: 2020-09-25 09:10:28.494793984\n",
      "\u001b[2m\u001b[36m(pid=9305)\u001b[0m Dropping label, only 18 trades;start at: 2020-09-25 10:29:10.813311232\n",
      "\u001b[2m\u001b[36m(pid=9303)\u001b[0m GLD 2020-09-18 label % unq. 0.9433333333333334\n",
      "\u001b[2m\u001b[36m(pid=9303)\u001b[0m GLD 2020-09-28 trying to get ticks from local file...\n",
      "\u001b[2m\u001b[36m(pid=9303)\u001b[0m Dropping label, only 16 trades;start at: 2020-09-28 08:46:39.732406528\n",
      "\u001b[2m\u001b[36m(pid=9303)\u001b[0m Dropping label, only 12 trades;start at: 2020-09-28 08:53:53.170349312\n",
      "\u001b[2m\u001b[36m(pid=9303)\u001b[0m Dropping label, only 18 trades;start at: 2020-09-28 09:58:23.935945472\n",
      "\u001b[2m\u001b[36m(pid=9303)\u001b[0m Dropping label, only 19 trades;start at: 2020-09-28 10:18:18.011183616\n",
      "\u001b[2m\u001b[36m(pid=9303)\u001b[0m Dropping label, only 14 trades;start at: 2020-09-28 10:24:27.789458432\n",
      "\u001b[2m\u001b[36m(pid=9305)\u001b[0m GLD 2020-09-25 label % unq. 0.9230769230769231\n",
      "\u001b[2m\u001b[36m(pid=9305)\u001b[0m GLD 2020-09-29 trying to get ticks from local file...\n",
      "\u001b[2m\u001b[36m(pid=9304)\u001b[0m Dropping label, only 18 trades;start at: 2020-09-22 22:02:13.285592576\n",
      "\u001b[2m\u001b[36m(pid=9304)\u001b[0m Dropping label, only 8 trades;start at: 2020-09-22 22:20:44.667628032\n",
      "\u001b[2m\u001b[36m(pid=9303)\u001b[0m GLD 2020-09-28 label % unq. 0.9494047619047619\n",
      "\u001b[2m\u001b[36m(pid=9303)\u001b[0m GLD 2020-09-30 trying to get ticks from local file...\n",
      "\u001b[2m\u001b[36m(pid=9303)\u001b[0m Dropping label, only 9 trades;start at: 2020-09-30 08:26:56.481580544\n",
      "\u001b[2m\u001b[36m(pid=9304)\u001b[0m GLD 2020-09-22 label % unq. 0.95\n",
      "\u001b[2m\u001b[36m(pid=9304)\u001b[0m GLD 2020-10-01 trying to get ticks from local file...\n",
      "\u001b[2m\u001b[36m(pid=9304)\u001b[0m Dropping label, only 6 trades;start at: 2020-10-01 08:02:38.712710400\n",
      "\u001b[2m\u001b[36m(pid=9304)\u001b[0m Dropping label, only 3 trades;start at: 2020-10-01 08:13:01.204146432\n",
      "\u001b[2m\u001b[36m(pid=9304)\u001b[0m Dropping label, only 11 trades;start at: 2020-10-01 09:14:15.805392896\n",
      "\u001b[2m\u001b[36m(pid=9304)\u001b[0m Dropping label, only 8 trades;start at: 2020-10-01 09:22:41.828719872\n",
      "\u001b[2m\u001b[36m(pid=9304)\u001b[0m Dropping label, only 4 trades;start at: 2020-10-01 10:00:20.971406336\n",
      "\u001b[2m\u001b[36m(pid=9302)\u001b[0m Dropping label, only 16 trades;start at: 2020-09-24 21:09:30.545150208\n",
      "\u001b[2m\u001b[36m(pid=9302)\u001b[0m Dropping label, only 5 trades;start at: 2020-09-24 23:01:43.152954880\n",
      "\u001b[2m\u001b[36m(pid=9302)\u001b[0m GLD 2020-09-24 label % unq. 0.9412878787878788\n",
      "\u001b[2m\u001b[36m(pid=9305)\u001b[0m GLD 2020-09-29 label % unq. 0.9807692307692307\n",
      "\u001b[2m\u001b[36m(pid=9303)\u001b[0m Dropping label, only 14 trades;start at: 2020-09-30 21:16:29.998425600\n",
      "\u001b[2m\u001b[36m(pid=9303)\u001b[0m Dropping label, only 19 trades;start at: 2020-09-30 23:28:35.651435264\n",
      "\u001b[2m\u001b[36m(pid=9304)\u001b[0m Dropping label, only 17 trades;start at: 2020-10-01 22:25:57.935303424\n",
      "\u001b[2m\u001b[36m(pid=9303)\u001b[0m GLD 2020-09-30 label % unq. 0.9293478260869565\n",
      "\u001b[2m\u001b[36m(pid=9304)\u001b[0m GLD 2020-10-01 label % unq. 0.946236559139785\n"
     ]
    }
   ],
   "source": [
    "daily_bar_stats_df, labeled_bar_dates, stacked_bars_df = bm.bars_workflow_ray(\n",
    "    result_path, \n",
    "    symbol, \n",
    "    start_date, \n",
    "    end_date, \n",
    "    thresh,\n",
    "    imbalance_thresh=0.9\n",
    ")"
   ]
  },
  {
   "cell_type": "code",
   "execution_count": 24,
   "metadata": {
    "execution": {
     "iopub.execute_input": "2020-10-29T19:36:51.054490Z",
     "iopub.status.busy": "2020-10-29T19:36:51.054101Z",
     "iopub.status.idle": "2020-10-29T19:36:51.378929Z",
     "shell.execute_reply": "2020-10-29T19:36:51.377592Z",
     "shell.execute_reply.started": "2020-10-29T19:36:51.054454Z"
    }
   },
   "outputs": [
    {
     "data": {
      "text/plain": [
       "count     19.000000\n",
       "mean      93.157895\n",
       "std       38.163775\n",
       "min       54.000000\n",
       "25%       66.500000\n",
       "50%       82.000000\n",
       "75%       99.500000\n",
       "max      183.000000\n",
       "Name: bar_count, dtype: float64"
      ]
     },
     "execution_count": 24,
     "metadata": {},
     "output_type": "execute_result"
    }
   ],
   "source": [
    "daily_bar_stats_df.bar_count.describe()"
   ]
  },
  {
   "cell_type": "code",
   "execution_count": 26,
   "metadata": {
    "execution": {
     "iopub.execute_input": "2020-10-29T19:58:02.064661Z",
     "iopub.status.busy": "2020-10-29T19:58:02.064227Z",
     "iopub.status.idle": "2020-10-29T19:58:02.213316Z",
     "shell.execute_reply": "2020-10-29T19:58:02.211730Z",
     "shell.execute_reply.started": "2020-10-29T19:58:02.064619Z"
    }
   },
   "outputs": [
    {
     "data": {
      "text/plain": [
       "volume_imbalance    893\n",
       "renko_up            434\n",
       "renko_down          427\n",
       "gap_filler          222\n",
       "duration             73\n",
       "Name: bar_trigger, dtype: int64"
      ]
     },
     "execution_count": 26,
     "metadata": {},
     "output_type": "execute_result"
    }
   ],
   "source": [
    "stacked_bars_df.bar_trigger.value_counts()"
   ]
  },
  {
   "cell_type": "code",
   "execution_count": 29,
   "metadata": {
    "execution": {
     "iopub.execute_input": "2020-10-29T19:58:30.530129Z",
     "iopub.status.busy": "2020-10-29T19:58:30.529572Z",
     "iopub.status.idle": "2020-10-29T19:58:30.731813Z",
     "shell.execute_reply": "2020-10-29T19:58:30.707926Z",
     "shell.execute_reply.started": "2020-10-29T19:58:30.530082Z"
    }
   },
   "outputs": [
    {
     "data": {
      "text/plain": [
       "count    19.000000\n",
       "mean     11.094340\n",
       "std       3.368107\n",
       "min       5.088525\n",
       "25%       9.349128\n",
       "50%      11.034496\n",
       "75%      13.780951\n",
       "max      16.352469\n",
       "Name: duration_min_mean, dtype: float64"
      ]
     },
     "execution_count": 29,
     "metadata": {},
     "output_type": "execute_result"
    }
   ],
   "source": [
    "daily_bar_stats_df.duration_min_mean.describe()"
   ]
  },
  {
   "cell_type": "code",
   "execution_count": null,
   "metadata": {},
   "outputs": [],
   "source": [
    "bar_dates_df.price_wq50.diff().autocorr(1)"
   ]
  },
  {
   "cell_type": "code",
   "execution_count": null,
   "metadata": {},
   "outputs": [],
   "source": [
    "# bar_dates_df.price_wmean.plot_bokeh(sizing_mode=\"scale_height\")\n",
    "bar_dates_df[200:400].price_wmean.plot()"
   ]
  },
  {
   "cell_type": "code",
   "execution_count": null,
   "metadata": {},
   "outputs": [],
   "source": [
    "abs(bar_dates_df.label_rrr).value_counts()"
   ]
  },
  {
   "cell_type": "code",
   "execution_count": null,
   "metadata": {},
   "outputs": [],
   "source": [
    "mh_dates_df = bar_dates_df.loc[bar_dates_df.close_at.dt.hour.between(13, 20)]"
   ]
  },
  {
   "cell_type": "code",
   "execution_count": null,
   "metadata": {},
   "outputs": [],
   "source": [
    "mh_dates_df.label_outcome.value_counts()"
   ]
  },
  {
   "cell_type": "code",
   "execution_count": null,
   "metadata": {},
   "outputs": [],
   "source": [
    "lbars_df[['price_wmean', 'label_rrr']].plot_bokeh(sizing_mode=\"scale_height\")\n",
    "# 17, 31"
   ]
  },
  {
   "cell_type": "code",
   "execution_count": null,
   "metadata": {
    "ExecuteTime": {
     "end_time": "2020-09-30T01:35:33.531161Z",
     "start_time": "2020-09-30T01:35:31.255669Z"
    },
    "code_folding": []
   },
   "outputs": [],
   "source": [
    "lbars_df[['price_wmean', 'label_rrr']].plot(subplots=True, figsize=[17,12])"
   ]
  }
 ],
 "metadata": {
  "kernelspec": {
   "display_name": "Python 3",
   "language": "python",
   "name": "python3"
  },
  "language_info": {
   "codemirror_mode": {
    "name": "ipython",
    "version": 3
   },
   "file_extension": ".py",
   "mimetype": "text/x-python",
   "name": "python",
   "nbconvert_exporter": "python",
   "pygments_lexer": "ipython3",
   "version": "3.7.8"
  },
  "varInspector": {
   "cols": {
    "lenName": 16,
    "lenType": 16,
    "lenVar": 40
   },
   "kernels_config": {
    "python": {
     "delete_cmd_postfix": "",
     "delete_cmd_prefix": "del ",
     "library": "var_list.py",
     "varRefreshCmd": "print(var_dic_list())"
    },
    "r": {
     "delete_cmd_postfix": ") ",
     "delete_cmd_prefix": "rm(",
     "library": "var_list.r",
     "varRefreshCmd": "cat(var_dic_list()) "
    }
   },
   "types_to_exclude": [
    "module",
    "function",
    "builtin_function_or_method",
    "instance",
    "_Feature"
   ],
   "window_display": false
  }
 },
 "nbformat": 4,
 "nbformat_minor": 4
}
