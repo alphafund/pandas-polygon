{
 "cells": [
  {
   "cell_type": "code",
   "execution_count": 124,
   "metadata": {
    "ExecuteTime": {
     "end_time": "2020-09-30T01:17:28.615776Z",
     "start_time": "2020-09-30T01:17:28.454787Z"
    },
    "execution": {
     "iopub.execute_input": "2020-10-19T04:24:16.132857Z",
     "iopub.status.busy": "2020-10-19T04:24:16.132587Z",
     "iopub.status.idle": "2020-10-19T04:24:16.273042Z",
     "shell.execute_reply": "2020-10-19T04:24:16.270459Z",
     "shell.execute_reply.started": "2020-10-19T04:24:16.132829Z"
    }
   },
   "outputs": [
    {
     "name": "stdout",
     "output_type": "stream",
     "text": [
      "The autoreload extension is already loaded. To reload it, use:\n",
      "  %reload_ext autoreload\n"
     ]
    }
   ],
   "source": [
    "%load_ext autoreload\n",
    "%autoreload 2\n",
    "\n",
    "import numpy as np\n",
    "import pandas as pd\n",
    "import pandas_bokeh\n",
    "import finplot as fplt\n",
    "\n",
    "import polygon_backfill as pb\n",
    "# import market_cluster as mc\n",
    "# import s3_datasets as s3d\n",
    "# import filters as ft\n",
    "import bar_samples as bs\n",
    "import bar_labels as bl\n",
    "\n",
    "import matplotlib as mpl\n",
    "mpl.rcParams['figure.figsize'] = [20, 7]\n",
    "from matplotlib import style\n",
    "style.use('fivethirtyeight')\n",
    "\n",
    "# import ipdb\n",
    "# ipdb.set_trace(context=10)\n",
    "\n",
    "# df.style.background_gradient(cmap='coolwarm', axis=None, vmin=-1, vmax=1)  # 'Blues', 'coolwarm', 'RdBu_r' & 'BrBG' are other good diverging colormaps\n",
    "# pd.set_option('precision', 2)\n",
    "\n",
    "# get local market daily data\n",
    "# mdf = pd.read_parquet('data/mdf.parquet')\n",
    "\n",
    "# .plot_bokeh(sizing_mode=\"scale_height\")"
   ]
  },
  {
   "cell_type": "code",
   "execution_count": 91,
   "metadata": {
    "execution": {
     "iopub.execute_input": "2020-10-19T03:39:05.104845Z",
     "iopub.status.busy": "2020-10-19T03:39:05.104470Z",
     "iopub.status.idle": "2020-10-19T03:39:05.198177Z",
     "shell.execute_reply": "2020-10-19T03:39:05.196857Z",
     "shell.execute_reply.started": "2020-10-19T03:39:05.104800Z"
    }
   },
   "outputs": [],
   "source": [
    "symbol='GLD'\n",
    "# symbol = 'market'\n",
    "date = '2020-10-05'\n",
    "tick_type='trades'\n",
    "# tick_type = None\n",
    "result_path = '/Users/bobcolner/QuantClarity/pandas-polygon/data'"
   ]
  },
  {
   "cell_type": "code",
   "execution_count": 121,
   "metadata": {
    "execution": {
     "iopub.execute_input": "2020-10-19T04:20:14.593166Z",
     "iopub.status.busy": "2020-10-19T04:20:14.592821Z",
     "iopub.status.idle": "2020-10-19T04:21:30.039989Z",
     "shell.execute_reply": "2020-10-19T04:21:30.036433Z",
     "shell.execute_reply.started": "2020-10-19T04:20:14.593122Z"
    }
   },
   "outputs": [
    {
     "name": "stdout",
     "output_type": "stream",
     "text": [
      "requested 7 dates\n"
     ]
    },
    {
     "name": "stderr",
     "output_type": "stream",
     "text": [
      "  0%|          | 0/6 [00:00<?, ?it/s]"
     ]
    },
    {
     "name": "stdout",
     "output_type": "stream",
     "text": [
      "6 remaining dates\n",
      "fetching: 2020-10-01\n",
      "Downloaded: 50000 GLD ticks\n",
      "Downloaded: 15591 GLD ticks\n",
      "dropped 234 ticks ( 0.36 %)\n"
     ]
    },
    {
     "name": "stderr",
     "output_type": "stream",
     "text": [
      " 17%|█▋        | 1/6 [00:15<01:17, 15.43s/it]"
     ]
    },
    {
     "name": "stdout",
     "output_type": "stream",
     "text": [
      "/Users/bobcolner/QuantClarity/pandas-polygon/data/trades/symbol=GLD/date=2020-10-01/data.feather\n",
      "fetching: 2020-10-02\n",
      "Downloaded: 50000 GLD ticks\n",
      "Downloaded: 4908 GLD ticks\n",
      "6 duplicated trade removed\n",
      "dropped 406 ticks ( 0.74 %)\n"
     ]
    },
    {
     "name": "stderr",
     "output_type": "stream",
     "text": [
      " 33%|███▎      | 2/6 [00:25<00:55, 13.78s/it]"
     ]
    },
    {
     "name": "stdout",
     "output_type": "stream",
     "text": [
      "/Users/bobcolner/QuantClarity/pandas-polygon/data/trades/symbol=GLD/date=2020-10-02/data.feather\n",
      "fetching: 2020-10-06\n",
      "Downloaded: 50000 GLD ticks\n",
      "Downloaded: 18511 GLD ticks\n",
      "dropped 310 ticks ( 0.45 %)\n"
     ]
    },
    {
     "name": "stderr",
     "output_type": "stream",
     "text": [
      " 50%|█████     | 3/6 [00:39<00:41, 13.82s/it]"
     ]
    },
    {
     "name": "stdout",
     "output_type": "stream",
     "text": [
      "/Users/bobcolner/QuantClarity/pandas-polygon/data/trades/symbol=GLD/date=2020-10-06/data.feather\n",
      "fetching: 2020-10-07\n",
      "Downloaded: 49000 GLD ticks\n",
      "dropped 312 ticks ( 0.64 %)\n"
     ]
    },
    {
     "name": "stderr",
     "output_type": "stream",
     "text": [
      " 67%|██████▋   | 4/6 [00:48<00:24, 12.45s/it]"
     ]
    },
    {
     "name": "stdout",
     "output_type": "stream",
     "text": [
      "/Users/bobcolner/QuantClarity/pandas-polygon/data/trades/symbol=GLD/date=2020-10-07/data.feather\n",
      "fetching: 2020-10-08\n",
      "Downloaded: 47226 GLD ticks\n",
      "dropped 202 ticks ( 0.43 %)\n"
     ]
    },
    {
     "name": "stderr",
     "output_type": "stream",
     "text": [
      " 83%|████████▎ | 5/6 [00:58<00:11, 11.62s/it]"
     ]
    },
    {
     "name": "stdout",
     "output_type": "stream",
     "text": [
      "/Users/bobcolner/QuantClarity/pandas-polygon/data/trades/symbol=GLD/date=2020-10-08/data.feather\n",
      "fetching: 2020-10-09\n",
      "Downloaded: 50000 GLD ticks\n",
      "Downloaded: 33225 GLD ticks\n",
      "2 duplicated trade removed\n",
      "dropped 264 ticks ( 0.32 %)\n"
     ]
    },
    {
     "name": "stderr",
     "output_type": "stream",
     "text": [
      "100%|██████████| 6/6 [01:14<00:00, 12.45s/it]"
     ]
    },
    {
     "name": "stdout",
     "output_type": "stream",
     "text": [
      "/Users/bobcolner/QuantClarity/pandas-polygon/data/trades/symbol=GLD/date=2020-10-09/data.feather\n"
     ]
    },
    {
     "name": "stderr",
     "output_type": "stream",
     "text": [
      "\n"
     ]
    }
   ],
   "source": [
    "df = pb.backfill_dates(symbol, start_date='2020-10-01', end_date='2020-10-10', tick_type=tick_type, result_path=result_path, upload_to_s3=True)"
   ]
  },
  {
   "cell_type": "code",
   "execution_count": null,
   "metadata": {
    "ExecuteTime": {
     "end_time": "2020-09-30T01:30:55.786854Z",
     "start_time": "2020-09-30T01:30:48.155554Z"
    }
   },
   "outputs": [],
   "source": [
    "# sample ticks -> bars\n",
    "renko_size = 0.2\n",
    "# renko_reversal = 2\n",
    "thresh = {\n",
    "    # GT thresholds\n",
    "    'renko_size': renko_size,\n",
    "    'renko_reveral_multiple': 2,\n",
    "    'duration_sec': 60*30,\n",
    "    'tick_imbalance': 150,\n",
    "    # LT thresholds \n",
    "    'min_duration_sec': 15,\n",
    "    'min_tick_count': 30,\n",
    "}\n",
    "# ticks_df['epoch'] = ticks_df.date_time.astype(int)\n",
    "tdf = ticks_df.loc[(ticks_df.date_time.dt.hour >= 13) & (ticks_df.date_time.dt.hour <= 22)]\n",
    "bars, _ = bs.build_bars(ticks_df=tdf, thresh=thresh)\n",
    "len(bars)\n",
    "\n",
    "bars_df = pd.DataFrame(bars).set_index('close_at')\n",
    "# bars_df = pd.DataFrame(bars)"
   ]
  },
  {
   "cell_type": "code",
   "execution_count": 15,
   "metadata": {
    "execution": {
     "iopub.execute_input": "2020-10-19T01:16:02.898376Z",
     "iopub.status.busy": "2020-10-19T01:16:02.898129Z",
     "iopub.status.idle": "2020-10-19T01:16:02.998971Z",
     "shell.execute_reply": "2020-10-19T01:16:02.997726Z",
     "shell.execute_reply.started": "2020-10-19T01:16:02.898349Z"
    }
   },
   "outputs": [
    {
     "data": {
      "text/plain": [
       "0.014140147"
      ]
     },
     "execution_count": 15,
     "metadata": {},
     "output_type": "execute_result"
    }
   ],
   "source": [
    "# range / price = HFT profit potential\n",
    "(df.price.max() - df.price.min()) / df.price.mean()"
   ]
  },
  {
   "cell_type": "code",
   "execution_count": null,
   "metadata": {
    "ExecuteTime": {
     "end_time": "2020-09-30T01:32:03.075156Z",
     "start_time": "2020-09-30T01:30:56.526391Z"
    }
   },
   "outputs": [],
   "source": [
    "# label bars\n",
    "label_horizon_mins = 30\n",
    "risk_level = 0.2\n",
    "# reward_base = 1\n",
    "reward_ratios = np.arange(3, 20, .5)\n",
    "\n",
    "lbars = bl.label_bars(bars, ticks_df, risk_level, label_horizon_mins, reward_ratios)\n",
    "\n",
    "lbars_df = pd.DataFrame(lbars)\n",
    "\n",
    "lbars_unq = bl.get_concurrent_stats(lbars_df)\n",
    "print(lbars_unq['grand_avg_unq'])"
   ]
  },
  {
   "cell_type": "code",
   "execution_count": null,
   "metadata": {},
   "outputs": [],
   "source": [
    "lbars_df[['price_wmean', 'label_rrr']].plot_bokeh(sizing_mode=\"scale_height\")\n",
    "# 17, 31"
   ]
  },
  {
   "cell_type": "code",
   "execution_count": null,
   "metadata": {
    "ExecuteTime": {
     "end_time": "2020-09-30T01:35:33.531161Z",
     "start_time": "2020-09-30T01:35:31.255669Z"
    },
    "code_folding": []
   },
   "outputs": [],
   "source": [
    "lbars_df[['price_wmean', 'label_rrr']].plot(subplots=True, figsize=[17,12])"
   ]
  },
  {
   "cell_type": "code",
   "execution_count": null,
   "metadata": {},
   "outputs": [],
   "source": [
    "label_prices, price_end_at = bl.get_label_ticks(tdf, bars[31]['close_at'], 30)"
   ]
  }
 ],
 "metadata": {
  "kernelspec": {
   "display_name": "Python 3",
   "language": "python",
   "name": "python3"
  },
  "language_info": {
   "codemirror_mode": {
    "name": "ipython",
    "version": 3
   },
   "file_extension": ".py",
   "mimetype": "text/x-python",
   "name": "python",
   "nbconvert_exporter": "python",
   "pygments_lexer": "ipython3",
   "version": "3.7.8"
  },
  "varInspector": {
   "cols": {
    "lenName": 16,
    "lenType": 16,
    "lenVar": 40
   },
   "kernels_config": {
    "python": {
     "delete_cmd_postfix": "",
     "delete_cmd_prefix": "del ",
     "library": "var_list.py",
     "varRefreshCmd": "print(var_dic_list())"
    },
    "r": {
     "delete_cmd_postfix": ") ",
     "delete_cmd_prefix": "rm(",
     "library": "var_list.r",
     "varRefreshCmd": "cat(var_dic_list()) "
    }
   },
   "types_to_exclude": [
    "module",
    "function",
    "builtin_function_or_method",
    "instance",
    "_Feature"
   ],
   "window_display": false
  }
 },
 "nbformat": 4,
 "nbformat_minor": 4
}
