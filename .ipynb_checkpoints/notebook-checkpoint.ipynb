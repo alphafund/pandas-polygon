{
 "cells": [
  {
   "cell_type": "code",
   "execution_count": 275,
   "metadata": {
    "execution": {
     "iopub.execute_input": "2020-10-20T20:05:16.932789Z",
     "iopub.status.busy": "2020-10-20T20:05:16.932262Z",
     "iopub.status.idle": "2020-10-20T20:05:17.045232Z",
     "shell.execute_reply": "2020-10-20T20:05:17.043885Z",
     "shell.execute_reply.started": "2020-10-20T20:05:16.932740Z"
    }
   },
   "outputs": [],
   "source": [
    "from os import environ\n",
    "import pandas as pd\n",
    "from pyarrow.dataset import dataset, field\n",
    "\n",
    "\n",
    "def get_s3_dataset() -> pyarrow._dataset.FileSystemDataset:\n",
    "    from pyarrow.fs import S3FileSystem\n",
    "    s3  = S3FileSystem(\n",
    "        access_key=environ['B2_ACCESS_KEY_ID'],\n",
    "        secret_key=environ['B2_SECRET_ACCESS_KEY'],\n",
    "        endpoint_override=environ['B2_ENDPOINT_URL']\n",
    "    )\n",
    "    ds = dataset(\n",
    "        source='polygon-equities/data/trades/',\n",
    "        format='feather',\n",
    "        filesystem=s3,\n",
    "        partitioning='hive',\n",
    "        exclude_invalid_files=True\n",
    "    )\n",
    "    return ds\n",
    "\n",
    "\n",
    "def get_local_dataset() -> pyarrow._dataset.FileSystemDataset:\n",
    "    ds = dataset(\n",
    "        source='/Users/bobcolner/QuantClarity/pandas-polygon/data/trades/',\n",
    "        format='feather',\n",
    "        partitioning='hive',\n",
    "        exclude_invalid_files=True\n",
    "    )\n",
    "    return ds\n",
    "\n",
    "\n",
    "def filter_dataset(ds: pyarrow._dataset.FileSystemDataset, \n",
    "                   symbol: str, start_date: str, end_date: str) -> pd.DataFrame:\n",
    "    filter_exp = (field('date') >= start_date) & \\\n",
    "        (field('date') <= end_date) & \\\n",
    "        (field('symbol') == symbol)\n",
    "    return ds.to_table(filter=filter_exp).to_pandas()"
   ]
  },
  {
   "cell_type": "code",
   "execution_count": 276,
   "metadata": {
    "execution": {
     "iopub.execute_input": "2020-10-20T20:05:17.631760Z",
     "iopub.status.busy": "2020-10-20T20:05:17.631370Z",
     "iopub.status.idle": "2020-10-20T20:05:17.780500Z",
     "shell.execute_reply": "2020-10-20T20:05:17.779584Z",
     "shell.execute_reply.started": "2020-10-20T20:05:17.631715Z"
    }
   },
   "outputs": [],
   "source": [
    "ds = get_local_dataset()"
   ]
  },
  {
   "cell_type": "code",
   "execution_count": 277,
   "metadata": {
    "execution": {
     "iopub.execute_input": "2020-10-20T20:05:18.104748Z",
     "iopub.status.busy": "2020-10-20T20:05:18.099041Z",
     "iopub.status.idle": "2020-10-20T20:05:18.450072Z",
     "shell.execute_reply": "2020-10-20T20:05:18.448801Z",
     "shell.execute_reply.started": "2020-10-20T20:05:18.104692Z"
    }
   },
   "outputs": [],
   "source": [
    "df = filter_dataset(ds, symbol='DUST', start_date='2020-01-01', end_date='2020-03-01')"
   ]
  },
  {
   "cell_type": "code",
   "execution_count": 278,
   "metadata": {
    "execution": {
     "iopub.execute_input": "2020-10-20T20:05:18.540307Z",
     "iopub.status.busy": "2020-10-20T20:05:18.539761Z",
     "iopub.status.idle": "2020-10-20T20:05:18.666208Z",
     "shell.execute_reply": "2020-10-20T20:05:18.664627Z",
     "shell.execute_reply.started": "2020-10-20T20:05:18.540258Z"
    }
   },
   "outputs": [
    {
     "data": {
      "text/html": [
       "<div>\n",
       "<style scoped>\n",
       "    .dataframe tbody tr th:only-of-type {\n",
       "        vertical-align: middle;\n",
       "    }\n",
       "\n",
       "    .dataframe tbody tr th {\n",
       "        vertical-align: top;\n",
       "    }\n",
       "\n",
       "    .dataframe thead th {\n",
       "        text-align: right;\n",
       "    }\n",
       "</style>\n",
       "<table border=\"1\" class=\"dataframe\">\n",
       "  <thead>\n",
       "    <tr style=\"text-align: right;\">\n",
       "      <th></th>\n",
       "      <th>date_time</th>\n",
       "      <th>price</th>\n",
       "      <th>volume</th>\n",
       "      <th>symbol</th>\n",
       "      <th>date</th>\n",
       "    </tr>\n",
       "  </thead>\n",
       "  <tbody>\n",
       "    <tr>\n",
       "      <th>0</th>\n",
       "      <td>2020-01-02 09:03:25.843223430</td>\n",
       "      <td>5.62</td>\n",
       "      <td>123</td>\n",
       "      <td>DUST</td>\n",
       "      <td>2020-01-02</td>\n",
       "    </tr>\n",
       "    <tr>\n",
       "      <th>1</th>\n",
       "      <td>2020-01-02 09:19:38.947817302</td>\n",
       "      <td>5.61</td>\n",
       "      <td>100</td>\n",
       "      <td>DUST</td>\n",
       "      <td>2020-01-02</td>\n",
       "    </tr>\n",
       "    <tr>\n",
       "      <th>2</th>\n",
       "      <td>2020-01-02 10:11:19.695879061</td>\n",
       "      <td>5.61</td>\n",
       "      <td>376</td>\n",
       "      <td>DUST</td>\n",
       "      <td>2020-01-02</td>\n",
       "    </tr>\n",
       "    <tr>\n",
       "      <th>3</th>\n",
       "      <td>2020-01-02 10:15:39.255461602</td>\n",
       "      <td>5.61</td>\n",
       "      <td>624</td>\n",
       "      <td>DUST</td>\n",
       "      <td>2020-01-02</td>\n",
       "    </tr>\n",
       "    <tr>\n",
       "      <th>4</th>\n",
       "      <td>2020-01-02 10:17:59.228102560</td>\n",
       "      <td>5.65</td>\n",
       "      <td>1</td>\n",
       "      <td>DUST</td>\n",
       "      <td>2020-01-02</td>\n",
       "    </tr>\n",
       "    <tr>\n",
       "      <th>...</th>\n",
       "      <td>...</td>\n",
       "      <td>...</td>\n",
       "      <td>...</td>\n",
       "      <td>...</td>\n",
       "      <td>...</td>\n",
       "    </tr>\n",
       "    <tr>\n",
       "      <th>688172</th>\n",
       "      <td>2020-02-29 00:50:05.462964368</td>\n",
       "      <td>6.93</td>\n",
       "      <td>100</td>\n",
       "      <td>DUST</td>\n",
       "      <td>2020-02-28</td>\n",
       "    </tr>\n",
       "    <tr>\n",
       "      <th>688173</th>\n",
       "      <td>2020-02-29 00:50:06.191211900</td>\n",
       "      <td>6.93</td>\n",
       "      <td>878</td>\n",
       "      <td>DUST</td>\n",
       "      <td>2020-02-28</td>\n",
       "    </tr>\n",
       "    <tr>\n",
       "      <th>688174</th>\n",
       "      <td>2020-02-29 00:50:23.430102495</td>\n",
       "      <td>6.94</td>\n",
       "      <td>946</td>\n",
       "      <td>DUST</td>\n",
       "      <td>2020-02-28</td>\n",
       "    </tr>\n",
       "    <tr>\n",
       "      <th>688175</th>\n",
       "      <td>2020-02-29 00:52:22.424695522</td>\n",
       "      <td>6.94</td>\n",
       "      <td>300</td>\n",
       "      <td>DUST</td>\n",
       "      <td>2020-02-28</td>\n",
       "    </tr>\n",
       "    <tr>\n",
       "      <th>688176</th>\n",
       "      <td>2020-02-29 00:58:54.972164893</td>\n",
       "      <td>6.93</td>\n",
       "      <td>1</td>\n",
       "      <td>DUST</td>\n",
       "      <td>2020-02-28</td>\n",
       "    </tr>\n",
       "  </tbody>\n",
       "</table>\n",
       "<p>688177 rows × 5 columns</p>\n",
       "</div>"
      ],
      "text/plain": [
       "                           date_time  price  volume symbol        date\n",
       "0      2020-01-02 09:03:25.843223430   5.62     123   DUST  2020-01-02\n",
       "1      2020-01-02 09:19:38.947817302   5.61     100   DUST  2020-01-02\n",
       "2      2020-01-02 10:11:19.695879061   5.61     376   DUST  2020-01-02\n",
       "3      2020-01-02 10:15:39.255461602   5.61     624   DUST  2020-01-02\n",
       "4      2020-01-02 10:17:59.228102560   5.65       1   DUST  2020-01-02\n",
       "...                              ...    ...     ...    ...         ...\n",
       "688172 2020-02-29 00:50:05.462964368   6.93     100   DUST  2020-02-28\n",
       "688173 2020-02-29 00:50:06.191211900   6.93     878   DUST  2020-02-28\n",
       "688174 2020-02-29 00:50:23.430102495   6.94     946   DUST  2020-02-28\n",
       "688175 2020-02-29 00:52:22.424695522   6.94     300   DUST  2020-02-28\n",
       "688176 2020-02-29 00:58:54.972164893   6.93       1   DUST  2020-02-28\n",
       "\n",
       "[688177 rows x 5 columns]"
      ]
     },
     "execution_count": 278,
     "metadata": {},
     "output_type": "execute_result"
    }
   ],
   "source": [
    "df"
   ]
  },
  {
   "cell_type": "code",
   "execution_count": 195,
   "metadata": {
    "ExecuteTime": {
     "end_time": "2020-09-30T01:17:28.615776Z",
     "start_time": "2020-09-30T01:17:28.454787Z"
    },
    "execution": {
     "iopub.execute_input": "2020-10-20T19:01:35.701223Z",
     "iopub.status.busy": "2020-10-20T19:01:35.700213Z",
     "iopub.status.idle": "2020-10-20T19:01:35.938688Z",
     "shell.execute_reply": "2020-10-20T19:01:35.937930Z",
     "shell.execute_reply.started": "2020-10-20T19:01:35.701172Z"
    }
   },
   "outputs": [
    {
     "name": "stdout",
     "output_type": "stream",
     "text": [
      "The autoreload extension is already loaded. To reload it, use:\n",
      "  %reload_ext autoreload\n"
     ]
    }
   ],
   "source": [
    "%load_ext autoreload\n",
    "%autoreload 2\n",
    "\n",
    "import numpy as np\n",
    "import pandas as pd\n",
    "import pandas_bokeh\n",
    "# import finplot as fplt\n",
    "\n",
    "import polygon_rest_api as papi\n",
    "import polygon_backfill as pb\n",
    "# import ray_backfill as rb\n",
    "import polygon_s3 as ps3\n",
    "import bar_samples as bs\n",
    "import bar_labels as bl\n",
    "\n",
    "# import filters as ft\n",
    "# import market_cluster as mc\n",
    "\n",
    "import matplotlib as mpl\n",
    "mpl.rcParams['figure.figsize'] = [20, 7]\n",
    "from matplotlib import style\n",
    "style.use('fivethirtyeight')\n",
    "\n",
    "# import ipdb\n",
    "# ipdb.set_trace(context=10)\n",
    "\n",
    "# df.style.background_gradient(cmap='coolwarm', axis=None, vmin=-1, vmax=1)  # 'Blues', 'coolwarm', 'RdBu_r' & 'BrBG' are other good diverging colormaps\n",
    "# pd.set_option('precision', 2)\n",
    "\n",
    "# get local market daily data\n",
    "# mdf = pd.read_parquet('data/mdf.parquet')\n",
    "\n",
    "# .plot_bokeh(sizing_mode=\"scale_height\")"
   ]
  },
  {
   "cell_type": "code",
   "execution_count": 205,
   "metadata": {
    "execution": {
     "iopub.execute_input": "2020-10-20T19:05:15.557646Z",
     "iopub.status.busy": "2020-10-20T19:05:15.556981Z",
     "iopub.status.idle": "2020-10-20T19:05:15.669891Z",
     "shell.execute_reply": "2020-10-20T19:05:15.668458Z",
     "shell.execute_reply.started": "2020-10-20T19:05:15.557594Z"
    }
   },
   "outputs": [],
   "source": [
    "symbol='GLD'\n",
    "# symbol = 'market'\n",
    "date = '2020-01-02'\n",
    "start_date = '2020-01-01' \n",
    "end_date = '2020-10-20'\n",
    "symbols=['SPY', 'QQQ']\n",
    "tick_type='trades'\n",
    "# tick_type = None\n",
    "\n",
    "result_path = '/Users/bobcolner/QuantClarity/pandas-polygon/data'"
   ]
  },
  {
   "cell_type": "code",
   "execution_count": 196,
   "metadata": {
    "collapsed": true,
    "execution": {
     "iopub.execute_input": "2020-10-20T19:01:53.674160Z",
     "iopub.status.busy": "2020-10-20T19:01:53.673760Z",
     "iopub.status.idle": "2020-10-20T19:01:54.645915Z",
     "shell.execute_reply": "2020-10-20T19:01:54.644478Z",
     "shell.execute_reply.started": "2020-10-20T19:01:53.674115Z"
    },
    "jupyter": {
     "outputs_hidden": true
    }
   },
   "outputs": [
    {
     "data": {
      "text/plain": [
       "['2020-01-02',\n",
       " '2020-01-03',\n",
       " '2020-01-06',\n",
       " '2020-01-07',\n",
       " '2020-01-08',\n",
       " '2020-01-09',\n",
       " '2020-01-10',\n",
       " '2020-01-13',\n",
       " '2020-01-14',\n",
       " '2020-01-15',\n",
       " '2020-01-16',\n",
       " '2020-01-17',\n",
       " '2020-01-21',\n",
       " '2020-01-22',\n",
       " '2020-01-23',\n",
       " '2020-01-24',\n",
       " '2020-01-27',\n",
       " '2020-01-28',\n",
       " '2020-01-29',\n",
       " '2020-01-30',\n",
       " '2020-01-31',\n",
       " '2020-02-03',\n",
       " '2020-02-04',\n",
       " '2020-02-05',\n",
       " '2020-02-06',\n",
       " '2020-02-07',\n",
       " '2020-02-10',\n",
       " '2020-02-11',\n",
       " '2020-02-12',\n",
       " '2020-02-13',\n",
       " '2020-02-14',\n",
       " '2020-02-18',\n",
       " '2020-02-19',\n",
       " '2020-02-20',\n",
       " '2020-02-21',\n",
       " '2020-02-24',\n",
       " '2020-02-25',\n",
       " '2020-02-26',\n",
       " '2020-02-27',\n",
       " '2020-02-28',\n",
       " '2020-03-02',\n",
       " '2020-03-03',\n",
       " '2020-03-04',\n",
       " '2020-03-05',\n",
       " '2020-03-06',\n",
       " '2020-03-09',\n",
       " '2020-03-10',\n",
       " '2020-03-11',\n",
       " '2020-03-12',\n",
       " '2020-03-13',\n",
       " '2020-03-16',\n",
       " '2020-03-17',\n",
       " '2020-03-18',\n",
       " '2020-03-19',\n",
       " '2020-03-20',\n",
       " '2020-03-23',\n",
       " '2020-03-24',\n",
       " '2020-03-25',\n",
       " '2020-03-26',\n",
       " '2020-03-27',\n",
       " '2020-03-30',\n",
       " '2020-03-31',\n",
       " '2020-04-01',\n",
       " '2020-04-02',\n",
       " '2020-04-03',\n",
       " '2020-04-06',\n",
       " '2020-04-07',\n",
       " '2020-04-08',\n",
       " '2020-04-09',\n",
       " '2020-04-13',\n",
       " '2020-04-14',\n",
       " '2020-04-15',\n",
       " '2020-04-16',\n",
       " '2020-04-17',\n",
       " '2020-04-20',\n",
       " '2020-04-21',\n",
       " '2020-04-22',\n",
       " '2020-04-23',\n",
       " '2020-04-24',\n",
       " '2020-04-27',\n",
       " '2020-04-28',\n",
       " '2020-04-29',\n",
       " '2020-04-30',\n",
       " '2020-05-01',\n",
       " '2020-05-04',\n",
       " '2020-05-05',\n",
       " '2020-05-06',\n",
       " '2020-05-07',\n",
       " '2020-05-08',\n",
       " '2020-05-11',\n",
       " '2020-05-12',\n",
       " '2020-05-13',\n",
       " '2020-05-14',\n",
       " '2020-05-15',\n",
       " '2020-05-18',\n",
       " '2020-05-19',\n",
       " '2020-05-20',\n",
       " '2020-05-21',\n",
       " '2020-05-22',\n",
       " '2020-05-26',\n",
       " '2020-05-27',\n",
       " '2020-05-28',\n",
       " '2020-05-29',\n",
       " '2020-06-01',\n",
       " '2020-06-02',\n",
       " '2020-06-03',\n",
       " '2020-06-04',\n",
       " '2020-06-05',\n",
       " '2020-06-08',\n",
       " '2020-06-09',\n",
       " '2020-06-10',\n",
       " '2020-06-11',\n",
       " '2020-06-12',\n",
       " '2020-06-15',\n",
       " '2020-06-16',\n",
       " '2020-06-17',\n",
       " '2020-06-18',\n",
       " '2020-06-19',\n",
       " '2020-06-22',\n",
       " '2020-06-23',\n",
       " '2020-06-24',\n",
       " '2020-06-25',\n",
       " '2020-06-26',\n",
       " '2020-06-29',\n",
       " '2020-06-30',\n",
       " '2020-07-01',\n",
       " '2020-07-02',\n",
       " '2020-07-06',\n",
       " '2020-07-07',\n",
       " '2020-07-08',\n",
       " '2020-07-09',\n",
       " '2020-07-10',\n",
       " '2020-07-13',\n",
       " '2020-07-14',\n",
       " '2020-07-15',\n",
       " '2020-07-16',\n",
       " '2020-07-17',\n",
       " '2020-07-20',\n",
       " '2020-07-21',\n",
       " '2020-07-22',\n",
       " '2020-07-23',\n",
       " '2020-07-24',\n",
       " '2020-07-27',\n",
       " '2020-07-28',\n",
       " '2020-07-29',\n",
       " '2020-07-30',\n",
       " '2020-07-31',\n",
       " '2020-08-03',\n",
       " '2020-08-04',\n",
       " '2020-08-05',\n",
       " '2020-08-06',\n",
       " '2020-08-07',\n",
       " '2020-08-10',\n",
       " '2020-08-11',\n",
       " '2020-08-12',\n",
       " '2020-08-13',\n",
       " '2020-08-14',\n",
       " '2020-08-17',\n",
       " '2020-08-18',\n",
       " '2020-08-19',\n",
       " '2020-08-20',\n",
       " '2020-08-21',\n",
       " '2020-08-24',\n",
       " '2020-08-25',\n",
       " '2020-08-26',\n",
       " '2020-08-27',\n",
       " '2020-08-28',\n",
       " '2020-08-31',\n",
       " '2020-09-01',\n",
       " '2020-09-02',\n",
       " '2020-09-03',\n",
       " '2020-09-04',\n",
       " '2020-09-08',\n",
       " '2020-09-09',\n",
       " '2020-09-10',\n",
       " '2020-09-11',\n",
       " '2020-09-14',\n",
       " '2020-09-15',\n",
       " '2020-09-16',\n",
       " '2020-09-17',\n",
       " '2020-09-18',\n",
       " '2020-09-21',\n",
       " '2020-09-22',\n",
       " '2020-09-23',\n",
       " '2020-09-24',\n",
       " '2020-09-25',\n",
       " '2020-09-28',\n",
       " '2020-09-29',\n",
       " '2020-09-30',\n",
       " '2020-10-01',\n",
       " '2020-10-02',\n",
       " '2020-10-05',\n",
       " '2020-10-06',\n",
       " '2020-10-07',\n",
       " '2020-10-08',\n",
       " '2020-10-09',\n",
       " '2020-10-12',\n",
       " '2020-10-13',\n",
       " '2020-10-14',\n",
       " '2020-10-15',\n",
       " '2020-10-16',\n",
       " '2020-10-19']"
      ]
     },
     "execution_count": 196,
     "metadata": {},
     "output_type": "execute_result"
    }
   ],
   "source": [
    "ps3.get_symbol_dates(symbol='GLD', tick_type=tick_type)"
   ]
  },
  {
   "cell_type": "code",
   "execution_count": 206,
   "metadata": {
    "execution": {
     "iopub.execute_input": "2020-10-20T19:05:22.493555Z",
     "iopub.status.busy": "2020-10-20T19:05:22.493249Z",
     "iopub.status.idle": "2020-10-20T19:05:22.580971Z",
     "shell.execute_reply": "2020-10-20T19:05:22.579243Z",
     "shell.execute_reply.started": "2020-10-20T19:05:22.493519Z"
    }
   },
   "outputs": [
    {
     "name": "stdout",
     "output_type": "stream",
     "text": [
      "trying to get ticks from local file...\n"
     ]
    }
   ],
   "source": [
    "df1=ps3.load_ticks(result_path, symbol, date='2020-01-02')"
   ]
  },
  {
   "cell_type": "code",
   "execution_count": 207,
   "metadata": {
    "execution": {
     "iopub.execute_input": "2020-10-20T19:05:23.993006Z",
     "iopub.status.busy": "2020-10-20T19:05:23.992561Z",
     "iopub.status.idle": "2020-10-20T19:05:24.093834Z",
     "shell.execute_reply": "2020-10-20T19:05:24.092451Z",
     "shell.execute_reply.started": "2020-10-20T19:05:23.992955Z"
    }
   },
   "outputs": [
    {
     "name": "stdout",
     "output_type": "stream",
     "text": [
      "trying to get ticks from local file...\n"
     ]
    }
   ],
   "source": [
    "df2=ps3.load_ticks(result_path, symbol, date='2020-01-03')"
   ]
  },
  {
   "cell_type": "code",
   "execution_count": null,
   "metadata": {
    "ExecuteTime": {
     "end_time": "2020-09-30T01:30:55.786854Z",
     "start_time": "2020-09-30T01:30:48.155554Z"
    }
   },
   "outputs": [],
   "source": [
    "# sample ticks -> bars\n",
    "renko_size = 0.2\n",
    "# renko_reversal = 2\n",
    "thresh = {\n",
    "    # GT thresholds\n",
    "    'renko_size': renko_size,\n",
    "    'renko_reveral_multiple': 2,\n",
    "    'duration_sec': 60*30,\n",
    "    'tick_imbalance': 150,\n",
    "    # LT thresholds \n",
    "    'min_duration_sec': 15,\n",
    "    'min_tick_count': 30,\n",
    "}\n",
    "# ticks_df['epoch'] = ticks_df.date_time.astype(int)\n",
    "tdf = ticks_df.loc[(ticks_df.date_time.dt.hour >= 13) & (ticks_df.date_time.dt.hour <= 22)]\n",
    "bars, _ = bs.build_bars(ticks_df=tdf, thresh=thresh)\n",
    "len(bars)\n",
    "\n",
    "bars_df = pd.DataFrame(bars).set_index('close_at')\n",
    "# bars_df = pd.DataFrame(bars)"
   ]
  },
  {
   "cell_type": "code",
   "execution_count": null,
   "metadata": {},
   "outputs": [],
   "source": [
    "# range / price = HFT profit potential\n",
    "(df.price.max() - df.price.min()) / df.price.mean()"
   ]
  },
  {
   "cell_type": "code",
   "execution_count": null,
   "metadata": {
    "ExecuteTime": {
     "end_time": "2020-09-30T01:32:03.075156Z",
     "start_time": "2020-09-30T01:30:56.526391Z"
    }
   },
   "outputs": [],
   "source": [
    "# label bars\n",
    "label_horizon_mins = 30\n",
    "risk_level = 0.2\n",
    "# reward_base = 1\n",
    "reward_ratios = np.arange(3, 20, .5)\n",
    "\n",
    "lbars = bl.label_bars(bars, ticks_df, risk_level, label_horizon_mins, reward_ratios)\n",
    "\n",
    "lbars_df = pd.DataFrame(lbars)\n",
    "\n",
    "lbars_unq = bl.get_concurrent_stats(lbars_df)\n",
    "print(lbars_unq['grand_avg_unq'])"
   ]
  },
  {
   "cell_type": "code",
   "execution_count": null,
   "metadata": {},
   "outputs": [],
   "source": [
    "lbars_df[['price_wmean', 'label_rrr']].plot_bokeh(sizing_mode=\"scale_height\")\n",
    "# 17, 31"
   ]
  },
  {
   "cell_type": "code",
   "execution_count": null,
   "metadata": {
    "ExecuteTime": {
     "end_time": "2020-09-30T01:35:33.531161Z",
     "start_time": "2020-09-30T01:35:31.255669Z"
    },
    "code_folding": []
   },
   "outputs": [],
   "source": [
    "lbars_df[['price_wmean', 'label_rrr']].plot(subplots=True, figsize=[17,12])"
   ]
  },
  {
   "cell_type": "code",
   "execution_count": null,
   "metadata": {},
   "outputs": [],
   "source": [
    "label_prices, price_end_at = bl.get_label_ticks(tdf, bars[31]['close_at'], 30)"
   ]
  }
 ],
 "metadata": {
  "kernelspec": {
   "display_name": "Python 3",
   "language": "python",
   "name": "python3"
  },
  "language_info": {
   "codemirror_mode": {
    "name": "ipython",
    "version": 3
   },
   "file_extension": ".py",
   "mimetype": "text/x-python",
   "name": "python",
   "nbconvert_exporter": "python",
   "pygments_lexer": "ipython3",
   "version": "3.7.8"
  },
  "varInspector": {
   "cols": {
    "lenName": 16,
    "lenType": 16,
    "lenVar": 40
   },
   "kernels_config": {
    "python": {
     "delete_cmd_postfix": "",
     "delete_cmd_prefix": "del ",
     "library": "var_list.py",
     "varRefreshCmd": "print(var_dic_list())"
    },
    "r": {
     "delete_cmd_postfix": ") ",
     "delete_cmd_prefix": "rm(",
     "library": "var_list.r",
     "varRefreshCmd": "cat(var_dic_list()) "
    }
   },
   "types_to_exclude": [
    "module",
    "function",
    "builtin_function_or_method",
    "instance",
    "_Feature"
   ],
   "window_display": false
  }
 },
 "nbformat": 4,
 "nbformat_minor": 4
}
