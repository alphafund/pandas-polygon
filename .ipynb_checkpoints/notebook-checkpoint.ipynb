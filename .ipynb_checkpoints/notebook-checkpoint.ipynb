{
 "cells": [
  {
   "cell_type": "code",
   "execution_count": 120,
   "metadata": {
    "ExecuteTime": {
     "end_time": "2020-09-30T01:17:28.615776Z",
     "start_time": "2020-09-30T01:17:28.454787Z"
    },
    "execution": {
     "iopub.execute_input": "2020-10-20T05:18:54.588891Z",
     "iopub.status.busy": "2020-10-20T05:18:54.588263Z",
     "iopub.status.idle": "2020-10-20T05:18:55.154516Z",
     "shell.execute_reply": "2020-10-20T05:18:55.150438Z",
     "shell.execute_reply.started": "2020-10-20T05:18:54.588782Z"
    }
   },
   "outputs": [
    {
     "name": "stdout",
     "output_type": "stream",
     "text": [
      "The autoreload extension is already loaded. To reload it, use:\n",
      "  %reload_ext autoreload\n"
     ]
    }
   ],
   "source": [
    "%load_ext autoreload\n",
    "%autoreload 2\n",
    "\n",
    "import numpy as np\n",
    "import pandas as pd\n",
    "import pandas_bokeh\n",
    "# import finplot as fplt\n",
    "\n",
    "import polygon_rest_api as papi\n",
    "import polygon_backfill as pb\n",
    "# import ray_backfill as rb\n",
    "import polygon_s3 as ps3\n",
    "import bar_samples as bs\n",
    "import bar_labels as bl\n",
    "\n",
    "# import filters as ft\n",
    "# import market_cluster as mc\n",
    "\n",
    "import matplotlib as mpl\n",
    "mpl.rcParams['figure.figsize'] = [20, 7]\n",
    "from matplotlib import style\n",
    "style.use('fivethirtyeight')\n",
    "\n",
    "# import ipdb\n",
    "# ipdb.set_trace(context=10)\n",
    "\n",
    "# df.style.background_gradient(cmap='coolwarm', axis=None, vmin=-1, vmax=1)  # 'Blues', 'coolwarm', 'RdBu_r' & 'BrBG' are other good diverging colormaps\n",
    "# pd.set_option('precision', 2)\n",
    "\n",
    "# get local market daily data\n",
    "# mdf = pd.read_parquet('data/mdf.parquet')\n",
    "\n",
    "# .plot_bokeh(sizing_mode=\"scale_height\")"
   ]
  },
  {
   "cell_type": "code",
   "execution_count": 24,
   "metadata": {
    "execution": {
     "iopub.execute_input": "2020-10-20T04:10:56.470695Z",
     "iopub.status.busy": "2020-10-20T04:10:56.470322Z",
     "iopub.status.idle": "2020-10-20T04:10:56.481519Z",
     "shell.execute_reply": "2020-10-20T04:10:56.480096Z",
     "shell.execute_reply.started": "2020-10-20T04:10:56.470651Z"
    }
   },
   "outputs": [],
   "source": [
    "symbol='GLD'\n",
    "# symbol = 'market'\n",
    "date = '2020-10-05'\n",
    "start_date = '2020-01-01' \n",
    "end_date = '2020-02-20'\n",
    "symbols=['SPY', 'QQQ']\n",
    "tick_type='trades'\n",
    "# tick_type = None\n",
    "result_path = '/Users/bobcolner/QuantClarity/pandas-polygon/data'"
   ]
  },
  {
   "cell_type": "code",
   "execution_count": 133,
   "metadata": {
    "execution": {
     "iopub.execute_input": "2020-10-20T14:02:14.014765Z",
     "iopub.status.busy": "2020-10-20T14:02:14.014386Z",
     "iopub.status.idle": "2020-10-20T14:02:14.567383Z",
     "shell.execute_reply": "2020-10-20T14:02:14.566154Z",
     "shell.execute_reply.started": "2020-10-20T14:02:14.014721Z"
    }
   },
   "outputs": [
    {
     "data": {
      "text/plain": [
       "['polygon-equities/data/trades/symbol=PASS/date=2020-01-02',\n",
       " 'polygon-equities/data/trades/symbol=PASS/date=2020-01-03',\n",
       " 'polygon-equities/data/trades/symbol=PASS/date=2020-01-06',\n",
       " 'polygon-equities/data/trades/symbol=PASS/date=2020-01-07',\n",
       " 'polygon-equities/data/trades/symbol=PASS/date=2020-01-08',\n",
       " 'polygon-equities/data/trades/symbol=PASS/date=2020-01-09',\n",
       " 'polygon-equities/data/trades/symbol=PASS/date=2020-01-10',\n",
       " 'polygon-equities/data/trades/symbol=PASS/date=2020-01-13',\n",
       " 'polygon-equities/data/trades/symbol=PASS/date=2020-01-14',\n",
       " 'polygon-equities/data/trades/symbol=PASS/date=2020-01-15',\n",
       " 'polygon-equities/data/trades/symbol=PASS/date=2020-01-16',\n",
       " 'polygon-equities/data/trades/symbol=PASS/date=2020-01-17',\n",
       " 'polygon-equities/data/trades/symbol=PASS/date=2020-01-21',\n",
       " 'polygon-equities/data/trades/symbol=PASS/date=2020-01-22',\n",
       " 'polygon-equities/data/trades/symbol=PASS/date=2020-01-23',\n",
       " 'polygon-equities/data/trades/symbol=PASS/date=2020-01-24',\n",
       " 'polygon-equities/data/trades/symbol=PASS/date=2020-01-27',\n",
       " 'polygon-equities/data/trades/symbol=PASS/date=2020-01-28',\n",
       " 'polygon-equities/data/trades/symbol=PASS/date=2020-01-29',\n",
       " 'polygon-equities/data/trades/symbol=PASS/date=2020-01-30',\n",
       " 'polygon-equities/data/trades/symbol=PASS/date=2020-01-31',\n",
       " 'polygon-equities/data/trades/symbol=PASS/date=2020-02-03',\n",
       " 'polygon-equities/data/trades/symbol=PASS/date=2020-02-04',\n",
       " 'polygon-equities/data/trades/symbol=PASS/date=2020-02-05',\n",
       " 'polygon-equities/data/trades/symbol=PASS/date=2020-02-06',\n",
       " 'polygon-equities/data/trades/symbol=PASS/date=2020-02-07',\n",
       " 'polygon-equities/data/trades/symbol=PASS/date=2020-02-10',\n",
       " 'polygon-equities/data/trades/symbol=PASS/date=2020-02-11',\n",
       " 'polygon-equities/data/trades/symbol=PASS/date=2020-02-12',\n",
       " 'polygon-equities/data/trades/symbol=PASS/date=2020-02-13',\n",
       " 'polygon-equities/data/trades/symbol=PASS/date=2020-02-14',\n",
       " 'polygon-equities/data/trades/symbol=PASS/date=2020-02-18',\n",
       " 'polygon-equities/data/trades/symbol=PASS/date=2020-02-19',\n",
       " 'polygon-equities/data/trades/symbol=PASS/date=2020-02-20',\n",
       " 'polygon-equities/data/trades/symbol=PASS/date=2020-02-21',\n",
       " 'polygon-equities/data/trades/symbol=PASS/date=2020-02-24',\n",
       " 'polygon-equities/data/trades/symbol=PASS/date=2020-02-25',\n",
       " 'polygon-equities/data/trades/symbol=PASS/date=2020-02-26',\n",
       " 'polygon-equities/data/trades/symbol=PASS/date=2020-02-27',\n",
       " 'polygon-equities/data/trades/symbol=PASS/date=2020-02-28',\n",
       " 'polygon-equities/data/trades/symbol=PASS/date=2020-03-02',\n",
       " 'polygon-equities/data/trades/symbol=PASS/date=2020-03-03',\n",
       " 'polygon-equities/data/trades/symbol=PASS/date=2020-03-04',\n",
       " 'polygon-equities/data/trades/symbol=PASS/date=2020-03-05',\n",
       " 'polygon-equities/data/trades/symbol=PASS/date=2020-03-06',\n",
       " 'polygon-equities/data/trades/symbol=PASS/date=2020-03-09',\n",
       " 'polygon-equities/data/trades/symbol=PASS/date=2020-03-10',\n",
       " 'polygon-equities/data/trades/symbol=PASS/date=2020-03-11',\n",
       " 'polygon-equities/data/trades/symbol=PASS/date=2020-03-12',\n",
       " 'polygon-equities/data/trades/symbol=PASS/date=2020-03-13',\n",
       " 'polygon-equities/data/trades/symbol=PASS/date=2020-03-16',\n",
       " 'polygon-equities/data/trades/symbol=PASS/date=2020-03-17',\n",
       " 'polygon-equities/data/trades/symbol=PASS/date=2020-03-18',\n",
       " 'polygon-equities/data/trades/symbol=PASS/date=2020-03-19',\n",
       " 'polygon-equities/data/trades/symbol=PASS/date=2020-03-20',\n",
       " 'polygon-equities/data/trades/symbol=PASS/date=2020-03-23',\n",
       " 'polygon-equities/data/trades/symbol=PASS/date=2020-03-24',\n",
       " 'polygon-equities/data/trades/symbol=PASS/date=2020-03-25',\n",
       " 'polygon-equities/data/trades/symbol=PASS/date=2020-03-26',\n",
       " 'polygon-equities/data/trades/symbol=PASS/date=2020-03-27',\n",
       " 'polygon-equities/data/trades/symbol=PASS/date=2020-03-30',\n",
       " 'polygon-equities/data/trades/symbol=PASS/date=2020-03-31',\n",
       " 'polygon-equities/data/trades/symbol=PASS/date=2020-04-01',\n",
       " 'polygon-equities/data/trades/symbol=PASS/date=2020-04-02',\n",
       " 'polygon-equities/data/trades/symbol=PASS/date=2020-04-03',\n",
       " 'polygon-equities/data/trades/symbol=PASS/date=2020-04-06',\n",
       " 'polygon-equities/data/trades/symbol=PASS/date=2020-04-07',\n",
       " 'polygon-equities/data/trades/symbol=PASS/date=2020-04-08',\n",
       " 'polygon-equities/data/trades/symbol=PASS/date=2020-04-09',\n",
       " 'polygon-equities/data/trades/symbol=PASS/date=2020-04-13',\n",
       " 'polygon-equities/data/trades/symbol=PASS/date=2020-04-14',\n",
       " 'polygon-equities/data/trades/symbol=PASS/date=2020-04-15',\n",
       " 'polygon-equities/data/trades/symbol=PASS/date=2020-04-16',\n",
       " 'polygon-equities/data/trades/symbol=PASS/date=2020-04-17',\n",
       " 'polygon-equities/data/trades/symbol=PASS/date=2020-04-20',\n",
       " 'polygon-equities/data/trades/symbol=PASS/date=2020-04-21',\n",
       " 'polygon-equities/data/trades/symbol=PASS/date=2020-04-22',\n",
       " 'polygon-equities/data/trades/symbol=PASS/date=2020-04-23',\n",
       " 'polygon-equities/data/trades/symbol=PASS/date=2020-04-24',\n",
       " 'polygon-equities/data/trades/symbol=PASS/date=2020-04-27',\n",
       " 'polygon-equities/data/trades/symbol=PASS/date=2020-04-28',\n",
       " 'polygon-equities/data/trades/symbol=PASS/date=2020-04-29',\n",
       " 'polygon-equities/data/trades/symbol=PASS/date=2020-04-30',\n",
       " 'polygon-equities/data/trades/symbol=PASS/date=2020-05-01',\n",
       " 'polygon-equities/data/trades/symbol=PASS/date=2020-05-04',\n",
       " 'polygon-equities/data/trades/symbol=PASS/date=2020-05-05',\n",
       " 'polygon-equities/data/trades/symbol=PASS/date=2020-05-06',\n",
       " 'polygon-equities/data/trades/symbol=PASS/date=2020-05-07',\n",
       " 'polygon-equities/data/trades/symbol=PASS/date=2020-05-08',\n",
       " 'polygon-equities/data/trades/symbol=PASS/date=2020-05-11',\n",
       " 'polygon-equities/data/trades/symbol=PASS/date=2020-05-12',\n",
       " 'polygon-equities/data/trades/symbol=PASS/date=2020-05-13',\n",
       " 'polygon-equities/data/trades/symbol=PASS/date=2020-05-14',\n",
       " 'polygon-equities/data/trades/symbol=PASS/date=2020-05-15',\n",
       " 'polygon-equities/data/trades/symbol=PASS/date=2020-05-18',\n",
       " 'polygon-equities/data/trades/symbol=PASS/date=2020-05-19',\n",
       " 'polygon-equities/data/trades/symbol=PASS/date=2020-05-20',\n",
       " 'polygon-equities/data/trades/symbol=PASS/date=2020-05-21',\n",
       " 'polygon-equities/data/trades/symbol=PASS/date=2020-05-22',\n",
       " 'polygon-equities/data/trades/symbol=PASS/date=2020-05-26',\n",
       " 'polygon-equities/data/trades/symbol=PASS/date=2020-05-27',\n",
       " 'polygon-equities/data/trades/symbol=PASS/date=2020-05-28',\n",
       " 'polygon-equities/data/trades/symbol=PASS/date=2020-05-29',\n",
       " 'polygon-equities/data/trades/symbol=PASS/date=2020-06-01',\n",
       " 'polygon-equities/data/trades/symbol=PASS/date=2020-06-02',\n",
       " 'polygon-equities/data/trades/symbol=PASS/date=2020-06-03',\n",
       " 'polygon-equities/data/trades/symbol=PASS/date=2020-06-04',\n",
       " 'polygon-equities/data/trades/symbol=PASS/date=2020-06-05',\n",
       " 'polygon-equities/data/trades/symbol=PASS/date=2020-06-08',\n",
       " 'polygon-equities/data/trades/symbol=PASS/date=2020-06-09',\n",
       " 'polygon-equities/data/trades/symbol=PASS/date=2020-06-10',\n",
       " 'polygon-equities/data/trades/symbol=PASS/date=2020-06-11',\n",
       " 'polygon-equities/data/trades/symbol=PASS/date=2020-06-12',\n",
       " 'polygon-equities/data/trades/symbol=PASS/date=2020-06-15',\n",
       " 'polygon-equities/data/trades/symbol=PASS/date=2020-06-16',\n",
       " 'polygon-equities/data/trades/symbol=PASS/date=2020-06-17',\n",
       " 'polygon-equities/data/trades/symbol=PASS/date=2020-06-18',\n",
       " 'polygon-equities/data/trades/symbol=PASS/date=2020-06-19',\n",
       " 'polygon-equities/data/trades/symbol=PASS/date=2020-06-22',\n",
       " 'polygon-equities/data/trades/symbol=PASS/date=2020-06-23',\n",
       " 'polygon-equities/data/trades/symbol=PASS/date=2020-06-24',\n",
       " 'polygon-equities/data/trades/symbol=PASS/date=2020-06-25',\n",
       " 'polygon-equities/data/trades/symbol=PASS/date=2020-06-26',\n",
       " 'polygon-equities/data/trades/symbol=PASS/date=2020-06-29',\n",
       " 'polygon-equities/data/trades/symbol=PASS/date=2020-06-30',\n",
       " 'polygon-equities/data/trades/symbol=PASS/date=2020-07-01',\n",
       " 'polygon-equities/data/trades/symbol=PASS/date=2020-07-02',\n",
       " 'polygon-equities/data/trades/symbol=PASS/date=2020-07-06',\n",
       " 'polygon-equities/data/trades/symbol=PASS/date=2020-07-07',\n",
       " 'polygon-equities/data/trades/symbol=PASS/date=2020-07-08',\n",
       " 'polygon-equities/data/trades/symbol=PASS/date=2020-07-09',\n",
       " 'polygon-equities/data/trades/symbol=PASS/date=2020-07-10',\n",
       " 'polygon-equities/data/trades/symbol=PASS/date=2020-07-13',\n",
       " 'polygon-equities/data/trades/symbol=PASS/date=2020-07-14',\n",
       " 'polygon-equities/data/trades/symbol=PASS/date=2020-07-15',\n",
       " 'polygon-equities/data/trades/symbol=PASS/date=2020-07-16',\n",
       " 'polygon-equities/data/trades/symbol=PASS/date=2020-07-17',\n",
       " 'polygon-equities/data/trades/symbol=PASS/date=2020-07-20',\n",
       " 'polygon-equities/data/trades/symbol=PASS/date=2020-07-21',\n",
       " 'polygon-equities/data/trades/symbol=PASS/date=2020-07-22',\n",
       " 'polygon-equities/data/trades/symbol=PASS/date=2020-07-23',\n",
       " 'polygon-equities/data/trades/symbol=PASS/date=2020-07-24',\n",
       " 'polygon-equities/data/trades/symbol=PASS/date=2020-07-27',\n",
       " 'polygon-equities/data/trades/symbol=PASS/date=2020-07-28',\n",
       " 'polygon-equities/data/trades/symbol=PASS/date=2020-07-29',\n",
       " 'polygon-equities/data/trades/symbol=PASS/date=2020-07-30',\n",
       " 'polygon-equities/data/trades/symbol=PASS/date=2020-07-31',\n",
       " 'polygon-equities/data/trades/symbol=PASS/date=2020-08-03',\n",
       " 'polygon-equities/data/trades/symbol=PASS/date=2020-08-04',\n",
       " 'polygon-equities/data/trades/symbol=PASS/date=2020-08-05',\n",
       " 'polygon-equities/data/trades/symbol=PASS/date=2020-08-06',\n",
       " 'polygon-equities/data/trades/symbol=PASS/date=2020-08-07',\n",
       " 'polygon-equities/data/trades/symbol=PASS/date=2020-08-10',\n",
       " 'polygon-equities/data/trades/symbol=PASS/date=2020-08-11',\n",
       " 'polygon-equities/data/trades/symbol=PASS/date=2020-08-12',\n",
       " 'polygon-equities/data/trades/symbol=PASS/date=2020-08-13',\n",
       " 'polygon-equities/data/trades/symbol=PASS/date=2020-08-14',\n",
       " 'polygon-equities/data/trades/symbol=PASS/date=2020-08-17',\n",
       " 'polygon-equities/data/trades/symbol=PASS/date=2020-08-18',\n",
       " 'polygon-equities/data/trades/symbol=PASS/date=2020-08-19',\n",
       " 'polygon-equities/data/trades/symbol=PASS/date=2020-08-20',\n",
       " 'polygon-equities/data/trades/symbol=PASS/date=2020-08-21',\n",
       " 'polygon-equities/data/trades/symbol=PASS/date=2020-08-24',\n",
       " 'polygon-equities/data/trades/symbol=PASS/date=2020-08-25',\n",
       " 'polygon-equities/data/trades/symbol=PASS/date=2020-08-26',\n",
       " 'polygon-equities/data/trades/symbol=PASS/date=2020-08-27',\n",
       " 'polygon-equities/data/trades/symbol=PASS/date=2020-08-28',\n",
       " 'polygon-equities/data/trades/symbol=PASS/date=2020-08-31',\n",
       " 'polygon-equities/data/trades/symbol=PASS/date=2020-09-01',\n",
       " 'polygon-equities/data/trades/symbol=PASS/date=2020-09-02',\n",
       " 'polygon-equities/data/trades/symbol=PASS/date=2020-09-03',\n",
       " 'polygon-equities/data/trades/symbol=PASS/date=2020-09-04',\n",
       " 'polygon-equities/data/trades/symbol=PASS/date=2020-09-08',\n",
       " 'polygon-equities/data/trades/symbol=PASS/date=2020-09-09',\n",
       " 'polygon-equities/data/trades/symbol=PASS/date=2020-09-10',\n",
       " 'polygon-equities/data/trades/symbol=PASS/date=2020-09-11',\n",
       " 'polygon-equities/data/trades/symbol=PASS/date=2020-09-14',\n",
       " 'polygon-equities/data/trades/symbol=PASS/date=2020-09-15',\n",
       " 'polygon-equities/data/trades/symbol=PASS/date=2020-09-16',\n",
       " 'polygon-equities/data/trades/symbol=PASS/date=2020-09-17',\n",
       " 'polygon-equities/data/trades/symbol=PASS/date=2020-09-18',\n",
       " 'polygon-equities/data/trades/symbol=PASS/date=2020-09-21',\n",
       " 'polygon-equities/data/trades/symbol=PASS/date=2020-09-22',\n",
       " 'polygon-equities/data/trades/symbol=PASS/date=2020-09-23',\n",
       " 'polygon-equities/data/trades/symbol=PASS/date=2020-09-24',\n",
       " 'polygon-equities/data/trades/symbol=PASS/date=2020-09-25',\n",
       " 'polygon-equities/data/trades/symbol=PASS/date=2020-09-28',\n",
       " 'polygon-equities/data/trades/symbol=PASS/date=2020-09-29',\n",
       " 'polygon-equities/data/trades/symbol=PASS/date=2020-09-30',\n",
       " 'polygon-equities/data/trades/symbol=PASS/date=2020-10-01',\n",
       " 'polygon-equities/data/trades/symbol=PASS/date=2020-10-02',\n",
       " 'polygon-equities/data/trades/symbol=PASS/date=2020-10-05',\n",
       " 'polygon-equities/data/trades/symbol=PASS/date=2020-10-06',\n",
       " 'polygon-equities/data/trades/symbol=PASS/date=2020-10-07',\n",
       " 'polygon-equities/data/trades/symbol=PASS/date=2020-10-08',\n",
       " 'polygon-equities/data/trades/symbol=PASS/date=2020-10-09',\n",
       " 'polygon-equities/data/trades/symbol=PASS/date=2020-10-12',\n",
       " 'polygon-equities/data/trades/symbol=PASS/date=2020-10-13',\n",
       " 'polygon-equities/data/trades/symbol=PASS/date=2020-10-14',\n",
       " 'polygon-equities/data/trades/symbol=PASS/date=2020-10-15',\n",
       " 'polygon-equities/data/trades/symbol=PASS/date=2020-10-16']"
      ]
     },
     "execution_count": 133,
     "metadata": {},
     "output_type": "execute_result"
    }
   ],
   "source": [
    "ps3.list_symbol_dates(symbol='PASS')"
   ]
  },
  {
   "cell_type": "code",
   "execution_count": 132,
   "metadata": {
    "execution": {
     "iopub.execute_input": "2020-10-20T14:01:55.673099Z",
     "iopub.status.busy": "2020-10-20T14:01:55.672711Z",
     "iopub.status.idle": "2020-10-20T14:01:56.335943Z",
     "shell.execute_reply": "2020-10-20T14:01:56.334010Z",
     "shell.execute_reply.started": "2020-10-20T14:01:55.673057Z"
    }
   },
   "outputs": [
    {
     "data": {
      "text/plain": [
       "['DUST', 'FNV', 'FSM', 'GDX', 'GLD', 'GOLD', 'PAAS', 'PASS', 'SBSW', 'SPY']"
      ]
     },
     "execution_count": 132,
     "metadata": {},
     "output_type": "execute_result"
    }
   ],
   "source": [
    "ps3.list_symbols()"
   ]
  },
  {
   "cell_type": "code",
   "execution_count": null,
   "metadata": {
    "ExecuteTime": {
     "end_time": "2020-09-30T01:30:55.786854Z",
     "start_time": "2020-09-30T01:30:48.155554Z"
    }
   },
   "outputs": [],
   "source": [
    "# sample ticks -> bars\n",
    "renko_size = 0.2\n",
    "# renko_reversal = 2\n",
    "thresh = {\n",
    "    # GT thresholds\n",
    "    'renko_size': renko_size,\n",
    "    'renko_reveral_multiple': 2,\n",
    "    'duration_sec': 60*30,\n",
    "    'tick_imbalance': 150,\n",
    "    # LT thresholds \n",
    "    'min_duration_sec': 15,\n",
    "    'min_tick_count': 30,\n",
    "}\n",
    "# ticks_df['epoch'] = ticks_df.date_time.astype(int)\n",
    "tdf = ticks_df.loc[(ticks_df.date_time.dt.hour >= 13) & (ticks_df.date_time.dt.hour <= 22)]\n",
    "bars, _ = bs.build_bars(ticks_df=tdf, thresh=thresh)\n",
    "len(bars)\n",
    "\n",
    "bars_df = pd.DataFrame(bars).set_index('close_at')\n",
    "# bars_df = pd.DataFrame(bars)"
   ]
  },
  {
   "cell_type": "code",
   "execution_count": null,
   "metadata": {},
   "outputs": [],
   "source": [
    "# range / price = HFT profit potential\n",
    "(df.price.max() - df.price.min()) / df.price.mean()"
   ]
  },
  {
   "cell_type": "code",
   "execution_count": null,
   "metadata": {
    "ExecuteTime": {
     "end_time": "2020-09-30T01:32:03.075156Z",
     "start_time": "2020-09-30T01:30:56.526391Z"
    }
   },
   "outputs": [],
   "source": [
    "# label bars\n",
    "label_horizon_mins = 30\n",
    "risk_level = 0.2\n",
    "# reward_base = 1\n",
    "reward_ratios = np.arange(3, 20, .5)\n",
    "\n",
    "lbars = bl.label_bars(bars, ticks_df, risk_level, label_horizon_mins, reward_ratios)\n",
    "\n",
    "lbars_df = pd.DataFrame(lbars)\n",
    "\n",
    "lbars_unq = bl.get_concurrent_stats(lbars_df)\n",
    "print(lbars_unq['grand_avg_unq'])"
   ]
  },
  {
   "cell_type": "code",
   "execution_count": null,
   "metadata": {},
   "outputs": [],
   "source": [
    "lbars_df[['price_wmean', 'label_rrr']].plot_bokeh(sizing_mode=\"scale_height\")\n",
    "# 17, 31"
   ]
  },
  {
   "cell_type": "code",
   "execution_count": null,
   "metadata": {
    "ExecuteTime": {
     "end_time": "2020-09-30T01:35:33.531161Z",
     "start_time": "2020-09-30T01:35:31.255669Z"
    },
    "code_folding": []
   },
   "outputs": [],
   "source": [
    "lbars_df[['price_wmean', 'label_rrr']].plot(subplots=True, figsize=[17,12])"
   ]
  },
  {
   "cell_type": "code",
   "execution_count": null,
   "metadata": {},
   "outputs": [],
   "source": [
    "label_prices, price_end_at = bl.get_label_ticks(tdf, bars[31]['close_at'], 30)"
   ]
  }
 ],
 "metadata": {
  "kernelspec": {
   "display_name": "Python 3",
   "language": "python",
   "name": "python3"
  },
  "language_info": {
   "codemirror_mode": {
    "name": "ipython",
    "version": 3
   },
   "file_extension": ".py",
   "mimetype": "text/x-python",
   "name": "python",
   "nbconvert_exporter": "python",
   "pygments_lexer": "ipython3",
   "version": "3.7.8"
  },
  "varInspector": {
   "cols": {
    "lenName": 16,
    "lenType": 16,
    "lenVar": 40
   },
   "kernels_config": {
    "python": {
     "delete_cmd_postfix": "",
     "delete_cmd_prefix": "del ",
     "library": "var_list.py",
     "varRefreshCmd": "print(var_dic_list())"
    },
    "r": {
     "delete_cmd_postfix": ") ",
     "delete_cmd_prefix": "rm(",
     "library": "var_list.r",
     "varRefreshCmd": "cat(var_dic_list()) "
    }
   },
   "types_to_exclude": [
    "module",
    "function",
    "builtin_function_or_method",
    "instance",
    "_Feature"
   ],
   "window_display": false
  }
 },
 "nbformat": 4,
 "nbformat_minor": 4
}
