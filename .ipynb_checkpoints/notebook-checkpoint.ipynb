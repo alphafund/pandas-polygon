{
 "cells": [
  {
   "cell_type": "code",
   "execution_count": 21,
   "metadata": {
    "ExecuteTime": {
     "end_time": "2020-09-30T01:17:28.615776Z",
     "start_time": "2020-09-30T01:17:28.454787Z"
    },
    "execution": {
     "iopub.execute_input": "2020-10-12T00:32:41.720532Z",
     "iopub.status.busy": "2020-10-12T00:32:41.720199Z",
     "iopub.status.idle": "2020-10-12T00:32:41.810957Z",
     "shell.execute_reply": "2020-10-12T00:32:41.809567Z",
     "shell.execute_reply.started": "2020-10-12T00:32:41.720492Z"
    }
   },
   "outputs": [
    {
     "name": "stdout",
     "output_type": "stream",
     "text": [
      "The autoreload extension is already loaded. To reload it, use:\n",
      "  %reload_ext autoreload\n"
     ]
    }
   ],
   "source": [
    "%load_ext autoreload\n",
    "%autoreload 2\n",
    "\n",
    "import numpy as np\n",
    "import pandas as pd\n",
    "import pandas_bokeh\n",
    "import finplot as fplt\n",
    "\n",
    "import polygon_backfill as pb\n",
    "import market_cluster as mc\n",
    "import s3_datasets as s3d\n",
    "import filters as ft\n",
    "import local_backfill as lb\n",
    "import bars as sb\n",
    "import bar_labels as bl\n",
    "import load_ticks as lt\n",
    "\n",
    "import matplotlib as mpl\n",
    "mpl.rcParams['figure.figsize'] = [20, 7]\n",
    "from matplotlib import style\n",
    "style.use('fivethirtyeight')\n",
    "\n",
    "# import ipdb\n",
    "# ipdb.set_trace(context=10)\n",
    "\n",
    "symbol='GLD'\n",
    "date='2020-08-27'\n",
    "tick_type='trades'\n",
    "result_path='/Users/bobcolner/QuantClarity/pandas-polygon/data'\n",
    "    \n",
    "# .plot_bokeh(kind='hist', bins=50, sizing_mode=\"scale_height\", disable_scientific_axes=True)\n",
    "# df.style.background_gradient(cmap='coolwarm', axis=None, vmin=-1, vmax=1)  # 'Blues', 'coolwarm', 'RdBu_r' & 'BrBG' are other good diverging colormaps\n",
    "# pd.set_option('precision', 2)\n",
    "# get local market daily data\n",
    "# mdf = pd.read_parquet('data/mdf.parquet')\n",
    "# sdf = mdf[mdf.symbol=='SPY']"
   ]
  },
  {
   "cell_type": "code",
   "execution_count": 30,
   "metadata": {
    "execution": {
     "iopub.execute_input": "2020-10-12T00:41:59.140073Z",
     "iopub.status.busy": "2020-10-12T00:41:59.139719Z",
     "iopub.status.idle": "2020-10-12T00:41:59.678149Z",
     "shell.execute_reply": "2020-10-12T00:41:59.677154Z",
     "shell.execute_reply.started": "2020-10-12T00:41:59.140032Z"
    }
   },
   "outputs": [
    {
     "data": {
      "text/plain": [
       "['polygon-equities/data/trades/symbol=GLD/date=2020-10-01',\n",
       " 'polygon-equities/data/trades/symbol=GLD/date=2020-10-02',\n",
       " 'polygon-equities/data/trades/symbol=GLD/date=2020-10-05',\n",
       " 'polygon-equities/data/trades/symbol=GLD/date=2020-10-06',\n",
       " 'polygon-equities/data/trades/symbol=GLD/date=2020-10-07',\n",
       " 'polygon-equities/data/trades/symbol=GLD/date=2020-10-08',\n",
       " 'polygon-equities/data/trades/symbol=GLD/date=2020-10-09']"
      ]
     },
     "execution_count": 30,
     "metadata": {},
     "output_type": "execute_result"
    }
   ],
   "source": [
    "s3d.list_symbol(symbol)"
   ]
  },
  {
   "cell_type": "code",
   "execution_count": 31,
   "metadata": {
    "execution": {
     "iopub.execute_input": "2020-10-12T00:42:39.942595Z",
     "iopub.status.busy": "2020-10-12T00:42:39.942230Z",
     "iopub.status.idle": "2020-10-12T00:43:02.913372Z",
     "shell.execute_reply": "2020-10-12T00:43:02.911591Z",
     "shell.execute_reply.started": "2020-10-12T00:42:39.942554Z"
    }
   },
   "outputs": [
    {
     "name": "stdout",
     "output_type": "stream",
     "text": [
      "trying to get ticks from local file...\n",
      "trying to get ticks from s3...\n",
      "trying to get ticks from polygon API\n",
      "Downloaded:  47226 GLD ticks; latest time(NYC):  2020-10-08 20:00:00.002238464-04:00\n",
      "dropped 202 ticks ( 0.43 %)\n"
     ]
    },
    {
     "data": {
      "text/html": [
       "<div>\n",
       "<style scoped>\n",
       "    .dataframe tbody tr th:only-of-type {\n",
       "        vertical-align: middle;\n",
       "    }\n",
       "\n",
       "    .dataframe tbody tr th {\n",
       "        vertical-align: top;\n",
       "    }\n",
       "\n",
       "    .dataframe thead th {\n",
       "        text-align: right;\n",
       "    }\n",
       "</style>\n",
       "<table border=\"1\" class=\"dataframe\">\n",
       "  <thead>\n",
       "    <tr style=\"text-align: right;\">\n",
       "      <th></th>\n",
       "      <th>date_time</th>\n",
       "      <th>price</th>\n",
       "      <th>volume</th>\n",
       "    </tr>\n",
       "  </thead>\n",
       "  <tbody>\n",
       "    <tr>\n",
       "      <th>0</th>\n",
       "      <td>2020-10-08 08:00:00.011162880</td>\n",
       "      <td>177.500000</td>\n",
       "      <td>221</td>\n",
       "    </tr>\n",
       "    <tr>\n",
       "      <th>1</th>\n",
       "      <td>2020-10-08 08:04:41.825920768</td>\n",
       "      <td>177.550003</td>\n",
       "      <td>1</td>\n",
       "    </tr>\n",
       "    <tr>\n",
       "      <th>2</th>\n",
       "      <td>2020-10-08 08:04:47.608566272</td>\n",
       "      <td>177.559998</td>\n",
       "      <td>100</td>\n",
       "    </tr>\n",
       "    <tr>\n",
       "      <th>3</th>\n",
       "      <td>2020-10-08 08:04:47.710558976</td>\n",
       "      <td>177.559998</td>\n",
       "      <td>100</td>\n",
       "    </tr>\n",
       "    <tr>\n",
       "      <th>4</th>\n",
       "      <td>2020-10-08 08:04:47.812080384</td>\n",
       "      <td>177.559998</td>\n",
       "      <td>100</td>\n",
       "    </tr>\n",
       "    <tr>\n",
       "      <th>...</th>\n",
       "      <td>...</td>\n",
       "      <td>...</td>\n",
       "      <td>...</td>\n",
       "    </tr>\n",
       "    <tr>\n",
       "      <th>47019</th>\n",
       "      <td>2020-10-08 23:57:15.321619968</td>\n",
       "      <td>177.940002</td>\n",
       "      <td>2</td>\n",
       "    </tr>\n",
       "    <tr>\n",
       "      <th>47020</th>\n",
       "      <td>2020-10-08 23:57:16.705828864</td>\n",
       "      <td>177.940002</td>\n",
       "      <td>2</td>\n",
       "    </tr>\n",
       "    <tr>\n",
       "      <th>47021</th>\n",
       "      <td>2020-10-08 23:58:44.969093888</td>\n",
       "      <td>177.949997</td>\n",
       "      <td>22</td>\n",
       "    </tr>\n",
       "    <tr>\n",
       "      <th>47022</th>\n",
       "      <td>2020-10-08 23:58:44.971233536</td>\n",
       "      <td>177.949997</td>\n",
       "      <td>3</td>\n",
       "    </tr>\n",
       "    <tr>\n",
       "      <th>47023</th>\n",
       "      <td>2020-10-08 23:59:49.319890944</td>\n",
       "      <td>177.910004</td>\n",
       "      <td>50</td>\n",
       "    </tr>\n",
       "  </tbody>\n",
       "</table>\n",
       "<p>47024 rows × 3 columns</p>\n",
       "</div>"
      ],
      "text/plain": [
       "                          date_time       price  volume\n",
       "0     2020-10-08 08:00:00.011162880  177.500000     221\n",
       "1     2020-10-08 08:04:41.825920768  177.550003       1\n",
       "2     2020-10-08 08:04:47.608566272  177.559998     100\n",
       "3     2020-10-08 08:04:47.710558976  177.559998     100\n",
       "4     2020-10-08 08:04:47.812080384  177.559998     100\n",
       "...                             ...         ...     ...\n",
       "47019 2020-10-08 23:57:15.321619968  177.940002       2\n",
       "47020 2020-10-08 23:57:16.705828864  177.940002       2\n",
       "47021 2020-10-08 23:58:44.969093888  177.949997      22\n",
       "47022 2020-10-08 23:58:44.971233536  177.949997       3\n",
       "47023 2020-10-08 23:59:49.319890944  177.910004      50\n",
       "\n",
       "[47024 rows x 3 columns]"
      ]
     },
     "execution_count": 31,
     "metadata": {},
     "output_type": "execute_result"
    }
   ],
   "source": [
    "df = lt.load_ticks('/Users/bobcolner/QuantClarity/pandas-polygon/data/', symbol='GLD', date='2020-10-08')\n",
    "df"
   ]
  },
  {
   "cell_type": "code",
   "execution_count": null,
   "metadata": {
    "ExecuteTime": {
     "end_time": "2020-09-30T01:30:55.786854Z",
     "start_time": "2020-09-30T01:30:48.155554Z"
    }
   },
   "outputs": [],
   "source": [
    "# load ticks (local or api)\n",
    "ticks_df = lb.load_ticks(symbol, date, result_path)\n",
    "\n",
    "# sample ticks -> bars\n",
    "renko_size = 0.2\n",
    "renko_reversal = 2\n",
    "thresh = {\n",
    "    # GT thresholds\n",
    "    'renko_size': renko_size,\n",
    "    'renko_reveral_multiple': renko_reversal,\n",
    "    'duration_sec': 60*30,\n",
    "    'tick_imbalance': 150,\n",
    "    # LT thresholds \n",
    "    'min_duration_sec': 5,\n",
    "    'min_tick_count': 10,\n",
    "}\n",
    "\n",
    "tdf = ticks_df[(ticks_df.date_time.dt.hour >= 13) & (ticks_df.date_time.dt.hour <= 22)]\n",
    "bars, _ = sb.build_bars(ticks_df=tdf, thresh=thresh)\n",
    "len(bars)"
   ]
  },
  {
   "cell_type": "code",
   "execution_count": null,
   "metadata": {},
   "outputs": [],
   "source": [
    "lbars_df.tick_imbalance_run.hist(bins=50)"
   ]
  },
  {
   "cell_type": "code",
   "execution_count": null,
   "metadata": {
    "ExecuteTime": {
     "end_time": "2020-09-30T01:32:03.075156Z",
     "start_time": "2020-09-30T01:30:56.526391Z"
    }
   },
   "outputs": [],
   "source": [
    "# label bars\n",
    "label_horizon_mins = 30\n",
    "risk_level = 0.2\n",
    "# reward_base = 1\n",
    "reward_ratios = np.arange(3, 20, .5)\n",
    "\n",
    "# lbars = bl.label_bars_triple_barrier(bars, ticks_df, risk_level, label_horizon_mins, reward_base)\n",
    "\n",
    "lbars = bl.label_bars(bars, ticks_df, risk_level, label_horizon_mins, reward_ratios)\n",
    "\n",
    "lbars_df = pd.DataFrame(lbars)"
   ]
  },
  {
   "cell_type": "code",
   "execution_count": null,
   "metadata": {},
   "outputs": [],
   "source": [
    "lbars_df.to_feather('lbars_df.feather')"
   ]
  },
  {
   "cell_type": "code",
   "execution_count": null,
   "metadata": {},
   "outputs": [],
   "source": [
    "lbars_df[['price_wmean', 'price_close']].plot(subplots=False)"
   ]
  },
  {
   "cell_type": "code",
   "execution_count": null,
   "metadata": {
    "ExecuteTime": {
     "end_time": "2020-09-30T01:35:33.531161Z",
     "start_time": "2020-09-30T01:35:31.255669Z"
    },
    "code_folding": []
   },
   "outputs": [],
   "source": [
    "lbars_df[['price_wmean', 'label_rrr']].plot(subplots=True, figsize=[17,12])"
   ]
  }
 ],
 "metadata": {
  "kernelspec": {
   "display_name": "Python 3",
   "language": "python",
   "name": "python3"
  },
  "language_info": {
   "codemirror_mode": {
    "name": "ipython",
    "version": 3
   },
   "file_extension": ".py",
   "mimetype": "text/x-python",
   "name": "python",
   "nbconvert_exporter": "python",
   "pygments_lexer": "ipython3",
   "version": "3.7.8"
  },
  "varInspector": {
   "cols": {
    "lenName": 16,
    "lenType": 16,
    "lenVar": 40
   },
   "kernels_config": {
    "python": {
     "delete_cmd_postfix": "",
     "delete_cmd_prefix": "del ",
     "library": "var_list.py",
     "varRefreshCmd": "print(var_dic_list())"
    },
    "r": {
     "delete_cmd_postfix": ") ",
     "delete_cmd_prefix": "rm(",
     "library": "var_list.r",
     "varRefreshCmd": "cat(var_dic_list()) "
    }
   },
   "types_to_exclude": [
    "module",
    "function",
    "builtin_function_or_method",
    "instance",
    "_Feature"
   ],
   "window_display": false
  }
 },
 "nbformat": 4,
 "nbformat_minor": 4
}
