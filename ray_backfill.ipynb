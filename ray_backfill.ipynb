{
 "cells": [
  {
   "cell_type": "code",
   "execution_count": 75,
   "metadata": {
    "execution": {
     "iopub.execute_input": "2020-10-20T00:58:43.160585Z",
     "iopub.status.busy": "2020-10-20T00:58:43.160297Z",
     "iopub.status.idle": "2020-10-20T00:58:43.166188Z",
     "shell.execute_reply": "2020-10-20T00:58:43.164725Z",
     "shell.execute_reply.started": "2020-10-20T00:58:43.160552Z"
    }
   },
   "outputs": [],
   "source": [
    "from polygon_backfill import get_open_market_dates, dates_from_s3, find_remaining_dates, get_ticks_date_df, backfill_date\n",
    "\n",
    "symbols = ['GLD', 'GDX', 'SPY', 'GOLD']\n",
    "start_date = '2020-01-01'\n",
    "end_date = '2020-10-20'\n",
    "tick_type = 'trades'\n",
    "result_path = '/Users/bobcolner/QuantClarity/pandas-polygon/data'"
   ]
  },
  {
   "cell_type": "code",
   "execution_count": 4,
   "metadata": {
    "execution": {
     "iopub.execute_input": "2020-10-19T21:52:42.920195Z",
     "iopub.status.busy": "2020-10-19T21:52:42.919898Z",
     "iopub.status.idle": "2020-10-19T21:52:42.928733Z",
     "shell.execute_reply": "2020-10-19T21:52:42.927383Z",
     "shell.execute_reply.started": "2020-10-19T21:52:42.920158Z"
    }
   },
   "outputs": [
    {
     "name": "stderr",
     "output_type": "stream",
     "text": [
      "2020-10-19 17:52:42,923\tERROR worker.py:643 -- Calling ray.init() again after it has already been called.\n"
     ]
    }
   ],
   "source": [
    "import ray\n",
    "ray.init(\n",
    "    num_cpus=5,\n",
    "    ignore_reinit_error=True,\n",
    "    )\n",
    "\n",
    "@ray.remote\n",
    "def backfill_date_ray(symbol, date, tick_type, result_path):\n",
    "    result = backfill_date(\n",
    "        symbol=symbol, \n",
    "        date=date, \n",
    "        tick_type=tick_type, \n",
    "        result_path=result_path,\n",
    "        save_local=True,\n",
    "        upload_to_s3=True,\n",
    "    )\n",
    "    return symbol + '|' + date\n"
   ]
  },
  {
   "cell_type": "code",
   "execution_count": null,
   "metadata": {},
   "outputs": [],
   "source": [
    "request_dates = get_open_market_dates(start_date, end_date)\n",
    "futures = []\n",
    "for symbol in symbols: \n",
    "    existing_dates = dates_from_s3(symbol, tick_type)\n",
    "    remaining_dates = find_remaining_dates(request_dates, existing_dates)\n",
    "    for date in remaining_dates:\n",
    "        result = backfill_date_ray.remote(\n",
    "            symbol=symbol, \n",
    "            date=date, \n",
    "            tick_type=tick_type, \n",
    "            result_path=result_path\n",
    "        )\n",
    "        futures.append(result)\n",
    "        \n",
    "ray.get(futures)"
   ]
  }
 ],
 "metadata": {
  "kernelspec": {
   "display_name": "Python 3",
   "language": "python",
   "name": "python3"
  },
  "language_info": {
   "codemirror_mode": {
    "name": "ipython",
    "version": 3
   },
   "file_extension": ".py",
   "mimetype": "text/x-python",
   "name": "python",
   "nbconvert_exporter": "python",
   "pygments_lexer": "ipython3",
   "version": "3.7.8"
  }
 },
 "nbformat": 4,
 "nbformat_minor": 4
}
